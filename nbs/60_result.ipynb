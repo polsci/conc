{
 "cells": [
  {
   "cell_type": "markdown",
   "metadata": {},
   "source": [
    "# result\n",
    "\n",
    "> Conc result class."
   ]
  },
  {
   "cell_type": "code",
   "execution_count": null,
   "metadata": {},
   "outputs": [],
   "source": [
    "#| default_exp result"
   ]
  },
  {
   "cell_type": "code",
   "execution_count": null,
   "metadata": {},
   "outputs": [],
   "source": [
    "#| hide\n",
    "from nbdev.showdoc import *"
   ]
  },
  {
   "cell_type": "code",
   "execution_count": null,
   "metadata": {},
   "outputs": [],
   "source": [
    "#| export\n",
    "from __future__ import annotations\n",
    "import polars as pl\n",
    "from fastcore.basics import patch\n",
    "from great_tables import GT"
   ]
  },
  {
   "cell_type": "code",
   "execution_count": null,
   "metadata": {},
   "outputs": [],
   "source": [
    "#| export\n",
    "class Result:\n",
    "\tdef __init__(self,\n",
    "\t\t\t  type: str, # report type\n",
    "\t\t\t  df: pl.DataFrame, # Polars dataframe with the results\n",
    "\t\t\t  title: str, # title of the report\n",
    "\t\t\t  description: str, # description\n",
    "\t\t\t  summary_data: dict, # summary data (ignored)\n",
    "\t\t\t  formatted_data: list[str] # list of formatted data about the table\n",
    "\t\t\t  ): \n",
    "\n",
    "\t\t\"\"\" Class for results from Conc reports \"\"\"\n",
    "\t\tself.type = type\n",
    "\t\tself.df = df\n",
    "\t\tself.title = title\n",
    "\t\tself.description = description\n",
    "\t\tself.summary_data = summary_data\n",
    "\t\tself.formatted_data = formatted_data\n"
   ]
  },
  {
   "cell_type": "code",
   "execution_count": null,
   "metadata": {},
   "outputs": [],
   "source": [
    "#| export\n",
    "@patch\n",
    "def display(self: Result\n",
    "\t\t\t   ):\n",
    "\t\"\"\" Print analysis result output from conc in a nice table format using the great_tables library \"\"\"\n",
    "\t\n",
    "\tcolumns_with_integers = []\n",
    "\tcolumns_with_decimals = []\n",
    "\tif self.df.select(pl.len()).item() > 0:\n",
    "\n",
    "\t\tself.df.columns = [col.replace('_', ' ').title() for col in self.df.columns]\n",
    "\n",
    "\t\tfor col in self.df.columns:\n",
    "\t\t\tif self.df[col].dtype in [pl.Float64, pl.Float32]:\n",
    "\t\t\t\tcolumns_with_decimals.append(col)\n",
    "\t\t\telif col != 'Token Id' and self.df[col].dtype in [pl.Int64, pl.Int32, pl.Int16, pl.Int8, pl.UInt64, pl.UInt32, pl.UInt16, pl.UInt8]:\n",
    "\t\t\t\tcolumns_with_integers.append(col)\n",
    "\n",
    "\tgt = GT(self.df).tab_options(table_margin_left = 0)\n",
    "\tif self.title != '' or self.description != '':\n",
    "\t\tgt = gt.tab_header(self.title, self.description)\n",
    "\n",
    "\tif len(columns_with_decimals) > 0:\n",
    "\t\tgt = gt.fmt_number(columns_with_decimals, decimals=2)\n",
    "\n",
    "\tif len(columns_with_integers) > 0:\n",
    "\t\tgt = gt.fmt_integer(columns_with_integers, use_seps=True, sep_mark=',')\n",
    "\n",
    "\tfor value in self.formatted_data:\n",
    "\t\tgt = gt.tab_source_note(value)\n",
    "\n",
    "\tif self.type == 'concordance':\n",
    "\t\tif 'Left' in self.df.columns:\n",
    "\t\t\tgt = gt.cols_align(align='right', columns=['Left'])\n",
    "\t\tif 'Keyword' in self.df.columns:\n",
    "\t\t\tgt = gt.cols_align(align='center', columns=['Keyword'])\n",
    "\tgt.show()\n",
    "\n"
   ]
  },
  {
   "cell_type": "code",
   "execution_count": null,
   "metadata": {},
   "outputs": [],
   "source": [
    "#| export\n",
    "@patch\n",
    "def to_frame(self: Result):\n",
    "\t\"\"\" Return result output from conc as a dataframe \"\"\"\n",
    "\treturn self.df"
   ]
  },
  {
   "cell_type": "code",
   "execution_count": null,
   "metadata": {},
   "outputs": [],
   "source": [
    "#| hide\n",
    "import nbdev; nbdev.nbdev_export()"
   ]
  },
  {
   "cell_type": "code",
   "execution_count": null,
   "metadata": {},
   "outputs": [],
   "source": []
  }
 ],
 "metadata": {
  "kernelspec": {
   "display_name": "python3",
   "language": "python",
   "name": "python3"
  }
 },
 "nbformat": 4,
 "nbformat_minor": 2
}
