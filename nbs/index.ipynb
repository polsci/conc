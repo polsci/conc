{
 "cells": [
  {
   "cell_type": "markdown",
   "metadata": {},
   "source": [
    "# Conc\n",
    "\n",
    "> A Python library for efficient corpus analysis, enabling corpus linguistic analysis in Jupyter notebooks.\n",
    "- toc: false\n",
    "- page-layout: full"
   ]
  },
  {
   "cell_type": "markdown",
   "metadata": {},
   "source": [
    "## Introduction to Conc"
   ]
  },
  {
   "cell_type": "markdown",
   "metadata": {},
   "source": [
    "Conc is a Python library that brings corpus linguistic analysis to [Jupyter notebooks](https://docs.jupyter.org/en/latest/). A staple of data science, [Jupyter notebooks are a great model for presenting analysis](https://docs.jupyter.org/en/latest/#what-is-a-notebook) through an interactive form that combines code, reporting and discussion that allows other researchers to reproduce and interact with your analysis. Conc aims to allow researchers to analyse large corpora in efficient ways using standard hardware, with the ability to produce clear, publication-ready reports and extend analysis where required using standard Python libraries.\n",
    "\n",
    "Conc uses [spaCy](https://spacy.io/) for tokenising texts. SpaCy functionality to annotate texts will be supported soon.  "
   ]
  },
  {
   "cell_type": "markdown",
   "metadata": {},
   "source": [
    "### Conc Principles  \n",
    "\n",
    "* use standard Python libraries for data processing, analysis and visualisation (i.e. [Numpy](https://numpy.org/), [Scipy](https://scipy.org/), [Polars](https://pola.rs), [Plotly](https://plotly.com/python/))\n",
    "* use fast code libraries (i.e. Conc uses [Polars vs Pandas](https://pola.rs/posts/benchmarks/) and fast data structures (e.g. Numpy arrays, columnar data stores)   \n",
    "* provide clear and complete information when reporting results  \n",
    "* pre-compute time-intensive and repeatedly used views of the data  \n",
    "* work with smaller slices of the data where possible  \n",
    "* cache specific anaysis during a session to reduce computation for repeated calls  \n",
    "* [document corpus representations so that they can be worked with directly](https://geoffford.nz/conc/anatomy.html)  \n",
    "* allow researchers to work with Conc results and extend analysis using other Python libraries (e.g. output Pandas dataframes)  \n",
    "* make use of meta-data to allow within-corpus comparisons and to provide context for analysis  "
   ]
  },
  {
   "cell_type": "markdown",
   "metadata": {},
   "source": [
    "## Table of Contents\n",
    "\n",
    "* [Acknowledgements](#acknowledgements)  \n",
    "* [Development Status](#development-status)  \n",
    "* [Installation](#installation)  \n",
    "    * [Install via pip](#install-via-pip)  \n",
    "    * [Install a spaCy model for tokenization](#install-a-spacy-model-for-tokenization)  \n",
    "    * [Install optional dependencies](#install-optional-dependencies)    \n",
    "    * [Pre-2013 CPU? Install Polars with support for older machines](#pre-2013-cpu-install-polars-with-support-for-older-machines)  \n",
    "* [Using Conc](#using-conc)  \n",
    "\t* [Getting Started](https://geoffford.nz/conc/tutorials/start.html)  \n",
    "\t* [Conc Documentation](#conc-documentation)  \n",
    "\t\t* [Tutorials](https://geoffford.nz/conc/tutorials) (Tutorials to get you started with Conc)  \n",
    "\t\t* [Explanations](https://geoffford.nz/conc/explanations) (How Conc works, working with Conc corpus formats and results using other Python libraries)  \n",
    "\t\t* [Conc API](https://geoffford.nz/conc/api) (Detailed documentation of Conc classes and functions)  \n",
    "\t\t* [Development](https://geoffford.nz/conc/development) (Information on Conc development, including a Roadmap and Developer's Guide)    \t"
   ]
  },
  {
   "cell_type": "markdown",
   "metadata": {},
   "source": [
    "## Acknowledgements"
   ]
  },
  {
   "cell_type": "markdown",
   "metadata": {},
   "source": [
    "Conc is developed by [Dr Geoff Ford](https://geoffford.nz/).\n",
    "\n",
    "Conc originated in my PhD research, which included development of a web-based corpus browser to handle analysis of large corpora. I've been developing Conc through my subsequent research.  \n",
    "\n",
    "Work to create this Python library has been made possible by funding/support from:  \n",
    "\n",
    "- \"Mapping LAWS: Issue Mapping and Analyzing the Lethal Autonomous Weapons Debate\" (Royal Society of New Zealand’s Marsden Fund Grant 19-UOC-068)  \n",
    "- \"Into the Deep: Analysing the Actors and Controversies Driving the Adoption of the World’s First Deep Sea Mining Governance\" (Royal Society of New Zealand’s Marsden Fund Grant 22-UOC-059)\n",
    "- Sabbatical, University of Canterbury, Semester 1 2025.  \n",
    "\n",
    "Thanks to the Mapping LAWS project team for their support and feedback as first users of ConText (a web-based application built on an earlier version of Conc).  \n",
    "\n",
    "Dr Ford is a researcher with [Te Pokapū Aronui ā-Matihiko | UC Arts Digital Lab (ADL)](https://artsdigitallab.canterbury.ac.nz/). Thanks to the ADL team and the ongoing support of the University of Canterbury's Faculty of Arts who make work like this possible.  \n",
    "\n",
    "Thanks to Dr Chris Thomson and Karin Stahel for their feedback on early versions of Conc."
   ]
  },
  {
   "cell_type": "markdown",
   "metadata": {},
   "source": [
    "## Development Status"
   ]
  },
  {
   "cell_type": "markdown",
   "metadata": {},
   "source": [
    "Conc is in active development. It is currently [released][pypi] for beta testing. \n",
    "\n",
    "Although this is a Beta release, I'm currently using it for research and postgraduate teaching. I'm keen to support new users. If you have any questions, hurdles using Conc or feature requests, [create an issue][issue].   \n",
    "\n",
    "The Github site may be ahead of the Pypi version, so for latest functionality install from Github (see below). The Github code is pre-release and may change. For the latest release, install from Pypi (`pip install conc`). The [documentation][docs] reflects the most recent functionality. See the [CHANGELOG][changelog] for notes on releases and the [Roadmap](https://geoffford.nz/development/roadmap.html) for planned updates.  \n",
    "\n",
    "[repo]: https://github.com/polsci/conc\n",
    "[issue]: https://github.com/polsci/conc/issues/new\n",
    "[docs]: https://geoffford.nz/conc/\n",
    "[pypi]: https://pypi.org/project/conc/\n",
    "[changelog]: https://github.com/polsci/conc/blob/main/CHANGELOG.md"
   ]
  },
  {
   "cell_type": "markdown",
   "metadata": {},
   "source": [
    "## Installation"
   ]
  },
  {
   "cell_type": "markdown",
   "metadata": {},
   "source": [
    "### Install via pip\n",
    "\n",
    "You can install Conc from [pypi][pypi] using this command:   \n",
    "\n",
    "```sh\n",
    "$ pip install conc\n",
    "```\n",
    "\n",
    "Add the `-U` flag to upgrade if you are already running Conc.  \n",
    "\n",
    "To install the latest development version of Conc, which may be ahead of the version on Pypi, you can install from the [repository][repo]:  \n",
    "\n",
    "```sh\n",
    "$ pip install git+https://github.com/polsci/conc.git\n",
    "```\n",
    "\n",
    "### Install a spaCy model for tokenization\n",
    "\n",
    "The first releases of Conc require a SpaCy language model for tokenization. After installing Conc, install a model. Here's an example of how to install SpaCy's small English model, which is Conc's default language model:  \n",
    "\n",
    "```sh\n",
    "python -m spacy download en_core_web_sm\n",
    "```\n",
    "\n",
    "If you are working with a different language or want to use a different 'en' model, check the [SpaCy models documentation](https://spacy.io/models/) for the relevant model name.\n",
    "\n",
    "### Install optional dependencies\n",
    "\n",
    "Conc has some optional dependencies you can install to download source texts to create sample corpora. These are primarily intended for creating corpora for development. To minimize Conc's requirements these are not installed by default. If you want to get sample corpora to test out Conc's functionality you can install these with the following command. \n",
    "\n",
    "```sh\n",
    "$ pip install nltk requests datasets\n",
    "```\n",
    "\n",
    "[repo]: https://github.com/polsci/conc\n",
    "[docs]: https://geoffford.nz/conc/\n",
    "[pypi]: https://pypi.org/project/conc/\n"
   ]
  },
  {
   "cell_type": "markdown",
   "metadata": {},
   "source": [
    "### Pre-2013 CPU? Install Polars with support for older machines\n",
    "\n",
    "Polars is optimized for modern CPUs with support for AVX2 instructions. If you get kernel crashes running Conc on an older machine (probably pre-2013), this is likely to be an issue with Polars. Polars has an [alternate installation option to support older machines](https://docs.pola.rs/user-guide/installation/), which installs a Polars build compiled without AVX2 support. Replace the standard Polars package with the legacy-support package to use Conc on older machines.\n",
    "\n",
    "```sh\n",
    "$ pip uninstall polars\n",
    "$ pip install polars-lts-cpu\n",
    "```"
   ]
  },
  {
   "cell_type": "markdown",
   "metadata": {},
   "source": [
    "## Using Conc"
   ]
  },
  {
   "cell_type": "markdown",
   "metadata": {},
   "source": [
    "### Getting started\n",
    "\n",
    "A good place to start is the [Get started with Conc](https://geoffford.nz/conc/tutorials/start.html) tutorial, which demonstrates how to build a corpus and output Conc reports. There are also [simple code recipes](https://geoffford.nz/conc/tutorials/recipes.html) for common Conc taks. "
   ]
  },
  {
   "cell_type": "markdown",
   "metadata": {},
   "source": [
    "### Conc Documentation \n",
    "\n",
    "There is a dedicated [Conc documentation site](https://geoffford.nz/conc/). This includes tutorials, examples demonstrating how to create reports for analysis, explanation of Conc functionality and its Corpus format, and a reference to Conc's classes and methods. Here are links to the documentation site sections:  \n",
    "\n",
    "* [Tutorials](https://geoffford.nz/conc/tutorials) (Tutorials to get you started with Conc)  \n",
    "* [Explanations](https://geoffford.nz/conc/explanations) (How Conc works, working with Conc corpus formats and results   using other Python libraries)  \n",
    "* [Conc API](https://geoffford.nz/conc/api) (Detailed documentation of Conc classes and functions)  \n",
    "* [Development](https://geoffford.nz/conc/development) (Information on Conc development, including a Roadmap and Developer's Guide)  \n"
   ]
  },
  {
   "cell_type": "code",
   "execution_count": null,
   "metadata": {},
   "outputs": [],
   "source": []
  }
 ],
 "metadata": {
  "kernelspec": {
   "display_name": "python3",
   "language": "python",
   "name": "python3"
  }
 },
 "nbformat": 4,
 "nbformat_minor": 4
}
