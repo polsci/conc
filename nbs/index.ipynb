{
 "cells": [
  {
   "cell_type": "markdown",
   "metadata": {},
   "source": [
    "# Conc\n",
    "\n",
    "> A Python library for efficient corpus analysis, enabling corpus linguistic analysis in Jupyter notebooks.\n",
    "- toc: false\n",
    "- page-layout: full"
   ]
  },
  {
   "cell_type": "markdown",
   "metadata": {},
   "source": [
    "![GitHub Release](https://img.shields.io/github/v/release/polsci/conc) [![DOI](https://zenodo.org/badge/DOI/10.5281/zenodo.16358752.svg)](https://zenodo.org/doi/10.5281/zenodo.16358752)"
   ]
  },
  {
   "cell_type": "markdown",
   "metadata": {},
   "source": [
    "## Introduction to Conc"
   ]
  },
  {
   "cell_type": "markdown",
   "metadata": {},
   "source": [
    "Conc is a Python library that brings tools for corpus linguistic analysis to [Jupyter notebooks](https://docs.jupyter.org/en/latest/). Conc aims to allow researchers to analyse large corpora in efficient ways using standard hardware, with the ability to produce clear, publication-ready reports and extend analysis where required using standard Python libraries.  \n",
    "\n",
    "![Example Concordance](https://raw.githubusercontent.com/polsci/conc/refs/heads/master/nbs/50_conc-5.png){fig-align=\"left\"}\n",
    "\n",
    "A staple of data science, [Jupyter notebooks allow researchers to present their analysis in an interactive form that combines code, reporting and discussion](https://docs.jupyter.org/en/latest/#what-is-a-notebook). They are an ideal format for collaborating with other researchers during research or to share analysis in a way others can reproduce and interact with. \n",
    "\n",
    "Conc uses [spaCy](https://spacy.io/) for tokenising texts. SpaCy functionality to annotate texts will be supported soon. \n",
    "\n",
    "Conc uses well-supported Python libraries for processing data and prioritises fast code libraries and data structures. The library produces clear reports with important information to interpret result by default. Conc makes it easy to extend analysis using other libraries or software. [Conc's corpus format is well-documented](https://geoffford.nz/conc/explanations/anatomy.html) and there are [code examples to help you work with Conc results and data structures outside of Conc](https://geoffford.nz/conc/tutorials/recipes.html)  if you want to extend your analysis. \n",
    "\n",
    "Conc's documentation site has more information on Conc, [why it was developed and the principles guiding Conc's development](https://geoffford.nz/conc/explanations/why.html).    "
   ]
  },
  {
   "cell_type": "markdown",
   "metadata": {},
   "source": [
    "## Table of Contents\n",
    "\n",
    "* [Acknowledgements](#acknowledgements)  \n",
    "* [Development Status](#development-status)  \n",
    "* [Installation](#installation)  \n",
    "* [Using Conc](#using-conc)  \n",
    "\n",
    "### Direct links to Conc documentation\n",
    "\n",
    "* [Getting Started](https://geoffford.nz/conc/tutorials/start.html)  \n",
    "* [Tutorials](https://geoffford.nz/conc/tutorials) (Tutorials to get you started with Conc)  \n",
    "* [Documentation](https://geoffford.nz/conc/) ([Explanations](https://geoffford.nz/conc/explanations), [Conc API Reference](https://geoffford.nz/conc/api), information on [Development](https://geoffford.nz/conc/development))   \t"
   ]
  },
  {
   "cell_type": "markdown",
   "metadata": {},
   "source": [
    "## Acknowledgements"
   ]
  },
  {
   "cell_type": "markdown",
   "metadata": {},
   "source": [
    "Conc is developed by [Dr Geoff Ford](https://geoffford.nz/).\n",
    "\n",
    "Work to create this Python library has been made possible by funding/support from:  \n",
    "\n",
    "- \"[Mapping LAWS](https://mappinglaws.net/): Issue Mapping and Analyzing the Lethal Autonomous Weapons Debate\" (Royal Society of New Zealand’s Marsden Fund Grant 19-UOC-068)  \n",
    "- \"Into the Deep: Analysing the Actors and Controversies Driving the Adoption of the World’s First Deep Sea Mining Governance\" (Royal Society of New Zealand’s Marsden Fund Grant 22-UOC-059)\n",
    "- Sabbatical, University of Canterbury, Semester 1 2025.  \n",
    "\n",
    "Thanks to Jeremy Moses and Sian Troath from the [Mapping LAWS](https://mappinglaws.net/) project team for their support and feedback as first users of ConText (a web-based application built on an earlier version of Conc that I've [also recently released](https://github.com/polsci/ConText)).  \n",
    "\n",
    "Dr Ford is a researcher with [Te Pokapū Aronui ā-Matihiko | UC Arts Digital Lab (ADL)](https://artsdigitallab.canterbury.ac.nz/). Thanks to the ADL team and the ongoing support of the University of Canterbury's Faculty of Arts who make work like this possible.  \n",
    "\n",
    "Thanks to Dr Chris Thomson and Karin Stahel for their feedback on early versions of Conc.\n",
    "\n",
    "Above all, thanks to my family for their love, patience and kindness."
   ]
  },
  {
   "cell_type": "markdown",
   "metadata": {},
   "source": [
    "## Development Status"
   ]
  },
  {
   "cell_type": "markdown",
   "metadata": {},
   "source": [
    "Conc is in active development. It is currently [released](https://pypi.org/project/conc) for beta testing. See the [CHANGELOG](CHANGELOG.md) for notes on releases and the [Roadmap](https://geoffford.nz/development/roadmap.html) for planned updates.  \n",
    "\n",
    "Although this is a Beta release, I'm currently using Conc for research and postgraduate teaching. I'm keen to support new users. If you have any questions, encounter hurdles using Conc or have feature requests, [create an issue](https://github.com/polsci/conc/issues/new).   "
   ]
  },
  {
   "cell_type": "markdown",
   "metadata": {},
   "source": [
    "## Installation\n",
    "\n",
    "Installing Conc is simple. Below is the essential information if you want to use Conc. The [installation page](https://geoffford.nz/conc/tutorials/install.html) has more information. You can also [install the development version](https://geoffford.nz/conc/tutorials/install.html#install-the-development-version) of Conc, which may include new functionality and bug fixes. If you want to download sample corpora you will need to [install optional dependencies](https://geoffford.nz/conc/tutorials/install.html#install-optional-dependencies). If you have an older computer with a pre-2013 CPU, you will probably need to install a version of Polars compiled for older machines, see the [install page for details](https://geoffford.nz/conc/tutorials/install.html#pre-2013-cpu-install-polars-with-support-for-older-machines)."
   ]
  },
  {
   "cell_type": "markdown",
   "metadata": {},
   "source": [
    "### 1. Install via pip\n",
    "\n",
    "Conc is tested with Python 3.10+. You can install Conc from [pypi](https://pypi.org/project/conc) using this command:   \n",
    "\n",
    "```sh\n",
    "pip install conc\n",
    "```\n",
    "\n",
    "Add the `-U` flag to upgrade if you are already running Conc.  \n",
    "\n",
    "### 2. Install a spaCy model for tokenization\n",
    "\n",
    "Conc uses a SpaCy language model for tokenization. After installing Conc, install a model. If you are working with English-language texts, install SpaCy's small English model (which is Conc's default) like this:  \n",
    "\n",
    "```sh\n",
    "python -m spacy download en_core_web_sm\n",
    "```\n",
    "\n",
    "If you are working with a different language or want to use a different 'en' model, check the [SpaCy models documentation](https://spacy.io/models/) for the relevant model name."
   ]
  },
  {
   "cell_type": "markdown",
   "metadata": {},
   "source": [
    "## Using Conc"
   ]
  },
  {
   "cell_type": "markdown",
   "metadata": {},
   "source": [
    "### Getting started\n",
    "\n",
    "A good place to start is the [Get started with Conc](https://geoffford.nz/conc/tutorials/start.html) tutorial, which demonstrates how to build a corpus and output Conc reports. There are also [simple code recipes](https://geoffford.nz/conc/tutorials/recipes.html) for common Conc tasks. "
   ]
  },
  {
   "cell_type": "markdown",
   "metadata": {},
   "source": [
    "### Conc Documentation \n",
    "\n",
    "There is a dedicated [Conc documentation site](https://geoffford.nz/conc/). This includes tutorials, examples demonstrating how to create reports for analysis, explanation of Conc functionality and its Corpus format, and a reference to Conc's classes and methods. Here are links to the documentation site sections:  \n",
    "\n",
    "* [Tutorials](https://geoffford.nz/conc/tutorials) to get you started with Conc  \n",
    "* The [Explanations](https://geoffford.nz/conc/explanations) section includes information on how Conc works, how to work with the Conc corpus format and Conc results with other Python libraries  \n",
    "* The [Conc API Reference](https://geoffford.nz/conc/api) provides detailed documentation of Conc classes and functions  \n",
    "* The [Development](https://geoffford.nz/conc/development) section gives information on Conc development, including a Roadmap and Developer's Guide    \n"
   ]
  },
  {
   "cell_type": "code",
   "execution_count": null,
   "metadata": {},
   "outputs": [],
   "source": []
  }
 ],
 "metadata": {
  "kernelspec": {
   "display_name": "python3",
   "language": "python",
   "name": "python3"
  }
 },
 "nbformat": 4,
 "nbformat_minor": 4
}
