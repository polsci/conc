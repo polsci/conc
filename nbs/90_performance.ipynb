{
 "cells": [
  {
   "cell_type": "markdown",
   "metadata": {},
   "source": [
    "# Performance\n",
    "\n",
    "This page reports timing results of conc methods with different size corpora. "
   ]
  },
  {
   "cell_type": "code",
   "execution_count": null,
   "metadata": {},
   "outputs": [
    {
     "name": "stdout",
     "output_type": "stream",
     "text": [
      "The memory_profiler extension is already loaded. To reload it, use:\n",
      "  %reload_ext memory_profiler\n"
     ]
    }
   ],
   "source": [
    "#| hide\n",
    "%load_ext memory_profiler"
   ]
  },
  {
   "cell_type": "code",
   "execution_count": null,
   "metadata": {},
   "outputs": [
    {
     "name": "stdout",
     "output_type": "stream",
     "text": [
      "The line_profiler extension is already loaded. To reload it, use:\n",
      "  %reload_ext line_profiler\n"
     ]
    }
   ],
   "source": [
    "#| hide \n",
    "%load_ext line_profiler"
   ]
  },
  {
   "cell_type": "code",
   "execution_count": null,
   "metadata": {},
   "outputs": [
    {
     "name": "stdout",
     "output_type": "stream",
     "text": [
      "The memray extension is already loaded. To reload it, use:\n",
      "  %reload_ext memray\n"
     ]
    }
   ],
   "source": [
    "#| hide\n",
    "%load_ext memray\n"
   ]
  },
  {
   "cell_type": "code",
   "execution_count": null,
   "metadata": {},
   "outputs": [],
   "source": [
    "import os"
   ]
  },
  {
   "cell_type": "code",
   "execution_count": null,
   "metadata": {},
   "outputs": [],
   "source": [
    "from conc.core import logger, set_logger_state\n",
    "from conc.corpus import Corpus\n",
    "from conc.report import Report"
   ]
  },
  {
   "cell_type": "code",
   "execution_count": null,
   "metadata": {},
   "outputs": [],
   "source": [
    "set_logger_state('quiet')"
   ]
  },
  {
   "cell_type": "code",
   "execution_count": null,
   "metadata": {},
   "outputs": [],
   "source": [
    "#| hide\n",
    "source_path = '../test-corpora/source/'\n",
    "save_path = '../test-corpora/saved/'"
   ]
  },
  {
   "cell_type": "code",
   "execution_count": null,
   "metadata": {},
   "outputs": [],
   "source": [
    "test_corpora_names = ['us-congressional-speeches-subset-10k', 'us-congressional-speeches-subset-100k']\n",
    "name = test_corpora_names[1]\n",
    "corpora = {}"
   ]
  },
  {
   "cell_type": "code",
   "execution_count": null,
   "metadata": {},
   "outputs": [],
   "source": [
    "import zarr\n",
    "import numpy as np\n",
    "import polars as pl"
   ]
  },
  {
   "cell_type": "code",
   "execution_count": null,
   "metadata": {},
   "outputs": [],
   "source": [
    "orth_store = zarr.open_array(store = f'../conc-build-process/us-congressional-speeches-subset-100k_orth_index.zarr')\n",
    "orth_index = orth_store[:]\n",
    "np.savez_compressed(f'../conc-build-process/us-congressional-speeches-subset-100k_orth_index.npz', orth_index=orth_index)\n",
    "df = pl.DataFrame({'orth_index': orth_index})\n",
    "df.write_parquet(\"../conc-build-process/us-congressional-speeches-subset-100k_orth_index.parquet\")\n",
    "\n",
    "lower_store = zarr.open_array(store = f'../conc-build-process/us-congressional-speeches-subset-100k_lower_index.zarr')\n",
    "lower_index = lower_store[:]\n",
    "np.savez_compressed(f'../conc-build-process/us-congressional-speeches-subset-100k_lower_index.npz', lower_index=lower_index)\n",
    "df = pl.DataFrame({'lower_index': lower_index})\n",
    "df.write_parquet(\"../conc-build-process/us-congressional-speeches-subset-100k_lower_index.parquet\")"
   ]
  },
  {
   "cell_type": "code",
   "execution_count": null,
   "metadata": {},
   "outputs": [],
   "source": [
    "# # # open zarr store at path 5242739437188381500_lower_index.zarr\n",
    "# lower_store = zarr.open_array(store = f'../conc-build-process/5389131771623450514_lower_index.zarr')\n",
    "# lower_index = lower_store[:]\n",
    "# unique_values, inverse = np.unique(lower_index, return_inverse=True)\n",
    "# print(unique_values[0:10])\n",
    "# print(inverse[100:110])\n",
    "# print(inverse[0:10])\n",
    "# print(unique_values.shape, inverse.shape, np.max(inverse))\n",
    "# # # write to npz file for comparison\n",
    "# # #np.savez_compressed(f'../conc-build-process/5389131771623450514_lower_index.npz', lower_index=lower_index)\n",
    "# # # df = pl.DataFrame({'lower_index': lower_index})\n",
    "# # # df.write_parquet(\"../conc-build-process/5389131771623450514_lower_index.parquet\")\n",
    "\n",
    "# # #%memit \n",
    "# # len(np.unique(lower_index))\n",
    "# # #%memit unique_values = np.unique(lower_store)\n",
    "\n",
    "# # #zarr.create_array(f'{build_process_path}/{working_identifier}_orth_index.zarr', overwrite=True, shape=(1,), chunks=(1000000,), dtype=np.uint64, compressors=zarr.codecs.BloscCodec(cname='zstd', clevel=3, shuffle=zarr.codecs.BloscShuffle.shuffle))\n",
    "# # #unique_values, inverse = np.unique(lower_store, return_inverse=True)\n",
    "# del lower_store\n",
    "# del lower_index"
   ]
  },
  {
   "cell_type": "code",
   "execution_count": null,
   "metadata": {},
   "outputs": [],
   "source": [
    "#%%memray_flamegraph --temporal\n",
    "# load from parquet\n",
    "#df = pl.scan_parquet(\"../conc-build-process/5389131771623450514_lower_index.parquet\")\n",
    "#lazy_df = pl.scan_parquet(\"../conc-build-process/5389131771623450514_lower_index.parquet\")\n",
    "\n",
    "orth_df = pl.scan_parquet(\"../conc-build-process/us-congressional-speeches-subset-100k_orth_index.parquet\")\n",
    "lower_df = pl.scan_parquet(\"../conc-build-process/us-congressional-speeches-subset-100k_lower_index.parquet\")\n",
    "\n",
    "# Rename the index columns\n",
    "orth_df = orth_df.select(pl.col(\"orth_index\").alias(\"index\"))\n",
    "lower_df = lower_df.select(pl.col(\"lower_index\").alias(\"index\"))\n",
    "\n",
    "#orth_df.collect().head()\n",
    "\n",
    "# Concatenate the LazyFrames\n",
    "combined_df = pl.concat([orth_df, lower_df])\n",
    "\n",
    "# Write the result to a new Parquet file\n",
    "#lazy_df.sink_parquet(\"path/to/output_file.parquet\")\n",
    "\n",
    "unique_lazy_df  = (\n",
    "    combined_df.select(pl.col(\"index\").unique().sort().alias(\"unique_values\")).with_row_index('lookup', offset=1)\n",
    "    )\n",
    "\n",
    "unique_df = unique_lazy_df.collect()#[\"unique_values\"].to_list()\n",
    "#print(type(unique_df))\n",
    "#print(unique_df.head())\n",
    "#print(len(unique_df))\n",
    "\n",
    "# reindex\n",
    "update_df = (\n",
    "    combined_df.with_columns(\n",
    "        pl.col(\"index\").replace(\n",
    "            unique_df[\"unique_values\"].to_list(),\n",
    "            unique_df[\"lookup\"].to_list()\n",
    "        ).cast(pl.UInt32)\n",
    "    )\n",
    ")\n",
    "\n",
    "split_count = combined_df.collect().height // 2\n",
    "\n",
    "# write to a orth_reindexed.parquet and lower_reindexed.parquet - split in half by shape\n",
    "update_df.slice(0, split_count).collect().write_parquet(\"../conc-build-process/us-congressional-speeches-subset-100k_orth_reindexed.parquet\")\n",
    "update_df.slice(split_count, split_count).collect().write_parquet(\"../conc-build-process/us-congressional-speeches-subset-100k_lower_reindexed.parquet\")\n"
   ]
  },
  {
   "cell_type": "code",
   "execution_count": null,
   "metadata": {},
   "outputs": [
    {
     "name": "stdout",
     "output_type": "stream",
     "text": [
      "Schema([('orth_index', UInt64)])\n",
      "┌──────────────────────┐\n",
      "│ orth_index           │\n",
      "╞══════════════════════╡\n",
      "│ 4690420944186131903  │\n",
      "│ 6992604926141104606  │\n",
      "│ 18194338103975822726 │\n",
      "│ 3791531372978436496  │\n",
      "│ 203487227105936704   │\n",
      "│ 7425985699627899538  │\n",
      "│ 8654682122863471622  │\n",
      "│ 7831658034963690409  │\n",
      "│ 1946980641541756374  │\n",
      "│ 11901859001352538922 │\n",
      "└──────────────────────┘\n",
      "Schema([('index', UInt32)])\n",
      "┌────────┐\n",
      "│ index  │\n",
      "╞════════╡\n",
      "│ 77455  │\n",
      "│ 115443 │\n",
      "│ 298821 │\n",
      "│ 62756  │\n",
      "│ 3446   │\n",
      "│ 122636 │\n",
      "│ 142784 │\n",
      "│ 129314 │\n",
      "│ 32318  │\n",
      "│ 195410 │\n",
      "└────────┘\n"
     ]
    }
   ],
   "source": [
    "# lazy open reindexed parquet\n",
    "lazy_df = pl.scan_parquet(\"../conc-build-process/us-congressional-speeches-subset-100k_orth_index.parquet\")\n",
    "print(lazy_df.collect_schema())\n",
    "print(lazy_df.collect().slice(100, 10))\n",
    "lazy_df = pl.scan_parquet(\"../conc-build-process/us-congressional-speeches-subset-100k_orth_reindexed.parquet\")\n",
    "# get information on column names and types\n",
    "print(lazy_df.collect_schema())\n",
    "print(lazy_df.collect().slice(100, 10))"
   ]
  },
  {
   "cell_type": "code",
   "execution_count": null,
   "metadata": {},
   "outputs": [
    {
     "data": {
      "text/html": [
       "<div><style>\n",
       ".dataframe > thead > tr,\n",
       ".dataframe > tbody > tr {\n",
       "  text-align: right;\n",
       "  white-space: pre-wrap;\n",
       "}\n",
       "</style>\n",
       "<table border=\"1\" class=\"dataframe\"><thead><tr><th>lookup</th><th>unique_values</th></tr></thead><tbody><tr><td>77455</td><td>4690420944186131903</td></tr></tbody></table></div>"
      ],
      "text/plain": [
       "┌────────┬─────────────────────┐\n",
       "│ lookup ┆ unique_values       │\n",
       "╞════════╪═════════════════════╡\n",
       "│ 77455  ┆ 4690420944186131903 │\n",
       "└────────┴─────────────────────┘"
      ]
     },
     "execution_count": null,
     "metadata": {},
     "output_type": "execute_result"
    }
   ],
   "source": [
    "unique_df.filter(pl.col(\"unique_values\") == 4690420944186131903)"
   ]
  },
  {
   "cell_type": "code",
   "execution_count": null,
   "metadata": {},
   "outputs": [
    {
     "data": {
      "text/plain": [
       "array([ 77455, 115443, 298821,  62756,   3446, 122636, 142784, 129314,\n",
       "        32318, 195410], dtype=uint32)"
      ]
     },
     "execution_count": null,
     "metadata": {},
     "output_type": "execute_result"
    }
   ],
   "source": [
    "corpora[name] = Corpus().load(f'{save_path}{name}.corpus')\n",
    "corpora[name].orth_index[100:110]"
   ]
  },
  {
   "cell_type": "code",
   "execution_count": null,
   "metadata": {},
   "outputs": [
    {
     "data": {
      "text/plain": [
       "np.uint32(77455)"
      ]
     },
     "execution_count": null,
     "metadata": {},
     "output_type": "execute_result"
    }
   ],
   "source": [
    "corpora[name].original_to_new[4690420944186131903]"
   ]
  },
  {
   "cell_type": "code",
   "execution_count": null,
   "metadata": {},
   "outputs": [],
   "source": [
    "#%mprun -f Corpus.load corpora[name] = Corpus().load(f'{save_corpus_path}{name}.corpus')"
   ]
  },
  {
   "cell_type": "code",
   "execution_count": null,
   "metadata": {},
   "outputs": [
    {
     "data": {
      "text/html": [
       "<div id=\"oeiamuages\" style=\"padding-left:0px;padding-right:0px;padding-top:10px;padding-bottom:10px;overflow-x:auto;overflow-y:auto;width:auto;height:auto;\">\n",
       "<style>\n",
       "#oeiamuages table {\n",
       "          font-family: -apple-system, BlinkMacSystemFont, 'Segoe UI', Roboto, Oxygen, Ubuntu, Cantarell, 'Helvetica Neue', 'Fira Sans', 'Droid Sans', Arial, sans-serif;\n",
       "          -webkit-font-smoothing: antialiased;\n",
       "          -moz-osx-font-smoothing: grayscale;\n",
       "        }\n",
       "\n",
       "#oeiamuages thead, tbody, tfoot, tr, td, th { border-style: none; }\n",
       " tr { background-color: transparent; }\n",
       "#oeiamuages p { margin: 0; padding: 0; }\n",
       " #oeiamuages .gt_table { display: table; border-collapse: collapse; line-height: normal; margin-left: 0; margin-right: auto; color: #333333; font-size: 16px; font-weight: normal; font-style: normal; background-color: #FFFFFF; width: auto; border-top-style: solid; border-top-width: 2px; border-top-color: #A8A8A8; border-right-style: none; border-right-width: 2px; border-right-color: #D3D3D3; border-bottom-style: solid; border-bottom-width: 2px; border-bottom-color: #A8A8A8; border-left-style: none; border-left-width: 2px; border-left-color: #D3D3D3; }\n",
       " #oeiamuages .gt_caption { padding-top: 4px; padding-bottom: 4px; }\n",
       " #oeiamuages .gt_title { color: #333333; font-size: 125%; font-weight: initial; padding-top: 4px; padding-bottom: 4px; padding-left: 5px; padding-right: 5px; border-bottom-color: #FFFFFF; border-bottom-width: 0; }\n",
       " #oeiamuages .gt_subtitle { color: #333333; font-size: 85%; font-weight: initial; padding-top: 3px; padding-bottom: 5px; padding-left: 5px; padding-right: 5px; border-top-color: #FFFFFF; border-top-width: 0; }\n",
       " #oeiamuages .gt_heading { background-color: #FFFFFF; text-align: center; border-bottom-color: #FFFFFF; border-left-style: none; border-left-width: 1px; border-left-color: #D3D3D3; border-right-style: none; border-right-width: 1px; border-right-color: #D3D3D3; }\n",
       " #oeiamuages .gt_bottom_border { border-bottom-style: solid; border-bottom-width: 2px; border-bottom-color: #D3D3D3; }\n",
       " #oeiamuages .gt_col_headings { border-top-style: solid; border-top-width: 2px; border-top-color: #D3D3D3; border-bottom-style: solid; border-bottom-width: 2px; border-bottom-color: #D3D3D3; border-left-style: none; border-left-width: 1px; border-left-color: #D3D3D3; border-right-style: none; border-right-width: 1px; border-right-color: #D3D3D3; }\n",
       " #oeiamuages .gt_col_heading { color: #333333; background-color: #FFFFFF; font-size: 100%; font-weight: normal; text-transform: inherit; border-left-style: none; border-left-width: 1px; border-left-color: #D3D3D3; border-right-style: none; border-right-width: 1px; border-right-color: #D3D3D3; vertical-align: bottom; padding-top: 5px; padding-bottom: 5px; padding-left: 5px; padding-right: 5px; overflow-x: hidden; }\n",
       " #oeiamuages .gt_column_spanner_outer { color: #333333; background-color: #FFFFFF; font-size: 100%; font-weight: normal; text-transform: inherit; padding-top: 0; padding-bottom: 0; padding-left: 4px; padding-right: 4px; }\n",
       " #oeiamuages .gt_column_spanner_outer:first-child { padding-left: 0; }\n",
       " #oeiamuages .gt_column_spanner_outer:last-child { padding-right: 0; }\n",
       " #oeiamuages .gt_column_spanner { border-bottom-style: solid; border-bottom-width: 2px; border-bottom-color: #D3D3D3; vertical-align: bottom; padding-top: 5px; padding-bottom: 5px; overflow-x: hidden; display: inline-block; width: 100%; }\n",
       " #oeiamuages .gt_spanner_row { border-bottom-style: hidden; }\n",
       " #oeiamuages .gt_group_heading { padding-top: 8px; padding-bottom: 8px; padding-left: 5px; padding-right: 5px; color: #333333; background-color: #FFFFFF; font-size: 100%; font-weight: initial; text-transform: inherit; border-top-style: solid; border-top-width: 2px; border-top-color: #D3D3D3; border-bottom-style: solid; border-bottom-width: 2px; border-bottom-color: #D3D3D3; border-left-style: none; border-left-width: 1px; border-left-color: #D3D3D3; border-right-style: none; border-right-width: 1px; border-right-color: #D3D3D3; vertical-align: middle; text-align: left; }\n",
       " #oeiamuages .gt_empty_group_heading { padding: 0.5px; color: #333333; background-color: #FFFFFF; font-size: 100%; font-weight: initial; border-top-style: solid; border-top-width: 2px; border-top-color: #D3D3D3; border-bottom-style: solid; border-bottom-width: 2px; border-bottom-color: #D3D3D3; vertical-align: middle; }\n",
       " #oeiamuages .gt_from_md> :first-child { margin-top: 0; }\n",
       " #oeiamuages .gt_from_md> :last-child { margin-bottom: 0; }\n",
       " #oeiamuages .gt_row { padding-top: 8px; padding-bottom: 8px; padding-left: 5px; padding-right: 5px; margin: 10px; border-top-style: solid; border-top-width: 1px; border-top-color: #D3D3D3; border-left-style: none; border-left-width: 1px; border-left-color: #D3D3D3; border-right-style: none; border-right-width: 1px; border-right-color: #D3D3D3; vertical-align: middle; overflow-x: hidden; }\n",
       " #oeiamuages .gt_stub { color: #333333; background-color: #FFFFFF; font-size: 100%; font-weight: initial; text-transform: inherit; border-right-style: solid; border-right-width: 2px; border-right-color: #D3D3D3; padding-left: 5px; padding-right: 5px; }\n",
       " #oeiamuages .gt_stub_row_group { color: #333333; background-color: #FFFFFF; font-size: 100%; font-weight: initial; text-transform: inherit; border-right-style: solid; border-right-width: 2px; border-right-color: #D3D3D3; padding-left: 5px; padding-right: 5px; vertical-align: top; }\n",
       " #oeiamuages .gt_row_group_first td { border-top-width: 2px; }\n",
       " #oeiamuages .gt_row_group_first th { border-top-width: 2px; }\n",
       " #oeiamuages .gt_striped { background-color: rgba(128,128,128,0.05); }\n",
       " #oeiamuages .gt_table_body { border-top-style: solid; border-top-width: 2px; border-top-color: #D3D3D3; border-bottom-style: solid; border-bottom-width: 2px; border-bottom-color: #D3D3D3; }\n",
       " #oeiamuages .gt_sourcenotes { color: #333333; background-color: #FFFFFF; border-bottom-style: none; border-bottom-width: 2px; border-bottom-color: #D3D3D3; border-left-style: none; border-left-width: 2px; border-left-color: #D3D3D3; border-right-style: none; border-right-width: 2px; border-right-color: #D3D3D3; }\n",
       " #oeiamuages .gt_sourcenote { font-size: 90%; padding-top: 4px; padding-bottom: 4px; padding-left: 5px; padding-right: 5px; text-align: left; }\n",
       " #oeiamuages .gt_left { text-align: left; }\n",
       " #oeiamuages .gt_center { text-align: center; }\n",
       " #oeiamuages .gt_right { text-align: right; font-variant-numeric: tabular-nums; }\n",
       " #oeiamuages .gt_font_normal { font-weight: normal; }\n",
       " #oeiamuages .gt_font_bold { font-weight: bold; }\n",
       " #oeiamuages .gt_font_italic { font-style: italic; }\n",
       " #oeiamuages .gt_super { font-size: 65%; }\n",
       " #oeiamuages .gt_footnote_marks { font-size: 75%; vertical-align: 0.4em; position: initial; }\n",
       " #oeiamuages .gt_asterisk { font-size: 100%; vertical-align: 0; }\n",
       " \n",
       "</style>\n",
       "<table class=\"gt_table\" data-quarto-disable-processing=\"false\" data-quarto-bootstrap=\"false\">\n",
       "<thead>\n",
       "\n",
       "  <tr class=\"gt_heading\">\n",
       "    <td colspan=\"2\" class=\"gt_heading gt_title gt_font_normal\">Corpus Summary</td>\n",
       "  </tr>\n",
       "  <tr class=\"gt_heading\">\n",
       "    <td colspan=\"2\" class=\"gt_heading gt_subtitle gt_font_normal gt_bottom_border\"></td>\n",
       "  </tr>\n",
       "<tr class=\"gt_col_headings\">\n",
       "  <th class=\"gt_col_heading gt_columns_bottom_border gt_left\" rowspan=\"1\" colspan=\"1\" scope=\"col\" id=\"Attribute\">Attribute</th>\n",
       "  <th class=\"gt_col_heading gt_columns_bottom_border gt_left\" rowspan=\"1\" colspan=\"1\" scope=\"col\" id=\"Value\">Value</th>\n",
       "</tr>\n",
       "</thead>\n",
       "<tbody class=\"gt_table_body\">\n",
       "  <tr>\n",
       "    <td class=\"gt_row gt_left\">Name</td>\n",
       "    <td class=\"gt_row gt_left\">us-congressional-speeches-subset-10k</td>\n",
       "  </tr>\n",
       "  <tr>\n",
       "    <td class=\"gt_row gt_left\">Description</td>\n",
       "    <td class=\"gt_row gt_left\">None</td>\n",
       "  </tr>\n",
       "  <tr>\n",
       "    <td class=\"gt_row gt_left\">Conc Version</td>\n",
       "    <td class=\"gt_row gt_left\">0.0.1</td>\n",
       "  </tr>\n",
       "  <tr>\n",
       "    <td class=\"gt_row gt_left\">Corpus Path</td>\n",
       "    <td class=\"gt_row gt_left\">../test-corpora/saved/us-congressional-speeches-subset-10k.corpus</td>\n",
       "  </tr>\n",
       "  <tr>\n",
       "    <td class=\"gt_row gt_left\">Source Path</td>\n",
       "    <td class=\"gt_row gt_left\">../test-corpora/source/us-congressional-speeches-subset-10k.csv.gz</td>\n",
       "  </tr>\n",
       "  <tr>\n",
       "    <td class=\"gt_row gt_left\">Document Count</td>\n",
       "    <td class=\"gt_row gt_left\">10,000</td>\n",
       "  </tr>\n",
       "  <tr>\n",
       "    <td class=\"gt_row gt_left\">Token Count</td>\n",
       "    <td class=\"gt_row gt_left\">1,964,972</td>\n",
       "  </tr>\n",
       "  <tr>\n",
       "    <td class=\"gt_row gt_left\">Unique Tokens</td>\n",
       "    <td class=\"gt_row gt_left\">50,641</td>\n",
       "  </tr>\n",
       "  <tr>\n",
       "    <td class=\"gt_row gt_left\">Word Token Count</td>\n",
       "    <td class=\"gt_row gt_left\">1,778,104</td>\n",
       "  </tr>\n",
       "  <tr>\n",
       "    <td class=\"gt_row gt_left\">Unique Word Tokens</td>\n",
       "    <td class=\"gt_row gt_left\">50,520</td>\n",
       "  </tr>\n",
       "</tbody>\n",
       "\n",
       "\n",
       "</table>\n",
       "\n",
       "</div>\n",
       "        "
      ]
     },
     "metadata": {
      "text/html": {
       "text/html": {
        "isolated": true
       }
      }
     },
     "output_type": "display_data"
    },
    {
     "data": {
      "text/html": [
       "<div id=\"isxpnhcxay\" style=\"padding-left:0px;padding-right:0px;padding-top:10px;padding-bottom:10px;overflow-x:auto;overflow-y:auto;width:auto;height:auto;\">\n",
       "<style>\n",
       "#isxpnhcxay table {\n",
       "          font-family: -apple-system, BlinkMacSystemFont, 'Segoe UI', Roboto, Oxygen, Ubuntu, Cantarell, 'Helvetica Neue', 'Fira Sans', 'Droid Sans', Arial, sans-serif;\n",
       "          -webkit-font-smoothing: antialiased;\n",
       "          -moz-osx-font-smoothing: grayscale;\n",
       "        }\n",
       "\n",
       "#isxpnhcxay thead, tbody, tfoot, tr, td, th { border-style: none; }\n",
       " tr { background-color: transparent; }\n",
       "#isxpnhcxay p { margin: 0; padding: 0; }\n",
       " #isxpnhcxay .gt_table { display: table; border-collapse: collapse; line-height: normal; margin-left: 0; margin-right: auto; color: #333333; font-size: 16px; font-weight: normal; font-style: normal; background-color: #FFFFFF; width: auto; border-top-style: solid; border-top-width: 2px; border-top-color: #A8A8A8; border-right-style: none; border-right-width: 2px; border-right-color: #D3D3D3; border-bottom-style: solid; border-bottom-width: 2px; border-bottom-color: #A8A8A8; border-left-style: none; border-left-width: 2px; border-left-color: #D3D3D3; }\n",
       " #isxpnhcxay .gt_caption { padding-top: 4px; padding-bottom: 4px; }\n",
       " #isxpnhcxay .gt_title { color: #333333; font-size: 125%; font-weight: initial; padding-top: 4px; padding-bottom: 4px; padding-left: 5px; padding-right: 5px; border-bottom-color: #FFFFFF; border-bottom-width: 0; }\n",
       " #isxpnhcxay .gt_subtitle { color: #333333; font-size: 85%; font-weight: initial; padding-top: 3px; padding-bottom: 5px; padding-left: 5px; padding-right: 5px; border-top-color: #FFFFFF; border-top-width: 0; }\n",
       " #isxpnhcxay .gt_heading { background-color: #FFFFFF; text-align: center; border-bottom-color: #FFFFFF; border-left-style: none; border-left-width: 1px; border-left-color: #D3D3D3; border-right-style: none; border-right-width: 1px; border-right-color: #D3D3D3; }\n",
       " #isxpnhcxay .gt_bottom_border { border-bottom-style: solid; border-bottom-width: 2px; border-bottom-color: #D3D3D3; }\n",
       " #isxpnhcxay .gt_col_headings { border-top-style: solid; border-top-width: 2px; border-top-color: #D3D3D3; border-bottom-style: solid; border-bottom-width: 2px; border-bottom-color: #D3D3D3; border-left-style: none; border-left-width: 1px; border-left-color: #D3D3D3; border-right-style: none; border-right-width: 1px; border-right-color: #D3D3D3; }\n",
       " #isxpnhcxay .gt_col_heading { color: #333333; background-color: #FFFFFF; font-size: 100%; font-weight: normal; text-transform: inherit; border-left-style: none; border-left-width: 1px; border-left-color: #D3D3D3; border-right-style: none; border-right-width: 1px; border-right-color: #D3D3D3; vertical-align: bottom; padding-top: 5px; padding-bottom: 5px; padding-left: 5px; padding-right: 5px; overflow-x: hidden; }\n",
       " #isxpnhcxay .gt_column_spanner_outer { color: #333333; background-color: #FFFFFF; font-size: 100%; font-weight: normal; text-transform: inherit; padding-top: 0; padding-bottom: 0; padding-left: 4px; padding-right: 4px; }\n",
       " #isxpnhcxay .gt_column_spanner_outer:first-child { padding-left: 0; }\n",
       " #isxpnhcxay .gt_column_spanner_outer:last-child { padding-right: 0; }\n",
       " #isxpnhcxay .gt_column_spanner { border-bottom-style: solid; border-bottom-width: 2px; border-bottom-color: #D3D3D3; vertical-align: bottom; padding-top: 5px; padding-bottom: 5px; overflow-x: hidden; display: inline-block; width: 100%; }\n",
       " #isxpnhcxay .gt_spanner_row { border-bottom-style: hidden; }\n",
       " #isxpnhcxay .gt_group_heading { padding-top: 8px; padding-bottom: 8px; padding-left: 5px; padding-right: 5px; color: #333333; background-color: #FFFFFF; font-size: 100%; font-weight: initial; text-transform: inherit; border-top-style: solid; border-top-width: 2px; border-top-color: #D3D3D3; border-bottom-style: solid; border-bottom-width: 2px; border-bottom-color: #D3D3D3; border-left-style: none; border-left-width: 1px; border-left-color: #D3D3D3; border-right-style: none; border-right-width: 1px; border-right-color: #D3D3D3; vertical-align: middle; text-align: left; }\n",
       " #isxpnhcxay .gt_empty_group_heading { padding: 0.5px; color: #333333; background-color: #FFFFFF; font-size: 100%; font-weight: initial; border-top-style: solid; border-top-width: 2px; border-top-color: #D3D3D3; border-bottom-style: solid; border-bottom-width: 2px; border-bottom-color: #D3D3D3; vertical-align: middle; }\n",
       " #isxpnhcxay .gt_from_md> :first-child { margin-top: 0; }\n",
       " #isxpnhcxay .gt_from_md> :last-child { margin-bottom: 0; }\n",
       " #isxpnhcxay .gt_row { padding-top: 8px; padding-bottom: 8px; padding-left: 5px; padding-right: 5px; margin: 10px; border-top-style: solid; border-top-width: 1px; border-top-color: #D3D3D3; border-left-style: none; border-left-width: 1px; border-left-color: #D3D3D3; border-right-style: none; border-right-width: 1px; border-right-color: #D3D3D3; vertical-align: middle; overflow-x: hidden; }\n",
       " #isxpnhcxay .gt_stub { color: #333333; background-color: #FFFFFF; font-size: 100%; font-weight: initial; text-transform: inherit; border-right-style: solid; border-right-width: 2px; border-right-color: #D3D3D3; padding-left: 5px; padding-right: 5px; }\n",
       " #isxpnhcxay .gt_stub_row_group { color: #333333; background-color: #FFFFFF; font-size: 100%; font-weight: initial; text-transform: inherit; border-right-style: solid; border-right-width: 2px; border-right-color: #D3D3D3; padding-left: 5px; padding-right: 5px; vertical-align: top; }\n",
       " #isxpnhcxay .gt_row_group_first td { border-top-width: 2px; }\n",
       " #isxpnhcxay .gt_row_group_first th { border-top-width: 2px; }\n",
       " #isxpnhcxay .gt_striped { background-color: rgba(128,128,128,0.05); }\n",
       " #isxpnhcxay .gt_table_body { border-top-style: solid; border-top-width: 2px; border-top-color: #D3D3D3; border-bottom-style: solid; border-bottom-width: 2px; border-bottom-color: #D3D3D3; }\n",
       " #isxpnhcxay .gt_sourcenotes { color: #333333; background-color: #FFFFFF; border-bottom-style: none; border-bottom-width: 2px; border-bottom-color: #D3D3D3; border-left-style: none; border-left-width: 2px; border-left-color: #D3D3D3; border-right-style: none; border-right-width: 2px; border-right-color: #D3D3D3; }\n",
       " #isxpnhcxay .gt_sourcenote { font-size: 90%; padding-top: 4px; padding-bottom: 4px; padding-left: 5px; padding-right: 5px; text-align: left; }\n",
       " #isxpnhcxay .gt_left { text-align: left; }\n",
       " #isxpnhcxay .gt_center { text-align: center; }\n",
       " #isxpnhcxay .gt_right { text-align: right; font-variant-numeric: tabular-nums; }\n",
       " #isxpnhcxay .gt_font_normal { font-weight: normal; }\n",
       " #isxpnhcxay .gt_font_bold { font-weight: bold; }\n",
       " #isxpnhcxay .gt_font_italic { font-style: italic; }\n",
       " #isxpnhcxay .gt_super { font-size: 65%; }\n",
       " #isxpnhcxay .gt_footnote_marks { font-size: 75%; vertical-align: 0.4em; position: initial; }\n",
       " #isxpnhcxay .gt_asterisk { font-size: 100%; vertical-align: 0; }\n",
       " \n",
       "</style>\n",
       "<table class=\"gt_table\" data-quarto-disable-processing=\"false\" data-quarto-bootstrap=\"false\">\n",
       "<thead>\n",
       "\n",
       "  <tr class=\"gt_heading\">\n",
       "    <td colspan=\"2\" class=\"gt_heading gt_title gt_font_normal\">Corpus Summary</td>\n",
       "  </tr>\n",
       "  <tr class=\"gt_heading\">\n",
       "    <td colspan=\"2\" class=\"gt_heading gt_subtitle gt_font_normal gt_bottom_border\"></td>\n",
       "  </tr>\n",
       "<tr class=\"gt_col_headings\">\n",
       "  <th class=\"gt_col_heading gt_columns_bottom_border gt_left\" rowspan=\"1\" colspan=\"1\" scope=\"col\" id=\"Attribute\">Attribute</th>\n",
       "  <th class=\"gt_col_heading gt_columns_bottom_border gt_left\" rowspan=\"1\" colspan=\"1\" scope=\"col\" id=\"Value\">Value</th>\n",
       "</tr>\n",
       "</thead>\n",
       "<tbody class=\"gt_table_body\">\n",
       "  <tr>\n",
       "    <td class=\"gt_row gt_left\">Name</td>\n",
       "    <td class=\"gt_row gt_left\">us-congressional-speeches-subset-100k</td>\n",
       "  </tr>\n",
       "  <tr>\n",
       "    <td class=\"gt_row gt_left\">Description</td>\n",
       "    <td class=\"gt_row gt_left\">None</td>\n",
       "  </tr>\n",
       "  <tr>\n",
       "    <td class=\"gt_row gt_left\">Conc Version</td>\n",
       "    <td class=\"gt_row gt_left\">0.0.1</td>\n",
       "  </tr>\n",
       "  <tr>\n",
       "    <td class=\"gt_row gt_left\">Corpus Path</td>\n",
       "    <td class=\"gt_row gt_left\">../test-corpora/saved/us-congressional-speeches-subset-100k.corpus</td>\n",
       "  </tr>\n",
       "  <tr>\n",
       "    <td class=\"gt_row gt_left\">Source Path</td>\n",
       "    <td class=\"gt_row gt_left\">../test-corpora/source/us-congressional-speeches-subset-100k.csv.gz</td>\n",
       "  </tr>\n",
       "  <tr>\n",
       "    <td class=\"gt_row gt_left\">Document Count</td>\n",
       "    <td class=\"gt_row gt_left\">100,000</td>\n",
       "  </tr>\n",
       "  <tr>\n",
       "    <td class=\"gt_row gt_left\">Token Count</td>\n",
       "    <td class=\"gt_row gt_left\">20,027,241</td>\n",
       "  </tr>\n",
       "  <tr>\n",
       "    <td class=\"gt_row gt_left\">Unique Tokens</td>\n",
       "    <td class=\"gt_row gt_left\">214,503</td>\n",
       "  </tr>\n",
       "  <tr>\n",
       "    <td class=\"gt_row gt_left\">Word Token Count</td>\n",
       "    <td class=\"gt_row gt_left\">18,120,969</td>\n",
       "  </tr>\n",
       "  <tr>\n",
       "    <td class=\"gt_row gt_left\">Unique Word Tokens</td>\n",
       "    <td class=\"gt_row gt_left\">214,175</td>\n",
       "  </tr>\n",
       "</tbody>\n",
       "\n",
       "\n",
       "</table>\n",
       "\n",
       "</div>\n",
       "        "
      ]
     },
     "metadata": {
      "text/html": {
       "text/html": {
        "isolated": true
       }
      }
     },
     "output_type": "display_data"
    }
   ],
   "source": [
    "#| eval: false\n",
    "for name in test_corpora_names:\n",
    "\t# if os.path.exists(f'{save_corpus_path}{name}.corpus'):\n",
    "\t# \tos.remove(f'{save_corpus_path}{name}.corpus')\n",
    "\ttry:\n",
    "\t\tcorpora[name] = Corpus().load(f'{save_path}{name}.corpus')\n",
    "\texcept FileNotFoundError:\n",
    "\t\tset_logger_state('verbose')\n",
    "\t\tcorpora[name] = Corpus(name).build_from_csv(f'{source_path}{name}.csv.gz', text_column='text')\n",
    "\t\tcorpora[name].save(f'{save_path}{name}.corpus')\n",
    "\t\tset_logger_state('quiet')\n",
    "\tcorpora[name].summary()"
   ]
  },
  {
   "cell_type": "code",
   "execution_count": null,
   "metadata": {},
   "outputs": [
    {
     "name": "stdout",
     "output_type": "stream",
     "text": [
      "121 ms ± 943 μs per loop (mean ± std. dev. of 7 runs, 10 loops each)\n",
      "846 ms ± 16.4 ms per loop (mean ± std. dev. of 7 runs, 1 loop each)\n",
      "1.68 s ± 35.5 ms per loop (mean ± std. dev. of 7 runs, 1 loop each)\n"
     ]
    }
   ],
   "source": [
    "# as a loop\n",
    "for name in test_corpora_names:\n",
    "    %timeit corpora[name] = Corpus().load(f'{save_path}{name}.corpus')"
   ]
  },
  {
   "cell_type": "code",
   "execution_count": null,
   "metadata": {},
   "outputs": [],
   "source": [
    "report = {}\n",
    "for name in test_corpora_names:\n",
    "    report[name] = Report(corpora[name])"
   ]
  },
  {
   "cell_type": "code",
   "execution_count": null,
   "metadata": {},
   "outputs": [
    {
     "name": "stdout",
     "output_type": "stream",
     "text": [
      "4.56 ms ± 376 μs per loop (mean ± std. dev. of 7 runs, 100 loops each)\n",
      "13.9 ms ± 169 μs per loop (mean ± std. dev. of 7 runs, 100 loops each)\n",
      "19.4 ms ± 183 μs per loop (mean ± std. dev. of 7 runs, 100 loops each)\n"
     ]
    }
   ],
   "source": [
    "for name in test_corpora_names:\n",
    "    %timeit report[name].frequencies(normalize_by=10000, page_size=10)"
   ]
  },
  {
   "cell_type": "code",
   "execution_count": null,
   "metadata": {},
   "outputs": [
    {
     "name": "stdout",
     "output_type": "stream",
     "text": [
      "714 μs ± 32.7 μs per loop (mean ± std. dev. of 7 runs, 1,000 loops each)\n",
      "11.2 ms ± 348 μs per loop (mean ± std. dev. of 7 runs, 100 loops each)\n",
      "23.6 ms ± 1.21 ms per loop (mean ± std. dev. of 7 runs, 1 loop each)\n"
     ]
    }
   ],
   "source": [
    "token_str = 'dog'\n",
    "use_cache = False\n",
    "for name in test_corpora_names:\n",
    "    %timeit report[name].ngrams(token_str, ngram_length = 2, ngram_word_position = 'LEFT', use_cache = use_cache)\n"
   ]
  },
  {
   "cell_type": "code",
   "execution_count": null,
   "metadata": {},
   "outputs": [
    {
     "name": "stdout",
     "output_type": "stream",
     "text": [
      "83.4 μs ± 544 ns per loop (mean ± std. dev. of 7 runs, 10,000 loops each)\n",
      "96.8 μs ± 405 ns per loop (mean ± std. dev. of 7 runs, 10,000 loops each)\n",
      "97.1 μs ± 383 ns per loop (mean ± std. dev. of 7 runs, 10,000 loops each)\n"
     ]
    }
   ],
   "source": [
    "token_str = 'dog'\n",
    "use_cache = True\n",
    "for name in test_corpora_names:\n",
    "    report[name].ngrams(token_str, ngram_length = 2, ngram_word_position = 'LEFT', use_cache = use_cache) # warm up\n",
    "    %timeit report[name].ngrams(token_str, ngram_length = 2, ngram_word_position = 'LEFT', use_cache = use_cache)"
   ]
  },
  {
   "cell_type": "code",
   "execution_count": null,
   "metadata": {},
   "outputs": [
    {
     "name": "stdout",
     "output_type": "stream",
     "text": [
      "7.44 ms ± 121 μs per loop (mean ± std. dev. of 7 runs, 100 loops each)\n",
      "84.5 ms ± 1.15 ms per loop (mean ± std. dev. of 7 runs, 10 loops each)\n",
      "176 ms ± 902 μs per loop (mean ± std. dev. of 7 runs, 10 loops each)\n"
     ]
    }
   ],
   "source": [
    "token_str = 'the'\n",
    "use_cache = False\n",
    "for name in test_corpora_names:\n",
    "    %timeit report[name].ngrams(token_str, ngram_length = 2, ngram_word_position = 'LEFT', use_cache = use_cache)\n"
   ]
  },
  {
   "cell_type": "code",
   "execution_count": null,
   "metadata": {},
   "outputs": [
    {
     "name": "stdout",
     "output_type": "stream",
     "text": [
      "83.1 μs ± 545 ns per loop (mean ± std. dev. of 7 runs, 10,000 loops each)\n",
      "89.4 μs ± 1.49 μs per loop (mean ± std. dev. of 7 runs, 10,000 loops each)\n",
      "87.3 μs ± 214 ns per loop (mean ± std. dev. of 7 runs, 10,000 loops each)\n"
     ]
    }
   ],
   "source": [
    "token_str = 'the'\n",
    "use_cache = True\n",
    "for name in test_corpora_names:\n",
    "    report[name].ngrams(token_str, ngram_length = 2, ngram_word_position = 'LEFT', use_cache = use_cache) # warm up\n",
    "    %timeit report[name].ngrams(token_str, ngram_length = 2, ngram_word_position = 'LEFT', use_cache = use_cache)"
   ]
  },
  {
   "cell_type": "code",
   "execution_count": null,
   "metadata": {},
   "outputs": [
    {
     "name": "stdout",
     "output_type": "stream",
     "text": [
      "2.99 ms ± 241 μs per loop (mean ± std. dev. of 7 runs, 100 loops each)\n",
      "14 ms ± 401 μs per loop (mean ± std. dev. of 7 runs, 1 loop each)\n",
      "25.9 ms ± 697 μs per loop (mean ± std. dev. of 7 runs, 1 loop each)\n"
     ]
    }
   ],
   "source": [
    "use_cache = False\n",
    "token_str = 'dog'\n",
    "for name in test_corpora_names:\n",
    "    %timeit report[name].concordance(token_str, context_words = 5, order='1L2L3L', use_cache = use_cache)"
   ]
  },
  {
   "cell_type": "code",
   "execution_count": null,
   "metadata": {},
   "outputs": [
    {
     "name": "stdout",
     "output_type": "stream",
     "text": [
      "1.98 ms ± 32 μs per loop (mean ± std. dev. of 7 runs, 100 loops each)\n",
      "2.26 ms ± 158 μs per loop (mean ± std. dev. of 7 runs, 100 loops each)\n",
      "2.5 ms ± 19 μs per loop (mean ± std. dev. of 7 runs, 100 loops each)\n"
     ]
    }
   ],
   "source": [
    "use_cache = True\n",
    "token_str = 'dog'\n",
    "for name in test_corpora_names:\n",
    "    report[name].concordance(token_str, context_words = 5, order='1L2L3L', use_cache = use_cache) # warm up\n",
    "    %timeit report[name].concordance(token_str, context_words = 5, order='1L2L3L', use_cache = use_cache)\n"
   ]
  },
  {
   "cell_type": "code",
   "execution_count": null,
   "metadata": {},
   "outputs": [
    {
     "name": "stdout",
     "output_type": "stream",
     "text": [
      "16.4 ms ± 251 μs per loop (mean ± std. dev. of 7 runs, 100 loops each)\n",
      "102 ms ± 2.65 ms per loop (mean ± std. dev. of 7 runs, 10 loops each)\n",
      "214 ms ± 10.2 ms per loop (mean ± std. dev. of 7 runs, 1 loop each)\n"
     ]
    }
   ],
   "source": [
    "use_cache = False\n",
    "token_str = 'the'\n",
    "for name in test_corpora_names:\n",
    "    %timeit report[name].concordance(token_str, context_words = 5, order='1L2L3L', use_cache = use_cache)\n"
   ]
  },
  {
   "cell_type": "code",
   "execution_count": null,
   "metadata": {},
   "outputs": [
    {
     "name": "stdout",
     "output_type": "stream",
     "text": [
      "2.42 ms ± 59.5 μs per loop (mean ± std. dev. of 7 runs, 100 loops each)\n",
      "3.35 ms ± 148 μs per loop (mean ± std. dev. of 7 runs, 100 loops each)\n",
      "4.23 ms ± 157 μs per loop (mean ± std. dev. of 7 runs, 100 loops each)\n"
     ]
    }
   ],
   "source": [
    "use_cache = True\n",
    "token_str = 'the'\n",
    "for name in test_corpora_names:\n",
    "    report[name].concordance(token_str, context_words = 5, order='1L2L3L', use_cache = use_cache) # warm up\n",
    "    %timeit report[name].concordance(token_str, context_words = 5, order='1L2L3L', use_cache = use_cache)\n"
   ]
  },
  {
   "cell_type": "code",
   "execution_count": null,
   "metadata": {},
   "outputs": [],
   "source": [
    "# reclaim space!\n",
    "for name in test_corpora_names:\n",
    "\tif os.path.exists(f'{save_corpus_path}{name}.corpus'):\n",
    "\t\tos.remove(f'{save_corpus_path}{name}.corpus')"
   ]
  },
  {
   "cell_type": "code",
   "execution_count": null,
   "metadata": {},
   "outputs": [],
   "source": []
  },
  {
   "cell_type": "code",
   "execution_count": null,
   "metadata": {},
   "outputs": [],
   "source": []
  }
 ],
 "metadata": {
  "kernelspec": {
   "display_name": "python3",
   "language": "python",
   "name": "python3"
  }
 },
 "nbformat": 4,
 "nbformat_minor": 2
}
