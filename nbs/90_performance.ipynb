{
 "cells": [
  {
   "cell_type": "markdown",
   "metadata": {},
   "source": [
    "# Performance\n",
    "\n",
    "This page reports timing results of conc methods with different size corpora. "
   ]
  },
  {
   "cell_type": "code",
   "execution_count": null,
   "metadata": {},
   "outputs": [],
   "source": [
    "#| hide\n",
    "%load_ext memory_profiler"
   ]
  },
  {
   "cell_type": "code",
   "execution_count": null,
   "metadata": {},
   "outputs": [],
   "source": [
    "#| hide \n",
    "%load_ext line_profiler"
   ]
  },
  {
   "cell_type": "code",
   "execution_count": null,
   "metadata": {},
   "outputs": [],
   "source": [
    "#| hide\n",
    "# %load_ext memray\n"
   ]
  },
  {
   "cell_type": "code",
   "execution_count": null,
   "metadata": {},
   "outputs": [],
   "source": [
    "#| hide\n",
    "import os"
   ]
  },
  {
   "cell_type": "code",
   "execution_count": null,
   "metadata": {},
   "outputs": [],
   "source": [
    "from conc.core import logger, set_logger_state\n",
    "from conc.corpus import Corpus\n",
    "from conc.report import Report"
   ]
  },
  {
   "cell_type": "code",
   "execution_count": null,
   "metadata": {},
   "outputs": [],
   "source": [
    "set_logger_state('quiet')"
   ]
  },
  {
   "cell_type": "code",
   "execution_count": null,
   "metadata": {},
   "outputs": [],
   "source": [
    "#| hide\n",
    "source_path = f'{os.environ.get(\"HOME\")}/data/'\n",
    "save_path = f'{os.environ.get(\"HOME\")}/data/conc-test-corpora/'"
   ]
  },
  {
   "cell_type": "code",
   "execution_count": null,
   "metadata": {},
   "outputs": [
    {
     "name": "stderr",
     "output_type": "stream",
     "text": [
      "2025-06-03 16:43:00 - INFO - <module> - Starting US Congressional Speeches Subset 10k build ...\n",
      "2025-06-03 16:43:01 - INFO - memory_usage - init, memory usage: 230.69140625 MB\n",
      "2025-06-03 16:43:08 - INFO - memory_usage - processed 5000 documents, memory usage: 315.48828125 MB, difference: 84.796875 MB\n",
      "2025-06-03 16:43:14 - INFO - memory_usage - processed 10000 documents, memory usage: 332.828125 MB, difference: 17.33984375 MB\n",
      "2025-06-03 16:43:14 - INFO - memory_usage - Completing build process, memory usage: 332.828125 MB, difference: 0.0 MB\n",
      "2025-06-03 16:43:14 - INFO - memory_usage - init, memory usage: 332.828125 MB\n",
      "2025-06-03 16:43:14 - INFO - memory_usage - got input length 1975172, memory usage: 334.92578125 MB, difference: 2.09765625 MB\n",
      "2025-06-03 16:43:14 - INFO - memory_usage - collected vocab, memory usage: 335.05078125 MB, difference: 0.125 MB\n",
      "2025-06-03 16:43:14 - INFO - memory_usage - freed up combined_df and input_df, memory usage: 335.05078125 MB, difference: 0.0 MB\n",
      "2025-06-03 16:43:15 - INFO - memory_usage - got vocab strings, memory usage: 382.3828125 MB, difference: 47.33203125 MB\n",
      "2025-06-03 16:43:15 - INFO - memory_usage - added vocab strings, memory usage: 382.6640625 MB, difference: 0.28125 MB\n",
      "2025-06-03 16:43:15 - INFO - memory_usage - got punct tokens, memory usage: 394.28515625 MB, difference: 11.62109375 MB\n",
      "2025-06-03 16:43:15 - INFO - memory_usage - got space tokens, memory usage: 394.28515625 MB, difference: 0.0 MB\n",
      "2025-06-03 16:43:15 - INFO - memory_usage - saved punct positions, memory usage: 406.84375 MB, difference: 12.55859375 MB\n",
      "2025-06-03 16:43:15 - INFO - memory_usage - saved space positions, memory usage: 410.35546875 MB, difference: 3.51171875 MB\n",
      "2025-06-03 16:43:15 - INFO - memory_usage - added frequency to vocab, memory usage: 410.35546875 MB, difference: 0.0 MB\n",
      "2025-06-03 16:43:16 - INFO - memory_usage - got unique tokens None, memory usage: 414.9609375 MB, difference: 4.60546875 MB\n",
      "2025-06-03 16:43:16 - INFO - memory_usage - added is_punct is_space to vocab, memory usage: 414.9609375 MB, difference: 0.0 MB\n",
      "2025-06-03 16:43:16 - INFO - memory_usage - wrote vocab to disk, memory usage: 859.28125 MB, difference: 444.3203125 MB\n",
      "2025-06-03 16:43:17 - INFO - memory_usage - wrote tokens to disk, memory usage: 924.12109375 MB, difference: 64.83984375 MB\n",
      "2025-06-03 16:43:17 - INFO - memory_usage - got doc count 10000, memory usage: 924.34375 MB, difference: 0.22265625 MB\n",
      "2025-06-03 16:43:17 - INFO - memory_usage - got token count, memory usage: 924.34375 MB, difference: 0.0 MB\n",
      "2025-06-03 16:43:17 - INFO - memory_usage - got punct token count, memory usage: 924.51953125 MB, difference: 0.17578125 MB\n",
      "2025-06-03 16:43:17 - INFO - memory_usage - got space token count, memory usage: 924.51953125 MB, difference: 0.0 MB\n",
      "2025-06-03 16:43:17 - INFO - memory_usage - done, memory usage: 924.51953125 MB, difference: 0.0 MB\n",
      "2025-06-03 16:43:17 - INFO - memory_usage - Completed build process, memory usage: 924.51953125 MB, difference: 0.0 MB\n",
      "2025-06-03 16:43:17 - INFO - save_corpus_metadata - Saved corpus metadata time: 0.001 seconds\n",
      "2025-06-03 16:43:17 - INFO - build - Build time: 15.475 seconds\n",
      "2025-06-03 16:43:17 - INFO - build_from_csv - Build from csv time: 16.690 seconds\n",
      "2025-06-03 16:43:17 - INFO - <module> - Starting US Congressional Speeches Subset 100k build ...\n",
      "2025-06-03 16:43:18 - INFO - memory_usage - init, memory usage: 910.6875 MB\n",
      "2025-06-03 16:43:25 - INFO - memory_usage - processed 5000 documents, memory usage: 910.1875 MB, difference: -0.5 MB\n",
      "2025-06-03 16:43:31 - INFO - memory_usage - processed 10000 documents, memory usage: 910.5625 MB, difference: 0.375 MB\n",
      "2025-06-03 16:43:36 - INFO - memory_usage - processed 15000 documents, memory usage: 913.4375 MB, difference: 2.875 MB\n",
      "2025-06-03 16:43:41 - INFO - memory_usage - processed 20000 documents, memory usage: 919.4375 MB, difference: 6.0 MB\n",
      "2025-06-03 16:43:46 - INFO - memory_usage - processed 25000 documents, memory usage: 922.1875 MB, difference: 2.75 MB\n",
      "2025-06-03 16:43:51 - INFO - memory_usage - processed 30000 documents, memory usage: 924.3125 MB, difference: 2.125 MB\n",
      "2025-06-03 16:43:56 - INFO - memory_usage - processed 35000 documents, memory usage: 926.4375 MB, difference: 2.125 MB\n",
      "2025-06-03 16:44:01 - INFO - memory_usage - processed 40000 documents, memory usage: 928.3125 MB, difference: 1.875 MB\n",
      "2025-06-03 16:44:06 - INFO - memory_usage - processed 45000 documents, memory usage: 930.3125 MB, difference: 2.0 MB\n",
      "2025-06-03 16:44:11 - INFO - memory_usage - processed 50000 documents, memory usage: 944.3125 MB, difference: 14.0 MB\n",
      "2025-06-03 16:44:16 - INFO - memory_usage - processed 55000 documents, memory usage: 954.1875 MB, difference: 9.875 MB\n",
      "2025-06-03 16:44:21 - INFO - memory_usage - processed 60000 documents, memory usage: 963.5625 MB, difference: 9.375 MB\n",
      "2025-06-03 16:44:26 - INFO - memory_usage - processed 65000 documents, memory usage: 965.1875 MB, difference: 1.625 MB\n",
      "2025-06-03 16:44:31 - INFO - memory_usage - processed 70000 documents, memory usage: 967.0625 MB, difference: 1.875 MB\n",
      "2025-06-03 16:44:36 - INFO - memory_usage - processed 75000 documents, memory usage: 968.9375 MB, difference: 1.875 MB\n",
      "2025-06-03 16:44:41 - INFO - memory_usage - processed 80000 documents, memory usage: 970.5625 MB, difference: 1.625 MB\n",
      "2025-06-03 16:44:46 - INFO - memory_usage - processed 85000 documents, memory usage: 980.3125 MB, difference: 9.75 MB\n",
      "2025-06-03 16:44:51 - INFO - memory_usage - processed 90000 documents, memory usage: 982.1875 MB, difference: 1.875 MB\n",
      "2025-06-03 16:44:56 - INFO - memory_usage - processed 95000 documents, memory usage: 983.6875 MB, difference: 1.5 MB\n",
      "2025-06-03 16:45:01 - INFO - memory_usage - processed 100000 documents, memory usage: 985.6875 MB, difference: 2.0 MB\n",
      "2025-06-03 16:45:01 - INFO - memory_usage - Completing build process, memory usage: 985.6875 MB, difference: 0.0 MB\n",
      "2025-06-03 16:45:01 - INFO - memory_usage - init, memory usage: 985.6875 MB\n",
      "2025-06-03 16:45:01 - INFO - memory_usage - got input length 20127441, memory usage: 985.76953125 MB, difference: 0.08203125 MB\n",
      "2025-06-03 16:45:01 - INFO - memory_usage - collected vocab, memory usage: 985.76953125 MB, difference: 0.0 MB\n",
      "2025-06-03 16:45:01 - INFO - memory_usage - freed up combined_df and input_df, memory usage: 985.76953125 MB, difference: 0.0 MB\n",
      "2025-06-03 16:45:04 - INFO - memory_usage - got vocab strings, memory usage: 1100.5625 MB, difference: 114.79296875 MB\n",
      "2025-06-03 16:45:05 - INFO - memory_usage - added vocab strings, memory usage: 1100.5625 MB, difference: 0.0 MB\n",
      "2025-06-03 16:45:05 - INFO - memory_usage - got punct tokens, memory usage: 1140.79296875 MB, difference: 40.23046875 MB\n",
      "2025-06-03 16:45:05 - INFO - memory_usage - got space tokens, memory usage: 1140.79296875 MB, difference: 0.0 MB\n",
      "2025-06-03 16:45:07 - INFO - memory_usage - saved punct positions, memory usage: 1142.29296875 MB, difference: 1.5 MB\n",
      "2025-06-03 16:45:10 - INFO - memory_usage - saved space positions, memory usage: 1150.16796875 MB, difference: 7.875 MB\n",
      "2025-06-03 16:45:10 - INFO - memory_usage - added frequency to vocab, memory usage: 1150.16796875 MB, difference: 0.0 MB\n",
      "2025-06-03 16:45:12 - INFO - memory_usage - got unique tokens None, memory usage: 1153.16796875 MB, difference: 3.0 MB\n",
      "2025-06-03 16:45:12 - INFO - memory_usage - added is_punct is_space to vocab, memory usage: 1153.16796875 MB, difference: 0.0 MB\n",
      "2025-06-03 16:45:32 - INFO - memory_usage - wrote vocab to disk, memory usage: 1654.44140625 MB, difference: 501.2734375 MB\n",
      "2025-06-03 16:45:39 - INFO - memory_usage - wrote tokens to disk, memory usage: 1822.6015625 MB, difference: 168.16015625 MB\n",
      "2025-06-03 16:45:39 - INFO - memory_usage - got doc count 100000, memory usage: 1777.56640625 MB, difference: -45.03515625 MB\n",
      "2025-06-03 16:45:39 - INFO - memory_usage - got token count, memory usage: 1777.56640625 MB, difference: 0.0 MB\n",
      "2025-06-03 16:45:39 - INFO - memory_usage - got punct token count, memory usage: 1778.55078125 MB, difference: 0.984375 MB\n",
      "2025-06-03 16:45:39 - INFO - memory_usage - got space token count, memory usage: 1778.55078125 MB, difference: 0.0 MB\n",
      "2025-06-03 16:45:39 - INFO - memory_usage - done, memory usage: 1778.67578125 MB, difference: 0.125 MB\n",
      "2025-06-03 16:45:39 - INFO - memory_usage - Completed build process, memory usage: 1796.625 MB, difference: 17.94921875 MB\n",
      "2025-06-03 16:45:39 - INFO - save_corpus_metadata - Saved corpus metadata time: 0.013 seconds\n",
      "2025-06-03 16:45:39 - INFO - build - Build time: 141.552 seconds\n",
      "2025-06-03 16:45:39 - INFO - build_from_csv - Build from csv time: 142.568 seconds\n"
     ]
    }
   ],
   "source": [
    "#| eval: false\n",
    "test_corpora = {\n",
    "\t\t\t\t'us-congressional-speeches-subset-10k': 'US Congressional Speeches Subset 10k',\n",
    "                'us-congressional-speeches-subset-100k': 'US Congressional Speeches Subset 100k',\n",
    "\t\t\t\t#'us-congressional-speeches-subset-500k': 'US Congressional Speeches Subset 500k'\n",
    "\t\t\t\t}\n",
    "\n",
    "\n",
    "corpora = {}\n",
    "for slug, name in test_corpora.items():\n",
    "\tset_logger_state('verbose')\n",
    "\tlogger.info(f'Starting {name} build ...')\n",
    "\ttry:\n",
    "\t\tcorpora[slug] = Corpus(name).build_from_csv(f'{source_path}{slug}.csv.gz', save_path = save_path, text_column='text', metadata_columns = ['speech_id', 'date', 'speaker', 'chamber', 'state'], build_process_cleanup = False)\n",
    "\t\tdel corpora[slug]\n",
    "\texcept Exception as e:\n",
    "\t\traise e\n",
    "\tset_logger_state('quiet')\n"
   ]
  },
  {
   "cell_type": "code",
   "execution_count": null,
   "metadata": {},
   "outputs": [],
   "source": [
    "import polars as pl"
   ]
  },
  {
   "cell_type": "code",
   "execution_count": null,
   "metadata": {},
   "outputs": [
    {
     "data": {
      "text/plain": [
       "<conc.corpus.Corpus>"
      ]
     },
     "execution_count": null,
     "metadata": {},
     "output_type": "execute_result"
    }
   ],
   "source": [
    "corpora[slug]"
   ]
  },
  {
   "cell_type": "code",
   "execution_count": null,
   "metadata": {},
   "outputs": [
    {
     "data": {
      "text/plain": [
       "([(np.int64(50562),)], 66)"
      ]
     },
     "execution_count": null,
     "metadata": {},
     "output_type": "execute_result"
    }
   ],
   "source": [
    "corpora[slug].tokenize('freak', simple_indexing = True)"
   ]
  },
  {
   "cell_type": "code",
   "execution_count": null,
   "metadata": {},
   "outputs": [
    {
     "data": {
      "text/html": [
       "<div><style>\n",
       ".dataframe > thead > tr,\n",
       ".dataframe > tbody > tr {\n",
       "  text-align: right;\n",
       "  white-space: pre-wrap;\n",
       "}\n",
       "</style>\n",
       "<table border=\"1\" class=\"dataframe\"><thead><tr><th>position</th><th>orth_index</th><th>lower_index</th><th>token2doc_index</th></tr></thead><tbody><tr><td>2324950</td><td>50562</td><td>50562</td><td>51507</td></tr><tr><td>2325012</td><td>50562</td><td>50562</td><td>51507</td></tr><tr><td>2838852</td><td>50562</td><td>50562</td><td>54017</td></tr><tr><td>2838883</td><td>50562</td><td>50562</td><td>54017</td></tr><tr><td>9726312</td><td>50562</td><td>50562</td><td>88273</td></tr><tr><td>10853770</td><td>50562</td><td>50562</td><td>93884</td></tr><tr><td>13981508</td><td>50562</td><td>50562</td><td>19340</td></tr><tr><td>16058463</td><td>50562</td><td>50562</td><td>29626</td></tr></tbody></table></div>"
      ],
      "text/plain": [
       "┌──────────┬────────────┬─────────────┬─────────────────┐\n",
       "│ position ┆ orth_index ┆ lower_index ┆ token2doc_index │\n",
       "╞══════════╪════════════╪═════════════╪═════════════════╡\n",
       "│ 2324950  ┆ 50562      ┆ 50562       ┆ 51507           │\n",
       "│ 2325012  ┆ 50562      ┆ 50562       ┆ 51507           │\n",
       "│ 2838852  ┆ 50562      ┆ 50562       ┆ 54017           │\n",
       "│ 2838883  ┆ 50562      ┆ 50562       ┆ 54017           │\n",
       "│ 9726312  ┆ 50562      ┆ 50562       ┆ 88273           │\n",
       "│ 10853770 ┆ 50562      ┆ 50562       ┆ 93884           │\n",
       "│ 13981508 ┆ 50562      ┆ 50562       ┆ 19340           │\n",
       "│ 16058463 ┆ 50562      ┆ 50562       ┆ 29626           │\n",
       "└──────────┴────────────┴─────────────┴─────────────────┘"
      ]
     },
     "execution_count": null,
     "metadata": {},
     "output_type": "execute_result"
    }
   ],
   "source": [
    "corpora[slug].tokens.with_row_index('position').filter(pl.col('lower_index') == 50562).head(21).collect()"
   ]
  },
  {
   "cell_type": "code",
   "execution_count": null,
   "metadata": {},
   "outputs": [],
   "source": [
    "build_df = pl.scan_parquet(f'{save_path}us-congressional-speeches-subset-100k.corpus/build_*.parquet',)"
   ]
  },
  {
   "cell_type": "code",
   "execution_count": null,
   "metadata": {},
   "outputs": [
    {
     "data": {
      "text/html": [
       "<div><style>\n",
       ".dataframe > thead > tr,\n",
       ".dataframe > tbody > tr {\n",
       "  text-align: right;\n",
       "  white-space: pre-wrap;\n",
       "}\n",
       "</style>\n",
       "<table border=\"1\" class=\"dataframe\"><thead><tr><th>orth_index</th><th>lower_index</th><th>token2doc_index</th></tr></thead><tbody><tr><td>50562</td><td>50562</td><td>51507</td></tr><tr><td>50562</td><td>50562</td><td>51507</td></tr><tr><td>50562</td><td>50562</td><td>54017</td></tr><tr><td>50562</td><td>50562</td><td>54017</td></tr><tr><td>50562</td><td>50562</td><td>88273</td></tr><tr><td>50562</td><td>50562</td><td>93884</td></tr><tr><td>50562</td><td>50562</td><td>19340</td></tr><tr><td>50562</td><td>50562</td><td>29626</td></tr></tbody></table></div>"
      ],
      "text/plain": [
       "┌────────────┬─────────────┬─────────────────┐\n",
       "│ orth_index ┆ lower_index ┆ token2doc_index │\n",
       "╞════════════╪═════════════╪═════════════════╡\n",
       "│ 50562      ┆ 50562       ┆ 51507           │\n",
       "│ 50562      ┆ 50562       ┆ 51507           │\n",
       "│ 50562      ┆ 50562       ┆ 54017           │\n",
       "│ 50562      ┆ 50562       ┆ 54017           │\n",
       "│ 50562      ┆ 50562       ┆ 88273           │\n",
       "│ 50562      ┆ 50562       ┆ 93884           │\n",
       "│ 50562      ┆ 50562       ┆ 19340           │\n",
       "│ 50562      ┆ 50562       ┆ 29626           │\n",
       "└────────────┴─────────────┴─────────────────┘"
      ]
     },
     "metadata": {},
     "output_type": "display_data"
    },
    {
     "data": {
      "text/html": [
       "<div><style>\n",
       ".dataframe > thead > tr,\n",
       ".dataframe > tbody > tr {\n",
       "  text-align: right;\n",
       "  white-space: pre-wrap;\n",
       "}\n",
       "</style>\n",
       "<table border=\"1\" class=\"dataframe\"><thead><tr><th>orth_index</th><th>lower_index</th><th>token2doc_index</th></tr></thead><tbody><tr><td>50562</td><td>50562</td><td>51507</td></tr><tr><td>50562</td><td>50562</td><td>51507</td></tr><tr><td>50562</td><td>50562</td><td>54017</td></tr><tr><td>50562</td><td>50562</td><td>54017</td></tr><tr><td>50562</td><td>50562</td><td>88273</td></tr><tr><td>50562</td><td>50562</td><td>93884</td></tr><tr><td>50562</td><td>50562</td><td>19340</td></tr><tr><td>50562</td><td>50562</td><td>29626</td></tr></tbody></table></div>"
      ],
      "text/plain": [
       "┌────────────┬─────────────┬─────────────────┐\n",
       "│ orth_index ┆ lower_index ┆ token2doc_index │\n",
       "╞════════════╪═════════════╪═════════════════╡\n",
       "│ 50562      ┆ 50562       ┆ 51507           │\n",
       "│ 50562      ┆ 50562       ┆ 51507           │\n",
       "│ 50562      ┆ 50562       ┆ 54017           │\n",
       "│ 50562      ┆ 50562       ┆ 54017           │\n",
       "│ 50562      ┆ 50562       ┆ 88273           │\n",
       "│ 50562      ┆ 50562       ┆ 93884           │\n",
       "│ 50562      ┆ 50562       ┆ 19340           │\n",
       "│ 50562      ┆ 50562       ┆ 29626           │\n",
       "└────────────┴─────────────┴─────────────────┘"
      ]
     },
     "metadata": {},
     "output_type": "display_data"
    }
   ],
   "source": [
    "input_df = pl.scan_parquet(f'{save_path}us-congressional-speeches-subset-100k.corpus/build_*.parquet',)\n",
    "# combining indexes to reindex\n",
    "combined_df = pl.concat([input_df.select(pl.col('orth_index').alias('index')), input_df.select(pl.col('lower_index').alias('index'))])\n",
    "\n",
    "input_length = input_df.select(pl.len()).collect(engine='streaming').item() # tested vs count - len seems to have slight memory overhead, but more correct (i.e. count only counts non-null)\n",
    "logger.memory_usage(f'got input length {input_length}')\n",
    "\n",
    "# get unique vocab ids (combining orth and lower) and create new index\n",
    "vocab_df  = combined_df.select(pl.col('index').unique().sort().alias('source_id')).with_row_index('token_id', offset=1) #.collect(engine='streaming')\n",
    "logger.memory_usage('collected vocab')\n",
    "\n",
    "# combined_df = (combined_df.with_columns(pl.col('index').replace(vocab_df.select(pl.col('source_id'))['source_id'], vocab_df.select(pl.col('token_id'))['token_id']).cast(pl.UInt32)))\n",
    "# combined_df = combined_df.with_columns(pl.col('index').cast(pl.UInt32))\n",
    "\n",
    "combined_df = (\n",
    "    combined_df\n",
    "    .join(vocab_df, left_on=\"index\", right_on=\"source_id\", how=\"left\", maintain_order=\"left\")\n",
    "    .drop(\"index\")\n",
    "    .rename({\"token_id\": \"index\"})\n",
    "    .with_columns(pl.col(\"index\").cast(pl.UInt32).alias(\"index\"))\n",
    ")\n",
    "\n",
    "tokens_df = pl.concat(\n",
    "                                [combined_df.select(pl.col('index').alias('orth_index')).slice(0, input_length), \n",
    "                                combined_df.select(pl.col('index').alias('lower_index')).slice(input_length),\n",
    "                                input_df.select(pl.col('token2doc_index'))], how='horizontal'\n",
    "                        )\n",
    "display(tokens_df.filter(pl.col('lower_index') == 50562).head(21).collect())\n",
    "tokens_df.collect().write_parquet(f'{save_path}us-congressional-speeches-subset-100k.corpus/tokens-test.parquet') #, maintain_order = True\n",
    "display(tokens_df.filter(pl.col('lower_index') == 50562).head(21).collect())"
   ]
  },
  {
   "cell_type": "code",
   "execution_count": null,
   "metadata": {},
   "outputs": [
    {
     "data": {
      "text/html": [
       "<div><style>\n",
       ".dataframe > thead > tr,\n",
       ".dataframe > tbody > tr {\n",
       "  text-align: right;\n",
       "  white-space: pre-wrap;\n",
       "}\n",
       "</style>\n",
       "<table border=\"1\" class=\"dataframe\"><thead><tr><th>orth_index</th><th>lower_index</th><th>token2doc_index</th></tr></thead><tbody><tr><td>50562</td><td>50562</td><td>51507</td></tr><tr><td>50562</td><td>50562</td><td>51507</td></tr><tr><td>50562</td><td>50562</td><td>54017</td></tr><tr><td>50562</td><td>50562</td><td>54017</td></tr><tr><td>50562</td><td>50562</td><td>88273</td></tr><tr><td>50562</td><td>50562</td><td>93884</td></tr><tr><td>50562</td><td>50562</td><td>19340</td></tr><tr><td>50562</td><td>50562</td><td>29626</td></tr></tbody></table></div>"
      ],
      "text/plain": [
       "┌────────────┬─────────────┬─────────────────┐\n",
       "│ orth_index ┆ lower_index ┆ token2doc_index │\n",
       "╞════════════╪═════════════╪═════════════════╡\n",
       "│ 50562      ┆ 50562       ┆ 51507           │\n",
       "│ 50562      ┆ 50562       ┆ 51507           │\n",
       "│ 50562      ┆ 50562       ┆ 54017           │\n",
       "│ 50562      ┆ 50562       ┆ 54017           │\n",
       "│ 50562      ┆ 50562       ┆ 88273           │\n",
       "│ 50562      ┆ 50562       ┆ 93884           │\n",
       "│ 50562      ┆ 50562       ┆ 19340           │\n",
       "│ 50562      ┆ 50562       ┆ 29626           │\n",
       "└────────────┴─────────────┴─────────────────┘"
      ]
     },
     "metadata": {},
     "output_type": "display_data"
    }
   ],
   "source": [
    "tokens_df = pl.read_parquet(f'{save_path}us-congressional-speeches-subset-100k.corpus/tokens-test.parquet',)\n",
    "display(tokens_df.filter(pl.col('lower_index') == 50562).head(21))"
   ]
  },
  {
   "cell_type": "code",
   "execution_count": null,
   "metadata": {},
   "outputs": [
    {
     "data": {
      "text/html": [
       "<div><style>\n",
       ".dataframe > thead > tr,\n",
       ".dataframe > tbody > tr {\n",
       "  text-align: right;\n",
       "  white-space: pre-wrap;\n",
       "}\n",
       "</style>\n",
       "<table border=\"1\" class=\"dataframe\"><thead><tr><th>orth_index</th><th>lower_index</th><th>token2doc_index</th></tr></thead><tbody><tr><td>3046352667721326977</td><td>3046352667721326977</td><td>51507</td></tr><tr><td>3046352667721326977</td><td>3046352667721326977</td><td>51507</td></tr><tr><td>3046352667721326977</td><td>3046352667721326977</td><td>54017</td></tr><tr><td>3046352667721326977</td><td>3046352667721326977</td><td>54017</td></tr><tr><td>3046352667721326977</td><td>3046352667721326977</td><td>88273</td></tr><tr><td>3046352667721326977</td><td>3046352667721326977</td><td>93884</td></tr><tr><td>3046352667721326977</td><td>3046352667721326977</td><td>19340</td></tr><tr><td>3046352667721326977</td><td>3046352667721326977</td><td>29626</td></tr></tbody></table></div>"
      ],
      "text/plain": [
       "┌─────────────────────┬─────────────────────┬─────────────────┐\n",
       "│ orth_index          ┆ lower_index         ┆ token2doc_index │\n",
       "╞═════════════════════╪═════════════════════╪═════════════════╡\n",
       "│ 3046352667721326977 ┆ 3046352667721326977 ┆ 51507           │\n",
       "│ 3046352667721326977 ┆ 3046352667721326977 ┆ 51507           │\n",
       "│ 3046352667721326977 ┆ 3046352667721326977 ┆ 54017           │\n",
       "│ 3046352667721326977 ┆ 3046352667721326977 ┆ 54017           │\n",
       "│ 3046352667721326977 ┆ 3046352667721326977 ┆ 88273           │\n",
       "│ 3046352667721326977 ┆ 3046352667721326977 ┆ 93884           │\n",
       "│ 3046352667721326977 ┆ 3046352667721326977 ┆ 19340           │\n",
       "│ 3046352667721326977 ┆ 3046352667721326977 ┆ 29626           │\n",
       "└─────────────────────┴─────────────────────┴─────────────────┘"
      ]
     },
     "execution_count": null,
     "metadata": {},
     "output_type": "execute_result"
    }
   ],
   "source": [
    "build_df.filter(pl.col('lower_index') == 3046352667721326977).head(100).collect()"
   ]
  },
  {
   "cell_type": "code",
   "execution_count": null,
   "metadata": {},
   "outputs": [
    {
     "data": {
      "text/plain": [
       "'freak'"
      ]
     },
     "execution_count": null,
     "metadata": {},
     "output_type": "execute_result"
    }
   ],
   "source": [
    "corpora[slug]._nlp.vocab[3046352667721326977].text"
   ]
  },
  {
   "cell_type": "code",
   "execution_count": null,
   "metadata": {},
   "outputs": [
    {
     "data": {
      "text/html": [
       "<div id=\"qnwxbcruko\" style=\"padding-left:0px;padding-right:0px;padding-top:10px;padding-bottom:10px;overflow-x:auto;overflow-y:auto;width:auto;height:auto;\">\n",
       "<style>\n",
       "#qnwxbcruko table {\n",
       "          font-family: -apple-system, BlinkMacSystemFont, 'Segoe UI', Roboto, Oxygen, Ubuntu, Cantarell, 'Helvetica Neue', 'Fira Sans', 'Droid Sans', Arial, sans-serif;\n",
       "          -webkit-font-smoothing: antialiased;\n",
       "          -moz-osx-font-smoothing: grayscale;\n",
       "        }\n",
       "\n",
       "#qnwxbcruko thead, tbody, tfoot, tr, td, th { border-style: none; }\n",
       " tr { background-color: transparent; }\n",
       "#qnwxbcruko p { margin: 0; padding: 0; }\n",
       " #qnwxbcruko .gt_table { display: table; border-collapse: collapse; line-height: normal; margin-left: 0; margin-right: auto; color: #333333; font-size: 16px; font-weight: normal; font-style: normal; background-color: #FFFFFF; width: auto; border-top-style: solid; border-top-width: 2px; border-top-color: #A8A8A8; border-right-style: none; border-right-width: 2px; border-right-color: #D3D3D3; border-bottom-style: solid; border-bottom-width: 2px; border-bottom-color: #A8A8A8; border-left-style: none; border-left-width: 2px; border-left-color: #D3D3D3; }\n",
       " #qnwxbcruko .gt_caption { padding-top: 4px; padding-bottom: 4px; }\n",
       " #qnwxbcruko .gt_title { color: #333333; font-size: 125%; font-weight: initial; padding-top: 4px; padding-bottom: 4px; padding-left: 5px; padding-right: 5px; border-bottom-color: #FFFFFF; border-bottom-width: 0; }\n",
       " #qnwxbcruko .gt_subtitle { color: #333333; font-size: 85%; font-weight: initial; padding-top: 3px; padding-bottom: 5px; padding-left: 5px; padding-right: 5px; border-top-color: #FFFFFF; border-top-width: 0; }\n",
       " #qnwxbcruko .gt_heading { background-color: #FFFFFF; text-align: center; border-bottom-color: #FFFFFF; border-left-style: none; border-left-width: 1px; border-left-color: #D3D3D3; border-right-style: none; border-right-width: 1px; border-right-color: #D3D3D3; }\n",
       " #qnwxbcruko .gt_bottom_border { border-bottom-style: solid; border-bottom-width: 2px; border-bottom-color: #D3D3D3; }\n",
       " #qnwxbcruko .gt_col_headings { border-top-style: solid; border-top-width: 2px; border-top-color: #D3D3D3; border-bottom-style: solid; border-bottom-width: 2px; border-bottom-color: #D3D3D3; border-left-style: none; border-left-width: 1px; border-left-color: #D3D3D3; border-right-style: none; border-right-width: 1px; border-right-color: #D3D3D3; }\n",
       " #qnwxbcruko .gt_col_heading { color: #333333; background-color: #FFFFFF; font-size: 100%; font-weight: normal; text-transform: inherit; border-left-style: none; border-left-width: 1px; border-left-color: #D3D3D3; border-right-style: none; border-right-width: 1px; border-right-color: #D3D3D3; vertical-align: bottom; padding-top: 5px; padding-bottom: 5px; padding-left: 5px; padding-right: 5px; overflow-x: hidden; }\n",
       " #qnwxbcruko .gt_column_spanner_outer { color: #333333; background-color: #FFFFFF; font-size: 100%; font-weight: normal; text-transform: inherit; padding-top: 0; padding-bottom: 0; padding-left: 4px; padding-right: 4px; }\n",
       " #qnwxbcruko .gt_column_spanner_outer:first-child { padding-left: 0; }\n",
       " #qnwxbcruko .gt_column_spanner_outer:last-child { padding-right: 0; }\n",
       " #qnwxbcruko .gt_column_spanner { border-bottom-style: solid; border-bottom-width: 2px; border-bottom-color: #D3D3D3; vertical-align: bottom; padding-top: 5px; padding-bottom: 5px; overflow-x: hidden; display: inline-block; width: 100%; }\n",
       " #qnwxbcruko .gt_spanner_row { border-bottom-style: hidden; }\n",
       " #qnwxbcruko .gt_group_heading { padding-top: 8px; padding-bottom: 8px; padding-left: 5px; padding-right: 5px; color: #333333; background-color: #FFFFFF; font-size: 100%; font-weight: initial; text-transform: inherit; border-top-style: solid; border-top-width: 2px; border-top-color: #D3D3D3; border-bottom-style: solid; border-bottom-width: 2px; border-bottom-color: #D3D3D3; border-left-style: none; border-left-width: 1px; border-left-color: #D3D3D3; border-right-style: none; border-right-width: 1px; border-right-color: #D3D3D3; vertical-align: middle; text-align: left; }\n",
       " #qnwxbcruko .gt_empty_group_heading { padding: 0.5px; color: #333333; background-color: #FFFFFF; font-size: 100%; font-weight: initial; border-top-style: solid; border-top-width: 2px; border-top-color: #D3D3D3; border-bottom-style: solid; border-bottom-width: 2px; border-bottom-color: #D3D3D3; vertical-align: middle; }\n",
       " #qnwxbcruko .gt_from_md> :first-child { margin-top: 0; }\n",
       " #qnwxbcruko .gt_from_md> :last-child { margin-bottom: 0; }\n",
       " #qnwxbcruko .gt_row { padding-top: 8px; padding-bottom: 8px; padding-left: 5px; padding-right: 5px; margin: 10px; border-top-style: solid; border-top-width: 1px; border-top-color: #D3D3D3; border-left-style: none; border-left-width: 1px; border-left-color: #D3D3D3; border-right-style: none; border-right-width: 1px; border-right-color: #D3D3D3; vertical-align: middle; overflow-x: hidden; }\n",
       " #qnwxbcruko .gt_stub { color: #333333; background-color: #FFFFFF; font-size: 100%; font-weight: initial; text-transform: inherit; border-right-style: solid; border-right-width: 2px; border-right-color: #D3D3D3; padding-left: 5px; padding-right: 5px; }\n",
       " #qnwxbcruko .gt_stub_row_group { color: #333333; background-color: #FFFFFF; font-size: 100%; font-weight: initial; text-transform: inherit; border-right-style: solid; border-right-width: 2px; border-right-color: #D3D3D3; padding-left: 5px; padding-right: 5px; vertical-align: top; }\n",
       " #qnwxbcruko .gt_row_group_first td { border-top-width: 2px; }\n",
       " #qnwxbcruko .gt_row_group_first th { border-top-width: 2px; }\n",
       " #qnwxbcruko .gt_striped { background-color: rgba(128,128,128,0.05); }\n",
       " #qnwxbcruko .gt_table_body { border-top-style: solid; border-top-width: 2px; border-top-color: #D3D3D3; border-bottom-style: solid; border-bottom-width: 2px; border-bottom-color: #D3D3D3; }\n",
       " #qnwxbcruko .gt_sourcenotes { color: #333333; background-color: #FFFFFF; border-bottom-style: none; border-bottom-width: 2px; border-bottom-color: #D3D3D3; border-left-style: none; border-left-width: 2px; border-left-color: #D3D3D3; border-right-style: none; border-right-width: 2px; border-right-color: #D3D3D3; }\n",
       " #qnwxbcruko .gt_sourcenote { font-size: 90%; padding-top: 4px; padding-bottom: 4px; padding-left: 5px; padding-right: 5px; text-align: left; }\n",
       " #qnwxbcruko .gt_left { text-align: left; }\n",
       " #qnwxbcruko .gt_center { text-align: center; }\n",
       " #qnwxbcruko .gt_right { text-align: right; font-variant-numeric: tabular-nums; }\n",
       " #qnwxbcruko .gt_font_normal { font-weight: normal; }\n",
       " #qnwxbcruko .gt_font_bold { font-weight: bold; }\n",
       " #qnwxbcruko .gt_font_italic { font-style: italic; }\n",
       " #qnwxbcruko .gt_super { font-size: 65%; }\n",
       " #qnwxbcruko .gt_footnote_marks { font-size: 75%; vertical-align: 0.4em; position: initial; }\n",
       " #qnwxbcruko .gt_asterisk { font-size: 100%; vertical-align: 0; }\n",
       " \n",
       "</style>\n",
       "<table class=\"gt_table\" data-quarto-disable-processing=\"false\" data-quarto-bootstrap=\"false\">\n",
       "<thead>\n",
       "\n",
       "  <tr class=\"gt_heading\">\n",
       "    <td colspan=\"2\" class=\"gt_heading gt_title gt_font_normal\">Corpus Summary</td>\n",
       "  </tr>\n",
       "  <tr class=\"gt_heading\">\n",
       "    <td colspan=\"2\" class=\"gt_heading gt_subtitle gt_font_normal gt_bottom_border\"></td>\n",
       "  </tr>\n",
       "<tr class=\"gt_col_headings\">\n",
       "  <th class=\"gt_col_heading gt_columns_bottom_border gt_left\" rowspan=\"1\" colspan=\"1\" scope=\"col\" id=\"Attribute\">Attribute</th>\n",
       "  <th class=\"gt_col_heading gt_columns_bottom_border gt_left\" rowspan=\"1\" colspan=\"1\" scope=\"col\" id=\"Value\">Value</th>\n",
       "</tr>\n",
       "</thead>\n",
       "<tbody class=\"gt_table_body\">\n",
       "  <tr>\n",
       "    <td class=\"gt_row gt_left\">Name</td>\n",
       "    <td class=\"gt_row gt_left\">US Congressional Speeches Subset 10k</td>\n",
       "  </tr>\n",
       "  <tr>\n",
       "    <td class=\"gt_row gt_left\">Description</td>\n",
       "    <td class=\"gt_row gt_left\"></td>\n",
       "  </tr>\n",
       "  <tr>\n",
       "    <td class=\"gt_row gt_left\">Date Created</td>\n",
       "    <td class=\"gt_row gt_left\">2025-05-30 00:53:09</td>\n",
       "  </tr>\n",
       "  <tr>\n",
       "    <td class=\"gt_row gt_left\">Conc Version</td>\n",
       "    <td class=\"gt_row gt_left\">0.0.1</td>\n",
       "  </tr>\n",
       "  <tr>\n",
       "    <td class=\"gt_row gt_left\">Corpus Path</td>\n",
       "    <td class=\"gt_row gt_left\">../test-corpora/saved/us-congressional-speeches-subset-10k.corpus</td>\n",
       "  </tr>\n",
       "  <tr>\n",
       "    <td class=\"gt_row gt_left\">Document Count</td>\n",
       "    <td class=\"gt_row gt_left\">10,000</td>\n",
       "  </tr>\n",
       "  <tr>\n",
       "    <td class=\"gt_row gt_left\">Token Count</td>\n",
       "    <td class=\"gt_row gt_left\">1,964,972</td>\n",
       "  </tr>\n",
       "  <tr>\n",
       "    <td class=\"gt_row gt_left\">Word Token Count</td>\n",
       "    <td class=\"gt_row gt_left\">1,767,904</td>\n",
       "  </tr>\n",
       "  <tr>\n",
       "    <td class=\"gt_row gt_left\">Unique Tokens</td>\n",
       "    <td class=\"gt_row gt_left\">50,641</td>\n",
       "  </tr>\n",
       "  <tr>\n",
       "    <td class=\"gt_row gt_left\">Unique Word Tokens</td>\n",
       "    <td class=\"gt_row gt_left\">50,520</td>\n",
       "  </tr>\n",
       "</tbody>\n",
       "\n",
       "\n",
       "</table>\n",
       "\n",
       "</div>\n",
       "        "
      ]
     },
     "metadata": {
      "text/html": {
       "text/html": {
        "isolated": true
       }
      }
     },
     "output_type": "display_data"
    },
    {
     "data": {
      "text/html": [
       "<div id=\"wvfrrbscmq\" style=\"padding-left:0px;padding-right:0px;padding-top:10px;padding-bottom:10px;overflow-x:auto;overflow-y:auto;width:auto;height:auto;\">\n",
       "<style>\n",
       "#wvfrrbscmq table {\n",
       "          font-family: -apple-system, BlinkMacSystemFont, 'Segoe UI', Roboto, Oxygen, Ubuntu, Cantarell, 'Helvetica Neue', 'Fira Sans', 'Droid Sans', Arial, sans-serif;\n",
       "          -webkit-font-smoothing: antialiased;\n",
       "          -moz-osx-font-smoothing: grayscale;\n",
       "        }\n",
       "\n",
       "#wvfrrbscmq thead, tbody, tfoot, tr, td, th { border-style: none; }\n",
       " tr { background-color: transparent; }\n",
       "#wvfrrbscmq p { margin: 0; padding: 0; }\n",
       " #wvfrrbscmq .gt_table { display: table; border-collapse: collapse; line-height: normal; margin-left: 0; margin-right: auto; color: #333333; font-size: 16px; font-weight: normal; font-style: normal; background-color: #FFFFFF; width: auto; border-top-style: solid; border-top-width: 2px; border-top-color: #A8A8A8; border-right-style: none; border-right-width: 2px; border-right-color: #D3D3D3; border-bottom-style: solid; border-bottom-width: 2px; border-bottom-color: #A8A8A8; border-left-style: none; border-left-width: 2px; border-left-color: #D3D3D3; }\n",
       " #wvfrrbscmq .gt_caption { padding-top: 4px; padding-bottom: 4px; }\n",
       " #wvfrrbscmq .gt_title { color: #333333; font-size: 125%; font-weight: initial; padding-top: 4px; padding-bottom: 4px; padding-left: 5px; padding-right: 5px; border-bottom-color: #FFFFFF; border-bottom-width: 0; }\n",
       " #wvfrrbscmq .gt_subtitle { color: #333333; font-size: 85%; font-weight: initial; padding-top: 3px; padding-bottom: 5px; padding-left: 5px; padding-right: 5px; border-top-color: #FFFFFF; border-top-width: 0; }\n",
       " #wvfrrbscmq .gt_heading { background-color: #FFFFFF; text-align: center; border-bottom-color: #FFFFFF; border-left-style: none; border-left-width: 1px; border-left-color: #D3D3D3; border-right-style: none; border-right-width: 1px; border-right-color: #D3D3D3; }\n",
       " #wvfrrbscmq .gt_bottom_border { border-bottom-style: solid; border-bottom-width: 2px; border-bottom-color: #D3D3D3; }\n",
       " #wvfrrbscmq .gt_col_headings { border-top-style: solid; border-top-width: 2px; border-top-color: #D3D3D3; border-bottom-style: solid; border-bottom-width: 2px; border-bottom-color: #D3D3D3; border-left-style: none; border-left-width: 1px; border-left-color: #D3D3D3; border-right-style: none; border-right-width: 1px; border-right-color: #D3D3D3; }\n",
       " #wvfrrbscmq .gt_col_heading { color: #333333; background-color: #FFFFFF; font-size: 100%; font-weight: normal; text-transform: inherit; border-left-style: none; border-left-width: 1px; border-left-color: #D3D3D3; border-right-style: none; border-right-width: 1px; border-right-color: #D3D3D3; vertical-align: bottom; padding-top: 5px; padding-bottom: 5px; padding-left: 5px; padding-right: 5px; overflow-x: hidden; }\n",
       " #wvfrrbscmq .gt_column_spanner_outer { color: #333333; background-color: #FFFFFF; font-size: 100%; font-weight: normal; text-transform: inherit; padding-top: 0; padding-bottom: 0; padding-left: 4px; padding-right: 4px; }\n",
       " #wvfrrbscmq .gt_column_spanner_outer:first-child { padding-left: 0; }\n",
       " #wvfrrbscmq .gt_column_spanner_outer:last-child { padding-right: 0; }\n",
       " #wvfrrbscmq .gt_column_spanner { border-bottom-style: solid; border-bottom-width: 2px; border-bottom-color: #D3D3D3; vertical-align: bottom; padding-top: 5px; padding-bottom: 5px; overflow-x: hidden; display: inline-block; width: 100%; }\n",
       " #wvfrrbscmq .gt_spanner_row { border-bottom-style: hidden; }\n",
       " #wvfrrbscmq .gt_group_heading { padding-top: 8px; padding-bottom: 8px; padding-left: 5px; padding-right: 5px; color: #333333; background-color: #FFFFFF; font-size: 100%; font-weight: initial; text-transform: inherit; border-top-style: solid; border-top-width: 2px; border-top-color: #D3D3D3; border-bottom-style: solid; border-bottom-width: 2px; border-bottom-color: #D3D3D3; border-left-style: none; border-left-width: 1px; border-left-color: #D3D3D3; border-right-style: none; border-right-width: 1px; border-right-color: #D3D3D3; vertical-align: middle; text-align: left; }\n",
       " #wvfrrbscmq .gt_empty_group_heading { padding: 0.5px; color: #333333; background-color: #FFFFFF; font-size: 100%; font-weight: initial; border-top-style: solid; border-top-width: 2px; border-top-color: #D3D3D3; border-bottom-style: solid; border-bottom-width: 2px; border-bottom-color: #D3D3D3; vertical-align: middle; }\n",
       " #wvfrrbscmq .gt_from_md> :first-child { margin-top: 0; }\n",
       " #wvfrrbscmq .gt_from_md> :last-child { margin-bottom: 0; }\n",
       " #wvfrrbscmq .gt_row { padding-top: 8px; padding-bottom: 8px; padding-left: 5px; padding-right: 5px; margin: 10px; border-top-style: solid; border-top-width: 1px; border-top-color: #D3D3D3; border-left-style: none; border-left-width: 1px; border-left-color: #D3D3D3; border-right-style: none; border-right-width: 1px; border-right-color: #D3D3D3; vertical-align: middle; overflow-x: hidden; }\n",
       " #wvfrrbscmq .gt_stub { color: #333333; background-color: #FFFFFF; font-size: 100%; font-weight: initial; text-transform: inherit; border-right-style: solid; border-right-width: 2px; border-right-color: #D3D3D3; padding-left: 5px; padding-right: 5px; }\n",
       " #wvfrrbscmq .gt_stub_row_group { color: #333333; background-color: #FFFFFF; font-size: 100%; font-weight: initial; text-transform: inherit; border-right-style: solid; border-right-width: 2px; border-right-color: #D3D3D3; padding-left: 5px; padding-right: 5px; vertical-align: top; }\n",
       " #wvfrrbscmq .gt_row_group_first td { border-top-width: 2px; }\n",
       " #wvfrrbscmq .gt_row_group_first th { border-top-width: 2px; }\n",
       " #wvfrrbscmq .gt_striped { background-color: rgba(128,128,128,0.05); }\n",
       " #wvfrrbscmq .gt_table_body { border-top-style: solid; border-top-width: 2px; border-top-color: #D3D3D3; border-bottom-style: solid; border-bottom-width: 2px; border-bottom-color: #D3D3D3; }\n",
       " #wvfrrbscmq .gt_sourcenotes { color: #333333; background-color: #FFFFFF; border-bottom-style: none; border-bottom-width: 2px; border-bottom-color: #D3D3D3; border-left-style: none; border-left-width: 2px; border-left-color: #D3D3D3; border-right-style: none; border-right-width: 2px; border-right-color: #D3D3D3; }\n",
       " #wvfrrbscmq .gt_sourcenote { font-size: 90%; padding-top: 4px; padding-bottom: 4px; padding-left: 5px; padding-right: 5px; text-align: left; }\n",
       " #wvfrrbscmq .gt_left { text-align: left; }\n",
       " #wvfrrbscmq .gt_center { text-align: center; }\n",
       " #wvfrrbscmq .gt_right { text-align: right; font-variant-numeric: tabular-nums; }\n",
       " #wvfrrbscmq .gt_font_normal { font-weight: normal; }\n",
       " #wvfrrbscmq .gt_font_bold { font-weight: bold; }\n",
       " #wvfrrbscmq .gt_font_italic { font-style: italic; }\n",
       " #wvfrrbscmq .gt_super { font-size: 65%; }\n",
       " #wvfrrbscmq .gt_footnote_marks { font-size: 75%; vertical-align: 0.4em; position: initial; }\n",
       " #wvfrrbscmq .gt_asterisk { font-size: 100%; vertical-align: 0; }\n",
       " \n",
       "</style>\n",
       "<table class=\"gt_table\" data-quarto-disable-processing=\"false\" data-quarto-bootstrap=\"false\">\n",
       "<thead>\n",
       "\n",
       "  <tr class=\"gt_heading\">\n",
       "    <td colspan=\"2\" class=\"gt_heading gt_title gt_font_normal\">Corpus Summary</td>\n",
       "  </tr>\n",
       "  <tr class=\"gt_heading\">\n",
       "    <td colspan=\"2\" class=\"gt_heading gt_subtitle gt_font_normal gt_bottom_border\"></td>\n",
       "  </tr>\n",
       "<tr class=\"gt_col_headings\">\n",
       "  <th class=\"gt_col_heading gt_columns_bottom_border gt_left\" rowspan=\"1\" colspan=\"1\" scope=\"col\" id=\"Attribute\">Attribute</th>\n",
       "  <th class=\"gt_col_heading gt_columns_bottom_border gt_left\" rowspan=\"1\" colspan=\"1\" scope=\"col\" id=\"Value\">Value</th>\n",
       "</tr>\n",
       "</thead>\n",
       "<tbody class=\"gt_table_body\">\n",
       "  <tr>\n",
       "    <td class=\"gt_row gt_left\">Name</td>\n",
       "    <td class=\"gt_row gt_left\">US Congressional Speeches Subset 100k</td>\n",
       "  </tr>\n",
       "  <tr>\n",
       "    <td class=\"gt_row gt_left\">Description</td>\n",
       "    <td class=\"gt_row gt_left\"></td>\n",
       "  </tr>\n",
       "  <tr>\n",
       "    <td class=\"gt_row gt_left\">Date Created</td>\n",
       "    <td class=\"gt_row gt_left\">2025-05-30 00:53:41</td>\n",
       "  </tr>\n",
       "  <tr>\n",
       "    <td class=\"gt_row gt_left\">Conc Version</td>\n",
       "    <td class=\"gt_row gt_left\">0.0.1</td>\n",
       "  </tr>\n",
       "  <tr>\n",
       "    <td class=\"gt_row gt_left\">Corpus Path</td>\n",
       "    <td class=\"gt_row gt_left\">../test-corpora/saved/us-congressional-speeches-subset-100k.corpus</td>\n",
       "  </tr>\n",
       "  <tr>\n",
       "    <td class=\"gt_row gt_left\">Document Count</td>\n",
       "    <td class=\"gt_row gt_left\">100,000</td>\n",
       "  </tr>\n",
       "  <tr>\n",
       "    <td class=\"gt_row gt_left\">Token Count</td>\n",
       "    <td class=\"gt_row gt_left\">20,027,241</td>\n",
       "  </tr>\n",
       "  <tr>\n",
       "    <td class=\"gt_row gt_left\">Word Token Count</td>\n",
       "    <td class=\"gt_row gt_left\">18,020,769</td>\n",
       "  </tr>\n",
       "  <tr>\n",
       "    <td class=\"gt_row gt_left\">Unique Tokens</td>\n",
       "    <td class=\"gt_row gt_left\">214,503</td>\n",
       "  </tr>\n",
       "  <tr>\n",
       "    <td class=\"gt_row gt_left\">Unique Word Tokens</td>\n",
       "    <td class=\"gt_row gt_left\">214,175</td>\n",
       "  </tr>\n",
       "</tbody>\n",
       "\n",
       "\n",
       "</table>\n",
       "\n",
       "</div>\n",
       "        "
      ]
     },
     "metadata": {
      "text/html": {
       "text/html": {
        "isolated": true
       }
      }
     },
     "output_type": "display_data"
    }
   ],
   "source": [
    "#| eval: false\n",
    "for slug, name in test_corpora.items():\n",
    "\ttry:\n",
    "\t\tcorpora[name] = Corpus().load(f'{save_path}{slug}.corpus')\n",
    "\t\tcorpora[name].summary()\n",
    "\texcept FileNotFoundError:\n",
    "\t\tset_logger_state('verbose')\n",
    "\t\tlogger.error(f'Corpus {name} not found in {save_path}.')\n",
    "\t\tset_logger_state('quiet')\n",
    "\t"
   ]
  },
  {
   "cell_type": "code",
   "execution_count": null,
   "metadata": {},
   "outputs": [],
   "source": [
    "# as a loop\n",
    "# for slug, name in test_corpora.items():\n",
    "#     %timeit corpora[slug] = Corpus().load(f'{save_path}{slug}.corpus')# "
   ]
  },
  {
   "cell_type": "code",
   "execution_count": null,
   "metadata": {},
   "outputs": [],
   "source": [
    "report = {}\n",
    "for name in test_corpora_names:\n",
    "    report[name] = Report(corpora[name])"
   ]
  },
  {
   "cell_type": "code",
   "execution_count": null,
   "metadata": {},
   "outputs": [
    {
     "name": "stdout",
     "output_type": "stream",
     "text": [
      "4.56 ms ± 376 μs per loop (mean ± std. dev. of 7 runs, 100 loops each)\n",
      "13.9 ms ± 169 μs per loop (mean ± std. dev. of 7 runs, 100 loops each)\n",
      "19.4 ms ± 183 μs per loop (mean ± std. dev. of 7 runs, 100 loops each)\n"
     ]
    }
   ],
   "source": [
    "for name in test_corpora_names:\n",
    "    %timeit report[name].frequencies(normalize_by=10000, page_size=10)"
   ]
  },
  {
   "cell_type": "code",
   "execution_count": null,
   "metadata": {},
   "outputs": [],
   "source": [
    "from conc.frequency import Frequency"
   ]
  },
  {
   "cell_type": "code",
   "execution_count": null,
   "metadata": {},
   "outputs": [],
   "source": [
    "report = {}\n",
    "for slug, name in test_corpora.items():\n",
    "    report[slug] = Frequency(corpora[slug])"
   ]
  },
  {
   "cell_type": "code",
   "execution_count": null,
   "metadata": {},
   "outputs": [],
   "source": [
    "set_logger_state('quiet')"
   ]
  },
  {
   "cell_type": "code",
   "execution_count": null,
   "metadata": {},
   "outputs": [
    {
     "name": "stdout",
     "output_type": "stream",
     "text": [
      "7.95 ms ± 155 μs per loop (mean ± std. dev. of 7 runs, 100 loops each)\n",
      "22.1 ms ± 394 μs per loop (mean ± std. dev. of 7 runs, 10 loops each)\n",
      "34.9 ms ± 340 μs per loop (mean ± std. dev. of 7 runs, 10 loops each)\n"
     ]
    }
   ],
   "source": [
    "for slug, name in test_corpora.items():\n",
    "    %timeit report[slug].frequencies(normalize_by=10000, page_size=10)"
   ]
  },
  {
   "cell_type": "code",
   "execution_count": null,
   "metadata": {},
   "outputs": [
    {
     "name": "stdout",
     "output_type": "stream",
     "text": [
      "714 μs ± 32.7 μs per loop (mean ± std. dev. of 7 runs, 1,000 loops each)\n",
      "11.2 ms ± 348 μs per loop (mean ± std. dev. of 7 runs, 100 loops each)\n",
      "23.6 ms ± 1.21 ms per loop (mean ± std. dev. of 7 runs, 1 loop each)\n"
     ]
    }
   ],
   "source": [
    "token_str = 'dog'\n",
    "use_cache = False\n",
    "for name in test_corpora_names:\n",
    "    %timeit report[name].ngrams(token_str, ngram_length = 2, ngram_word_position = 'LEFT', use_cache = use_cache)\n"
   ]
  },
  {
   "cell_type": "code",
   "execution_count": null,
   "metadata": {},
   "outputs": [
    {
     "name": "stdout",
     "output_type": "stream",
     "text": [
      "83.4 μs ± 544 ns per loop (mean ± std. dev. of 7 runs, 10,000 loops each)\n",
      "96.8 μs ± 405 ns per loop (mean ± std. dev. of 7 runs, 10,000 loops each)\n",
      "97.1 μs ± 383 ns per loop (mean ± std. dev. of 7 runs, 10,000 loops each)\n"
     ]
    }
   ],
   "source": [
    "token_str = 'dog'\n",
    "use_cache = True\n",
    "for name in test_corpora_names:\n",
    "    report[name].ngrams(token_str, ngram_length = 2, ngram_word_position = 'LEFT', use_cache = use_cache) # warm up\n",
    "    %timeit report[name].ngrams(token_str, ngram_length = 2, ngram_word_position = 'LEFT', use_cache = use_cache)"
   ]
  },
  {
   "cell_type": "code",
   "execution_count": null,
   "metadata": {},
   "outputs": [
    {
     "name": "stdout",
     "output_type": "stream",
     "text": [
      "7.44 ms ± 121 μs per loop (mean ± std. dev. of 7 runs, 100 loops each)\n",
      "84.5 ms ± 1.15 ms per loop (mean ± std. dev. of 7 runs, 10 loops each)\n",
      "176 ms ± 902 μs per loop (mean ± std. dev. of 7 runs, 10 loops each)\n"
     ]
    }
   ],
   "source": [
    "token_str = 'the'\n",
    "use_cache = False\n",
    "for name in test_corpora_names:\n",
    "    %timeit report[name].ngrams(token_str, ngram_length = 2, ngram_word_position = 'LEFT', use_cache = use_cache)\n"
   ]
  },
  {
   "cell_type": "code",
   "execution_count": null,
   "metadata": {},
   "outputs": [
    {
     "name": "stdout",
     "output_type": "stream",
     "text": [
      "83.1 μs ± 545 ns per loop (mean ± std. dev. of 7 runs, 10,000 loops each)\n",
      "89.4 μs ± 1.49 μs per loop (mean ± std. dev. of 7 runs, 10,000 loops each)\n",
      "87.3 μs ± 214 ns per loop (mean ± std. dev. of 7 runs, 10,000 loops each)\n"
     ]
    }
   ],
   "source": [
    "token_str = 'the'\n",
    "use_cache = True\n",
    "for name in test_corpora_names:\n",
    "    report[name].ngrams(token_str, ngram_length = 2, ngram_word_position = 'LEFT', use_cache = use_cache) # warm up\n",
    "    %timeit report[name].ngrams(token_str, ngram_length = 2, ngram_word_position = 'LEFT', use_cache = use_cache)"
   ]
  },
  {
   "cell_type": "code",
   "execution_count": null,
   "metadata": {},
   "outputs": [
    {
     "name": "stdout",
     "output_type": "stream",
     "text": [
      "2.99 ms ± 241 μs per loop (mean ± std. dev. of 7 runs, 100 loops each)\n",
      "14 ms ± 401 μs per loop (mean ± std. dev. of 7 runs, 1 loop each)\n",
      "25.9 ms ± 697 μs per loop (mean ± std. dev. of 7 runs, 1 loop each)\n"
     ]
    }
   ],
   "source": [
    "use_cache = False\n",
    "token_str = 'dog'\n",
    "for name in test_corpora_names:\n",
    "    %timeit report[name].concordance(token_str, context_words = 5, order='1L2L3L', use_cache = use_cache)"
   ]
  },
  {
   "cell_type": "code",
   "execution_count": null,
   "metadata": {},
   "outputs": [
    {
     "name": "stdout",
     "output_type": "stream",
     "text": [
      "1.98 ms ± 32 μs per loop (mean ± std. dev. of 7 runs, 100 loops each)\n",
      "2.26 ms ± 158 μs per loop (mean ± std. dev. of 7 runs, 100 loops each)\n",
      "2.5 ms ± 19 μs per loop (mean ± std. dev. of 7 runs, 100 loops each)\n"
     ]
    }
   ],
   "source": [
    "use_cache = True\n",
    "token_str = 'dog'\n",
    "for name in test_corpora_names:\n",
    "    report[name].concordance(token_str, context_words = 5, order='1L2L3L', use_cache = use_cache) # warm up\n",
    "    %timeit report[name].concordance(token_str, context_words = 5, order='1L2L3L', use_cache = use_cache)\n"
   ]
  },
  {
   "cell_type": "code",
   "execution_count": null,
   "metadata": {},
   "outputs": [
    {
     "name": "stdout",
     "output_type": "stream",
     "text": [
      "16.4 ms ± 251 μs per loop (mean ± std. dev. of 7 runs, 100 loops each)\n",
      "102 ms ± 2.65 ms per loop (mean ± std. dev. of 7 runs, 10 loops each)\n",
      "214 ms ± 10.2 ms per loop (mean ± std. dev. of 7 runs, 1 loop each)\n"
     ]
    }
   ],
   "source": [
    "use_cache = False\n",
    "token_str = 'the'\n",
    "for name in test_corpora_names:\n",
    "    %timeit report[name].concordance(token_str, context_words = 5, order='1L2L3L', use_cache = use_cache)\n"
   ]
  },
  {
   "cell_type": "code",
   "execution_count": null,
   "metadata": {},
   "outputs": [
    {
     "name": "stdout",
     "output_type": "stream",
     "text": [
      "2.42 ms ± 59.5 μs per loop (mean ± std. dev. of 7 runs, 100 loops each)\n",
      "3.35 ms ± 148 μs per loop (mean ± std. dev. of 7 runs, 100 loops each)\n",
      "4.23 ms ± 157 μs per loop (mean ± std. dev. of 7 runs, 100 loops each)\n"
     ]
    }
   ],
   "source": [
    "use_cache = True\n",
    "token_str = 'the'\n",
    "for name in test_corpora_names:\n",
    "    report[name].concordance(token_str, context_words = 5, order='1L2L3L', use_cache = use_cache) # warm up\n",
    "    %timeit report[name].concordance(token_str, context_words = 5, order='1L2L3L', use_cache = use_cache)\n"
   ]
  },
  {
   "cell_type": "code",
   "execution_count": null,
   "metadata": {},
   "outputs": [],
   "source": [
    "# reclaim space!\n",
    "for name in test_corpora_names:\n",
    "\tif os.path.exists(f'{save_path}{name}.corpus'):\n",
    "\t\tos.remove(f'{save_path}{name}.corpus')"
   ]
  },
  {
   "cell_type": "code",
   "execution_count": null,
   "metadata": {},
   "outputs": [],
   "source": []
  },
  {
   "cell_type": "code",
   "execution_count": null,
   "metadata": {},
   "outputs": [],
   "source": []
  }
 ],
 "metadata": {
  "kernelspec": {
   "display_name": "python3",
   "language": "python",
   "name": "python3"
  }
 },
 "nbformat": 4,
 "nbformat_minor": 2
}
