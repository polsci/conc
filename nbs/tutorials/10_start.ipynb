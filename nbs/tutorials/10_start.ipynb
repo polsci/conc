{
 "cells": [
  {
   "cell_type": "markdown",
   "metadata": {},
   "source": [
    "# Get Started with Conc\n",
    "\n",
    "> Installed Conc? The getting started guide steps you through building and loading corpora and introduces how to use Conc for analysis.\n",
    "- toc: false\n",
    "- page-layout: full"
   ]
  },
  {
   "cell_type": "markdown",
   "metadata": {},
   "source": [
    "This is a quick, no-frills introduction to using Conc. You can skip part 1 if you already have some data you want to work with.  "
   ]
  },
  {
   "cell_type": "markdown",
   "metadata": {},
   "source": [
    "## 1. Get some sample texts\n",
    "\n",
    "For this getting started guide I'm going to use the example of a collection of short stories from Katherine Mansfield's *The Garden Party* as sample texts. This corpus is available as a zip file of text files and can be downloaded via the [conc.corpora submodule](https://geoffford.nz/conc/api/corpora.html#get_garden_party). First, we will import the function from conc.corpora to get the sample data.   "
   ]
  },
  {
   "cell_type": "code",
   "execution_count": null,
   "metadata": {},
   "outputs": [],
   "source": [
    "import os\n",
    "from conc.corpora import get_garden_party"
   ]
  },
  {
   "cell_type": "markdown",
   "metadata": {},
   "source": [
    "Now we define where we want the data to be stored (`source_path`) and where we want the corpus to be saved (`save_path`). When the corpus is built it will be saved in a new directory in `save_path`. Note: the os.environ.get in the paths below are not required. You can specify paths directly as strings (e.g. /some/path/).  "
   ]
  },
  {
   "cell_type": "code",
   "execution_count": null,
   "metadata": {},
   "outputs": [],
   "source": [
    "source_path = f'{os.environ.get(\"HOME\")}/data/'  \n",
    "save_path = f'{os.environ.get(\"HOME\")}/data/conc-test-corpora/' "
   ]
  },
  {
   "cell_type": "markdown",
   "metadata": {},
   "source": [
    "Now we download the data. This will create the source_path directory defined above if it is not already there (and it is somewhere your user can write).  "
   ]
  },
  {
   "cell_type": "code",
   "execution_count": null,
   "metadata": {},
   "outputs": [],
   "source": [
    "get_garden_party(source_path=source_path)"
   ]
  },
  {
   "cell_type": "markdown",
   "metadata": {},
   "source": [
    "## 2. Build the corpus"
   ]
  },
  {
   "cell_type": "markdown",
   "metadata": {},
   "source": [
    "You can currently build a Conc corpus from:  \n",
    "\n",
    "* a directory of text files or a .zip/.tar/.tar.gz containing text files (`Corpus.build_from_files`)  \n",
    "* a .csv file (or .csv.gz file) with a column containing your text (`Corpus.build_from_csv`) \n",
    "\n",
    "More source types will be added in the future, but lots of data can be wrangled into these formats.  \n",
    "\n",
    "Both methods support importing metadata. See the documentation links above for more details.   \n",
    "\n",
    "For information on the Conc corpus format, see the [Anatomy of a Conc Corpus](https://geoffford.nz/conc/explanations/anatomy.html).  "
   ]
  },
  {
   "cell_type": "markdown",
   "metadata": {},
   "source": [
    "The following code imports the `Corpus` class from `conc.corpus`."
   ]
  },
  {
   "cell_type": "code",
   "execution_count": null,
   "metadata": {},
   "outputs": [],
   "source": [
    "from conc.corpus import Corpus"
   ]
  },
  {
   "cell_type": "markdown",
   "metadata": {},
   "source": [
    "The following line creates a Corpus, gives it a name and description, and builds it from the Garden Party source files.  \n",
    "\n",
    "Remember, a new directory for your corpus will be created in `save_path`. The name of that directory is a slugified version of the name you pass in. For the Garden Party Corpus, the directory garden-party.corpus will be created. The folder name can be changed later if you want. You can distribute your corpus by sharing the directory and its contents.  \n",
    "\n",
    "The build process time depends on the size of your corpus. The build process produces a corpus format that is quick to load and use. In this case, the corpus is small and it is done in a couple of seconds even on a old, slow computer.       "
   ]
  },
  {
   "cell_type": "code",
   "execution_count": null,
   "metadata": {},
   "outputs": [],
   "source": [
    "name = 'Garden Party Corpus'\n",
    "description = 'A corpus of short stories from The Garden Party: and Other Stories by Katherine Mansfield. Texts downloaded from Project Gutenberg https://gutenberg.org/ and are in the public domain. The text files contain the short story without the title. https://github.com/ucdh/scraping-garden-party'\n",
    "source_file = 'garden-party-corpus.zip'\n",
    "\n",
    "corpus = Corpus(name=name, description=description).build_from_files(source_path = f'{source_path}{source_file}', save_path = save_path)"
   ]
  },
  {
   "cell_type": "markdown",
   "metadata": {},
   "source": [
    "To get information on the corpus, including various summary counts and information on the path of the corpus, you can use the `Corpus.summary` method.  "
   ]
  },
  {
   "cell_type": "code",
   "execution_count": null,
   "metadata": {},
   "outputs": [
    {
     "data": {
      "text/html": [
       "<div id=\"cxmtzwnelj\" style=\"padding-left:0px;padding-right:0px;padding-top:10px;padding-bottom:10px;overflow-x:auto;overflow-y:auto;width:auto;height:auto;\">\n",
       "<style>\n",
       "#cxmtzwnelj table {\n",
       "          font-family: -apple-system, BlinkMacSystemFont, 'Segoe UI', Roboto, Oxygen, Ubuntu, Cantarell, 'Helvetica Neue', 'Fira Sans', 'Droid Sans', Arial, sans-serif;\n",
       "          -webkit-font-smoothing: antialiased;\n",
       "          -moz-osx-font-smoothing: grayscale;\n",
       "        }\n",
       "\n",
       "#cxmtzwnelj thead, tbody, tfoot, tr, td, th { border-style: none; }\n",
       " tr { background-color: transparent; }\n",
       "#cxmtzwnelj p { margin: 0; padding: 0; }\n",
       " #cxmtzwnelj .gt_table { display: table; border-collapse: collapse; line-height: normal; margin-left: 0; margin-right: auto; color: #333333; font-size: 16px; font-weight: normal; font-style: normal; background-color: #FFFFFF; width: auto; border-top-style: solid; border-top-width: 2px; border-top-color: #A8A8A8; border-right-style: none; border-right-width: 2px; border-right-color: #D3D3D3; border-bottom-style: solid; border-bottom-width: 2px; border-bottom-color: #A8A8A8; border-left-style: none; border-left-width: 2px; border-left-color: #D3D3D3; }\n",
       " #cxmtzwnelj .gt_caption { padding-top: 4px; padding-bottom: 4px; }\n",
       " #cxmtzwnelj .gt_title { color: #333333; font-size: 125%; font-weight: initial; padding-top: 4px; padding-bottom: 4px; padding-left: 5px; padding-right: 5px; border-bottom-color: #FFFFFF; border-bottom-width: 0; }\n",
       " #cxmtzwnelj .gt_subtitle { color: #333333; font-size: 85%; font-weight: initial; padding-top: 3px; padding-bottom: 5px; padding-left: 5px; padding-right: 5px; border-top-color: #FFFFFF; border-top-width: 0; }\n",
       " #cxmtzwnelj .gt_heading { background-color: #FFFFFF; text-align: center; border-bottom-color: #FFFFFF; border-left-style: none; border-left-width: 1px; border-left-color: #D3D3D3; border-right-style: none; border-right-width: 1px; border-right-color: #D3D3D3; }\n",
       " #cxmtzwnelj .gt_bottom_border { border-bottom-style: solid; border-bottom-width: 2px; border-bottom-color: #D3D3D3; }\n",
       " #cxmtzwnelj .gt_col_headings { border-top-style: solid; border-top-width: 2px; border-top-color: #D3D3D3; border-bottom-style: solid; border-bottom-width: 2px; border-bottom-color: #D3D3D3; border-left-style: none; border-left-width: 1px; border-left-color: #D3D3D3; border-right-style: none; border-right-width: 1px; border-right-color: #D3D3D3; }\n",
       " #cxmtzwnelj .gt_col_heading { color: #333333; background-color: #FFFFFF; font-size: 100%; font-weight: normal; text-transform: inherit; border-left-style: none; border-left-width: 1px; border-left-color: #D3D3D3; border-right-style: none; border-right-width: 1px; border-right-color: #D3D3D3; vertical-align: bottom; padding-top: 5px; padding-bottom: 5px; padding-left: 5px; padding-right: 5px; overflow-x: hidden; }\n",
       " #cxmtzwnelj .gt_column_spanner_outer { color: #333333; background-color: #FFFFFF; font-size: 100%; font-weight: normal; text-transform: inherit; padding-top: 0; padding-bottom: 0; padding-left: 4px; padding-right: 4px; }\n",
       " #cxmtzwnelj .gt_column_spanner_outer:first-child { padding-left: 0; }\n",
       " #cxmtzwnelj .gt_column_spanner_outer:last-child { padding-right: 0; }\n",
       " #cxmtzwnelj .gt_column_spanner { border-bottom-style: solid; border-bottom-width: 2px; border-bottom-color: #D3D3D3; vertical-align: bottom; padding-top: 5px; padding-bottom: 5px; overflow-x: hidden; display: inline-block; width: 100%; }\n",
       " #cxmtzwnelj .gt_spanner_row { border-bottom-style: hidden; }\n",
       " #cxmtzwnelj .gt_group_heading { padding-top: 8px; padding-bottom: 8px; padding-left: 5px; padding-right: 5px; color: #333333; background-color: #FFFFFF; font-size: 100%; font-weight: initial; text-transform: inherit; border-top-style: solid; border-top-width: 2px; border-top-color: #D3D3D3; border-bottom-style: solid; border-bottom-width: 2px; border-bottom-color: #D3D3D3; border-left-style: none; border-left-width: 1px; border-left-color: #D3D3D3; border-right-style: none; border-right-width: 1px; border-right-color: #D3D3D3; vertical-align: middle; text-align: left; }\n",
       " #cxmtzwnelj .gt_empty_group_heading { padding: 0.5px; color: #333333; background-color: #FFFFFF; font-size: 100%; font-weight: initial; border-top-style: solid; border-top-width: 2px; border-top-color: #D3D3D3; border-bottom-style: solid; border-bottom-width: 2px; border-bottom-color: #D3D3D3; vertical-align: middle; }\n",
       " #cxmtzwnelj .gt_from_md> :first-child { margin-top: 0; }\n",
       " #cxmtzwnelj .gt_from_md> :last-child { margin-bottom: 0; }\n",
       " #cxmtzwnelj .gt_row { padding-top: 8px; padding-bottom: 8px; padding-left: 5px; padding-right: 5px; margin: 10px; border-top-style: solid; border-top-width: 1px; border-top-color: #D3D3D3; border-left-style: none; border-left-width: 1px; border-left-color: #D3D3D3; border-right-style: none; border-right-width: 1px; border-right-color: #D3D3D3; vertical-align: middle; overflow-x: hidden; }\n",
       " #cxmtzwnelj .gt_stub { color: #333333; background-color: #FFFFFF; font-size: 100%; font-weight: initial; text-transform: inherit; border-right-style: solid; border-right-width: 2px; border-right-color: #D3D3D3; padding-left: 5px; padding-right: 5px; }\n",
       " #cxmtzwnelj .gt_stub_row_group { color: #333333; background-color: #FFFFFF; font-size: 100%; font-weight: initial; text-transform: inherit; border-right-style: solid; border-right-width: 2px; border-right-color: #D3D3D3; padding-left: 5px; padding-right: 5px; vertical-align: top; }\n",
       " #cxmtzwnelj .gt_row_group_first td { border-top-width: 2px; }\n",
       " #cxmtzwnelj .gt_row_group_first th { border-top-width: 2px; }\n",
       " #cxmtzwnelj .gt_striped { background-color: rgba(128,128,128,0.05); }\n",
       " #cxmtzwnelj .gt_table_body { border-top-style: solid; border-top-width: 2px; border-top-color: #D3D3D3; border-bottom-style: solid; border-bottom-width: 2px; border-bottom-color: #D3D3D3; }\n",
       " #cxmtzwnelj .gt_sourcenotes { color: #333333; background-color: #FFFFFF; border-bottom-style: none; border-bottom-width: 2px; border-bottom-color: #D3D3D3; border-left-style: none; border-left-width: 2px; border-left-color: #D3D3D3; border-right-style: none; border-right-width: 2px; border-right-color: #D3D3D3; }\n",
       " #cxmtzwnelj .gt_sourcenote { font-size: 90%; padding-top: 4px; padding-bottom: 4px; padding-left: 5px; padding-right: 5px; text-align: left; }\n",
       " #cxmtzwnelj .gt_left { text-align: left; }\n",
       " #cxmtzwnelj .gt_center { text-align: center; }\n",
       " #cxmtzwnelj .gt_right { text-align: right; font-variant-numeric: tabular-nums; }\n",
       " #cxmtzwnelj .gt_font_normal { font-weight: normal; }\n",
       " #cxmtzwnelj .gt_font_bold { font-weight: bold; }\n",
       " #cxmtzwnelj .gt_font_italic { font-style: italic; }\n",
       " #cxmtzwnelj .gt_super { font-size: 65%; }\n",
       " #cxmtzwnelj .gt_footnote_marks { font-size: 75%; vertical-align: 0.4em; position: initial; }\n",
       " #cxmtzwnelj .gt_asterisk { font-size: 100%; vertical-align: 0; }\n",
       " \n",
       "</style>\n",
       "<table class=\"gt_table\" data-quarto-disable-processing=\"false\" data-quarto-bootstrap=\"false\">\n",
       "<thead>\n",
       "\n",
       "  <tr class=\"gt_heading\">\n",
       "    <td colspan=\"2\" class=\"gt_heading gt_title gt_font_normal\">Corpus Summary</td>\n",
       "  </tr>\n",
       "  <tr class=\"gt_heading\">\n",
       "    <td colspan=\"2\" class=\"gt_heading gt_subtitle gt_font_normal gt_bottom_border\"></td>\n",
       "  </tr>\n",
       "<tr class=\"gt_col_headings\">\n",
       "  <th class=\"gt_col_heading gt_columns_bottom_border gt_left\" rowspan=\"1\" colspan=\"1\" scope=\"col\" id=\"Attribute\">Attribute</th>\n",
       "  <th class=\"gt_col_heading gt_columns_bottom_border gt_left\" rowspan=\"1\" colspan=\"1\" scope=\"col\" id=\"Value\">Value</th>\n",
       "</tr>\n",
       "</thead>\n",
       "<tbody class=\"gt_table_body\">\n",
       "  <tr>\n",
       "    <td class=\"gt_row gt_left\">Name</td>\n",
       "    <td class=\"gt_row gt_left\">Garden Party Corpus</td>\n",
       "  </tr>\n",
       "  <tr>\n",
       "    <td class=\"gt_row gt_left\">Description</td>\n",
       "    <td class=\"gt_row gt_left\">A corpus of short stories from The Garden Party: and Other Stories by Katherine Mansfield. Texts downloaded from Project Gutenberg https://gutenberg.org/ and are in the public domain. The text files contain the short story without the title. https://github.com/ucdh/scraping-garden-party</td>\n",
       "  </tr>\n",
       "  <tr>\n",
       "    <td class=\"gt_row gt_left\">Date Created</td>\n",
       "    <td class=\"gt_row gt_left\">2025-06-17 14:47:22</td>\n",
       "  </tr>\n",
       "  <tr>\n",
       "    <td class=\"gt_row gt_left\">Conc Version</td>\n",
       "    <td class=\"gt_row gt_left\">0.1.3</td>\n",
       "  </tr>\n",
       "  <tr>\n",
       "    <td class=\"gt_row gt_left\">Corpus Path</td>\n",
       "    <td class=\"gt_row gt_left\">/home/geoff/data/conc-test-corpora/garden-party.corpus</td>\n",
       "  </tr>\n",
       "  <tr>\n",
       "    <td class=\"gt_row gt_left\">Document Count</td>\n",
       "    <td class=\"gt_row gt_left\">15</td>\n",
       "  </tr>\n",
       "  <tr>\n",
       "    <td class=\"gt_row gt_left\">Token Count</td>\n",
       "    <td class=\"gt_row gt_left\">74,664</td>\n",
       "  </tr>\n",
       "  <tr>\n",
       "    <td class=\"gt_row gt_left\">Word Token Count</td>\n",
       "    <td class=\"gt_row gt_left\">63,311</td>\n",
       "  </tr>\n",
       "  <tr>\n",
       "    <td class=\"gt_row gt_left\">Unique Tokens</td>\n",
       "    <td class=\"gt_row gt_left\">5,410</td>\n",
       "  </tr>\n",
       "  <tr>\n",
       "    <td class=\"gt_row gt_left\">Unique Word Tokens</td>\n",
       "    <td class=\"gt_row gt_left\">5,398</td>\n",
       "  </tr>\n",
       "</tbody>\n",
       "\n",
       "\n",
       "</table>\n",
       "\n",
       "</div>\n",
       "        "
      ]
     },
     "metadata": {
      "text/html": {
       "text/html": {
        "isolated": true
       }
      }
     },
     "output_type": "display_data"
    }
   ],
   "source": [
    "corpus.summary()"
   ]
  },
  {
   "cell_type": "markdown",
   "metadata": {},
   "source": [
    "## 3. Load a Conc corpus\n",
    "\n",
    "Here is how we can load the corpus we just build. We don't need to pass in a name and description, we just need the path to the corpus.  "
   ]
  },
  {
   "cell_type": "code",
   "execution_count": null,
   "metadata": {},
   "outputs": [],
   "source": [
    "corpus = Corpus().load(corpus_path=f'{save_path}garden-party.corpus')"
   ]
  },
  {
   "cell_type": "markdown",
   "metadata": {},
   "source": [
    "Let's check our corpus information again. We could use the summary method again here, but we can also access this information using the `Corpus.info` method. Here we include the `include_disk_usage` parameter to get additional information on how much disk space our corpus is using.   "
   ]
  },
  {
   "cell_type": "code",
   "execution_count": null,
   "metadata": {},
   "outputs": [
    {
     "name": "stdout",
     "output_type": "stream",
     "text": [
      "┌────────────────────────────┬───────────────────────────────────────────────────────────────────────────────────────────────────────────────────────────────────────────────────────────────────────────────────────────────────────────────────────────────────────────────────┐\n",
      "│ Attribute                  ┆ Value                                                                                                                                                                                                                                             │\n",
      "╞════════════════════════════╪═══════════════════════════════════════════════════════════════════════════════════════════════════════════════════════════════════════════════════════════════════════════════════════════════════════════════════════════════════════════════════╡\n",
      "│ Name                       ┆ Garden Party Corpus                                                                                                                                                                                                                               │\n",
      "│ Description                ┆ A corpus of short stories from The Garden Party: and Other Stories by Katherine Mansfield. Texts downloaded from Project Gutenberg https://gutenberg.org/ and are in the public domain. The text files contain the short story without the title. │\n",
      "│                            ┆ https://github.com/ucdh/scraping-garden-party                                                                                                                                                                                                     │\n",
      "│ Date Created               ┆ 2025-06-17 14:47:22                                                                                                                                                                                                                               │\n",
      "│ Conc Version               ┆ 0.1.3                                                                                                                                                                                                                                             │\n",
      "│ Corpus Path                ┆ /home/geoff/data/conc-test-corpora/garden-party.corpus                                                                                                                                                                                            │\n",
      "│ Document Count             ┆ 15                                                                                                                                                                                                                                                │\n",
      "│ Token Count                ┆ 74,664                                                                                                                                                                                                                                            │\n",
      "│ Word Token Count           ┆ 63,311                                                                                                                                                                                                                                            │\n",
      "│ Unique Tokens              ┆ 5,410                                                                                                                                                                                                                                             │\n",
      "│ Unique Word Tokens         ┆ 5,398                                                                                                                                                                                                                                             │\n",
      "│ Corpus Metadata (Mb)       ┆ 0.001                                                                                                                                                                                                                                             │\n",
      "│ Document Metadata (Mb)     ┆ 0.001                                                                                                                                                                                                                                             │\n",
      "│ Tokens (Mb)                ┆ 0.259                                                                                                                                                                                                                                             │\n",
      "│ Vocab (Mb)                 ┆ 0.073                                                                                                                                                                                                                                             │\n",
      "│ Punctuation Positions (Mb) ┆ 0.028                                                                                                                                                                                                                                             │\n",
      "│ Space Positions (Mb)       ┆ 0.017                                                                                                                                                                                                                                             │\n",
      "└────────────────────────────┴───────────────────────────────────────────────────────────────────────────────────────────────────────────────────────────────────────────────────────────────────────────────────────────────────────────────────────────────────────────────────┘\n"
     ]
    }
   ],
   "source": [
    "print(corpus.info(include_disk_usage=True))"
   ]
  },
  {
   "cell_type": "markdown",
   "metadata": {},
   "source": [
    "## 4. Using Conc"
   ]
  },
  {
   "cell_type": "markdown",
   "metadata": {},
   "source": [
    "To use the corpus we need to import the `Conc` class from `conc.conc`."
   ]
  },
  {
   "cell_type": "code",
   "execution_count": null,
   "metadata": {},
   "outputs": [],
   "source": [
    "from conc.conc import Conc"
   ]
  },
  {
   "cell_type": "markdown",
   "metadata": {},
   "source": [
    "The Conc class is the main interface for working with your corpus. It provides methods for a range of corpus analysis, including analysis of frequency, ngrams, concordances, collocates, and keyness. There are classes for all these different analyses, but the Conc class provides the most straightforward way to do analysis."
   ]
  },
  {
   "cell_type": "markdown",
   "metadata": {},
   "source": [
    "Here we instantiate a `Conc` object with the corpus just loaded. "
   ]
  },
  {
   "cell_type": "code",
   "execution_count": null,
   "metadata": {},
   "outputs": [],
   "source": [
    "conc = Conc(corpus=corpus)"
   ]
  },
  {
   "cell_type": "markdown",
   "metadata": {},
   "source": [
    "This getting started guide is a work-in-progress. Check out the [Conc code recipes](https://geoffford.nz/conc/tutorials/recipes.html) to see example code to generate Conc reports, as well as the tables or visualisations they create. More documentation on Conc reports will be available soon, but for now refer to [recipes](https://geoffford.nz/conc/tutorials/recipes.html) and [API reference](https://geoffford.nz/conc/api/conc.html). There are [API documentation pages](https://geoffford.nz/conc/api) for the main analysis types (e.g. concordancing, keyness analysis) with information on the various parameters available."
   ]
  },
  {
   "cell_type": "code",
   "execution_count": null,
   "metadata": {},
   "outputs": [
    {
     "data": {
      "text/html": [
       "<script>\n",
       "var eof_token = 5223;\n",
       "var page_size = 10;\n",
       "var append_info = true;\n",
       "var row_height = 60;\n",
       "var start_first_row_at = 30;\n",
       "var row_adjustment = 30;\n",
       "var default_font_size = 12;\n",
       "var subplot_height = 40;\n",
       "var plot_height = 610;\n",
       "var plot_x = 160;\n",
       "var label_x_right = 150;\n",
       "var docs = [{\"doc_id\":1,\"positions\":[1488,1491,1554,1558,1596,1610,1616,1690,1860,1878,1883,1892,1901,1919,2017,2054,2090,2094,2157,3100],\"count\":3174},{\"doc_id\":2,\"positions\":[967,974,2264,2319,2382,2400,2507,2669,2775,2779,2803,3291,3340,3351,3360,3471,3524,3549,3608,3611,3674,3689,3701,3719,3726,3747,3761,3795,3802,3814,3833,3855,3975,3986,4111,4124,4185,4302,4308,4318,5091,5170,5177,5224,5253,5323,5357,5372,5376,5413,5462,5476,5487,5527,5539,5550,5575,5581,5590,5603,5611,5634,5655,5672,5677,5687,5784,5843,5935,6018,6028,6143,6205,6226,6319,6337,6371,6407,6541,6599,6617,6625,6636,6646,6667,6728,6732,7000,7007,7108,7121,7127,7148,7227,7236,7317,7327,7418,7485,7598,7624,7633,7669,7679,7706,7720,7725,7759,7799,7808,7924,7993,8036,8073,8097,8878,8925,8942,8956,8997,9066,9157,9201,9294,9317,9326,9345,9354,9472,9482,9530,9538,9562,9569,9699,9736,9756,9765,9791,9812,9852,9928,9943,10022,10048,10361,10374,10530,10582,10728,10763,10768,10830,10941,11009,11103,11112,11156,11198,11215,11445,11458,11460,11474,11602,11620,11860,11878,11898,12042,12057,12271,12406,12471,12497,12504,12632,12790,13066,13382,13415,13427,13539,14576,14641,14664,14806,14812,14936,15257,15283,15650,15917,15920,15945,16195,16208,16258,16289,16316,16319,16397,16543,16546,16563,16650,16654,16657,16696,16715,16845,16869,16874,16924,16941],\"count\":17017},{\"doc_id\":3,\"positions\":[191,206,215,984,1215],\"count\":1573},{\"doc_id\":4,\"positions\":[79,159,229,239,298,303,308,331,339,425,440,536,596,608,644,664,682,687,807,809,853,870,891,921,929,1132,1201,1250,1258,1275,1315,1329,1354,1392,1471,1515,1543,1637,1663,1711,1735,1800,1816,1824,1843,2614,2710,2759,2867,2879,2893,3050,3274,3285,3320,3331,3535,3671,3690,3793,3799,3827,3831,3858,3865,3876,3940,3953,3961,3974,4081,4137,4146,4156,4195,4198,4238,4277,4303,4402,4460,4470,4505,4724,4788,4825,4868,4892,4910,5029,5053,5063,5248,5610,5614,5969,5990,6135,6186,6211,6277,6366,6402,6524,6542,6560,6707,6831,6905,6926,6940,6944,7013,7020,7042,7109,7120,7178,7257,7274,7303,7315,7392,7451,7474,7512,7533,7550,7566,7579,7595,7625,7633,7677,7683,7707,7868,7939,7946,7950,8029,8124,8208,8371,8521,8697,8702,8744,8748,8779,8809,8814,8826,8840,8848,8854,8933,8951,8964,8980,8993,9002,9030,9046,9191,9204],\"count\":9214},{\"doc_id\":5,\"positions\":[28,40,151,159,203,237,315,322,789,797,815,939,946,954,980,992,1040,1080,1154,1422,1613,1634,1680,1697,1776,1866,1889,1991,2038,2160,2174,2256,2496,2525,2545,2782,2870,2890,2916,3036,3054,3093,3104,3111,3119,3186,3195],\"count\":3202},{\"doc_id\":6,\"positions\":[41,54,68,185,212,291,303,344,364,376,508,542,600,770,849,896,917,934,953,971,987,1012,1019,1100,1113,1129,1135,1160,1170,1195,1199,1248,1274,1563,1567,1569,1590,1638,1648,1848,2266,2278,2310,2539,2562,2570,2581,2604,2620,2622,2629,2651,2674,2678,2685,2698,2721,2726,2730,2803,2816,2821,2859,2873,2962,2967,2976,2985,2989,3027,3046,3062,3074,3086,3105,3118,3138],\"count\":3178},{\"doc_id\":7,\"positions\":[307,388,783,982,997,1006,1226,1277,1282,1431,1676,1685,1696,1750,1916,1967,1982,2009,2024,2074,2099,2195,2251,2266,2523,2541,3323,3464,3625,3642,3646,3738,3758,3845,3853,4031,4271,4319,4332,4367,4386,4422,4502,4628,4634,4641,4657,4665,4684,4707,4722,4745,4764,4798,4809,4874,4879,4920,4992],\"count\":4997},{\"doc_id\":8,\"positions\":[32,109,231,250,266,282,287,403,462,473,548,555,562,584,626,631,640,646,648,1093,1148,1154,1208,1218,1229,1232,1288,1309,1324,1354,1380,1463,1468,1573,1589,1595,1606,1621,1653,1667,1683,1689,1698,1713,1745,1753,1954,1957,2001,2021,2028,2138,2151,2238,2303,2326,2358,2379,2396,2401,2403],\"count\":2407},{\"doc_id\":9,\"positions\":[128,187,449,486,525,539,560,629,632,696,770,916,918,922,940,1004,1012,1025,1139,1198,1224,1230,1825,1852,1892,1922,1955,1994,2117,2132,2138,2175,2195,2208,2244,2257,2344,2363,2370,2412,2476,2509,2660,2786,2791,2822,2834,2868,3025,3036,3058,3114,3144,3150,3164,3413,3417,3427,3566,3574,3585,3621,3828,3845,3906,4014,4032,4060,4137,4144,4361,4369],\"count\":4393},{\"doc_id\":10,\"positions\":[232,241,326,333,336,391,411,419,435,446,462,564,603,610,636,774,790,1030,1058,1075,1081,1092,1103,1120,1160,1222,1234,1239,1257,1264,1299,1380,1383,1389,1573,1636,1645,1650,1806,1958,1972,1996,2031,2048,2129,2144,2330,2363,2426,2431,2533,2610,2623,2906,3000,3317,3425,3570,3581,4008,4015,4042,4062,4149,4235,4256,4296,4300,4377,4384,4410,4436,4487,4505,4512,4538,4582,4603,4631,4633,4643,4648,4669,4717,4831,4854,5108,5437,5463,5476,5520,5545,5586,5670,5820,5835,5844,5846,5876,5887,5897,5993,5996,6043,6053,6099,6123,6132,6150,6192,6204,6246,6302,6361,6373,6422,6427,6510,6514,6577,6616,6627,6664,6691,6872,6899,6905,6914,6939,6984,6989,7017,7066,7069,7081,7094],\"count\":7118},{\"doc_id\":11,\"positions\":[71,90,230,242,288,312,361,437,534,551,556,570,572,577,583,591,620,628,674,715,721,731,752,1217,1227,1235,1360,2064,2072,2085,2129,2144,2192,2209,2232,2296,2312,2341,2357,2366,2660,2685],\"count\":2779},{\"doc_id\":12,\"positions\":[142,240,258,279,338,346,350,462,490,653,665,732,893,898,1041,1140,1541,1651,1715,1737,1739,1922,1946,1961,1971,1986,2048,2111,2178,2184,2209,2216,2290,2328,2331,2384,2446,2450,2579,2597,2609,2681],\"count\":2792},{\"doc_id\":13,\"positions\":[10,19,798,928,932,1166,1180,1200,1206,1216,1222,1632,1783,1820,1844,1868,1977,2018,2197,2236,2246,2265,2283,2346,2372,2413,2423,2511,2523,2570,2581,2637,2654,2745,2773,2933,2959,2981,3017,3032,3043,3069,3077,3121,3178,3203,3242,3258,3295,3441,3508,3548,3551,3561,3618,3711,4381,4396,4436,4444,4452,4622,4634,4650,4760,4852,4949,4954,5000,5027,5143,5167,5176,5331,5336,5350,5427,5505,5642,5815,5881],\"count\":5963},{\"doc_id\":14,\"positions\":[60,189,412,741,771,817,872,931,1122,1138,1154,1194,1217,1247,1397,1503,1577,1600,1632,1661,1701,1720,1735,1788,1833,1847,1860,1889,1972,2016,2055,2065,2102,2131,2152,2161,2195,2201,2215,2298,2300,2389,2395,2422,2426,2498,2504,2553,2574,2625,2645,2695,2769,2779,2951,3008,3012,3028,3099,3310,3328,3636,3645,3687,3750,3872,3956],\"count\":3963},{\"doc_id\":15,\"positions\":[70,100,183,216,443,447,453,491,499,506,553,564,633,669,720,730,761,766,781,820,833,845,889,969,1026,1050,1126,1150,1171,1238,1263,1286,1295,1310,1347,1360,1381,1404,1428,1442,1452,1488,1510,1574,1591,1600,1610,1712,1727,1745,1776,1819,1843,1925,1951,1963,1970,1983,2014,2064,2135,2269,2281,2310,2327,2352,2360,2377,2397,2411,2425,2478,2503,2522,2681,2696,2705,2739,2745,2794,2809],\"count\":2879}];\n",
       "var tokens = {\"4\":\"_\",\"7\":\"Where\",\"23\":\"wrist\",\"26\":\"alone\",\"28\":\"tell\",\"30\":\"whistle\",\"42\":\"please\",\"58\":\"morning\",\"61\":\"chin\",\"63\":\"fire\",\"69\":\"muttered\",\"76\":\"awful\",\"86\":\"making\",\"90\":\"ask\",\"95\":\"stopped\",\"97\":\"my\",\"98\":\"star\",\"103\":\"happy\",\"106\":\"umbrella\",\"111\":\"voice\",\"112\":\"bodice\",\"118\":\"sighted\",\"119\":\"lowered\",\"121\":\"let\",\"123\":\"Meg\",\"133\":\"stuttered\",\"134\":\"trembling\",\"139\":\"blushed\",\"142\":\"fixed\",\"148\":\"denying\",\"153\":\"fault\",\"155\":\"dashed\",\"159\":\"prove\",\"163\":\"here\",\"168\":\"For\",\"174\":\"lonely\",\"177\":\"anyone\",\"178\":\"not\",\"179\":\"Her\",\"181\":\"simply\",\"182\":\"curious\",\"188\":\"need\",\"197\":\"vaguely\",\"199\":\"timidly\",\"200\":\"remembered\",\"202\":\"Leila\",\"204\":\"beautiful\",\"206\":\"wharf\",\"222\":\"drawled\",\"233\":\"found\",\"236\":\"escaped\",\"238\":\"tore\",\"240\":\"’s\",\"247\":\";\",\"260\":\"glimpse\",\"264\":\"whom\",\"271\":\"shy\",\"273\":\"Good\",\"274\":\"watching\",\"279\":\"Josephine\",\"286\":\"child\",\"288\":\"returned\",\"294\":\"cut\",\"295\":\"finally\",\"297\":\"obeying\",\"299\":\"foot\",\"301\":\"cripple\",\"303\":\"brushed\",\"307\":\"Ellen\",\"308\":\"giggled\",\"318\":\"of\",\"319\":\"hearing\",\"323\":\"direction\",\"326\":\"thankful\",\"337\":\"hair\",\"347\":\"waited\",\"348\":\"madam\",\"349\":\"about\",\"351\":\"afternoon\",\"354\":\"changed\",\"358\":\"blinked\",\"364\":\"taps\",\"373\":\"while\",\"380\":\"Down\",\"385\":\"thoughtfully\",\"388\":\"position\",\"404\":\"boots\",\"406\":\"newspaper\",\"414\":\"other\",\"420\":\"pale\",\"428\":\"died\",\"432\":\"arched\",\"437\":\"told\",\"438\":\"immense\",\"443\":\"safely\",\"448\":\"drawer\",\"451\":\"sound\",\"465\":\"Twelve\",\"473\":\"getting\",\"475\":\"mammy\",\"485\":\"Grandma\",\"486\":\"whatever\",\"494\":\"threw\",\"499\":\"happened\",\"500\":\"everybody\",\"504\":\"wide\",\"507\":\"despised\",\"517\":\"flown\",\"520\":\"took\",\"530\":\"dismissed\",\"535\":\"fly\",\"537\":\"perhaps\",\"538\":\"plain\",\"539\":\"Of\",\"545\":\"tiny\",\"549\":\"hot\",\"552\":\"bounced\",\"554\":\"day\",\"558\":\"drag\",\"561\":\"listened\",\"566\":\"lip\",\"570\":\"surprisingly\",\"571\":\"he\",\"572\":\"terrified\",\"577\":\"allowed\",\"578\":\"Never\",\"582\":\"floated\",\"584\":\"expand\",\"587\":\"hands\",\"588\":\"He\",\"590\":\"contrary\",\"592\":\"out\",\"596\":\"world\",\"598\":\"clasped\",\"602\":\"boatmen\",\"603\":\"fingering\",\"605\":\"him\",\"606\":\"banged\",\"607\":\"rat\",\"612\":\"sorry\",\"625\":\"longing\",\"627\":\"bit\",\"633\":\"does\",\"639\":\"fast\",\"643\":\"legs\",\"653\":\"screamed\",\"666\":\"show\",\"675\":\"managed\",\"676\":\"much\",\"682\":\"hurried\",\"685\":\"unhooked\",\"686\":\"Dove\",\"689\":\"minded\",\"691\":\"this\",\"693\":\"brightly\",\"694\":\"watched\",\"695\":\"bright\",\"699\":\"get\",\"702\":\"longer\",\"703\":\"fall\",\"708\":\"watch\",\"711\":\"hugged\",\"715\":\"garden\",\"718\":\"breathed\",\"721\":\"there\",\"725\":\"bedroom\",\"733\":\"do\",\"734\":\"more\",\"736\":\"passed\",\"737\":\"filled\",\"738\":\"content\",\"748\":\"up\",\"749\":\"sensible\",\"750\":\"crucified\",\"765\":\"understand\",\"771\":\"wrapping\",\"772\":\"and\",\"783\":\"wanting\",\"791\":\"flicked\",\"792\":\"pinned\",\"797\":\"English\",\"809\":\"children\",\"816\":\"hook\",\"817\":\"Reggie\",\"824\":\"needle\",\"827\":\"lilies\",\"830\":\"thing\",\"838\":\"old\",\"840\":\"dramatically\",\"842\":\"plush\",\"850\":\"gasped\",\"857\":\"dreadful\",\"862\":\"fingers\",\"874\":\",\",\"883\":\"then\",\"888\":\"discovered\",\"889\":\"own\",\"892\":\"his\",\"895\":\"flat\",\"916\":\"shook\",\"918\":\"course\",\"919\":\"every\",\"920\":\"violin\",\"926\":\"did”—and\",\"930\":\"belt\",\"944\":\"stares\",\"951\":\"lover\",\"956\":\"wear\",\"972\":\"until\",\"991\":\"herself\",\"999\":\"sure\",\"1002\":\"in\",\"1005\":\"Beryl\",\"1037\":\"eye\",\"1040\":\"man\",\"1041\":\"apologetic\",\"1042\":\"teapot\",\"1043\":\"yourself\",\"1045\":\"cold\",\"1048\":\"called\",\"1052\":\"Tell\",\"1055\":\"reached\",\"1060\":\"chance\",\"1063\":\"Reginald\",\"1071\":\"held\",\"1076\":\"All\",\"1079\":\"recover\",\"1082\":\"hunched\",\"1085\":\"outright\",\"1086\":\"faint\",\"1091\":\"seventeen\",\"1100\":\"into\",\"1103\":\"suggested\",\"1108\":\"Should\",\"1110\":\"stroke\",\"1111\":\"danced\",\"1112\":\"sea\",\"1119\":\"’d\",\"1120\":\"special\",\"1121\":\"Why\",\"1123\":\"desperate\",\"1125\":\"exciting\",\"1140\":\"fumbled\",\"1143\":\"breath\",\"1144\":\"inside\",\"1147\":\"is\",\"1148\":\"grown\",\"1154\":\"wanted\",\"1159\":\"escape\",\"1190\":\"plate\",\"1192\":\"enfolded\",\"1196\":\"die\",\"1198\":\"talking\",\"1200\":\"things\",\"1207\":\"extraordinary\",\"1213\":\"followed\",\"1222\":\"wool\",\"1225\":\"questions\",\"1228\":\"decide\",\"1229\":\"Then\",\"1233\":\"yet\",\"1237\":\"courage\",\"1247\":\"impossible\",\"1248\":\"love\",\"1252\":\"Supposing\",\"1254\":\"snatch\",\"1255\":\"bear\",\"1256\":\"or\",\"1257\":\"affected\",\"1262\":\"attention\",\"1263\":\"sunshade\",\"1266\":\"rush\",\"1271\":\"to\",\"1283\":\"fact\",\"1287\":\"floor\",\"1297\":\"worn\",\"1298\":\"smoked\",\"1303\":\"toque\",\"1305\":\"So\",\"1306\":\"agree\",\"1307\":\"being\",\"1310\":\"bewildered\",\"1311\":\"kettle\",\"1323\":\"along\",\"1325\":\"idiotic\",\"1326\":\"change\",\"1328\":\"girl\",\"1330\":\"left\",\"1346\":\"sweet\",\"1347\":\"sofas\",\"1348\":\"Oh\",\"1355\":\"gaily\",\"1356\":\"whether\",\"1359\":\"certain\",\"1363\":\"her\",\"1365\":\"weight\",\"1366\":\"funny\",\"1367\":\"says\",\"1370\":\"Really\",\"1384\":\"tingling\",\"1406\":\"ball\",\"1408\":\"their\",\"1409\":\"borne\",\"1412\":\"pitied\",\"1413\":\"journeys\",\"1418\":\"Mrs.\",\"1419\":\"handkerchief\",\"1423\":\"gone\",\"1426\":\"pour\",\"1431\":\"As\",\"1443\":\"ning\",\"1444\":\"tucked\",\"1445\":\"shared\",\"1451\":\"that\",\"1460\":\"pleased\",\"1464\":\"bed\",\"1467\":\"hesitated\",\"1468\":\"tablecloth\",\"1471\":\"selfish\",\"1483\":\"part\",\"1487\":\"Constantia\",\"1490\":\"again\",\"1495\":\"well\",\"1497\":\"bee\",\"1521\":\"horrified\",\"1525\":\"drawn\",\"1536\":\"superbly\",\"1542\":\"bare\",\"1543\":\"indifferent\",\"1545\":\"kindly\",\"1554\":\"I\",\"1572\":\"new\",\"1573\":\"drew\",\"1574\":\"That\",\"1583\":\"gave\",\"1585\":\"breathe\",\"1587\":\"crouched\",\"1592\":\"turned\",\"1601\":\"silver\",\"1602\":\"True\",\"1604\":\"bowler\",\"1611\":\"undressed\",\"1627\":\"copying\",\"1633\":\"us\",\"1635\":\"Who\",\"1645\":\"firmly\",\"1646\":\"amused\",\"1664\":\"frightened\",\"1667\":\"Look\",\"1669\":\"carelessly\",\"1670\":\"mention\",\"1674\":\"The\",\"1677\":\"basket\",\"1681\":\"enough\",\"1684\":\"shoulder\",\"1686\":\"afraid\",\"1691\":\"led\",\"1693\":\"themselves\",\"1703\":\"waitress\",\"1706\":\"Harry\",\"1709\":\"gazed\",\"1715\":\"wants\",\"1719\":\"bought\",\"1730\":\"those\",\"1738\":\"sharply\",\"1740\":\"golden\",\"1741\":\"rolled\",\"1742\":\"She\",\"1751\":\"cry\",\"1753\":\"horror\",\"1756\":\"come\",\"1761\":\"brush\",\"1768\":\"uncovered\",\"1776\":\"each\",\"1781\":\"trying\",\"1784\":\"London\",\"1790\":\"necessary\",\"1796\":\"over\",\"1799\":\"moving\",\"1800\":\"merrily\",\"1802\":\"hoped\",\"1808\":\"oh\",\"1809\":\"wearily\",\"1812\":\"eagerly\",\"1813\":\"washed\",\"1814\":\"Con\",\"1816\":\"break\",\"1826\":\"accident\",\"1827\":\"idea\",\"1830\":\"stool\",\"1831\":\"gently\",\"1855\":\"on\",\"1856\":\"creature\",\"1867\":\"hooked\",\"1872\":\"perfectly\",\"1873\":\"softly\",\"1875\":\"else\",\"1876\":\"sir\",\"1881\":\"faintly\",\"1894\":\"known\",\"1900\":\"feel\",\"1905\":\"Anne\",\"1906\":\"squeezed\",\"1913\":\"hard\",\"1916\":\"Bay\",\"1923\":\"passage\",\"1927\":\"Darling\",\"1931\":\"calmly\",\"1934\":\"dressing\",\"1935\":\"what\",\"1942\":\"anywhere\",\"1944\":\"Isabel\",\"1948\":\"God!—there\",\"1957\":\"What\",\"1958\":\"glad\",\"1960\":\"still\",\"1963\":\"right\",\"1992\":\"stammered\",\"2001\":\"tea\",\"2003\":\"slowly\",\"2008\":\"gurgled\",\"2013\":\"pulled\",\"2015\":\"went\",\"2019\":\"black\",\"2021\":\"There\",\"2024\":\"cork\",\"2025\":\"light\",\"2041\":\"severely\",\"2052\":\"wait\",\"2053\":\"forgot\",\"2057\":\"ever\",\"2069\":\"gesture\",\"2081\":\"ermine\",\"2086\":\"somehow\",\"2098\":\"It’s”—and\",\"2099\":\"swung\",\"2118\":\"kitchen\",\"2121\":\"reproachfully\",\"2123\":\"down\",\"2126\":\"silly\",\"2130\":\"leapt\",\"2132\":\"that!—simply\",\"2134\":\"these\",\"2150\":\"XI\",\"2154\":\"bent\",\"2159\":\"wires\",\"2163\":\"wheeled\",\"2166\":\"tenderly\",\"2170\":\"hesitating\",\"2171\":\"acting\",\"2179\":\"mummy\",\"2181\":\"post\",\"2183\":\"wrong\",\"2185\":\"full\",\"2186\":\"mounted\",\"2194\":\"paper\",\"2195\":\"warmly\",\"2198\":\"can\",\"2199\":\"waiting\",\"2206\":\"settle\",\"2211\":\"jumped\",\"2226\":\"arranged\",\"2230\":\"While\",\"2239\":\"she\",\"2240\":\"brass\",\"2241\":\"”\",\"2254\":\"casting\",\"2256\":\"far\",\"2258\":\"take\",\"2259\":\"sounded\",\"2265\":\"hall\",\"2269\":\"taxi\",\"2273\":\"ran\",\"2277\":\"carefully\",\"2280\":\"dearie\",\"2281\":\"Had\",\"2288\":\"forlornly\",\"2289\":\"way\",\"2290\":\"meet\",\"2291\":\"thirty\",\"2301\":\"strawberries\",\"2309\":\"Laughing\",\"2311\":\"boy\",\"2316\":\"knees\",\"2330\":\"would\",\"2332\":\"some\",\"2334\":\"quickly\",\"2344\":\"off\",\"2345\":\"wondering\",\"2347\":\"walking\",\"2348\":\"cheek\",\"2354\":\"which\",\"2357\":\"withered\",\"2367\":\"both\",\"2372\":\"turn\",\"2373\":\"shyly\",\"2375\":\"made\",\"2381\":\"just\",\"2392\":\"owls\",\"2396\":\"Jean\",\"2414\":\"another\",\"2420\":\"bedclothes\",\"2424\":\"must\",\"2429\":\"tip\",\"2456\":\"beat\",\"2462\":\"the\",\"2467\":\"true\",\"2470\":\"as\",\"2473\":\"bag\",\"2476\":\"triumphantly\",\"2482\":\"Hennie\",\"2484\":\"fancied\",\"2490\":\"same\",\"2492\":\"could\",\"2493\":\"bye\",\"2496\":\"between\",\"2497\":\"place\",\"2499\":\"looks\",\"2503\":\"holding\",\"2517\":\"dog\",\"2527\":\"want\",\"2531\":\"news\",\"2534\":\"stars\",\"2537\":\"you\",\"2540\":\"lips\",\"2541\":\"opened\",\"2545\":\"wrapped\",\"2547\":\"bonnet\",\"2550\":\"exhausted\",\"2552\":\"wasted\",\"2556\":\"shiver\",\"2560\":\"shuddered\",\"2562\":\"voyage\",\"2565\":\"hospital\",\"2569\":\"titter\",\"2573\":\"normal\",\"2574\":\"know\",\"2585\":\"whisperings\",\"2599\":\"wailed\",\"2605\":\"unclasped\",\"2607\":\"from\",\"2619\":\"It\",\"2620\":\"Kember\",\"2626\":\"imaginary\",\"2634\":\"lost\",\"2638\":\"York\",\"2645\":\"dead\",\"2646\":\"fresh\",\"2652\":\"believe\",\"2653\":\"politeness\",\"2660\":\"mother\",\"2663\":\"ten\",\"2665\":\"them\",\"2668\":\"fish\",\"2671\":\"display\",\"2677\":\"go\",\"2681\":\"explain\",\"2682\":\"scrambled\",\"2683\":\"kiss\",\"2685\":\"cane\",\"2686\":\"workmen\",\"2696\":\"nimbly\",\"2705\":\"enjoyed\",\"2708\":\"surrounded\",\"2709\":\"open\",\"2715\":\"tilted\",\"2720\":\"sank\",\"2723\":\"paid\",\"2725\":\"haughtily\",\"2726\":\"marched\",\"2733\":\"spectacles\",\"2739\":\"panting\",\"2753\":\"?\",\"2754\":\"puff\",\"2758\":\"play\",\"2760\":\"three\",\"2765\":\"arm\",\"2773\":\"leg\",\"2778\":\"ring\",\"2784\":\"murmured\",\"2787\":\"twenty\",\"2788\":\"played\",\"2792\":\"moan\",\"2813\":\"stop\",\"2815\":\"strange\",\"2819\":\"lane\",\"2824\":\"Not\",\"2827\":\"privately\",\"2833\":\"thirteen\",\"2835\":\"head\",\"2838\":\"indeed\",\"2843\":\"butter\",\"2846\":\"gestures\",\"2847\":\"delighted\",\"2862\":\"thirsty\",\"2863\":\"Tiny\",\"2882\":\"apron\",\"2884\":\"pain\",\"2892\":\"high\",\"2898\":\"checked\",\"2904\":\"Kate\",\"2907\":\"operations\",\"2909\":\"mystery\",\"2910\":\"speaking\",\"2915\":\"gentleman\",\"2918\":\"absolutely\",\"2925\":\"....\",\"2927\":\"say\",\"2930\":\"handle\",\"2935\":\"door\",\"2941\":\"scornfully\",\"2946\":\"neck\",\"2949\":\"usual\",\"2953\":\"poisoned\",\"2954\":\"stage\",\"2971\":\"positively\",\"2972\":\"mind\",\"2973\":\"having\",\"2981\":\"fruits\",\"2985\":\"Straits\",\"2986\":\"hanky\",\"2990\":\"twinge\",\"2994\":\"great\",\"2995\":\"wave\",\"2996\":\"time\",\"3003\":\"woke\",\"3004\":\"striped\",\"3010\":\"broke\",\"3011\":\"wardrobe\",\"3012\":\"business\",\"3013\":\"lay\",\"3017\":\"unlocking\",\"3022\":\"thank\",\"3030\":\"vague\",\"3040\":\"orders\",\"3047\":\"Only\",\"3049\":\"idle\",\"3053\":\"forgotten\",\"3058\":\"might\",\"3067\":\"keep\",\"3080\":\"-\",\"3090\":\"thought\",\"3097\":\"recklessly\",\"3102\":\"darling\",\"3110\":\"fastened\",\"3113\":\"Hammond\",\"3114\":\"notice\",\"3115\":\"Stratford\",\"3129\":\"seeing\",\"3132\":\"ceased\",\"3136\":\"towards\",\"3142\":\"lifted\",\"3148\":\"pikestaff\",\"3157\":\"added\",\"3161\":\"sad\",\"3170\":\"everything\",\"3171\":\"explained\",\"3174\":\"Stubbs\",\"3183\":\"choking\",\"3189\":\"sentimental\",\"3190\":\"house\",\"3192\":\"sadly\",\"3196\":\"supper\",\"3197\":\"looked\",\"3199\":\"undone\",\"3200\":\"stroked\",\"3201\":\"years\",\"3205\":\"certingty\",\"3216\":\"very\",\"3219\":\"creep\",\"3226\":\"were\",\"3237\":\"court\",\"3243\":\"frilled\",\"3247\":\"make\",\"3250\":\"loudly\",\"3251\":\"Fenella\",\"3257\":\"ventured\",\"3259\":\"described\",\"3261\":\"stupid\",\"3269\":\"Very\",\"3270\":\"No\",\"3273\":\"If\",\"3281\":\"queer\",\"3284\":\"many\",\"3292\":\"Might\",\"3294\":\"snow\",\"3298\":\"turtle\",\"3300\":\"little\",\"3301\":\"undid\",\"3304\":\"so\",\"3311\":\"maddening\",\"3317\":\"shilling\",\"3318\":\"baker\",\"3319\":\"swerved\",\"3323\":\"fan\",\"3324\":\"eat\",\"3325\":\"needed\",\"3327\":\"Already\",\"3329\":\"trouble\",\"3332\":\"brushes\",\"3334\":\"corner\",\"3344\":\"toothache\",\"3354\":\"was\",\"3357\":\"Sunday\",\"3359\":\"blissfully\",\"3362\":\"standing\",\"3367\":\"arrange\",\"3368\":\"almost\",\"3374\":\"Slowly\",\"3391\":\"advantage\",\"3394\":\"taken\",\"3404\":\"bird\",\"3405\":\"Huh\",\"3406\":\"When\",\"3414\":\"beside\",\"3423\":\"picked\",\"3442\":\"warmth\",\"3455\":\"it\",\"3471\":\"words\",\"3474\":\"should\",\"3476\":\"Would\",\"3484\":\"last\",\"3489\":\"talked\",\"3490\":\"thinking\",\"3496\":\"Laura\",\"3497\":\"be\",\"3506\":\"upstairs\",\"3508\":\"round\",\"3510\":\"possibly\",\"3517\":\"younger\",\"3520\":\"somebody\",\"3523\":\"confused\",\"3535\":\"grey\",\"3549\":\"bridge\",\"3551\":\"doing\",\"3552\":\"ill\",\"3561\":\"box\",\"3562\":\"terrible\",\"3564\":\"wild\",\"3572\":\"trust\",\"3583\":\"Mary\",\"3587\":\"mournfully\",\"3592\":\"animal\",\"3595\":\"anything\",\"3608\":\"sweetest\",\"3612\":\"primly\",\"3614\":\"Panama\",\"3616\":\"hand\",\"3618\":\"stiffly\",\"3625\":\"pressed\",\"3626\":\"answer\",\"3644\":\"question\",\"3645\":\"spent\",\"3647\":\"than\",\"3651\":\"lady\",\"3657\":\"gloves\",\"3667\":\"listening\",\"3680\":\"strings\",\"3683\":\"...\",\"3684\":\"never\",\"3686\":\"pushing\",\"3688\":\"gambler\",\"3693\":\"table\",\"3696\":\"loathed\",\"3700\":\"sip\",\"3702\":\"began\",\"3707\":\"babies\",\"3714\":\"begun\",\"3715\":\"scarcely\",\"3719\":\"Meadows\",\"3722\":\"Science\",\"3723\":\"sat\",\"3737\":\"accompaniments\",\"3738\":\"knew\",\"3751\":\"flushed\",\"3753\":\"under\",\"3754\":\"hardly\",\"3756\":\"spring\",\"3757\":\"faded\",\"3761\":\"most\",\"3768\":\"pointed\",\"3772\":\"minute\",\"3774\":\"poked\",\"3775\":\"Alice\",\"3781\":\"hung\",\"3784\":\"John\",\"3785\":\"quite\",\"3788\":\"paused\",\"3789\":\"runs\",\"3791\":\"expert\",\"3793\":\"glanced\",\"3796\":\"months\",\"3798\":\"sold\",\"3802\":\"Was\",\"3803\":\"dressed\",\"3804\":\"Snap\",\"3805\":\"nervous\",\"3808\":\"steps\",\"3812\":\"begin\",\"3816\":\"lives\",\"3820\":\"set\",\"3821\":\"dropped\",\"3826\":\"reply\",\"3835\":\"Yes\",\"3838\":\"waist\",\"3844\":\"Lottie\",\"3847\":\"before\",\"3849\":\"Indeed\",\"3860\":\"half\",\"3861\":\"remember\",\"3869\":\"miss\",\"3870\":\"cousins\",\"3874\":\"faced\",\"3877\":\"drank\",\"3878\":\"meaningly\",\"3886\":\"refused\",\"3892\":\"drawing\",\"3916\":\"put\",\"3917\":\":\",\"3919\":\"skimmed\",\"3931\":\"desperately\",\"3948\":\"tossed\",\"3958\":\"chilly\",\"3966\":\"at\",\"3969\":\"cup\",\"3981\":\"two\",\"3998\":\"holds\",\"4002\":\"read\",\"4010\":\"loud\",\"4018\":\"Mrs\",\"4020\":\"Silence\",\"4027\":\"necklet\",\"4031\":\"first\",\"4034\":\"struggle\",\"4037\":\"actually\",\"4038\":\"aside\",\"4041\":\"clutched\",\"4042\":\"a\",\"4043\":\"smile\",\"4046\":\"caught\",\"4053\":\"word\",\"4059\":\"see\",\"4061\":\"skirts\",\"4065\":\"burned\",\"4067\":\"kindness\",\"4076\":\"home\",\"4087\":\"winced\",\"4089\":\"motioned\",\"4092\":\"leaned\",\"4095\":\"least\",\"4096\":\"together\",\"4097\":\"imagined\",\"4100\":\"satisfied\",\"4101\":\"shouted\",\"4103\":\"fellow\",\"4105\":\"also\",\"4109\":\"counting\",\"4111\":\"meant\",\"4119\":\"saying\",\"4128\":\"swore\",\"4129\":\"stewardess\",\"4130\":\"Moira\",\"4132\":\"And\",\"4133\":\"seemed\",\"4137\":\"clasping\",\"4140\":\"replied\",\"4149\":\"running\",\"4151\":\"quarrelled\",\"4154\":\"praying\",\"4157\":\"houses\",\"4165\":\"flung\",\"4168\":\"conversation\",\"4171\":\"kneels\",\"4173\":\"too\",\"4174\":\"liked\",\"4177\":\"turning\",\"4181\":\"engaged\",\"4196\":\"outside\",\"4201\":\"Is\",\"4203\":\"dear\",\"4206\":\"clock\",\"4207\":\"naughty\",\"4214\":\"times\",\"4215\":\"sitting\",\"4225\":\"heart\",\"4240\":\"Basil\",\"4242\":\"if\",\"4243\":\"stared\",\"4250\":\"bits\",\"4261\":\"hide\",\"4264\":\"with\",\"4265\":\"sausage\",\"4269\":\"laugh\",\"4270\":\"been\",\"4273\":\"swimming\",\"4283\":\"become\",\"4290\":\"who’d\",\"4292\":\"got\",\"4305\":\"strong\",\"4313\":\"law\",\"4315\":\"(\",\"4316\":\".\",\"4319\":\"already\",\"4320\":\"rocker\",\"4324\":\"moment\",\"4329\":\"it?—until\",\"4332\":\"deep\",\"4333\":\"button\",\"4336\":\"Get\",\"4346\":\"yes\",\"4349\":\"lovely\",\"4350\":\"sigh\",\"4359\":\"run\",\"4365\":\"ducked\",\"4366\":\"wished\",\"4384\":\"warned\",\"4391\":\"fought\",\"4397\":\"cruel\",\"4398\":\"heard\",\"4400\":\"ambition\",\"4417\":\"This\",\"4420\":\"breakfast\",\"4423\":\"had\",\"4424\":\"long\",\"4441\":\"such\",\"4446\":\"plait\",\"4449\":\"no\",\"4453\":\"sprang\",\"4466\":\"shortly\",\"4475\":\"any\",\"4489\":\"frock\",\"4492\":\"grasped\",\"4494\":\"tremendously\",\"4497\":\"surprised\",\"4499\":\"overdone\",\"4506\":\"ignored\",\"4508\":\"anxiously\",\"4509\":\"kissed\",\"4510\":\"incessantly\",\"4513\":\"cheeks\",\"4514\":\"awfully\",\"4515\":\"laid\",\"4524\":\"stood\",\"4537\":\"sun\",\"4538\":\"furiously\",\"4554\":\"crimson\",\"4562\":\"Ethel\",\"4564\":\"felt\",\"4567\":\"helped\",\"4569\":\"unhappy\",\"4570\":\"barely\",\"4574\":\"only\",\"4578\":\"all\",\"4584\":\"after\",\"4589\":\"Kezia\",\"4590\":\"mistake\",\"4593\":\"sideways\",\"4602\":\"better\",\"4603\":\"mane\",\"4613\":\"pupils\",\"4616\":\"Finally\",\"4617\":\"Last\",\"4618\":\"night\",\"4620\":\"laughed\",\"4624\":\"trod\",\"4626\":\"pleaded\",\"4636\":\"Privée_—and\",\"4637\":\"guessed\",\"4640\":\"poor\",\"4645\":\"did\",\"4650\":\"walked\",\"4656\":\"music\",\"4667\":\"—\",\"4671\":\"heavens\",\"4677\":\"understood\",\"4679\":\"nothing\",\"4680\":\"wobble\",\"4698\":\"shut\",\"4701\":\"parted\",\"4703\":\"tried\",\"4710\":\"playing\",\"4711\":\"drawers\",\"4715\":\"Suddenly\",\"4721\":\"pail\",\"4724\":\"clenched\",\"4725\":\"whispered\",\"4736\":\"Strange\",\"4750\":\"ashamed\",\"4753\":\"Now\",\"4764\":\"arms\",\"4771\":\"Here\",\"4772\":\"Linda\",\"4775\":\"crying\",\"4782\":\"Even\",\"4786\":\"doves\",\"4794\":\"care\",\"4809\":\"awkward\",\"4816\":\"past\",\"4818\":\"middle\",\"4823\":\"cheerfully\",\"4824\":\"drops\",\"4827\":\"boys\",\"4828\":\"nice\",\"4838\":\"sandwiches\",\"4841\":\"sobbed\",\"4842\":\"stretched\",\"4846\":\"sit\",\"4849\":\"others\",\"4856\":\"snatched\",\"4862\":\"going\",\"4875\":\"lived\",\"4884\":\"hardened\",\"4887\":\"Wyatt\",\"4890\":\"met\",\"4896\":\"wearing\",\"4903\":\"Well\",\"4908\":\"slipped\",\"4910\":\"done\",\"4920\":\"stamped\",\"4924\":\"touched\",\"4929\":\"suppose\",\"4930\":\"spoke\",\"4931\":\"follow\",\"4937\":\"wondered\",\"4944\":\"tied\",\"4950\":\"matter\",\"4965\":\"but\",\"4968\":\"quivered\",\"4971\":\"eiderdown\",\"4975\":\"born\",\"4978\":\"miles\",\"4979\":\"room\",\"4985\":\"coldly\",\"4993\":\"really\",\"4996\":\"puzzled\",\"5005\":\"have\",\"5010\":\"loved\",\"5034\":\"feet\",\"5044\":\"fat\",\"5047\":\"Miss\",\"5062\":\"men\",\"5063\":\"suddenly\",\"5064\":\"A\",\"5068\":\"ear\",\"5077\":\"board\",\"5078\":\"beauty\",\"5082\":\"eyebrows\",\"5083\":\"stepping\",\"5085\":\"besides\",\"5096\":\"They\",\"5097\":\"hat\",\"5100\":\"lightly\",\"5108\":\"imploringly\",\"5109\":\"Many\",\"5131\":\"dream\",\"5134\":\"Auntie\",\"5139\":\"curled\",\"5141\":\"an\",\"5147\":\"nursed\",\"5151\":\"popped\",\"5152\":\"glare\",\"5159\":\"fondly\",\"5168\":\"cab\",\"5170\":\"looking\",\"5176\":\"saw\",\"5184\":\"partner\",\"5186\":\"carried\",\"5189\":\"usually\",\"5195\":\"pushed\",\"5198\":\"back\",\"5201\":\"straight\",\"5204\":\"dignified\",\"5205\":\"fiercely\",\"5208\":\"Mr.\",\"5209\":\"expected\",\"5211\":\"waved\",\"5220\":\"weak\",\"5221\":\"stoutly\",\"5229\":\"stick\",\"5231\":\"suspected\",\"5236\":\"wind\",\"5238\":\"catch\",\"5241\":\"blouse\",\"5251\":\"till\",\"5259\":\"coat\",\"5266\":\"yellow\",\"5286\":\"Jose\",\"5288\":\"handed\",\"5291\":\"dark\",\"5296\":\"big\",\"5304\":\"eyelids\",\"5308\":\"pinched\",\"5309\":\"rather\",\"5313\":\"knitting\",\"5315\":\"shallow\",\"5318\":\"finish\",\"5319\":\"mean\",\"5327\":\"mocked\",\"5335\":\"conventions\",\"5357\":\"living\",\"5358\":\"William\",\"5359\":\"stay\",\"5362\":\"edges\",\"5365\":\"tangents\",\"5369\":\"tussock\",\"5372\":\"away\",\"5378\":\"wo\",\"5384\":\"blue\",\"5395\":\"trembled\",\"5399\":\"decided\",\"5401\":\"when\",\"5426\":\"seen\",\"5427\":\"At\",\"5429\":\"feeling\",\"5440\":\"timid\",\"5451\":\"married\",\"5453\":\"Cyril\",\"5455\":\"came\",\"5456\":\"drinks\",\"5462\":\"accustomed\",\"5471\":\"sister\",\"5473\":\"for\",\"5478\":\"reach\",\"5482\":\"sent\",\"5488\":\"we\",\"5489\":\"pantry\",\"5493\":\"“\",\"5494\":\"basin\",\"5495\":\"ice\",\"5509\":\"look\",\"5511\":\"thunderstorm\",\"5521\":\"stand\",\"5539\":\"hear\",\"5543\":\"Run\",\"5547\":\"nearly\",\"5548\":\"rugs\",\"5549\":\"wore\",\"5550\":\"directed\",\"5558\":\"grudge\",\"5564\":\"concoction\",\"5573\":\"referred\",\"5577\":\"recovered\",\"5579\":\"fourteen\",\"5581\":\"Jove\",\"5588\":\"why\",\"5592\":\"where\",\"5595\":\"how\",\"5598\":\"spine\",\"5603\":\"Laurie\",\"5608\":\"ready\",\"5621\":\"partners\",\"5626\":\"drinking\",\"5627\":\"keeping\",\"5628\":\"close\",\"5636\":\"closer\",\"5640\":\"life\",\"5648\":\"beamed\",\"5650\":\"grand\",\"5658\":\"slightest\",\"5662\":\"sixteen\",\"5665\":\"tugged\",\"5667\":\"find\",\"5669\":\"peered\",\"5673\":\"boats\",\"5676\":\"silent\",\"5677\":\"asked\",\"5679\":\"believed\",\"5688\":\"van\",\"5690\":\"against\",\"5691\":\"seaside\",\"5701\":\"breathlessly\",\"5705\":\"though\",\"5707\":\"noticed\",\"5710\":\"disapproved\",\"5716\":\"n’t\",\"5719\":\"Away\",\"5723\":\"husband\",\"5728\":\"How\",\"5729\":\"by\",\"5731\":\"sighed\",\"5733\":\"pearl\",\"5736\":\"lining\",\"5738\":\"stands\",\"5740\":\"More\",\"5757\":\"strangely\",\"5758\":\"white\",\"5759\":\"expect\",\"5765\":\"they\",\"5766\":\"think\",\"5771\":\"edged\",\"5783\":\"small\",\"5792\":\"because\",\"5800\":\"stepped\",\"5801\":\"bored\",\"5804\":\"Connie\",\"5806\":\"Janey\",\"5809\":\"laughing\",\"5810\":\"kept\",\"5831\":\"father\",\"5838\":\"finger\",\"5839\":\"’ll\",\"5843\":\"treated\",\"5851\":\"now\",\"5854\":\"couch\",\"5859\":\"Drear\",\"5867\":\"fearfully\",\"5872\":\"rescue\",\"5877\":\"wonder\",\"5880\":\"asleep\",\"5885\":\"eyes\",\"5904\":\"longed\",\"5908\":\"forward\",\"5913\":\"even\",\"5919\":\"eyelid\",\"5920\":\"something\",\"5921\":\"Salle\",\"5922\":\"different\",\"5926\":\"face\",\"5929\":\"tapped\",\"5932\":\"Sadie\",\"5933\":\"fell\",\"5934\":\"favour\",\"5944\":\"closed\",\"5948\":\"won\",\"5951\":\"one\",\"5953\":\"help\",\"5958\":\"always\",\"5963\":\"coming\",\"5967\":\"!\",\"5968\":\"Pretty\",\"5969\":\"smiling\",\"5972\":\"leaning\",\"5973\":\"meetings\",\"5977\":\"forehead\",\"5984\":\"used\",\"5985\":\"car\",\"5988\":\"Spain\",\"5989\":\"red\",\"5992\":\"said\",\"6003\":\"outspread\",\"6014\":\"frowned\",\"6042\":\"listen\",\"6045\":\"plump\",\"6046\":\"kissing\",\"6048\":\"dangerous\",\"6050\":\"Min\",\"6059\":\"future\",\"6068\":\"grass\",\"6070\":\"bold\",\"6073\":\"stooped\",\"6077\":\"In\",\"6080\":\"books\",\"6085\":\"nasturtiums\",\"6088\":\"Ah\",\"6092\":\"sheep\",\"6094\":\"pillow\",\"6100\":\"seized\",\"6103\":\"buttons\",\"6121\":\"supposed\",\"6122\":\"stays\",\"6123\":\"started\",\"6125\":\"baton\",\"6127\":\"ah\",\"6133\":\"But\",\"6143\":\"hated\",\"6145\":\"morrow\",\"6148\":\"crooned\",\"6152\":\"doctor\",\"6157\":\"chrysanthemum\",\"6159\":\"expense\",\"6172\":\"weeks\",\"6174\":\"plunged\",\"6183\":\"Andrews\",\"6187\":\"recognized\",\"6195\":\"like\",\"6196\":\"me\",\"6201\":\"through\",\"6204\":\"glossy\",\"6213\":\"end\",\"6214\":\"tickle\",\"6215\":\"broken\",\"6217\":\"shaken\",\"6224\":\"wife\",\"6225\":\"means\",\"6235\":\"woman\",\"6236\":\"name\",\"6239\":\"strength\",\"6243\":\"brother\",\"6247\":\"tears\",\"6257\":\"quietly\",\"6258\":\"lid\",\"6259\":\"once\",\"6260\":\"cried\",\"6265\":\"grandma\",\"6266\":\"realize\",\"6268\":\"smiled\",\"6270\":\"dug\",\"6271\":\"front\",\"6273\":\"ought\",\"6275\":\"raised\",\"6279\":\"bother\",\"6283\":\"leant\",\"6285\":\"Charlotte\",\"6287\":\"days\"};\n",
       "var examples = [{\"doc_id\":1,\"orth_indices\":[[155,592,4316,1742,6123,874,2239],[1742,6123,874,2239,5547,653,874],[5977,4316,4132,2239,718,2470,5705],[718,2470,5705,2239,4423,1756,4149],[3455,2753,6133,2239,4133,1271,5005],[5473,605,1451,2239,3354,2199,721],[721,4316,4753,2239,3916,2462,2429],[2121,874,772,2239,95,2462,4320],[4207,4316,2241,1742,4620,1363,1913],[4736,5967,3406,2239,3354,4042,3300],[4042,3300,1328,2239,4423,4441,4042],[2170,111,247,2239,4423,5913,133],[5851,874,486,2239,5992,4667,5913],[592,2470,5705,2239,3226,1855,2462],[4059,874,2241,2239,6260,4316,5493],[5992,6285,4316,1742,1140,5473,1363],[1346,5967,2241,2239,6148,197,247],[6148,197,247,2239,3197,3966,4562],[2660,874,2241,2239,6260,2476,4316],[4590,4316,4,1742,4,3354,892]]},{\"doc_id\":2,\"orth_indices\":[[1328,4316,3406,2239,5176,2462,838],[6092,3080,2517,2239,4453,748,2334],[5992,1005,4316,1742,3723,2123,3966],[5953,605,247,2239,5195,2462,5494],[3354,2154,247,2239,1592,1363,1190],[111,4316,1229,2239,4173,3197,748],[809,874,2241,2239,4384,4316,6133],[5989,6085,4316,1742,6268,874,772],[4316,1957,4423,2239,4910,5851,2753],[4910,5851,2753,1742,4423,4574,6270],[5372,4316,6133,2239,4645,1451,919],[5967,4132,721,2239,4524,874,3049],[2462,3190,4316,1742,3354,1958,1271],[5967,3835,874,2239,3354,326,4316],[5357,3080,4979,2239,2273,772,1048],[549,4316,2241,1742,1154,874,2086],[3966,1451,4324,2239,3948,2462,2311],[605,4111,1451,2239,4564,2462,2490],[5967,2241,5992,2239,874,772,2239],[2239,874,772,2239,6174,2462,1042],[1490,874,5792,2239,233,3455,3304],[991,4316,3406,2239,4524,1855,2462],[1271,4680,247,2239,4492,2462,2181],[2354,2773,2753,1742,3684,2492,1228],[4316,4132,5401,2239,4645,295,3916],[3354,76,4316,1742,3354,3860,1002],[5369,6068,4316,1742,4041,2462,2181],[1944,4316,5493,1742,240,4441,4042],[3300,2126,4316,1742,240,5958,86],[5967,2241,4132,2239,5665,4589,240],[6196,874,2241,2239,5992,1545,4316],[5729,991,4316,1742,2273,5198,1271],[5992,3844,4316,1742,675,3455,3966],[3455,3354,1796,2239,916,991,772],[4042,30,1451,2239,5549,4944,3508],[2685,4264,2354,2239,5550,2907,4316],[1573,748,1935,2239,1048,4042,5493],[874,772,5401,2239,3301,2760,4250],[4250,318,2194,2239,233,4042,3216],[3080,816,4316,1742,2492,5716,765],[318,1222,5401,2239,3354,4100,5765],[5473,3844,874,2239,4645,5716,4931],[3966,4578,4316,1742,4174,1271,3497],[4764,2470,4242,2239,5209,1271,3497],[1363,323,874,2239,2682,1271,1363],[1005,222,4316,1742,2259,3030,4316],[2540,3820,4316,1742,5710,318,4018],[838,2660,874,2239,6268,874,2470],[6268,874,2470,2239,3919,1796,2462],[1706,2620,4316,1742,3723,1082,748],[2259,2470,5705,2239,3738,4602,3647],[2259,2470,5705,2239,3738,5920,4602],[4645,1043,4316,1742,3354,4042,4424],[772,2357,4316,1742,3354,2462,4574],[1298,874,772,2239,1298,4510,874],[1363,2540,373,2239,3489,874,772],[703,4316,3406,2239,3354,178,4710],[4710,3549,4667,2239,2788,3549,919],[1363,5640,4667,2239,3645,1363,2996],[2462,4537,4316,1742,2492,5521,4475],[318,3455,247,2239,3684,4423,1681],[874,1045,874,2239,3013,4842,1855],[2462,1916,3090,2239,3354,3216,874],[874,2462,2289,2239,5843,5062,2470],[5062,2470,5705,2239,3354,5951,318],[2462,1283,1451,2239,4645,5716,4794],[5967,1602,874,2239,4423,4449,809],[3201,3517,3647,2239,3354,874,772],[6224,2381,2470,2239,4506,605,4316],[2462,76,5564,2239,3354,4896,874],[874,4842,2470,2239,3013,1855,2462],[2462,414,874,2239,4564,4042,3300],[2537,2753,2241,1742,4924,1005,240],[578,5967,2241,2239,5992,1645,4316],[4316,2241,4132,2239,1583,1363,2815],[3354,271,4316,1742,3684,1611,1002],[271,2838,5967,1742,3793,2334,3966],[2309,3097,874,2239,1573,1855,2462],[1776,2995,5455,2239,1583,2462,5658],[2241,4132,5063,2239,1592,3298,874],[607,4316,1229,2239,791,3508,772],[4273,5198,4316,1742,3354,4862,1271],[1005,4564,1451,2239,3354,1307,2953],[6235,874,4965,2239,5904,1271,5539],[5455,748,5628,2239,3197,874,1002],[58,5372,4316,1742,4645,4679,4316],[4645,4679,4316,1742,3197,748,3966],[318,319,4316,1742,4423,2462,715],[1271,991,247,2239,3354,26,4316],[3304,2025,247,2239,4564,6195,4042],[4042,5236,772,2239,3354,6100,772],[772,6217,247,2239,4423,1271,2677],[2753,3683,4753,2239,3723,1855,2462],[772,5673,4316,1742,5176,2462,5266],[2462,602,772,2239,4398,1408,2892],[2241,4903,874,2239,3354,5451,1271],[1935,3354,734,2239,5010,605,4316],[3090,177,4667,2239,4667,3354,178],[5809,4950,4667,2239,5176,4,1363],[4772,6014,247,2239,3723,748,2334],[1451,3354,1935,2239,2492,178,765],[3354,2462,3644,2239,5677,772,5677],[5716,2467,4316,1742,874,5473,5951],[1451,2183,4316,1742,3354,6215,874],[1255,3354,874,2239,4645,178,1248],[4316,4782,4242,2239,4423,4423,2462],[4423,2462,6239,2239,3684,2330,5005],[76,1413,247,2239,4423,4449,3442],[1154,605,4316,1742,4423,3754,1071],[1363,4764,4316,1742,3354,3304,1543],[991,4316,6133,2239,2898,991,772],[5969,2753,2241,2239,5992,2041,4316],[2652,4042,4053,2239,5992,4316,5493],[3354,178,1935,2239,4564,247,3455],[1363,5885,247,2239,718,1002,4042],[734,1120,2354,2239,4423,3090,2330],[824,6201,4316,1742,3354,2254,1855],[3102,874,2241,2239,5992,6257,4316],[5992,4589,4316,1742,4423,2414,4316],[1495,874,4965,2239,1154,1271,3497],[6265,2753,2241,1742,6143,1363,6265],[5677,4589,4316,1742,3142,5951,1542],[499,874,2241,2239,5992,1002,5141],[4589,874,2241,2239,5992,3192,4316],[691,1796,4316,1742,4645,5716,2527],[4316,2619,4111,2239,2330,5005,1271],[1363,6265,4316,1742,1741,1796,2334],[485,874,2241,2239,5992,1002,4042],[1363,1464,247,2239,2492,5716,1255],[874,772,5100,2239,2130,1855,1271],[3684,4667,2241,1742,850,2496,2462],[4316,4132,883,2239,3702,874,3216],[1363,5313,4316,1742,2099,5198,1002],[2462,4320,4316,1742,3702,1271,6214],[351,592,4316,1742,5549,4042,5758],[4316,539,918,2239,5549,3657,874],[1002,5951,3616,2239,5186,4042,3216],[5170,1263,2354,2239,5573,1271,2470],[337,874,3090,2239,4423,3684,5426],[318,2024,3847,2239,6123,592,874],[695,4603,4316,1742,6121,3775,4423],[5473,3040,4316,1742,4423,3394,2057],[2462,4031,2996,2239,2015,1271,2462],[2462,5598,4316,1742,2492,5716,2652],[2537,5372,4316,1742,2013,748,1363],[1363,3616,874,2239,3197,6195,4042],[3304,2195,1451,2239,233,3455,3785],[4203,874,2241,2239,4101,4823,1271],[4095,4316,4132,2239,1071,3455,748],[3132,874,772,2239,5992,5493,5968],[3835,874,2241,2239,5992,385,874],[385,874,2470,2239,5288,2462,2001],[3785,5176,1935,2239,4111,4316,5493],[2607,605,4316,1742,3257,874,5493],[3174,874,772,2239,3768,840,1271],[337,4968,4316,1742,432,1363,6045],[1957,4042,2946,2239,4423,5967,2619],[4203,874,2241,2239,5992,570,874],[3300,2569,4316,1742,4564,4809,4316],[3304,3281,5967,1742,1154,1271,3497],[3004,643,4316,1742,1573,1363,643],[2462,3693,4316,1742,4564,2239,3354],[4316,1742,4564,2239,3354,4042,1497],[3592,874,2241,2239,5992,5221,4316],[772,695,5885,2239,3197,6195,4042],[500,874,772,2239,3723,721,5969],[2665,4316,1229,2239,3781,1363,2835],[2758,874,2241,2239,4725,4316,1674],[1451,4111,4316,1742,2330,2677,5372],[4316,6133,5851,2239,3354,1002,2414],[2986,874,2241,2239,5992,247,5493],[3455,3354,538,2239,3354,4109,2462],[318,5988,4316,1742,4423,3754,4475],[4316,6133,5401,2239,772,4589,2367],[3216,5989,247,2239,3197,1310,874],[772,3966,3484,2239,5992,874,5493],[5473,2753,2241,2239,5992,1873,4316],[6050,437,1633,2239,1119,5426,4042],[1363,5758,4489,2239,5549,4042,5266],[76,874,2241,2239,5992,2003,4316],[318,1198,1451,2239,2723,4449,1262],[4929,874,2241,2239,5992,197,874],[4449,4400,247,2239,6121,1451,3354],[1326,874,4965,2239,5992,874,5493],[3354,4497,4316,1742,4423,4449,1827],[772,4842,874,2239,5176,605,874],[5139,3508,4316,1742,3197,738,874],[874,2470,5705,2239,4423,4270,2199],[892,4764,4316,1742,3354,1192,1002],[749,4316,2241,1742,2013,5951,318],[772,1451,4316,1742,3354,1960,5969],[5078,5967,2241,1742,2211,2344,1363],[240,178,1935,2239,6225,4316,1742],[2239,6225,4316,1742,1715,2332,5951],[1005,5958,4316,1742,1715,4042,951],[530,3455,4316,1742,2492,5716,3497],[874,4965,178,2239,4316,2619,3354],[5176,1363,4316,1742,3354,3362,1855],[4316,2241,5493,1742,240,2470,4349],[715,4316,1431,2239,1709,874,2239],[2239,1709,874,2239,5176,3520,874],[1271,2813,4316,1742,6187,605,4316],[874,2241,5992,2239,4316,1431,2239],[2239,4316,1431,2239,4930,1451,5220],[4494,4305,247,2239,5904,1271,2677],[1664,2753,2241,1742,3354,247,5851],[3354,247,5851,2239,3354,163,2239],[2239,3354,163,2239,3354,572,874],[4095,874,2241,2239,5992,5100,4316],[874,5665,4316,1742,1071,5198,4316],[4043,3354,5920,2239,1119,3684,5426],[4316,1957,3354,2239,3551,2753,5728],[2753,5728,4423,2239,4292,163,2753],[3354,4305,4316,1742,4908,874,4365],[874,2241,5992,2239,4316,5493,1229]]},{\"doc_id\":3,\"orth_indices\":[[2301,874,4965,2239,633,178,3324],[4,5967,2241,1742,944,3966,2462],[2981,2470,4242,2239,3226,1686,318],[6059,5967,2241,1742,5738,3414,2462],[3707,1144,4316,1742,3998,748,4042]]},{\"doc_id\":4,\"orth_indices\":[[1363,61,4316,1742,4243,3966,2462],[1604,4316,2241,1742,3788,4316,5493],[76,4324,874,2239,5547,308,4316],[918,874,1451,2239,4564,1002,2462],[874,2186,247,2239,4724,1363,587],[1363,587,247,2239,4391,3455,2123],[3455,2123,247,2239,6014,5205,3966],[6145,874,2241,2239,5992,4316,1487],[5707,4679,247,2239,5731,4316,5493],[5992,279,4316,1742,1583,2462,2420],[1768,874,772,2239,4423,1271,3219],[874,2241,5992,2239,4316,4020,4316],[2760,4214,5401,2239,5455,1271,5493],[3304,676,2241,2239,4423,6215,2123],[4316,4736,5967,1742,2492,5716,5005],[5705,874,5401,2239,5992,1796,1271],[676,874,2241,2239,2492,5005,6260],[5005,6260,4242,2239,1119,1154,1271],[3300,830,5967,1742,4366,2239,1119],[5967,1742,4366,2239,1119,1330,4042],[4578,874,2241,2239,5992,2003,4316],[734,3250,3647,2239,4111,1271,874],[1814,5967,2241,2239,5992,4316,5493],[5992,1487,4316,1742,4698,1363,5885],[3247,999,4316,1742,3354,4316,279],[1348,874,4965,2239,2492,3754,5759],[5677,2904,4242,2239,2330,5716,5005],[3966,4095,874,2239,520,3391,318],[4067,4316,4132,2239,4423,1451,3311],[1271,5318,1935,2239,4423,1855,1363],[499,874,772,2239,3110,1363,5783],[1468,2470,4242,2239,5176,4042,3772],[3820,874,772,2239,1709,5372,4667],[6183,874,5493,2239,4423,4441,4042],[2241,3354,4578,2239,5992,4316,5493],[6260,279,4316,1742,2492,5716,3572],[1154,5851,4316,1742,4856,5372,1408],[5992,279,4316,1742,627,1363,566],[1490,874,2241,2239,5992,1873,4316],[691,1325,6235,2239,772,1814,2330],[2574,874,2241,2239,5992,4316,5493],[874,772,883,2239,1119,3497,1423],[2462,1283,1451,2239,4423,4270,3216],[1271,5831,4316,1742,4423,5147,605],[279,4564,2827,2239,4423,5309,4499],[388,4316,2241,1742,3354,3216,3805],[1271,5766,1451,2239,772,1487,4423],[4,5967,2241,1742,4398,892,5229],[2462,6159,874,2239,3090,874,5083],[5168,4316,3406,2239,4423,1271,666],[2927,883,2753,1742,4398,605,2918],[2574,874,2241,2239,5992,2288,4316],[4031,874,2241,2239,850,874,3686],[5992,874,2470,2239,5958,4423,5992],[3966,414,4214,2239,2330,5716,5005],[596,4667,1935,2239,5810,5473,1363],[1363,3616,247,2239,3368,5209,4042],[554,2753,2241,2239,4725,4316,5493],[4602,5851,1451,2239,3738,5473,1359],[4564,991,1451,2239,4423,1423,4173],[4173,2256,4316,1742,520,4042,504],[5804,5967,2241,2239,850,874,772],[850,874,772,2239,2163,3508,772],[4574,5152,4316,1742,4423,2462,3761],[1207,5429,1451,2239,4423,2381,236],[6133,5595,2492,2239,2681,1271,1487],[1271,3756,4316,1742,2013,4042,1366],[874,2381,2470,2239,5984,1271,1002],[838,6287,5401,2239,3354,4862,1271],[2709,874,2241,2239,5547,2599,4316],[3011,874,772,2239,3702,1271,1585],[2241,4132,883,2239,4645,5951,318],[6070,1200,1451,2239,1119,4910,349],[1408,3816,3917,2239,2726,1796,1271],[1207,4043,1451,2239,3738,1935,2239],[2239,3738,1935,2239,1119,4910,4667],[2462,590,874,2239,2330,5005,3090],[772,2316,4316,1742,3702,1271,2556],[1213,2381,2470,2239,4423,1451,3484],[1487,2277,4316,1742,3354,3785,2573],[4316,2241,5493,1742,188,5716,5913],[1855,874,188,2239,2753,2241,5992],[4578,1790,4316,1742,2198,1426,3455],[2375,605,874,2239,5399,874,4042],[3080,4313,4316,1742,2099,1002,4042],[3197,748,247,2239,4133,4497,4316],[708,4316,2241,1742,4174,2462,1827],[3455,3354,4316,1742,5913,3090,5473],[3080,3561,1451,2239,1119,5810,5729],[4095,874,2241,2239,3157,874,5493],[4449,3826,4316,1742,4423,517,2344],[1363,5365,4316,1742,4423,5063,3090],[178,3490,1935,2239,3354,4119,4316],[1814,1831,4316,1742,4087,1881,2470],[4087,1881,2470,2239,3010,6201,2462],[2462,4206,4316,1742,2492,5716,3247],[2462,414,874,2239,4564,3368,1359],[2373,4316,4132,2239,520,5453,240],[5134,1814,2753,1742,4524,1855,2462],[3226,598,4316,1742,3684,520,1363],[892,5872,4316,1742,6260,693,874],[1052,6196,1935,2239,240,1781,1271],[4203,874,2241,2239,6268,4316,5493],[5705,571,772,2239,3226,3966,2462],[4316,2241,4132,2239,4725,1271,5453],[4316,2241,1229,2239,4092,5908,772],[874,2470,5705,2239,4423,888,2332],[2671,318,1237,2239,5992,3785,693],[2904,874,772,2239,552,5198,874],[3966,1487,247,2239,6275,1363,420],[420,337,4316,1742,4292,748,4316],[4292,748,4316,1742,5992,1002,4042],[1487,874,2241,2239,5992,874,1960],[3216,5650,4316,1742,3058,5005,4270],[874,2470,5705,2239,4564,2838,3785],[4324,2470,5705,2239,3058,3812,4862],[4214,874,4965,2239,2013,991,4096],[4316,2241,4132,2239,139,1881,4316],[1738,874,772,2239,288,1271,2462],[5488,926,691,2239,4570,718,874],[6260,1487,4316,1742,2492,5716,5953],[3304,1125,4316,1742,598,1363,587],[279,4316,6133,2239,238,991,5372],[874,2241,5992,2239,874,5493,1451],[2753,2241,2150,1742,3684,4423,4316],[4316,3292,5716,2239,3216,1495,5005],[90,2904,4242,2239,3354,86,4042],[318,918,874,2239,2330,2927,5493],[1487,5231,874,2239,3354,3368,1359],[318,4711,5401,2239,772,279,3226],[4316,5109,4214,2239,4423,1756,5198],[5740,3647,6259,2239,4423,4515,4042],[5473,2904,4316,1742,4423,2226,1200],[4203,874,5401,2239,4645,2677,1271],[1271,5509,874,2239,3354,2470,2256],[5005,499,2470,2239,5944,2462,448],[578,1490,2330,2239,772,1487,3497],[1487,3490,2753,1742,4423,4441,4042],[2815,4043,247,2239,3197,5922,4316],[3197,5922,4316,1742,2492,5716,3497],[772,749,247,2239,6268,1881,874],[5933,1490,4316,1742,4650,1796,1271],[2753,4132,1233,2239,4423,5958,4564],[5716,428,2753,1742,4645,5716,4059],[6133,4584,1451,2239,772,1487,3684],[279,1831,4316,1742,3142,1363,5926],[1363,5926,4316,1742,3354,1525,1796],[6195,625,4316,1742,200,2462,4214],[200,2462,4214,2239,4423,1756,1002],[874,2470,5705,2239,3354,750,4316],[3966,1363,772,2239,4423,5716,689],[5716,689,4316,1742,200,4173,5595],[2462,5691,874,2239,4423,1423,2344],[2462,1112,2470,2239,2492,874,772],[5920,874,5920,2239,4423,2375,748],[748,874,373,2239,1709,4578,1796],[3354,4574,5401,2239,5455,592,318],[4042,5511,1451,2239,4993,4564,991],[1957,3354,3455,2239,3354,5958,783],[2753,4753,2753,1742,1592,5372,2607],[3030,2846,4316,1742,2015,1796,1271],[3354,3362,4316,1742,1154,1271,2927],[537,4667,2241,2239,3702,4316,6133],[5851,4667,2241,2239,2784,4316,5096],[4042,4324,4316,1742,4243,3966,4042],[4270,4316,1229,2239,4140,4466,874]]},{\"doc_id\":5,\"orth_indices\":[[178,4950,1451,2239,1445,2462,5168],[1408,6243,4316,1742,3723,5198,1002],[2462,4849,5967,1742,4703,178,1271],[4173,676,247,2239,4703,178,1271],[6201,3294,4316,1742,2330,3861,5473],[1572,3657,4316,1742,2330,6195,1271],[4270,1247,874,2239,2492,5716,5005],[4567,4775,5792,2239,3354,5141,4574],[862,916,2470,2239,520,5951,592],[2462,1677,4316,1742,1154,1271,90],[2753,2241,4965,2239,4423,2381,2996],[3226,1198,4316,1742,3785,2053,1271],[3497,271,247,2239,2053,5595,1002],[4818,318,1934,2239,4423,3723,2123],[3870,772,2927,2239,2492,5716,2677],[1266,318,625,2239,4423,4423,1271],[1255,26,4316,1742,4041,1363,3323],[4042,3334,874,2239,3090,5701,874],[1363,5621,247,2239,240,3753,97],[6279,874,2241,2239,5992,1812,4316],[5716,1756,772,2239,4423,1271,6042],[1740,1287,874,2239,2330,1196,3966],[892,2765,247,2239,4423,5716,1271],[3838,874,772,2239,582,5372,6195],[5967,2241,772,2239,3354,2099,3508],[202,4937,1356,2239,6273,1271,90],[874,2241,5992,2239,4316,179,5184],[991,874,373,2239,3359,694,2462],[4042,4324,1356,2239,3354,3785,1148],[4031,1406,5967,1742,3354,4574,3966],[1271,1363,1451,2239,4423,3684,1894],[4513,4065,874,2239,3354,5867,2862],[465,3201,3847,2239,3354,4975,5967],[2835,874,772,2239,4564,3785,612],[1855,874,2241,2239,5992,1545,4316],[4269,874,4965,2239,4645,178,1900],[2813,874,2241,2239,5992,1002,4042],[3270,874,2241,2239,5992,874,5493],[2537,4316,2241,1742,4092,5690,2462],[4475,734,4316,1742,1154,1271,3497],[2392,4316,3406,2239,3197,6201,2462],[3847,1363,4316,1742,2330,5005,1271],[2653,874,972,2239,2492,5667,123],[4316,3269,3618,2239,4650,1100,2462],[247,3216,2725,2239,3916,1363,3616],[4,874,2241,2239,6268,3966,605],[3647,2057,4316,1742,4645,5716,5913]]},{\"doc_id\":6,\"orth_indices\":[[2265,874,772,2239,4842,592,1363],[2462,2935,3847,2239,4140,4316,5493],[1876,874,2241,2239,5992,6257,4316],[838,3404,5967,1742,4645,5509,155],[4449,3626,4316,1742,2154,1363,2835],[2462,2935,4316,1742,685,1363,1297],[4173,4316,1229,2239,4944,1363,2882],[6077,1283,874,2239,3354,3304,5462],[2462,2990,3847,2239,1119,3304,676],[1574,1796,874,2239,3723,5198,4264],[5967,2241,3327,2239,3354,5429,5473],[3625,5636,4316,1742,4564,892,5919],[3455,4133,4316,1742,737,2462,4721],[4449,5558,4316,1742,1412,2462,4640],[3835,874,2241,2239,3090,874,2470],[1363,2668,2473,2239,4398,2665,874],[1693,874,5493,1742,240,4423,4042],[3354,3304,2467,2239,3354,5716,1002],[3226,1271,2927,2239,4875,1002,2462],[3683,5427,5662,2239,1119,1330,3115],[4316,3835,874,2239,3354,4975,1002],[605,4316,6133,2239,1119,3684,4398],[892,6236,972,2239,5176,3455,1855],[3216,3030,4316,1742,1119,4574,200],[2565,874,5401,2239,1119,4270,3394],[4031,2497,4316,1742,3354,3684,577],[577,592,4316,1742,3684,2015,3506],[4397,6235,4316,1742,5984,1271,1254],[2607,4076,3847,2239,1119,4002,2665],[2537,2652,4329,2239,5455,1271,1784],[5455,1271,1784,2239,1119,3684,5426],[3354,3798,748,2239,2015,2470,5493],[5251,4618,874,2239,5451,1363,5723],[5473,1359,1356,2239,5176,1256,1356],[5176,1256,1356,2239,2484,2239,5176],[1356,2239,2484,2239,5176,4042,2994],[6133,2462,4034,2239,1119,4423,1271],[1323,874,772,2239,4423,5716,4270],[3981,3796,5401,2239,5933,2123,4042],[4316,1674,3329,2239,772,4562,4423],[2935,606,4316,1742,520,1363,3332],[4316,6133,5401,2239,3702,1271,3247],[1574,240,1935,2239,2492,5716,765],[4316,3270,874,2239,181,2492,5716],[1271,1255,4316,1742,1119,1409,3455],[5251,5851,874,2239,1119,5810,991],[3684,6259,4423,2239,4270,5426,1271],[1816,2123,4316,1742,1119,5810,4042],[4667,1935,4423,2239,2753,1742,4423],[4423,2239,2753,1742,4423,4679,4316],[588,3354,4578,2239,1119,4292,2607],[1271,6196,2753,2239,4937,4316,5493],[2753,2241,1431,2239,5992,1730,3471],[5992,1730,3471,2239,5063,121,703],[1363,1761,4316,1742,233,991,1002],[3304,3562,1451,2239,792,1855,1363],[4042,5131,4316,1742,4645,178,2574],[178,2574,1935,2239,3354,3551,4316],[3354,3551,4316,1742,3354,6195,4042],[4316,4782,4242,2239,3010,2123,874],[2134,3201,874,2239,3226,1271,1751],[1271,1751,874,2239,1119,5667,991],[1451,240,1935,2239,1715,1271,733],[1751,4316,3273,2239,2492,4574,1751],[4423,1756,4316,1742,2424,733,3455],[733,3455,4316,1742,2492,5716,3916],[4475,702,247,2239,2492,5716,2052],[2925,7,2492,2239,2677,2753,5493],[2677,2753,5493,1742,240,4423,4042],[2753,7,2753,1742,2492,5716,2677],[1363,5640,4316,1742,2492,5716,4846],[1363,1225,4316,1742,2492,5716,3510],[240,895,247,2239,4423,4449,1963],[4157,4316,3273,2239,3723,1855,2332],[721,1942,5592,2239,2492,4261,772],[2470,4424,2470,2239,4174,874,178],[2462,596,5592,2239,2492,5005,1363]]},{\"doc_id\":7,\"orth_indices\":[[4316,2241,4132,2239,4930,2470,5705],[4645,5967,2241,1742,4620,1002,2462],[1002,2462,2289,2239,5211,772,1048],[2626,5973,4316,1742,3354,3966,2462],[500,1875,247,2239,3354,4215,1002],[2269,4196,247,2239,3354,3966,2462],[2753,2241,4132,2239,2154,5908,874],[5358,5967,2241,2239,6260,5108,874],[5108,874,772,2239,1071,748,2462],[3455,874,2241,2239,5992,1873,874],[1730,6287,1451,2239,4993,6143,1451],[3190,874,1451,2239,3090,2462,5044],[3707,874,1451,2239,3354,3931,174],[1471,1040,4316,1742,240,6195,5141],[4042,4446,247,2239,3197,349,5579],[240,1753,4242,2239,3738,2462,2185],[5358,5967,2241,1742,3354,3966,2462],[4225,2130,4667,2239,3354,26,4316],[4316,588,3090,2239,3197,3304,204],[4196,4316,2241,1742,3916,1363,3616],[2537,874,2241,2239,5992,4316,5493],[5495,5967,2241,2239,4101,1355,4316],[1944,4316,4132,2239,3171,1271,5358],[5473,5495,373,2239,347,5473,605],[5992,4130,4316,1742,4165,1363,4764],[5933,5908,3917,2239,2259,3785,1086],[4130,874,772,2239,2273,1100,2462],[5951,4324,874,2239,5992,874,5493],[1271,605,4316,1742,6073,2123,772],[1365,5967,2241,2239,5992,874,772],[5992,874,772,2239,1583,4042,3300],[2123,874,772,2239,3197,4508,1323],[2996,874,2241,2239,5992,5701,4316],[2493,5967,2241,1742,1583,605,4042],[682,2683,247,2239,3354,1423,4316],[3484,4618,4316,1742,4423,4111,1271],[605,3683,2753,1742,4564,3523,874],[2241,1957,3354,2239,1271,733,2753],[772,4620,5251,2239,2492,5716,2813],[2008,1944,4316,1742,3723,748,874],[3508,874,2241,2239,5992,4316,5493],[4316,4,6133,2239,4423,3754,3714],[1855,4316,3406,2239,1055,2462,6213],[1363,3616,4316,1742,3354,5809,4449],[4449,702,4316,1742,3793,2334,3966],[2665,4578,247,2239,3197,2550,4316],[5851,874,2241,2239,1992,4316,4132],[5765,2492,1079,2239,4423,4359,1100],[725,4316,380,2239,3723,1855,2462],[69,1944,4316,1742,3625,1363,5885],[4316,4132,1490,2239,5176,2665,874],[1408,587,373,2239,4002,2665,5358],[4316,5728,2492,2239,5005,4910,3455],[6094,4316,6133,2239,4564,1451,5913],[1363,5473,1935,2239,3354,874,5315],[4324,874,5851,2239,2424,1228,4316],[1228,4316,3476,2239,2677,4264,2665],[2753,539,918,2239,2330,5359,163],[1572,2289,874,2239,2273,2123,2462]]},{\"doc_id\":8,\"orth_indices\":[[3354,1958,1451,2239,4423,5399,1855],[3455,1490,4316,1742,4423,3394,3455],[5967,3835,874,2239,4993,4564,6195],[1330,5068,4316,1742,2492,5005,3394],[3200,3455,4316,1742,4564,4042,1384],[2607,2347,874,2239,6121,4316,4132],[4316,4132,5401,2239,718,874,5920],[874,4173,2753,1742,3354,999,3455],[695,4824,4316,1742,3354,999,3455],[2619,3354,247,2239,3142,1363,2835],[2462,4168,4316,1742,4423,4283,4993],[3785,3791,874,2239,3090,874,3966],[3667,2470,5705,2239,4645,5716,6042],[3508,1363,4316,1742,3793,874,4593],[3614,5097,772,2239,4333,404,4316],[404,4316,4132,2239,1119,1423,1855],[2996,349,5595,2239,6273,1271,956],[956,2733,247,2239,3738,2239,3325],[247,2239,3738,2239,3325,2665,247],[1363,874,772,2239,520,2665,772],[5204,874,772,2239,3354,4896,2462],[2462,2081,1303,2239,1119,1719,5401],[4316,1348,874,2239,3354,3304,1460],[4667,2847,5967,1742,5309,3090,5765],[1451,351,4316,1742,3259,5592,2239],[1742,3259,5592,2239,1119,4270,4667],[772,5913,373,2239,3354,1960,1198],[3354,26,247,2239,6268,734,693],[1271,2574,1935,2239,3354,5429,772],[4316,1957,2330,2239,733,2753,1957],[3616,2470,5705,2239,1119,5426,2332],[3354,5967,5728,2239,2705,3455,5967],[3455,5967,5728,2239,5010,4215,163],[2171,4316,4782,2239,4423,4042,1483],[5005,5707,4242,2239,4423,5716,4270],[4270,721,247,2239,3354,1483,318],[4316,5728,2815,2239,1119,3684,3090],[3455,3171,5588,2239,2375,4441,4042],[4105,3171,5588,2239,4423,3785,4042],[797,4613,5595,2239,3645,1363,3357],[592,4010,4316,1742,3354,1855,2462],[2462,2954,4316,1742,3090,318,2462],[2915,1271,264,2239,4002,2462,406],[2462,715,4316,1742,4423,4292,3785],[1119,4270,2645,2239,3058,5716,5005],[5473,6172,247,2239,2330,5716,5005],[4316,4132,883,2239,4173,874,2239],[2239,4173,874,2239,4173,874,772],[4264,6247,772,2239,3197,5969,3966],[5488,765,874,2239,3090,4667,5705],[1935,5765,4677,2239,4645,5716,2574],[5493,1121,633,2239,1756,163,3966],[1121,633,5716,2239,3067,1363,2126],[1363,2289,4076,2239,5189,1719,4042],[4270,721,4316,1742,682,1855,2462],[1271,3080,554,2239,736,2462,3318],[5989,4971,4316,1742,3723,721,5473],[2462,1464,4316,1742,2605,2462,4027],[4316,6133,5401,2239,3916,2462,6258],[2462,6258,1855,2239,3090,2239,4398],[1855,2239,3090,2239,4398,5920,4775]]},{\"doc_id\":9,\"orth_indices\":[[1464,4316,1252,2239,4140,874,5493],[874,1935,1875,2239,2492,2927,4316],[5934,874,373,2239,2925,6088,5967],[2462,1283,1451,2239,3354,5141,4574],[3354,4993,4679,2239,2492,5716,733],[4270,1790,874,2239,2330,5005,4270],[1363,874,772,2239,2665,874,772],[1271,4059,1451,2239,4423,3170,2239],[2239,4423,3170,2239,1154,874,772],[3354,4618,4316,1742,3723,1002,4042],[5372,4316,1229,2239,3003,748,772],[4578,1451,4316,1742,4667,2239,4111],[4316,1742,4667,2239,4111,1495,874],[4111,1495,874,2239,4423,4449,6213],[148,3455,874,2239,3354,5309,4042],[2057,3354,1451,2239,3354,2971,4578],[571,4423,4316,1742,3354,5716,4574],[3226,874,4965,2239,4423,4151,4264],[1063,2753,2241,2239,5677,874,3129],[874,2241,5992,2239,4316,4020,4316],[3774,592,247,2239,3354,3304,5044],[5044,772,6204,2239,3197,6195,4042],[1905,1873,4667,2239,5800,5198,2607],[61,2715,874,2239,4620,1085,874],[612,874,2241,2239,5992,874,5493],[2241,4132,5063,2239,4920,1363,3535],[874,2241,5992,2239,4316,5493,273],[3738,3455,874,2239,3354,5716,5958],[1111,874,772,2239,3702,5809,4316],[4423,5141,1827,2239,4645,5716,991],[991,2574,5588,2239,4620,4316,588],[874,5913,373,2239,6260,874,5493],[2909,2925,4753,2239,1444,2462,1419],[874,2241,5992,2239,4316,5493,4132],[874,772,2470,2239,2154,5908,571],[2462,5733,2778,2239,5549,4316,5493],[1873,874,772,2239,4092,5908,772],[4316,5728,204,2239,3197,6195,2132],[204,4667,772,2239,3354,3304,5783],[3201,874,2241,2239,5992,4316,1063],[5992,1905,4316,1742,1867,1363,5838],[4316,2241,4132,2239,3197,748,3966],[4786,874,2241,2239,5992,4316,5493],[1002,6271,874,2239,240,1418,686],[1418,686,4316,1742,2499,3966,5208],[1490,4316,5719,2239,3789,874,772],[1905,874,772,2239,3723,5198,1855],[2574,4316,2241,1742,4292,748,772],[4316,1229,2003,2239,4698,1363,3616],[596,3757,2470,2239,2784,2003,874],[1900,3595,3847,2239,4650,2334,5372],[2537,874,2241,2239,5992,4316,5493],[4701,874,772,2239,2492,5716,2813],[2813,991,4316,1742,3702,5809,4316],[4059,874,2241,2239,6260,874,5493],[1905,1873,4316,1742,3010,2344,4316],[3010,2344,4316,1742,1573,1363,3616],[5170,3966,817,2239,6268,5757,874],[3684,4667,2241,1742,95,4316,817],[3966,1363,4316,1742,3354,5969,4316],[1366,2753,2241,2239,5992,4316,5493],[1958,4316,2241,1742,2015,1855,4316],[1233,874,2241,2239,5992,5108,4316],[4316,2241,4132,2239,4243,748,3966],[5992,1905,4316,1742,598,1363,587],[95,605,4316,1742,5665,3966,892],[318,5809,874,2239,3197,6195,4042],[4569,2753,2241,2239,2599,4316,5493],[1905,2941,4316,1742,4920,1363,299],[3966,817,247,2239,3354,4554,4316],[4316,6133,5401,2239,5176,892,5440],[4996,5509,874,2239,1583,4042,3300]]},{\"doc_id\":10,\"orth_indices\":[[2462,5062,4316,1742,4423,1813,1363],[4420,874,772,2239,3723,5626,1363],[772,5085,874,2239,5010,2973,1271],[3367,1200,247,2239,5958,4564,2239],[2239,5958,4564,2239,2492,733,3455],[4366,5851,1451,2239,4423,178,4292],[3455,874,772,2239,2492,5716,3510],[3455,5372,4316,1742,139,772,4703],[3080,118,2470,2239,5455,748,1271],[58,874,2241,2239,5992,874,1627],[5867,1257,1451,2239,3354,4750,874],[5967,4132,5851,2239,3197,3966,2462],[204,58,5967,1742,2424,5716,1670],[2462,58,247,2239,2424,3497,3012],[2753,2241,4132,2239,3768,1271,2462],[1037,4316,6133,2239,4645,3785,4931],[3237,874,2241,2239,1103,4316,5493],[5176,1451,2069,2239,2053,4578,349],[3284,5062,1451,2239,3738,2330,5005],[2686,3226,874,2239,3090,4316,1121],[1121,2492,5716,2239,5005,2686,5473],[2462,2126,4827,2239,1111,4264,772],[4618,3196,2753,1742,2330,699,1855],[2462,153,874,2239,5399,874,2470],[1363,1483,874,2239,4645,5716,1900],[159,5595,103,2239,3354,874,2381],[5595,3966,4076,2239,4564,874,772],[874,772,5595,2239,507,3261,5335],[3080,2843,2470,2239,4243,3966,2462],[3300,3892,4316,1742,4564,2381,6195],[5967,2241,5719,2239,3919,874,1796],[874,2241,5992,2239,4316,4715,2239],[2239,4316,4715,2239,2492,5716,2813],[2813,991,4316,1742,2273,3966,5603],[1451,1346,5097,2239,4423,1855,3484],[3405,874,2241,2239,5731,874,772],[4584,2462,4350,2239,3723,748,2334],[748,2334,4316,1742,3354,1960,874],[1601,98,4316,1742,2492,5005,4509],[3300,2792,4316,1742,1587,2123,2470],[318,827,247,2239,4564,5765,3226],[4590,874,2241,2239,5992,1881,4316],[1963,874,2241,2239,5992,1931,4316],[4349,2753,2241,1742,3625,3496,240],[892,5688,4316,1742,3916,1363,2765],[3216,1831,874,2239,627,1363,2660],[297,1363,4316,1742,5958,2375,2665],[5286,4316,2241,1742,1592,1271,123],[5926,354,4316,1742,598,1363,587],[1363,587,4316,1742,3197,3587,772],[2179,2753,2241,2239,5648,4316,4417],[1363,5926,1451,2239,4423,5716,4292],[4316,2241,4132,2239,5992,1271,5932],[2462,2118,4316,1742,233,5286,721],[2462,5489,4316,1742,4423,5426,2462],[2348,2470,5705,2239,4423,3344,4316],[539,918,874,2239,3738,2665,4316],[2935,4316,2021,2239,3788,772,4092],[5286,5967,2241,2239,5992,874,1521],[5885,4884,4316,1742,3197,3966,1363],[5471,2381,2470,2239,5984,1271,5401],[3189,874,2241,2239,5992,1873,4316],[1855,5286,4316,1742,5992,874,2381],[3080,3693,4316,1742,3354,1781,1855],[3080,3183,874,2239,437,2462,857],[5488,2753,2241,2239,4626,4316,5493],[1271,1255,5792,2239,4133,1646,4316],[4133,1646,4316,1742,3886,1271,2258],[1451,874,4965,2239,4564,3455,3354],[4578,2183,4316,1742,3723,2123,1855],[1633,2753,2241,2239,5677,4316,5493],[2492,2813,1363,2239,4423,5151,3455],[5967,2241,4132,2239,1071,748,1363],[3702,1490,4316,1742,2492,5716,5509],[3966,991,247,2239,1592,4038,4316],[3496,874,2241,2239,5992,4985,4316],[3496,874,772,2239,4650,2334,592],[2462,4031,830,2239,5176,3354,691],[4316,578,4423,2239,4097,2239,2492],[4423,2239,4097,2239,2492,5509,6195],[2660,1963,2753,2239,3090,4316,4132],[4316,4132,5851,2239,1802,1363,2660],[5473,4042,4324,2239,4423,2414,260],[240,1796,874,2239,5399,4316,4132],[1826,1490,4316,1742,1154,1271,28],[1963,4316,4132,2239,1213,605,1100],[1120,4316,2241,1742,2273,1271,1363],[5831,2925,4715,2239,3197,748,4316],[3497,2552,4316,1742,4423,5951,318],[2574,874,2241,2239,5992,4316,5493],[1306,2753,4132,2239,240,999,1271],[3496,5967,2241,1742,2211,748,4316],[5595,182,874,2239,4133,1271,3497],[874,2241,5992,2239,4316,5493,5543],[351,4316,4771,2239,3354,4862,2123],[2645,874,772,2239,2492,5716,6266],[1121,2492,5716,2239,2753,1742,95],[5716,2239,2753,1742,95,4042,3772],[1144,1363,4316,1742,4423,4449,4979],[5728,2815,5967,1742,3197,748,3966],[874,772,4578,2239,3090,3354,874],[682,1855,4316,1742,4366,5851,2239],[1742,4366,5851,2239,4423,3916,1855],[5005,1756,247,2239,3738,4578,1323],[4590,4316,1108,2239,2677,5198,5913],[874,274,4316,1742,4423,1363,5034],[3354,2470,5705,2239,3354,5209,874],[5765,4423,1894,2239,3354,5963,163],[1363,1684,874,2239,5992,1271,4042],[2607,691,5967,1742,4037,5992,874],[874,2241,2470,2239,4650,748,2462],[772,2677,874,2239,5399,4316,1554],[874,2241,772,2239,3354,4698,1002],[3869,874,2241,2239,5992,1002,5141],[1213,1363,4316,1742,233,991,1002],[3651,4316,2241,1742,1592,1271,3496],[1271,3496,4316,1742,5992,3878,874],[3197,3562,4316,1742,4133,2470,5705],[4133,2470,5705,2239,2492,5716,765],[2241,4132,1490,2239,3702,874,5493],[699,5372,4316,1742,3354,5198,1002],[2935,2541,4316,1742,4650,5201,6201],[5471,874,772,2239,303,4816,3496],[874,772,5159,2239,1573,2123,2462],[1751,874,772,2239,2492,5716,2677],[5097,874,2241,2239,5992,4316,4132],[4132,691,2996,2239,4645,5716,2052],[240,5471,4316,1742,233,1363,2289],[318,2462,2819,2239,4890,5603,4316],[5603,5967,2241,1742,520,892,2765],[892,2765,874,2239,3625,748,5690],[1363,2835,4316,1742,3354,4316,5603],[5603,4667,2241,1742,95,874,2239],[1742,95,874,2239,3197,3966,1363],[5640,874,2241,2239,1992,874,5493],[1935,5640,3354,2239,2492,5716,2681]]},{\"doc_id\":11,\"orth_indices\":[[3484,830,4316,1742,5456,3455,1002],[1311,1855,5401,2239,4171,2123,772],[4316,2241,4132,2239,5378,5716,5005],[874,348,247,2239,4171,1855,2462],[4667,1808,874,2239,1583,6196,4441],[307,2753,2241,2239,5992,4316,6133],[3455,2753,6133,2239,240,4,4173],[4316,1348,874,2239,4645,5509,1346],[4316,3047,4584,2239,1119,4292,4042],[539,918,874,2239,3354,3684,6048],[3684,6048,247,2239,3354,2462,3608],[1363,3354,4667,2239,3090,2239,1119],[4667,2239,3090,2239,1119,2634,5920],[2634,5920,4316,1742,2492,5716,3067],[3067,1960,874,2239,2492,5716,2206],[1076,554,4424,2239,1119,3497,748],[2118,4316,4132,2239,1119,5509,748],[2537,874,772,2239,1119,2927,4667],[4316,2241,6133,2239,1119,5238,6196],[3683,3270,874,2239,3684,5577,874],[874,348,4316,1742,4423,4042,1110],[4316,4617,3471,2239,2057,5992,3354],[2241,4132,883,2239,3354,1423,4316],[520,6196,4316,1742,3354,4042,301],[4316,2863,5967,1742,4423,1271,5521],[2462,1347,5401,2239,1154,1271,294],[307,874,2241,2239,5992,874,5493],[4316,2824,1451,2239,1119,5992,3595],[318,918,247,2239,3684,633,1256],[2462,2289,1451,2239,5810,771,991],[5677,1363,4242,2239,1119,5309,1554],[307,874,2241,2239,5992,874,5493],[5877,3683,883,2239,3821,1363,1419],[4667,4042,830,2239,3684,4645,4316],[4903,874,2241,2239,5992,874,5969],[5677,1363,4242,2239,1119,5309,1554],[307,874,2241,2239,5992,4667,1451],[2241,6133,373,2239,5992,3455,874],[318,918,874,2239,4645,5716,2574],[4059,1363,4667,2239,3916,1363,3300],[2490,4316,4132,2239,1367,874,5493],[3474,733,4242,2239,4645,5716,2927]]},{\"doc_id\":12,\"orth_indices\":[[1443,874,2241,2239,6260,874,1002],[874,2241,5992,2239,4316,179,5384],[4316,4315,2281,2239,5707,3595,2753],[3719,874,772,2239,1583,2462,3722],[2788,3737,4316,1742,3354,4177,2462],[1830,4316,3406,2239,5176,5047,3719],[5176,5047,3719,2239,1583,4042,4010],[6080,6003,4316,1742,3738,1872,1495],[5304,4968,247,2239,3948,1363,2835],[1363,4513,373,2239,718,874,5493],[874,2241,772,2239,4089,3136,5309],[1363,930,373,2239,6283,1796,3583],[3616,4316,2241,1742,6275,2462,6125],[2462,6125,247,2239,5929,2462,4656],[4590,2925,2241,2239,2456,4316,4132],[4316,2241,5728,2239,4423,6268,3966],[4,2241,5992,2239,3304,4514,1451],[2025,364,247,2239,3142,1363,4764],[4497,1681,1451,2239,4423,4292,4181],[2470,4497,2470,2239,4316,1742,3354],[2470,2239,4316,1742,3354,2291,4316],[4316,2241,6133,2239,3738,571,4645],[2241,3304,1451,2239,2492,5716,4002],[5859,4316,4,1742,2330,5005,1271],[874,4173,4316,1742,2492,3684,5926],[4292,1894,4316,1742,2330,5005,1271],[3300,23,4316,1742,5455,748,2462],[3719,4316,4132,2239,1048,1271,2462],[168,4042,4324,2239,4645,178,5509],[5509,748,4316,1742,3354,2470,2949],[3719,874,2241,2239,5992,3216,1545],[4316,4132,883,2239,3423,748,4042],[2531,874,2241,2239,5992,874,3304],[4240,874,2241,2239,4002,4316,1742],[2239,4002,4316,1742,2492,5716,2258],[4578,4316,2098,2239,1583,5141,1041],[4887,4316,2241,1742,4292,748,4316],[4292,748,4316,1742,3860,2273,3136],[3583,874,2241,2239,5992,874,5493],[5266,6157,874,2239,1071,3455,1271],[4043,4316,1229,2239,1592,1271,2462],[4316,2241,4132,2239,5648,3966,1363]]},{\"doc_id\":13,\"orth_indices\":[[2462,206,1451,2239,3354,3684,4862],[1490,4316,2021,2239,3013,874,438],[475,5967,2241,2239,2599,4316,5493],[1002,2462,2289,2239,4423,874,373],[4423,874,373,2239,3877,2462,4574],[2396,874,772,2239,2273,1363,5838],[4316,6133,5063,2239,4046,605,5729],[5208,3113,5967,1742,240,1799,5967],[5967,1667,874,2239,240,5963,1002],[5581,5967,1305,2239,3354,4316,5427],[5427,3484,5967,1742,3354,2003,874],[874,3022,1948,2239,3354,4316,2021],[5806,4316,2021,2239,3354,874,5972],[874,5595,5783,2239,3197,1855,1451],[4316,5728,3300,2239,3197,1271,5005],[6195,5806,4316,1742,4423,2462,1237],[95,4316,3374,2239,5771,1271,2462],[1271,5359,5592,2239,3354,4316,1674],[206,4316,3802,2239,5608,1271,2677],[1796,1363,772,2239,3197,748,4264],[3080,4043,4316,1742,3354,2381,2462],[1894,1363,4316,1742,4515,1363,5783],[3784,2753,2241,2239,5677,4316,4315],[874,2241,5992,2239,4316,5493,1554],[892,5926,5933,2239,1583,892,2765],[1363,4316,3273,2239,1154,2414,2663],[571,1583,2289,2239,3354,2708,4316],[4042,3148,1451,2239,3354,5729,2256],[5077,4316,4132,2239,520,3455,4578],[1271,605,486,2239,5549,4316,6133],[4645,3114,1451,2239,5549,4042,2019],[1159,874,772,2239,1691,2462,2289],[2462,1923,1451,2239,3738,3304,1495],[4398,2585,4316,1742,3354,473,2462],[3226,2462,5548,2239,4423,3394,4264],[4449,5967,2241,2239,5992,4316,5493],[571,2492,3626,2239,3354,1423,4316],[1490,4316,3476,2239,4993,178,3497],[1121,2492,5716,2239,5005,437,2462],[2753,1121,4645,2239,5005,1271,2677],[240,6152,2753,1742,2492,5005,5482],[3455,5319,1451,2239,4423,4270,3552],[2462,2562,4667,2239,3354,5627,5920],[2381,5920,4316,1742,3354,2381,4042],[5327,605,4316,1742,5800,1796,2462],[1927,874,2241,2239,5992,874,5493],[4574,4564,1451,2239,3354,5170,3966],[349,3595,4316,1742,3354,163,1271],[721,4316,4132,2239,5992,3917,5493],[2462,206,4096,2239,520,892,2765],[892,889,4316,1742,3354,5198,4316],[2280,2753,2241,1742,6268,247,2239],[1742,6268,247,2239,4645,5716,5913],[874,4965,1831,2239,1573,892,3616],[4564,3958,4316,1742,240,4042,4828],[4584,2753,2241,2239,5677,4316,5493],[5806,874,772,2239,2015,1796,1271],[6127,5967,2241,1742,1583,4042,3300],[5851,5967,2241,1742,1592,1271,605],[4137,2665,4316,1742,1444,2665,1100],[3243,5241,4316,1742,6260,2334,874],[1958,874,2241,2239,5992,4316,6133],[1363,571,4564,2239,2330,535,5372],[2645,1359,1451,2239,3354,2470,1958],[4203,2753,2241,1742,3013,1855,892],[6046,2665,2470,2239,5958,4509,605],[4424,2753,2241,1742,2375,4449,3626],[4449,3626,4316,1742,3354,5170,5372],[3270,874,2241,2239,5992,4316,4132],[1283,874,2241,2239,5992,874,5493],[5992,5806,4316,1742,3354,2910,3715],[4103,5967,2241,2239,5992,4316,5493],[4316,2241,4132,2239,694,2462,63],[874,1935,3354,2239,4119,5967,1957],[5967,1957,3354,2239,3551,1271,605],[4578,2462,373,2239,4930,3917,5493],[2537,2753,2241,2239,5677,4316,5493],[28,874,2241,2239,5992,874,2345],[4053,5967,2241,1742,916,1363,2835],[240,4764,4316,1742,4667,4290,3684],[1363,862,4316,1742,5308,2462,5362]]},{\"doc_id\":14,\"orth_indices\":[[5097,874,772,2239,3916,748,1363],[3304,639,1451,2239,4423,5851,772],[3197,2470,4242,2239,3354,734,5608],[2660,5967,2241,2239,4398,605,2927],[2348,874,772,2239,4841,874,5493],[2835,4316,6133,2239,4423,1271,2372],[5359,2753,2241,2239,4725,4508,4316],[5064,3317,5967,1742,2424,3497,4862],[240,4061,247,2239,2015,5198,1271],[702,3161,4316,1742,4423,3916,2462],[414,874,772,2239,3354,4215,1855],[772,4637,1451,2239,3354,4154,4316],[5547,1796,4316,1742,2605,1363,587],[286,874,2241,2239,5992,874,603],[3300,874,772,2239,3090,2462,2534],[3354,5309,1686,2239,3354,4862,1271],[1363,1037,4316,1742,2015,748,1271],[4838,2753,2241,2239,5677,4316,5493],[4,2753,2241,2239,5677,4316,5493],[5926,4316,1229,2239,4725,3612,1271],[2290,2665,4316,1742,3354,3803,4578],[2240,6103,4316,1742,4133,1271,2574],[874,2241,5992,2239,874,3017,1408],[4129,4316,1229,2239,1592,3508,772],[874,2241,5992,2239,4316,1674,4129],[4332,1143,874,2239,4133,1271,584],[1147,874,2241,2239,5992,874,2470],[3205,4316,2241,1742,3788,4316,5493],[4129,874,772,2239,2015,592,874],[4564,271,4316,1742,4524,5690,2462],[2462,3680,874,2239,142,1776,4264],[2462,5736,3847,2239,3781,2462,2547],[2835,1768,247,2239,3197,2815,4316],[2462,4265,874,2239,520,3455,592],[1363,5082,2470,2239,6268,2166,772],[3251,4316,1229,2239,3301,1363,112],[5967,3804,5967,1742,4423,3199,1363],[1363,6122,4316,1742,718,4042,4350],[842,5854,874,2239,2003,772,2277],[874,2241,5992,2239,4316,1742,4509],[5992,2239,4316,1742,4509,3251,4316],[5676,4269,3847,2239,2186,2665,2696],[2696,874,772,2239,5669,1796,2462],[2753,2241,5992,2239,4316,4132,2470],[4316,4132,2470,2239,2720,5198,3251],[2925,5427,3484,2239,3354,1144,874],[874,772,373,2239,3013,721,2739],[5455,1002,247,2239,4624,1873,772],[2985,874,2241,2239,5992,4316,5493],[4042,2556,3847,2239,2099,2123,1490],[4316,3251,200,2239,4423,1330,2462],[106,874,2241,2239,4725,4316,5493],[5880,4316,6133,2239,4423,5716,4270],[1271,5131,3847,2239,3003,748,1490],[1451,3508,1037,2239,2492,4059,2256],[6172,4096,4316,1742,711,991,247],[711,991,247,2239,4524,1855,5951],[414,299,247,2239,3354,134,4316],[1741,1271,5592,2239,2492,5716,5478],[5992,6265,4316,1742,2259,1460,4316],[5395,874,772,2239,4423,1271,3067],[5992,6265,4316,1742,1592,2462,2930],[4042,451,4316,1742,1048,874,5493],[721,4316,2241,1742,5195,3251,1831],[6268,199,373,2239,3200,772,561],[1957,240,1451,2239,240,2503,2753],[3251,3304,1800,2239,3368,3090,571]]},{\"doc_id\":15,\"orth_indices\":[[3197,2470,4242,2239,5679,3455,874],[4316,3849,874,2239,3354,5801,4667],[2677,1002,4316,1742,240,178,4270],[874,2241,5992,2239,1809,4316,5493],[4316,1635,1147,2239,2753,1121,633],[2753,1121,633,2239,5509,6195,1451],[1451,2753,4201,2239,4042,3688,2753],[3808,2470,5705,2239,3226,1307,1525],[1855,2159,4316,1742,4243,1002,6271],[318,1363,874,2239,3354,5809,772],[3966,6196,4316,1742,3354,693,3751],[5922,1856,4316,1742,3354,6195,4042],[874,2241,772,2239,5211,1271,1363],[4316,1554,4128,2239,3354,2787,3080],[2638,874,772,2239,2381,5948,2833],[4,5921,4636,2239,1715,6196,1271],[5427,1451,5493,2239,2241,3197,748],[3197,748,247,2239,181,2357,1363],[6196,2753,2241,2239,5992,4538,4316],[3471,4316,2241,1742,3197,1363,2660],[1043,874,2241,2239,5992,1536,4316],[2381,1123,4316,1742,3354,5493,3564],[874,4346,874,2239,5839,3497,2847],[5985,3354,721,2239,2545,1363,5291],[874,2241,5992,2239,4316,5493,1554],[1091,5967,2098,2239,1583,4042,1086],[1554,1103,4316,1742,1467,874,3793],[874,2241,5992,2239,4316,5493,4336],[318,918,4667,2239,1213,4316,6133],[163,2753,2241,1742,3916,1363,3616],[2753,2241,5992,2239,4316,2482,1906],[318,3455,4316,1742,4645,5716,5913],[3657,2344,4316,1742,119,1363,5885],[1086,920,2259,2239,4087,772,627],[2753,2241,1370,2239,4645,5716,2972],[1271,1363,4316,1742,4645,5716,4993],[1703,1592,5372,2239,6260,592,1669],[2230,5488,347,2239,520,592,4042],[2754,2470,5705,2239,3696,3455,874],[2482,874,2241,2239,5992,874,5493],[5372,4316,2241,1742,3768,4264,1363],[2884,874,5473,2239,2971,5944,1363],[2462,2001,4316,1742,3916,2462,5296],[1363,3969,4316,1742,4645,5716,3114],[5729,1060,874,2239,520,4042,3700],[694,4508,247,2239,1881,2560,4316],[5967,2241,5992,2239,4316,5064,545],[2646,2301,4316,1742,2492,3754,1255],[2311,3319,5372,2239,1071,748,1363],[874,2241,5992,2239,4316,1674,1601],[2134,874,2241,2239,5992,874,772],[4316,5427,1451,2239,3788,874,2462],[874,2241,5992,2239,4316,5493,1554],[5967,2241,5992,2239,4316,273,4671],[2753,2241,6133,2239,4423,4319,3053],[874,4173,4316,1742,3354,1781,1271],[3861,5920,2925,1742,3354,4978,5372],[2574,874,2241,2239,5992,2003,874],[5716,2677,1855,2239,5455,5198,772],[2241,3354,4578,2239,2492,443,2927],[3354,3394,5401,2239,3197,748,2607],[2462,4031,2996,2239,4243,349,1363],[721,3354,2925,1742,358,247,1363],[4316,6133,605,2239,181,2492,5716],[571,3354,4316,1742,3197,6201,772],[2550,874,4965,2239,2013,1855,1363],[3657,1490,4316,1742,4423,2332,3329],[1363,2289,4316,1742,5665,3966,3455],[4316,4616,874,2239,4423,1271,558],[4584,1451,874,2239,2492,5716,5521],[874,2838,874,2239,2211,748,772],[1271,1756,748,2239,4524,1855,2462],[2462,2935,772,2239,4292,1002,772],[605,874,2241,2239,850,874,5493],[6133,4449,4667,2239,2330,5716,733],[2492,5359,4316,1742,2492,5716,1255],[4042,5985,4316,1742,1119,2052,1855],[2241,5427,1451,2239,494,5198,1363],[1363,5259,247,2239,1592,772,3874],[4324,1554,3090,2239,3354,4862,1271],[42,874,2241,2239,1992,874,1002]]}];\n",
       "\n",
       "\tfunction filter_token_ids(token_ids) {\n",
       "\t\tvar centre_index = Math.floor(token_ids.length / 2);\n",
       "\t\tvar left_tokens = token_ids.slice(0, centre_index);\n",
       "\t\tvar right_tokens = token_ids.slice(centre_index);\n",
       "\t\tif (left_tokens.includes(eof_token)) {\n",
       "\t\t\tvar eof_index_pos = left_tokens.lastIndexOf(eof_token);\n",
       "\t\t\tif (eof_index_pos !== -1) {\n",
       "\t\t\t\tleft_tokens = left_tokens.slice(eof_index_pos + 1);\n",
       "\t\t\t}\n",
       "\t\t}\n",
       "\t\tif (right_tokens.includes(eof_token)) {\n",
       "\t\t\tvar eof_index_pos = right_tokens.indexOf(eof_token);\n",
       "\t\t\tif (eof_index_pos !== -1) {\n",
       "\t\t\t\tright_tokens = right_tokens.slice(0, eof_index_pos);\n",
       "\t\t\t}\n",
       "\t\t}\n",
       "\t\ttoken_ids = left_tokens.concat(right_tokens);\n",
       "\t\treturn token_ids;\n",
       "\t}\n",
       "\tfunction token_ids_to_str(token_ids) {\n",
       "\t\tif (token_ids.includes(eof_token)) {\n",
       "\t\t\ttoken_ids = filter_token_ids(token_ids);\n",
       "\t\t}\n",
       "\t\tconst token_strs = [];\n",
       "\t\tfor (let i = 0; i < token_ids.length; i++) {\n",
       "\t\t\tconst token_id = token_ids[i];\n",
       "\t\t\tif (tokens[token_id]) {\n",
       "\t\t\t\ttoken_strs.push(tokens[token_id]);\n",
       "\t\t\t} else {\n",
       "\t\t\t\ttoken_strs.push(`Unknown Token ID: ${token_id}`);\n",
       "\t\t\t}\n",
       "\t\t}\n",
       "\t\treturn token_strs.join(' ');\n",
       "\t}\n",
       "\tfunction populatePlot(page, page_size) {\n",
       "\t\tstart = (page - 1) * page_size;\n",
       "\t\tend = start + page_size;\n",
       "\t\tconst plot = document.getElementById('conc-concordance-plot');\n",
       "\t\tconst lines = plot.getElementsByClassName('conc-concordance-plot-line');\n",
       "\t\twhile (lines.length > 0) {\n",
       "\t\t\tlines[0].remove();\n",
       "\t\t}\n",
       "\t\tconst labels = plot.getElementsByClassName('label');\n",
       "\t\twhile (labels.length > 0) {\n",
       "\t\t\tlabels[0].remove();\n",
       "\t\t}\n",
       "\t\tconst rects = plot.getElementsByTagName('rect');\n",
       "\t\tfor (let i = 0; i < rects.length; i++) {\n",
       "\t\t\trects[i].setAttribute('style', 'opacity:1;');\n",
       "\t\t}\n",
       "\t\tfor (let i = start; i < end; i++) {\n",
       "\t\t\tpage_i = (i - start + 1)\n",
       "\t\t\tif (i >= docs.length) {\n",
       "\t\t\t\tconst rect = document.getElementById(`rect-${page_i}`);\n",
       "\t\t\t\tif (rect) {\n",
       "\t\t\t\t\trect.setAttribute('style', 'opacity:0;');\n",
       "\t\t\t\t}\n",
       "\t\t\t\tcontinue;\n",
       "\t\t\t}\n",
       "\t\t\tconst doc = docs[i];\n",
       "\t\t\tconst plot_y = (page_i * row_height) - row_adjustment;\n",
       "\t\t\tconst label_y = plot_y + (default_font_size * 1.4);\n",
       "\t\t\tconst label_y2 = plot_y + (default_font_size * 1.4 * 2);\n",
       "\t\t\tconst doc_positions_count = doc.positions.length;\n",
       "\t\t\tconst line_text = doc_positions_count === 1 ? '1 line' : `${doc_positions_count} lines`;\n",
       "\t\t\tconst label = document.createElementNS('http://www.w3.org/2000/svg', 'text');\n",
       "\t\t\tlabel.setAttribute('class', 'label');\n",
       "\t\t\tlabel.setAttribute('x', label_x_right);\n",
       "\t\t\tlabel.setAttribute('y', label_y);\n",
       "\t\t\tlabel.setAttribute('font-size', default_font_size);\n",
       "\t\t\tlabel.setAttribute('text-anchor', 'end');\n",
       "\t\t\tlabel.textContent = `Doc ${doc.doc_id}`;\n",
       "\t\t\tplot.appendChild(label);\n",
       "\t\t\tconst label2 = document.createElementNS('http://www.w3.org/2000/svg', 'text');\n",
       "\t\t\tlabel2.setAttribute('class', 'label');\n",
       "\t\t\tlabel2.setAttribute('x', label_x_right);\n",
       "\t\t\tlabel2.setAttribute('y', label_y2);\n",
       "\t\t\tlabel2.setAttribute('font-size', default_font_size);\n",
       "\t\t\tlabel2.setAttribute('text-anchor', 'end');\n",
       "\t\t\tlabel2.textContent = line_text;\n",
       "\t\t\tplot.appendChild(label2);\n",
       "\t\t\tconst positions = doc.positions;\n",
       "\t\t\tconst x_values = positions.map(pos => (pos / doc.count) * 100 * 8);\n",
       "\t\t\tfor (let j = 0; j < x_values.length; j++) {\n",
       "\t\t\t\tconst x_value = x_values[j];\n",
       "\t\t\t\tconst line = document.createElementNS('http://www.w3.org/2000/svg', 'g');\n",
       "\t\t\t\tline.setAttribute('class', 'conc-concordance-plot-line');\n",
       "\t\t\t\tconst line1 = document.createElementNS('http://www.w3.org/2000/svg', 'line');\n",
       "\t\t\t\tline1.setAttribute('x1', plot_x + x_value);\n",
       "\t\t\t\tline1.setAttribute('y1', plot_y);\n",
       "\t\t\t\tline1.setAttribute('x2', plot_x + x_value);\n",
       "\t\t\t\tline1.setAttribute('y2', plot_y + subplot_height);\n",
       "\t\t\t\tline1.setAttribute('style', 'stroke-width:10;opacity:0;');\n",
       "\t\t\t\tline.appendChild(line1);\n",
       "\t\t\t\tconst line2 = document.createElementNS('http://www.w3.org/2000/svg', 'line');\n",
       "\t\t\t\tline2.setAttribute('x1', plot_x + x_value);\n",
       "\t\t\t\tline2.setAttribute('y1', plot_y);\n",
       "\t\t\t\tline2.setAttribute('x2', plot_x + x_value);\n",
       "\t\t\t\tline2.setAttribute('y2', plot_y + subplot_height);\n",
       "\t\t\t\tline2.setAttribute('style', 'stroke-width:2;');\n",
       "\t\t\t\tline.appendChild(line2);\n",
       "\t\t\t\tlet anchor = 'middle';\n",
       "\t\t\t\tlet x_adjustment = 0;\n",
       "\t\t\t\tif (x_value < 150) {\n",
       "\t\t\t\t\tanchor = 'start';\n",
       "\t\t\t\t\tx_adjustment = -30;\n",
       "\t\t\t\t}\n",
       "\t\t\t\tif (x_value > 650) {\n",
       "\t\t\t\t\tanchor = 'end';\n",
       "\t\t\t\t\tx_adjustment = 30;\n",
       "\t\t\t\t}\n",
       "\t\t\t\tconst text = document.createElementNS('http://www.w3.org/2000/svg', 'text');\n",
       "\t\t\t\ttext.setAttribute('x', plot_x + x_value + x_adjustment);\n",
       "\t\t\t\ttext.setAttribute('y', plot_y - 5);\n",
       "\t\t\t\ttext.setAttribute('text-anchor', anchor);\n",
       "\t\t\t\ttext.setAttribute('font-size', '12');\n",
       "\t\t\t\ttext.setAttribute('fill', 'black');\n",
       "\t\t\t\tappend = ''\n",
       "\t\t\t\tif (append_info) {\n",
       "\t\t\t\t\tposition_offset_1 = doc.positions[j] + 1;\n",
       "\t\t\t\t\tappend = ` (token ${position_offset_1} of ${doc.count})`;\n",
       "\t\t\t\t}\n",
       "\t\t\t\ttext.textContent = token_ids_to_str(examples[i].orth_indices[j]) + append;\n",
       "\t\t\t\tline.appendChild(text);\n",
       "\t\t\t\tplot.appendChild(line);\n",
       "\t\t\t}\n",
       "\n",
       "\t\t}\n",
       "\t}\n",
       "\n",
       "\tfunction tryInit() {\n",
       "\tconst targetNode = document.getElementById('conc-plot-wrapper');\n",
       "\tif (targetNode && targetNode.querySelector('.conc-plot-footer')) {\n",
       "\t\tvizInit();\n",
       "\t\treturn true;\n",
       "\t}\n",
       "\treturn false;\n",
       "\t}\n",
       "\tfunction vizInit() {\n",
       "\t\tcurrent_page = 1;\n",
       "\t\tconst slider = document.getElementById('conc-concordance-plot-slider');\n",
       "\t\t\n",
       "\t\tpopulatePlot(current_page, page_size);\n",
       "\t\tslider.addEventListener('input', function() {\n",
       "\t\t\tconst page = parseInt(this.value, 10);\n",
       "\t\t\tpopulatePlot(page, page_size);\n",
       "\t\t\tconst page_number = document.getElementById('conc-concordance-plot-page-number');\n",
       "\t\t\tpage_number.textContent = `${page}`;\n",
       "\t\t});\n",
       "\t}\n",
       "\t\n",
       "\t\n",
       "</script>\n",
       "<style>\n",
       "\t.conc-plot-wrapper {\n",
       "\tbackground: #fff;\n",
       "\twidth:1000px;\n",
       "\tcolor: #000;\n",
       "\tfont-family: 'Segoe UI', Roboto, Oxygen, Ubuntu, Cantarell, 'Helvetica Neue', 'Fira Sans', 'Droid Sans', Arial, sans-serif;\n",
       "\tline-height: 1.1;\n",
       "\tmargin: 20px 0 20px 0;\n",
       "\t}\n",
       "\t.conc-plot-wrapper h2 {\n",
       "\tcolor: #000;\n",
       "\tfont-family: 'Segoe UI', Roboto, Oxygen, Ubuntu, Cantarell, 'Helvetica Neue', 'Fira Sans', 'Droid Sans', Arial, sans-serif;\n",
       "\ttext-align:center;\n",
       "\tfont-weight: 600;\n",
       "\tline-height: 2;\n",
       "\tmargin:0;\n",
       "\tpadding:0;\n",
       "\t}\n",
       "\t.conc-plot-wrapper h3 {\n",
       "\tcolor: #000;\n",
       "\tfont-family: 'Segoe UI', Roboto, Oxygen, Ubuntu, Cantarell, 'Helvetica Neue', 'Fira Sans', 'Droid Sans', Arial, sans-serif;\n",
       "\ttext-align:center;\n",
       "\tfont-weight: 300;\n",
       "\tline-height: 1;\n",
       "\tmargin:0;\n",
       "\tpadding:0;\n",
       "\t}\n",
       "\t.conc-concordance-plot {\n",
       "\t}\n",
       "\t.conc-concordance-plot-summary {\n",
       "\tmargin: 20px 40px 10px 160px;\n",
       "\tcolor: #000;\n",
       "\tfont-family: 'Segoe UI', Roboto, Oxygen, Ubuntu, Cantarell, 'Helvetica Neue', 'Fira Sans', 'Droid Sans', Arial, sans-serif;\n",
       "\t}\n",
       "\t.conc-concordance-plot-controls {\n",
       "\theight: 60px;\n",
       "\tmargin: 0 40px 20px 40px;\n",
       "\t}\n",
       "\t.conc-concordance-plot-controls input[type=\"range\"] {\n",
       "\t-webkit-appearance: none;\n",
       "\twidth: 100%;\n",
       "\theight: 15px;\n",
       "\tbackground: #ccc;\n",
       "\tborder-radius: 5px;\n",
       "\toutline: none;\n",
       "\topacity: 0.7;\n",
       "\ttransition: opacity .2s;\n",
       "\t}\n",
       "\t.conc-concordance-plot-controls label {\n",
       "\tfont-family: 'Segoe UI', Roboto, Oxygen, Ubuntu, Cantarell, 'Helvetica Neue', 'Fira Sans', 'Droid Sans', Arial, sans-serif;\n",
       "\tcolor: #000;\n",
       "\tdisplay: block;\n",
       "\tmargin-bottom: 5px;\n",
       "\t}\n",
       "\t.conc-concordance-plot rect {\n",
       "\tfill: #ccc;\n",
       "\twidth: 800px;\n",
       "\theight: 40px;\n",
       "\t}\n",
       "\t.conc-concordance-plot .label {\n",
       "\tfont-family: 'Segoe UI', Roboto, Oxygen, Ubuntu, Cantarell, 'Helvetica Neue', 'Fira Sans', 'Droid Sans', Arial, sans-serif;\n",
       "\t}\n",
       "\tg.conc-concordance-plot-line {\n",
       "\tcursor: pointer;\n",
       "\t}\n",
       "\tg.conc-concordance-plot-line line {\n",
       "\tstroke:#666;\n",
       "\t}\n",
       "\tg.conc-concordance-plot-line:hover line {\n",
       "\tstroke:#000;\n",
       "\t}\n",
       "\tg.conc-concordance-plot-line > text {\n",
       "\tfont-family: 'Segoe UI', Roboto, Oxygen, Ubuntu, Cantarell, 'Helvetica Neue', 'Fira Sans', 'Droid Sans', Arial, sans-serif;\n",
       "\tdisplay:none;\n",
       "\t}\n",
       "\tg.conc-concordance-plot-line:hover > text {\n",
       "\tdisplay:block;\n",
       "\t}\n",
       "\tg.conc-concordance-plot-line.highlight line {\n",
       "\t}\n",
       "\t.conc-plot-wrapper { font-size: 12px; }.conc-plot-wrapper h2 { font-size: 24px; }.conc-plot-wrapper h3, .conc-concordance-plot-summary { font-size: 15.0px; }.conc-concordance-plot-controls label { font-size: 12px; }</style><div class=\"conc-plot-wrapper\" id=\"conc-plot-wrapper\"><h2>Concordance Plot for &quot;she&quot;</h2><h3>Garden Party Corpus</h3><svg class=\"conc-concordance-plot\" id=\"conc-concordance-plot\" width=\"1000\" height=\"610\" xmlns=\"http://www.w3.org/2000/svg\"><rect id=\"rect-1\" x=\"160\" y=\"30\" height=\"40\" width=\"800\" /><rect id=\"rect-2\" x=\"160\" y=\"90\" height=\"40\" width=\"800\" /><rect id=\"rect-3\" x=\"160\" y=\"150\" height=\"40\" width=\"800\" /><rect id=\"rect-4\" x=\"160\" y=\"210\" height=\"40\" width=\"800\" /><rect id=\"rect-5\" x=\"160\" y=\"270\" height=\"40\" width=\"800\" /><rect id=\"rect-6\" x=\"160\" y=\"330\" height=\"40\" width=\"800\" /><rect id=\"rect-7\" x=\"160\" y=\"390\" height=\"40\" width=\"800\" /><rect id=\"rect-8\" x=\"160\" y=\"450\" height=\"40\" width=\"800\" /><rect id=\"rect-9\" x=\"160\" y=\"510\" height=\"40\" width=\"800\" /><rect id=\"rect-10\" x=\"160\" y=\"570\" height=\"40\" width=\"800\" /></svg><div class=\"conc-concordance-plot-summary\">Total Documents: 15<br>Total Concordance Lines: 1171</div><div class=\"conc-concordance-plot-controls\"><label for=\"conc-concordance-plot-slider\" id=\"conc-concordance-plot-slider-label\">Page <span id=\"conc-concordance-plot-page-number\">1</span> of 2</label>\n",
       "\t<input type=\"range\" min=\"1\" max=\"2\" value=\"1\" step=\"1\" class=\"slider\" id=\"conc-concordance-plot-slider\" autocomplete=\"off\"></div>\n",
       "\t<div class=\"conc-plot-footer\"></div>\n",
       "\t</div>\n",
       "\t<script>\n",
       "\n",
       "\n",
       "\tif (!tryInit()) {\n",
       "\t// Only set up observer if not ready yet\n",
       "\tconst observer = new MutationObserver(function(mutationsList, observer) {\n",
       "\t\tif (tryInit()) {\n",
       "\t\tobserver.disconnect();\n",
       "\t\t}\n",
       "\t});\n",
       "\tobserver.observe(document.body, { childList: true, subtree: true });\n",
       "\t}\n",
       "\t</script>\n",
       "\t</body></html>"
      ],
      "text/plain": [
       "<IPython.core.display.HTML object>"
      ]
     },
     "metadata": {},
     "output_type": "display_data"
    }
   ],
   "source": [
    "#|hide \n",
    "#renderpng conc-plot-wrapper\n",
    "conc.concordance_plot(token_str='she', page_size=10, append_info=True)"
   ]
  },
  {
   "cell_type": "code",
   "execution_count": null,
   "metadata": {},
   "outputs": [],
   "source": []
  }
 ],
 "metadata": {
  "kernelspec": {
   "display_name": "python3",
   "language": "python",
   "name": "python3"
  }
 },
 "nbformat": 4,
 "nbformat_minor": 4
}
