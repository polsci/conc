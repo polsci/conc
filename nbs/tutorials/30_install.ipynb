{
 "cells": [
  {
   "cell_type": "markdown",
   "metadata": {},
   "source": [
    "# Installing Conc\n",
    "\n",
    "> Conc install options\n",
    "- toc: false\n",
    "- page-layout: full"
   ]
  },
  {
   "cell_type": "markdown",
   "metadata": {},
   "source": [
    "## Install via pip\n",
    "\n",
    "You can install Conc from [pypi][pypi] using this command:   \n",
    "\n",
    "```sh\n",
    "$ pip install conc\n",
    "```\n",
    "\n",
    "Add the `-U` flag to upgrade if you are already running Conc.  "
   ]
  },
  {
   "cell_type": "markdown",
   "metadata": {},
   "source": [
    "## Install a spaCy model for tokenization\n",
    "\n",
    "Conc uses a SpaCy language model for tokenization. After installing Conc, install a model. If you are working with English-language texts, install SpaCy's small English model (which is Conc's default) like this:  \n",
    "\n",
    "```sh\n",
    "$ python -m spacy download en_core_web_sm\n",
    "```\n",
    "\n",
    "If you are working with a different language or want to use a different 'en' model, check the [SpaCy models documentation](https://spacy.io/models/) for the relevant model name."
   ]
  },
  {
   "cell_type": "markdown",
   "metadata": {},
   "source": [
    "## Install the development version\n",
    "\n",
    "To install the pre-release/development version of Conc, which will be ahead of the version on Pypi, you can install from the repository:  \n",
    "\n",
    "```sh\n",
    "$ pip install git+https://github.com/polsci/conc.git\n",
    "```"
   ]
  },
  {
   "cell_type": "markdown",
   "metadata": {},
   "source": [
    "## Install optional dependencies\n",
    "\n",
    "Conc has some optional dependencies you can install to download source texts to create sample corpora. These are primarily intended for creating corpora for development. To minimize Conc's requirements these are not installed by default. If you want to get sample corpora to test out Conc's functionality you can install these with the following command. \n",
    "\n",
    "```sh\n",
    "$ pip install nltk requests datasets\n",
    "```\n",
    "\n",
    "[repo]: https://github.com/polsci/conc\n",
    "[docs]: https://geoffford.nz/conc/\n",
    "[pypi]: https://pypi.org/project/conc/"
   ]
  },
  {
   "cell_type": "markdown",
   "metadata": {},
   "source": [
    "## Pre-2013 CPU? Install Polars with support for older machines\n",
    "\n",
    "Polars is optimized for modern CPUs with support for AVX2 instructions. If you get kernel crashes running Conc on an older machine (probably pre-2013), this is likely to be an issue with Polars. Polars has an [alternate installation option to support older machines](https://docs.pola.rs/user-guide/installation/), which installs a Polars build compiled without AVX2 support. Replace the standard Polars package with the legacy-support package to use Conc on older machines.\n",
    "\n",
    "```sh\n",
    "$ pip uninstall polars\n",
    "$ pip install polars-lts-cpu\n",
    "```"
   ]
  },
  {
   "cell_type": "markdown",
   "metadata": {},
   "source": []
  }
 ],
 "metadata": {
  "kernelspec": {
   "display_name": "python3",
   "language": "python",
   "name": "python3"
  }
 },
 "nbformat": 4,
 "nbformat_minor": 4
}
