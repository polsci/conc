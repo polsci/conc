{
 "cells": [
  {
   "cell_type": "markdown",
   "metadata": {},
   "source": [
    "# frequency\n",
    "\n",
    "> Functionality for frequency analysis."
   ]
  },
  {
   "cell_type": "code",
   "execution_count": null,
   "metadata": {},
   "outputs": [],
   "source": [
    "#| default_exp frequency"
   ]
  },
  {
   "cell_type": "code",
   "execution_count": null,
   "metadata": {},
   "outputs": [],
   "source": [
    "#| hide\n",
    "from nbdev.showdoc import *"
   ]
  },
  {
   "cell_type": "code",
   "execution_count": null,
   "metadata": {},
   "outputs": [],
   "source": [
    "#| export\n",
    "import time\n",
    "import polars as pl\n",
    "from fastcore.basics import patch"
   ]
  },
  {
   "cell_type": "code",
   "execution_count": null,
   "metadata": {},
   "outputs": [],
   "source": [
    "#| export\n",
    "from conc.corpus import Corpus\n",
    "from conc.result import Result\n",
    "from conc.core import logger, PAGE_SIZE"
   ]
  },
  {
   "cell_type": "code",
   "execution_count": null,
   "metadata": {},
   "outputs": [],
   "source": [
    "#| export\n",
    "class Frequency:\n",
    "\t\"\"\" Class for frequency analysis reporting \"\"\"\n",
    "\tdef __init__(self,\n",
    "\t\t\t  corpus:Corpus # Corpus instance\n",
    "\t\t\t  ): \n",
    "\t\tself.corpus = corpus\n"
   ]
  },
  {
   "cell_type": "code",
   "execution_count": null,
   "metadata": {},
   "outputs": [],
   "source": [
    "#| export\n",
    "@patch\n",
    "def frequencies(self: Frequency,\n",
    "\t\t\t\tn:int=PAGE_SIZE, # number of rows to return\n",
    "\t\t\t\tnormalize_by:int=1000000, # normalize frequencies by a number (e.g. 10000)\n",
    "\t\t\t\tsort_by='frequency', # TODO - check if needed\n",
    "\t\t\t\tshow_token_id:bool=False, # show token_id in output\n",
    "\t\t\t\texclude_punctuation:bool=True, # exclude punctuation tokens\n",
    "\t\t\t\texclude_spaces:bool=True # exclude space tokens\n",
    "\t\t\t\t) -> Result: # return a Result object with the frequency table\n",
    "\t\"\"\" Report frequent tokens. \"\"\"\n",
    "\t# TODO - add in restrict_to and exclude options - latter is for stopword removal\n",
    "\t\n",
    "\tstart_time = time.time()\n",
    "\tself.corpus._init_frequency_table()\n",
    "\n",
    "\tcolumns = ['rank', 'token', 'frequency']\n",
    "\tif show_token_id == True:\n",
    "\t\tcolumns = ['rank', 'token_id', 'token', 'frequency']\n",
    "\n",
    "\t# if a number is passed then normalize by that number\n",
    "\tif type(normalize_by) != int:\n",
    "\t\traise ValueError('normalize_by must be an integer, e.g. 1000000 or 10000')\n",
    "\tself.corpus.frequency_table = self.corpus.frequency_table.with_columns((pl.col('frequency') * normalize_by / self.corpus.token_count).alias('normalized_frequency'))\n",
    "\tcolumns.append('normalized_frequency')\n",
    "\n",
    "\t# TODO - work out what doing with sort_by\n",
    "\t# if sort_by in ['frequency', 'normalized_frequency']:\n",
    "\t# \tself.frequency_table = self.frequency_table.sort(sort_by, descending=True)\n",
    "\t# \tself.frequency_table = self.frequency_table.drop('rank').with_row_index(name='rank', offset=1)\n",
    "\n",
    "\tformatted_data = []\n",
    "\tif normalize_by is not None:\n",
    "\t\tformatted_data.append(f'Normalized Frequency is per {normalize_by:,.0f} tokens')\n",
    "\n",
    "\tlogger.info(f'Frequencies report time: {(time.time() - start_time):.5f} seconds')\n",
    "\n",
    "\tdf = self.corpus.frequency_table.sort('frequency', descending=True)\n",
    "\tif exclude_punctuation:\n",
    "\t\tdf = df.filter(pl.col('is_punct') == False)\n",
    "\tif exclude_spaces:\n",
    "\t\tdf = df.filter(pl.col('is_space') == False)\n",
    "\tif n:\n",
    "\t\tdf = df[columns].head(n)\n",
    "\telse:\n",
    "\t\tdf = df[columns]\n",
    "\t# remove rows with is_punct or is_space columns set to True\n",
    "\tdf = df.drop('rank').with_row_index(name='rank', offset=1)\n",
    "\treturn Result(type = 'frequencies', df=df, title='Frequencies', description='Frequencies of tokens in the corpus', summary_data={}, formatted_data=formatted_data)\n"
   ]
  },
  {
   "cell_type": "code",
   "execution_count": null,
   "metadata": {},
   "outputs": [],
   "source": [
    "#| hide\n",
    "path_to_corpus_file = '../test-corpora/saved/brown.corpus'"
   ]
  },
  {
   "cell_type": "code",
   "execution_count": null,
   "metadata": {},
   "outputs": [],
   "source": [
    "# load the corpus\n",
    "brown = Corpus().load(path_to_corpus_file)"
   ]
  },
  {
   "cell_type": "code",
   "execution_count": null,
   "metadata": {},
   "outputs": [],
   "source": [
    "# instantiate the Frequency class\n",
    "report_brown = Frequency(brown)"
   ]
  },
  {
   "cell_type": "code",
   "execution_count": null,
   "metadata": {},
   "outputs": [
    {
     "data": {
      "text/html": [
       "<div id=\"mmmugeemzl\" style=\"padding-left:0px;padding-right:0px;padding-top:10px;padding-bottom:10px;overflow-x:auto;overflow-y:auto;width:auto;height:auto;\">\n",
       "<style>\n",
       "#mmmugeemzl table {\n",
       "          font-family: -apple-system, BlinkMacSystemFont, 'Segoe UI', Roboto, Oxygen, Ubuntu, Cantarell, 'Helvetica Neue', 'Fira Sans', 'Droid Sans', Arial, sans-serif;\n",
       "          -webkit-font-smoothing: antialiased;\n",
       "          -moz-osx-font-smoothing: grayscale;\n",
       "        }\n",
       "\n",
       "#mmmugeemzl thead, tbody, tfoot, tr, td, th { border-style: none; }\n",
       " tr { background-color: transparent; }\n",
       "#mmmugeemzl p { margin: 0; padding: 0; }\n",
       " #mmmugeemzl .gt_table { display: table; border-collapse: collapse; line-height: normal; margin-left: 0; margin-right: auto; color: #333333; font-size: 16px; font-weight: normal; font-style: normal; background-color: #FFFFFF; width: auto; border-top-style: solid; border-top-width: 2px; border-top-color: #A8A8A8; border-right-style: none; border-right-width: 2px; border-right-color: #D3D3D3; border-bottom-style: solid; border-bottom-width: 2px; border-bottom-color: #A8A8A8; border-left-style: none; border-left-width: 2px; border-left-color: #D3D3D3; }\n",
       " #mmmugeemzl .gt_caption { padding-top: 4px; padding-bottom: 4px; }\n",
       " #mmmugeemzl .gt_title { color: #333333; font-size: 125%; font-weight: initial; padding-top: 4px; padding-bottom: 4px; padding-left: 5px; padding-right: 5px; border-bottom-color: #FFFFFF; border-bottom-width: 0; }\n",
       " #mmmugeemzl .gt_subtitle { color: #333333; font-size: 85%; font-weight: initial; padding-top: 3px; padding-bottom: 5px; padding-left: 5px; padding-right: 5px; border-top-color: #FFFFFF; border-top-width: 0; }\n",
       " #mmmugeemzl .gt_heading { background-color: #FFFFFF; text-align: center; border-bottom-color: #FFFFFF; border-left-style: none; border-left-width: 1px; border-left-color: #D3D3D3; border-right-style: none; border-right-width: 1px; border-right-color: #D3D3D3; }\n",
       " #mmmugeemzl .gt_bottom_border { border-bottom-style: solid; border-bottom-width: 2px; border-bottom-color: #D3D3D3; }\n",
       " #mmmugeemzl .gt_col_headings { border-top-style: solid; border-top-width: 2px; border-top-color: #D3D3D3; border-bottom-style: solid; border-bottom-width: 2px; border-bottom-color: #D3D3D3; border-left-style: none; border-left-width: 1px; border-left-color: #D3D3D3; border-right-style: none; border-right-width: 1px; border-right-color: #D3D3D3; }\n",
       " #mmmugeemzl .gt_col_heading { color: #333333; background-color: #FFFFFF; font-size: 100%; font-weight: normal; text-transform: inherit; border-left-style: none; border-left-width: 1px; border-left-color: #D3D3D3; border-right-style: none; border-right-width: 1px; border-right-color: #D3D3D3; vertical-align: bottom; padding-top: 5px; padding-bottom: 5px; padding-left: 5px; padding-right: 5px; overflow-x: hidden; }\n",
       " #mmmugeemzl .gt_column_spanner_outer { color: #333333; background-color: #FFFFFF; font-size: 100%; font-weight: normal; text-transform: inherit; padding-top: 0; padding-bottom: 0; padding-left: 4px; padding-right: 4px; }\n",
       " #mmmugeemzl .gt_column_spanner_outer:first-child { padding-left: 0; }\n",
       " #mmmugeemzl .gt_column_spanner_outer:last-child { padding-right: 0; }\n",
       " #mmmugeemzl .gt_column_spanner { border-bottom-style: solid; border-bottom-width: 2px; border-bottom-color: #D3D3D3; vertical-align: bottom; padding-top: 5px; padding-bottom: 5px; overflow-x: hidden; display: inline-block; width: 100%; }\n",
       " #mmmugeemzl .gt_spanner_row { border-bottom-style: hidden; }\n",
       " #mmmugeemzl .gt_group_heading { padding-top: 8px; padding-bottom: 8px; padding-left: 5px; padding-right: 5px; color: #333333; background-color: #FFFFFF; font-size: 100%; font-weight: initial; text-transform: inherit; border-top-style: solid; border-top-width: 2px; border-top-color: #D3D3D3; border-bottom-style: solid; border-bottom-width: 2px; border-bottom-color: #D3D3D3; border-left-style: none; border-left-width: 1px; border-left-color: #D3D3D3; border-right-style: none; border-right-width: 1px; border-right-color: #D3D3D3; vertical-align: middle; text-align: left; }\n",
       " #mmmugeemzl .gt_empty_group_heading { padding: 0.5px; color: #333333; background-color: #FFFFFF; font-size: 100%; font-weight: initial; border-top-style: solid; border-top-width: 2px; border-top-color: #D3D3D3; border-bottom-style: solid; border-bottom-width: 2px; border-bottom-color: #D3D3D3; vertical-align: middle; }\n",
       " #mmmugeemzl .gt_from_md> :first-child { margin-top: 0; }\n",
       " #mmmugeemzl .gt_from_md> :last-child { margin-bottom: 0; }\n",
       " #mmmugeemzl .gt_row { padding-top: 8px; padding-bottom: 8px; padding-left: 5px; padding-right: 5px; margin: 10px; border-top-style: solid; border-top-width: 1px; border-top-color: #D3D3D3; border-left-style: none; border-left-width: 1px; border-left-color: #D3D3D3; border-right-style: none; border-right-width: 1px; border-right-color: #D3D3D3; vertical-align: middle; overflow-x: hidden; }\n",
       " #mmmugeemzl .gt_stub { color: #333333; background-color: #FFFFFF; font-size: 100%; font-weight: initial; text-transform: inherit; border-right-style: solid; border-right-width: 2px; border-right-color: #D3D3D3; padding-left: 5px; padding-right: 5px; }\n",
       " #mmmugeemzl .gt_stub_row_group { color: #333333; background-color: #FFFFFF; font-size: 100%; font-weight: initial; text-transform: inherit; border-right-style: solid; border-right-width: 2px; border-right-color: #D3D3D3; padding-left: 5px; padding-right: 5px; vertical-align: top; }\n",
       " #mmmugeemzl .gt_row_group_first td { border-top-width: 2px; }\n",
       " #mmmugeemzl .gt_row_group_first th { border-top-width: 2px; }\n",
       " #mmmugeemzl .gt_striped { background-color: rgba(128,128,128,0.05); }\n",
       " #mmmugeemzl .gt_table_body { border-top-style: solid; border-top-width: 2px; border-top-color: #D3D3D3; border-bottom-style: solid; border-bottom-width: 2px; border-bottom-color: #D3D3D3; }\n",
       " #mmmugeemzl .gt_sourcenotes { color: #333333; background-color: #FFFFFF; border-bottom-style: none; border-bottom-width: 2px; border-bottom-color: #D3D3D3; border-left-style: none; border-left-width: 2px; border-left-color: #D3D3D3; border-right-style: none; border-right-width: 2px; border-right-color: #D3D3D3; }\n",
       " #mmmugeemzl .gt_sourcenote { font-size: 90%; padding-top: 4px; padding-bottom: 4px; padding-left: 5px; padding-right: 5px; text-align: left; }\n",
       " #mmmugeemzl .gt_left { text-align: left; }\n",
       " #mmmugeemzl .gt_center { text-align: center; }\n",
       " #mmmugeemzl .gt_right { text-align: right; font-variant-numeric: tabular-nums; }\n",
       " #mmmugeemzl .gt_font_normal { font-weight: normal; }\n",
       " #mmmugeemzl .gt_font_bold { font-weight: bold; }\n",
       " #mmmugeemzl .gt_font_italic { font-style: italic; }\n",
       " #mmmugeemzl .gt_super { font-size: 65%; }\n",
       " #mmmugeemzl .gt_footnote_marks { font-size: 75%; vertical-align: 0.4em; position: initial; }\n",
       " #mmmugeemzl .gt_asterisk { font-size: 100%; vertical-align: 0; }\n",
       " \n",
       "</style>\n",
       "<table class=\"gt_table\" data-quarto-disable-processing=\"false\" data-quarto-bootstrap=\"false\">\n",
       "<thead>\n",
       "\n",
       "  <tr class=\"gt_heading\">\n",
       "    <td colspan=\"4\" class=\"gt_heading gt_title gt_font_normal\">Frequencies</td>\n",
       "  </tr>\n",
       "  <tr class=\"gt_heading\">\n",
       "    <td colspan=\"4\" class=\"gt_heading gt_subtitle gt_font_normal gt_bottom_border\">Frequencies of tokens in the corpus</td>\n",
       "  </tr>\n",
       "<tr class=\"gt_col_headings\">\n",
       "  <th class=\"gt_col_heading gt_columns_bottom_border gt_right\" rowspan=\"1\" colspan=\"1\" scope=\"col\" id=\"Rank\">Rank</th>\n",
       "  <th class=\"gt_col_heading gt_columns_bottom_border gt_left\" rowspan=\"1\" colspan=\"1\" scope=\"col\" id=\"Token\">Token</th>\n",
       "  <th class=\"gt_col_heading gt_columns_bottom_border gt_right\" rowspan=\"1\" colspan=\"1\" scope=\"col\" id=\"Frequency\">Frequency</th>\n",
       "  <th class=\"gt_col_heading gt_columns_bottom_border gt_right\" rowspan=\"1\" colspan=\"1\" scope=\"col\" id=\"Normalized Frequency\">Normalized Frequency</th>\n",
       "</tr>\n",
       "</thead>\n",
       "<tbody class=\"gt_table_body\">\n",
       "  <tr>\n",
       "    <td class=\"gt_row gt_right\">1</td>\n",
       "    <td class=\"gt_row gt_left\">the</td>\n",
       "    <td class=\"gt_row gt_right\">63516</td>\n",
       "    <td class=\"gt_row gt_right\">556.72</td>\n",
       "  </tr>\n",
       "  <tr>\n",
       "    <td class=\"gt_row gt_right\">2</td>\n",
       "    <td class=\"gt_row gt_left\">of</td>\n",
       "    <td class=\"gt_row gt_right\">36321</td>\n",
       "    <td class=\"gt_row gt_right\">318.35</td>\n",
       "  </tr>\n",
       "  <tr>\n",
       "    <td class=\"gt_row gt_right\">3</td>\n",
       "    <td class=\"gt_row gt_left\">and</td>\n",
       "    <td class=\"gt_row gt_right\">27787</td>\n",
       "    <td class=\"gt_row gt_right\">243.55</td>\n",
       "  </tr>\n",
       "  <tr>\n",
       "    <td class=\"gt_row gt_right\">4</td>\n",
       "    <td class=\"gt_row gt_left\">to</td>\n",
       "    <td class=\"gt_row gt_right\">25868</td>\n",
       "    <td class=\"gt_row gt_right\">226.73</td>\n",
       "  </tr>\n",
       "  <tr>\n",
       "    <td class=\"gt_row gt_right\">5</td>\n",
       "    <td class=\"gt_row gt_left\">a</td>\n",
       "    <td class=\"gt_row gt_right\">22190</td>\n",
       "    <td class=\"gt_row gt_right\">194.49</td>\n",
       "  </tr>\n",
       "  <tr>\n",
       "    <td class=\"gt_row gt_right\">6</td>\n",
       "    <td class=\"gt_row gt_left\">in</td>\n",
       "    <td class=\"gt_row gt_right\">19751</td>\n",
       "    <td class=\"gt_row gt_right\">173.12</td>\n",
       "  </tr>\n",
       "  <tr>\n",
       "    <td class=\"gt_row gt_right\">7</td>\n",
       "    <td class=\"gt_row gt_left\">that</td>\n",
       "    <td class=\"gt_row gt_right\">10409</td>\n",
       "    <td class=\"gt_row gt_right\">91.23</td>\n",
       "  </tr>\n",
       "  <tr>\n",
       "    <td class=\"gt_row gt_right\">8</td>\n",
       "    <td class=\"gt_row gt_left\">is</td>\n",
       "    <td class=\"gt_row gt_right\">10138</td>\n",
       "    <td class=\"gt_row gt_right\">88.86</td>\n",
       "  </tr>\n",
       "  <tr>\n",
       "    <td class=\"gt_row gt_right\">9</td>\n",
       "    <td class=\"gt_row gt_left\">was</td>\n",
       "    <td class=\"gt_row gt_right\">9931</td>\n",
       "    <td class=\"gt_row gt_right\">87.04</td>\n",
       "  </tr>\n",
       "  <tr>\n",
       "    <td class=\"gt_row gt_right\">10</td>\n",
       "    <td class=\"gt_row gt_left\">for</td>\n",
       "    <td class=\"gt_row gt_right\">8905</td>\n",
       "    <td class=\"gt_row gt_right\">78.05</td>\n",
       "  </tr>\n",
       "</tbody>\n",
       "  <tfoot class=\"gt_sourcenotes\">\n",
       "  \n",
       "  <tr>\n",
       "    <td class=\"gt_sourcenote\" colspan=\"4\">Normalized Frequency is per 10,000 tokens</td>\n",
       "  </tr>\n",
       "\n",
       "</tfoot>\n",
       "\n",
       "</table>\n",
       "\n",
       "</div>\n",
       "        "
      ]
     },
     "metadata": {
      "text/html": {
       "text/html": {
        "isolated": true
       }
      }
     },
     "output_type": "display_data"
    }
   ],
   "source": [
    "# run the frequencies method and display the results\n",
    "report_brown.frequencies(n=10, normalize_by=10000).display()"
   ]
  },
  {
   "cell_type": "code",
   "execution_count": null,
   "metadata": {},
   "outputs": [],
   "source": [
    "#| hide\n",
    "import nbdev; nbdev.nbdev_export()"
   ]
  },
  {
   "cell_type": "code",
   "execution_count": null,
   "metadata": {},
   "outputs": [],
   "source": []
  }
 ],
 "metadata": {
  "kernelspec": {
   "display_name": "python3",
   "language": "python",
   "name": "python3"
  }
 },
 "nbformat": 4,
 "nbformat_minor": 2
}
