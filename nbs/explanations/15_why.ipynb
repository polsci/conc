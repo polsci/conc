{
 "cells": [
  {
   "cell_type": "markdown",
   "metadata": {},
   "source": [
    "# Why Conc?\n",
    "\n",
    "> Why I've built Conc and the principles guiding its development.\n",
    "- toc: false\n",
    "- page-layout: full"
   ]
  },
  {
   "cell_type": "markdown",
   "metadata": {},
   "source": [
    "::: {layout-ncol=2}\n",
    "![Corpus Summary](../50_conc-1.png){.lightbox}\n",
    "\n",
    "![Keywords Report](../50_conc-6.png){.lightbox}\n",
    "\n",
    "![Example Concordance](../50_conc-5.png){.lightbox}\n",
    "\n",
    "![Interactive Concordance Plot](../10_start-1.png){.lightbox}\n",
    ":::"
   ]
  },
  {
   "cell_type": "markdown",
   "metadata": {},
   "source": [
    "## Conc Principles"
   ]
  },
  {
   "cell_type": "markdown",
   "metadata": {},
   "source": [
    "These principles are intended to guide the development of Conc. They come out of my experience working with other corpus analysis software, my experiences writing software for my PhD and what I've learned putting this library together. These are aims intended to give direction to development decisions. \n",
    "\n",
    "* use standard Python libraries for data processing, analysis and visualisation (i.e. [Numpy](https://numpy.org/), [Scipy](https://scipy.org/), [Polars](https://pola.rs), [Plotly](https://plotly.com/python/))\n",
    "* use fast code libraries (i.e. Conc uses [Polars vs Pandas](https://pola.rs/posts/benchmarks/)) and fast data structures (e.g. Numpy arrays, columnar data stores)   \n",
    "* provide clear and complete information when reporting results  \n",
    "* pre-compute time-intensive and repeatedly used views of the data  \n",
    "* work with smaller slices of the data where possible  \n",
    "* cache specific anaysis during a session to reduce computation for repeated calls  \n",
    "* [document corpus representations so that they can be worked with directly](https://geoffford.nz/conc/explanations/anatomy.html)  \n",
    "* [allow researchers to work with Conc results and extend analysis using other Python libraries (e.g. output Pandas dataframes)](https://geoffford.nz/conc/tutorials/recipes.html)  \n",
    "* make use of meta-data to allow within-corpus comparisons and to provide context for analysis  "
   ]
  },
  {
   "cell_type": "code",
   "execution_count": null,
   "metadata": {},
   "outputs": [],
   "source": []
  }
 ],
 "metadata": {
  "kernelspec": {
   "display_name": "python3",
   "language": "python",
   "name": "python3"
  }
 },
 "nbformat": 4,
 "nbformat_minor": 4
}
