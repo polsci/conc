{
 "cells": [
  {
   "cell_type": "markdown",
   "metadata": {},
   "source": [
    "# text\n",
    "\n",
    "> Text document display class."
   ]
  },
  {
   "cell_type": "code",
   "execution_count": null,
   "metadata": {},
   "outputs": [],
   "source": [
    "#| default_exp text"
   ]
  },
  {
   "cell_type": "code",
   "execution_count": null,
   "metadata": {},
   "outputs": [],
   "source": [
    "#| hide\n",
    "from nbdev.showdoc import *"
   ]
  },
  {
   "cell_type": "code",
   "execution_count": null,
   "metadata": {},
   "outputs": [],
   "source": [
    "#| export\n",
    "from __future__ import annotations\n",
    "from fastcore.basics import patch\n",
    "import numpy as np\n",
    "from IPython.display import display, HTML"
   ]
  },
  {
   "cell_type": "code",
   "execution_count": null,
   "metadata": {},
   "outputs": [],
   "source": [
    "#| hide\n",
    "from conc.corpus import Corpus"
   ]
  },
  {
   "cell_type": "code",
   "execution_count": null,
   "metadata": {},
   "outputs": [],
   "source": [
    "#| hide\n",
    "path_to_toy_corpus = '../test-corpora/saved/toy.corpus'\n",
    "path_to_brown_corpus = '../test-corpora/saved/brown.corpus'\n",
    "path_to_reuters_corpus = '../test-corpora/saved/reuters.corpus'"
   ]
  },
  {
   "cell_type": "code",
   "execution_count": null,
   "metadata": {},
   "outputs": [],
   "source": [
    "#| export\n",
    "class Text:\n",
    "\t\"\"\" Class to represent text documents \"\"\"\n",
    "\tdef __init__(self,\n",
    "\t\t\t  tokens:np.ndarray, # list of token strs\n",
    "\t\t\t  has_spaces: np.ndarray # whether token strs followed by space\n",
    "\t\t\t  ): \n",
    "\t\tself.tokens = tokens\n",
    "\t\tself.has_spaces = has_spaces\n"
   ]
  },
  {
   "cell_type": "code",
   "execution_count": null,
   "metadata": {},
   "outputs": [],
   "source": [
    "#| export\n",
    "@patch\n",
    "def _nl2br(self:Text,\n",
    "           text:str # document text\n",
    "           ):\n",
    "    text = text.replace('\\r\\n', '\\n').replace('\\r', '\\n')\n",
    "    return text.replace('\\n', '<br>\\n')"
   ]
  },
  {
   "cell_type": "code",
   "execution_count": null,
   "metadata": {},
   "outputs": [],
   "source": [
    "#| export\n",
    "@patch\n",
    "def _div(self:Text,\n",
    "         text:str, # document text\n",
    "         class_str:str = '' # div class\n",
    "         ):\n",
    "    \"\"\" Wrap text in div, with optional class \"\"\"\n",
    "    if class_str != '':\n",
    "        class_str = f' class=\"{class_str}\"'\n",
    "    return f'<div{class_str}>{text}</div>'"
   ]
  },
  {
   "cell_type": "code",
   "execution_count": null,
   "metadata": {},
   "outputs": [],
   "source": [
    "#| export\n",
    "@patch\n",
    "def as_string(self:Text,\n",
    "        ):\n",
    "    \"\"\" Return the text as a string \"\"\"\n",
    "\n",
    "    interleaved = np.empty((self.tokens.size + self.has_spaces.size,), dtype=self.tokens.dtype)\n",
    "    interleaved[0::2] = self.tokens\n",
    "    interleaved[1::2] = np.where(self.has_spaces, ' ', '')\n",
    "\n",
    "    return ''.join(list(interleaved))"
   ]
  },
  {
   "cell_type": "code",
   "execution_count": null,
   "metadata": {},
   "outputs": [],
   "source": [
    "#| export\n",
    "@patch\n",
    "def as_tokens(self:Text,\n",
    "        ):\n",
    "    \"\"\" Return the text as a tokens \"\"\"\n",
    "\n",
    "    return list(self.tokens)"
   ]
  },
  {
   "cell_type": "code",
   "execution_count": null,
   "metadata": {},
   "outputs": [],
   "source": [
    "#| export\n",
    "@patch\n",
    "def __str__(self:Text):\n",
    "    return self.as_string()"
   ]
  },
  {
   "cell_type": "code",
   "execution_count": null,
   "metadata": {},
   "outputs": [],
   "source": [
    "#| export\n",
    "@patch\n",
    "def tokens_count(self:Text):\n",
    "    return len(self.tokens)"
   ]
  },
  {
   "cell_type": "code",
   "execution_count": null,
   "metadata": {},
   "outputs": [],
   "source": [
    "#| export\n",
    "@patch\n",
    "def display(self:Text,\n",
    "                ):\n",
    "    \"\"\" Output a text \"\"\"\n",
    "    style = '<style>.conc-text {white-space: pre-wrap;}</style>\\n'\n",
    "    display(HTML(style + self._div(self.as_string(), class_str = 'conc-text')))\n"
   ]
  },
  {
   "cell_type": "code",
   "execution_count": null,
   "metadata": {},
   "outputs": [],
   "source": [
    "#| hide\n",
    "toy = Corpus().load(path_to_toy_corpus)\n",
    "brown = Corpus().load(path_to_brown_corpus)"
   ]
  },
  {
   "cell_type": "code",
   "execution_count": null,
   "metadata": {},
   "outputs": [],
   "source": [
    "#| hide\n",
    "text = Text(*toy._get_text(0))\n",
    "assert str(text) == 'The cat sat on the mat.'\n",
    "assert text.as_string() == 'The cat sat on the mat.'\n",
    "assert text.tokens_count() == 7"
   ]
  },
  {
   "cell_type": "code",
   "execution_count": null,
   "metadata": {},
   "outputs": [
    {
     "data": {
      "text/html": [
       "<style>.conc-text {white-space: pre-wrap;}</style>\n",
       "<div class=\"conc-text\">The cat sat on the mat.</div>"
      ],
      "text/plain": [
       "<IPython.core.display.HTML object>"
      ]
     },
     "metadata": {},
     "output_type": "display_data"
    }
   ],
   "source": [
    "#| hide\n",
    "text.display()"
   ]
  },
  {
   "cell_type": "code",
   "execution_count": null,
   "metadata": {},
   "outputs": [],
   "source": [
    "#| hide\n",
    "import nbdev; nbdev.nbdev_export()"
   ]
  },
  {
   "cell_type": "code",
   "execution_count": null,
   "metadata": {},
   "outputs": [],
   "source": []
  }
 ],
 "metadata": {
  "kernelspec": {
   "display_name": "python3",
   "language": "python",
   "name": "python3"
  }
 },
 "nbformat": 4,
 "nbformat_minor": 2
}
