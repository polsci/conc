{
 "cells": [
  {
   "cell_type": "markdown",
   "metadata": {},
   "source": [
    "# Roadmap\n",
    "\n",
    "> An incomplete roadmap for Conc.\n",
    "- toc: false\n",
    "- page-layout: full"
   ]
  },
  {
   "cell_type": "markdown",
   "metadata": {},
   "source": [
    "Conc is in active development and support. The current releases of Conc are Beta releases. \n",
    "\n",
    "It is currently [released as a pip-installable Python package][pypi]. For the latest release, install from Pypi (`pip install conc`). Add the `-U` flag to upgrade if you are already running Conc.\n",
    "\n",
    "The code available on Github may be pre-release and may be ahead of the Pypi release. The code on Github may include bug fixes and new functionality, including development that is in-progress, potentially incomplete or subject to change. For the latest pre-release functionality install from Github (`pip install git+https://github.com/polsci/conc.git`). \n",
    "\n",
    "The [documentation][docs] reflects the most recent functionality. See the Roadmap below for upcoming features and the [CHANGELOG][changelog] for notes on previous releases.  \n",
    "\n",
    "[repo]: https://github.com/polsci/conc\n",
    "[docs]: https://geoffford.nz/conc/\n",
    "[pypi]: https://pypi.org/project/conc/\n",
    "[changelog]: https://github.com/polsci/conc/blob/main/CHANGELOG.md"
   ]
  },
  {
   "cell_type": "markdown",
   "metadata": {},
   "source": [
    "### Short-term\n",
    "\n",
    "- [ ] add tutorial/walkthrough/ getting started notebook\n",
    "- [ ] add citation information\n",
    "- [ ] document use of Conc results in other Python libraries (e.g. Pandas) via tutorial/walkthrough, results module (include link on README principles) \n",
    "- [ ] Corpus tokenize support for functionality from earlier versions of Conc for wildcards, multiple strings, case insensitive tokenization\n",
    "- [ ] extend caching support to all intensive reports, revise storage of cached results for in-memory/disk option\n",
    "- [ ] relegate some logger warnings to debug level and audit logger messages for consistency and clarity for users\n",
    "- [ ] add support for build from datasets library\n",
    "- [ ] raise errors for obvious problems with source data when building corpora (e.g. empty column in csv that is supposed to contain text)\n",
    "- [ ] ngrams method - implement case handling\n",
    "- [ ] get_ngrams_by_index - implement case handling\n",
    "- [ ] improve concordance ordering so not fixed options e.g. include 3R1R2R\n",
    "- [ ] improve ngram support for ngram token position beyond LEFT/RIGHT (i.e. define positions relative to ngram, or ANY)\n",
    "- [ ] concordancing - add in ordering by metadata columns or doc\n",
    "- [ ] annotations support for spaCy POS, TAG, SENT_START, LEMMA \n",
    "- [ ] shift more processing from in-memory to polars with support for streaming or in-memory processing\n",
    "- [ ] revisit polars streaming - potentially implement a batched write for very large files i.e. splitting vocab/tokens files into smaller chunks to reduce memory usage.\n",
    "\n",
    "### Medium-term\n",
    "\n",
    "- [ ] Support for processing backends other than spaCy (i.e. other tokenizers) "
   ]
  },
  {
   "cell_type": "code",
   "execution_count": null,
   "metadata": {},
   "outputs": [],
   "source": []
  }
 ],
 "metadata": {
  "kernelspec": {
   "display_name": "python3",
   "language": "python",
   "name": "python3"
  }
 },
 "nbformat": 4,
 "nbformat_minor": 4
}
