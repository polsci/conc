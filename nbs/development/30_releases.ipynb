{
 "cells": [
  {
   "cell_type": "markdown",
   "metadata": {},
   "source": [
    "# Releases\n",
    "\n",
    "> Information on Conc releases.\n",
    "- toc: false\n",
    "- page-layout: full"
   ]
  },
  {
   "cell_type": "markdown",
   "metadata": {},
   "source": [
    "This page duplicates information from Conc's [CHANGELOG][changelog] in the [Github repository][repo].   \n",
    "\n",
    "[repo]: https://github.com/polsci/conc\n",
    "[docs]: https://geoffford.nz/conc/\n",
    "[pypi]: https://pypi.org/project/conc/\n",
    "[changelog]: https://github.com/polsci/conc/blob/main/CHANGELOG.md"
   ]
  },
  {
   "cell_type": "code",
   "execution_count": null,
   "metadata": {},
   "outputs": [],
   "source": [
    "#| hide\n",
    "from IPython.display import Markdown, display\n",
    "import os"
   ]
  },
  {
   "cell_type": "code",
   "execution_count": null,
   "metadata": {},
   "outputs": [
    {
     "data": {
      "text/markdown": [
       "## [0.1.4] - 2025-06-18 - documentation and test improvements, Result/Text class updates\n",
       "\n",
       "### Added\n",
       "\n",
       "- added tutorials, recipes, install page and other documentation\n",
       "- nox-based pre-release test script for Pythons 3.10+\n",
       "- renderpng.py in scripts to render screenshots for docs\n",
       "- added Result.to_html method to support Text revisions and more flexible output options\n",
       "\n",
       "### Changed\n",
       "\n",
       "- restructured and updated documentation \n",
       "- minor code changes related to documentation clarity (e.g. formatting of corpus_path values from build)\n",
       "- improved Text class HTML output, new functionality in Text to support this\n",
       "- simplified Result class internal structure for more flexible output\n",
       "\n",
       "## [0.1.3] - 2025-06-13 - concordance plot improvements\n",
       "\n",
       "### Changed\n",
       "\n",
       "- concordance plot rewritten in pure HTML/JS/CSS without Plotly/AnyWidget for better performance and portability across Jupyter environments\n",
       "\n",
       "### Removed\n",
       "\n",
       "- AnyWidget dependency (due to rewrite of concordance plot)\n",
       "\n",
       "## [0.1.2] - 2025-06-12 - CI build improvements and new corpora module\n",
       "\n",
       "### Added\n",
       "\n",
       "- exposed concordance plot via Conc interface class\n",
       "- added conc.corpora module\n",
       "- added console script conc_build_sample_corpora to be used in CI\n",
       "- added anywidget dependency for concordance plot\n",
       "\n",
       "### Changed\n",
       "\n",
       "- moved build_test_corpora from conc.core to conc.corpora as build_sample_corpora\n",
       "- raise deprecation error for build_test_corpora\n",
       "- move function from conc.core related to corpus source downloads to conc.corpora\n",
       "- deprecated calls in conc.core log warnings and run new functions in conc.corpora\n",
       "- changed CI workflow to use conc_build_sample_corpora\n",
       "\n",
       "### Fixed\n",
       "\n",
       "- resolve error related to column not found when changing concordance context lengths\n",
       "\n",
       "## [0.1.1] - 2025-06-10 - Dependency fix\n",
       "\n",
       "### Fixed\n",
       "\n",
       "- move memory_profiler from dev to main dependencies\n",
       "\n",
       "## [0.1.0] - 2025-06-09 - Initial release\n",
       "\n",
       "Initial release of Conc\n"
      ],
      "text/plain": [
       "<IPython.core.display.Markdown object>"
      ]
     },
     "metadata": {},
     "output_type": "display_data"
    }
   ],
   "source": [
    "#| echo: false\n",
    "current_path = os.getcwd()\n",
    "path_to_changelog = None\n",
    "while not path_to_changelog and current_path != '/':\n",
    "    if os.path.exists(os.path.join(current_path, 'CHANGELOG.md')):\n",
    "        path_to_changelog = os.path.join(current_path, 'CHANGELOG.md')\n",
    "    if not path_to_changelog:\n",
    "        current_path = os.path.dirname(current_path)\n",
    "\n",
    "if path_to_changelog is not None:\n",
    "    with open(f'{path_to_changelog}', 'rb') as f:\n",
    "        markdown = f.read().decode('utf-8')\n",
    "        markdown = '## '.join(markdown.split('## ')[1:])\n",
    "        markdown = '## ' + markdown\n",
    "        display(Markdown(markdown))"
   ]
  },
  {
   "cell_type": "code",
   "execution_count": null,
   "metadata": {},
   "outputs": [],
   "source": []
  }
 ],
 "metadata": {
  "kernelspec": {
   "display_name": "python3",
   "language": "python",
   "name": "python3"
  }
 },
 "nbformat": 4,
 "nbformat_minor": 4
}
