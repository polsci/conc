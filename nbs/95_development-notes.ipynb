{
 "cells": [
  {
   "cell_type": "markdown",
   "id": "d87c497e",
   "metadata": {},
   "source": [
    "# Development notes"
   ]
  },
  {
   "cell_type": "markdown",
   "id": "f4e62b45",
   "metadata": {},
   "source": [
    "## Roadmap"
   ]
  },
  {
   "cell_type": "markdown",
   "id": "839b2a72",
   "metadata": {},
   "source": [
    "- document ids and other metadata as concordance order by criteria  \n"
   ]
  },
  {
   "cell_type": "markdown",
   "id": "a6ca27dc",
   "metadata": {},
   "source": [
    "## Reminder of spaCy attributes"
   ]
  },
  {
   "cell_type": "code",
   "execution_count": null,
   "id": "fdd925f3",
   "metadata": {},
   "outputs": [],
   "source": [
    "import spacy.attrs"
   ]
  },
  {
   "cell_type": "markdown",
   "id": "51803a1e",
   "metadata": {},
   "source": [
    "This is a quick reminder of the available spacy attributes that can be output for a doc (depending on the model and pipe settings)"
   ]
  },
  {
   "cell_type": "code",
   "execution_count": null,
   "id": "b8c8df49",
   "metadata": {},
   "outputs": [
    {
     "name": "stdout",
     "output_type": "stream",
     "text": [
      "IS_ALPHA: 1\n",
      "IS_ASCII: 2\n",
      "IS_DIGIT: 3\n",
      "IS_LOWER: 4\n",
      "IS_PUNCT: 5\n",
      "IS_SPACE: 6\n",
      "IS_TITLE: 7\n",
      "IS_UPPER: 8\n",
      "LIKE_URL: 9\n",
      "LIKE_NUM: 10\n",
      "LIKE_EMAIL: 11\n",
      "IS_STOP: 12\n",
      "IS_OOV_DEPRECATED: 13\n",
      "IS_BRACKET: 14\n",
      "IS_QUOTE: 15\n",
      "IS_LEFT_PUNCT: 16\n",
      "IS_RIGHT_PUNCT: 17\n",
      "IS_CURRENCY: 18\n",
      "ID: 64\n",
      "ORTH: 65\n",
      "LOWER: 66\n",
      "NORM: 67\n",
      "SHAPE: 68\n",
      "PREFIX: 69\n",
      "SUFFIX: 70\n",
      "LENGTH: 71\n",
      "LEMMA: 73\n",
      "POS: 74\n",
      "TAG: 75\n",
      "DEP: 76\n",
      "ENT_IOB: 77\n",
      "ENT_TYPE: 78\n",
      "ENT_ID: 454\n",
      "ENT_KB_ID: 452\n",
      "HEAD: 79\n",
      "SENT_START: 80\n",
      "SPACY: 81\n",
      "LANG: 83\n",
      "MORPH: 453\n",
      "IDX: 455\n"
     ]
    }
   ],
   "source": [
    "for attr in spacy.attrs.IDS:\n",
    "\tif attr and not attr.startswith('FLAG'):\n",
    "\t\tprint(f'{attr}: {spacy.attrs.IDS[attr]}')"
   ]
  },
  {
   "cell_type": "code",
   "execution_count": null,
   "id": "07d4cc90",
   "metadata": {},
   "outputs": [],
   "source": []
  }
 ],
 "metadata": {
  "kernelspec": {
   "display_name": "python3",
   "language": "python",
   "name": "python3"
  }
 },
 "nbformat": 4,
 "nbformat_minor": 5
}
