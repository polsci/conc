{
 "cells": [
  {
   "cell_type": "markdown",
   "metadata": {},
   "source": [
    "# text\n",
    "\n",
    "> Text document display class.\n",
    "- toc: false\n",
    "- page-layout: full"
   ]
  },
  {
   "cell_type": "code",
   "execution_count": null,
   "metadata": {},
   "outputs": [],
   "source": [
    "#| default_exp text"
   ]
  },
  {
   "cell_type": "code",
   "execution_count": null,
   "metadata": {},
   "outputs": [],
   "source": [
    "#| hide\n",
    "from nbdev.showdoc import *"
   ]
  },
  {
   "cell_type": "code",
   "execution_count": null,
   "metadata": {},
   "outputs": [],
   "source": [
    "#| export\n",
    "from __future__ import annotations\n",
    "from fastcore.basics import patch\n",
    "import numpy as np\n",
    "from IPython.display import display, HTML\n",
    "import polars as pl"
   ]
  },
  {
   "cell_type": "code",
   "execution_count": null,
   "metadata": {},
   "outputs": [],
   "source": [
    "#| hide\n",
    "from conc.corpus import Corpus\n",
    "import os"
   ]
  },
  {
   "cell_type": "code",
   "execution_count": null,
   "metadata": {},
   "outputs": [],
   "source": [
    "#| export\n",
    "from conc.result import Result"
   ]
  },
  {
   "cell_type": "code",
   "execution_count": null,
   "metadata": {},
   "outputs": [],
   "source": [
    "#| hide\n",
    "source_path = f'{os.environ.get(\"HOME\")}/data/'\n",
    "save_path = f'{os.environ.get(\"HOME\")}/data/conc-test-corpora/'\n",
    "\n",
    "path_to_toy_corpus = f'{save_path}toy.corpus'\n",
    "path_to_brown_corpus = f'{save_path}brown.corpus'\n",
    "path_to_reuters_corpus = f'{save_path}reuters.corpus'\n",
    "path_to_gardenparty_corpus = f'{save_path}garden-party.corpus'"
   ]
  },
  {
   "cell_type": "code",
   "execution_count": null,
   "metadata": {},
   "outputs": [],
   "source": [
    "#| export\n",
    "class Text:\n",
    "\t\"\"\" Class to represent text documents \"\"\"\n",
    "\tdef __init__(self,\n",
    "\t\t\t  tokens:np.ndarray, # list of token strs\n",
    "\t\t\t  has_spaces: np.ndarray, # whether token strs followed by space\n",
    "\t\t\t  metadata: dict = {}, # metadata for doc as a dict\n",
    "\t\t\t  doc_df: pl.DataFrame = None # if provided can be used for enhanced display (e.g. keyword highlighting)\n",
    "\t\t\t  ): \n",
    "\t\tself.tokens = tokens\n",
    "\t\tself.has_spaces = has_spaces\n",
    "\t\tself.metadata = metadata\n",
    "\t\tself.doc_df = doc_df"
   ]
  },
  {
   "cell_type": "code",
   "execution_count": null,
   "metadata": {},
   "outputs": [],
   "source": [
    "#| export\n",
    "@patch\n",
    "def _nl2br(self:Text,\n",
    "           text:str # document text\n",
    "           ):\n",
    "    text = text.replace('\\r\\n', '\\n').replace('\\r', '\\n')\n",
    "    return text.replace('\\n', '<br>\\n')"
   ]
  },
  {
   "cell_type": "code",
   "execution_count": null,
   "metadata": {},
   "outputs": [],
   "source": [
    "#| export\n",
    "@patch\n",
    "def _div(self:Text,\n",
    "         text:str, # document text\n",
    "         class_str:str = '' # div class\n",
    "         ):\n",
    "    \"\"\" Wrap text in div, with optional class \"\"\"\n",
    "    if class_str != '':\n",
    "        class_str = f' class=\"{class_str}\"'\n",
    "    return f'<div{class_str}>{text}</div>'"
   ]
  },
  {
   "cell_type": "code",
   "execution_count": null,
   "metadata": {},
   "outputs": [],
   "source": [
    "#| exporti\n",
    "@patch\n",
    "def corpus_position_to_doc_position(self:Text,\n",
    "                                      corpus:Corpus, # corpus object\n",
    "                                      pos:int # position in corpus\n",
    "                                      ) -> int:\n",
    "    \"\"\" Convert corpus position to document position \"\"\"\n",
    "\n",
    "    doc_pos = self.doc_df.with_row_index('doc_position').filter((pl.col('position') == pos) & (pl.col('not_space') == 1)).select(pl.col('doc_position')).collect().item()\n",
    "    return doc_pos\n"
   ]
  },
  {
   "cell_type": "code",
   "execution_count": null,
   "metadata": {},
   "outputs": [],
   "source": [
    "#| export\n",
    "@patch\n",
    "def as_string(self:Text,\n",
    "              max_tokens: int|None = None, # maximum length of text to display in tokens, if None, display all\n",
    "              highlighted_token_range: tuple|None = None # range of tokens to highlight, note: these token ids are positions within the corpus, not the text itself\n",
    "        ):\n",
    "    \"\"\" Return the text as a string \"\"\"\n",
    "\n",
    "    interleaved = np.empty((self.tokens.size + self.has_spaces.size,), dtype=self.tokens.dtype)\n",
    "    \n",
    "    if self.doc_df is not None and highlighted_token_range is not None:\n",
    "        doc_pos_start = self.corpus_position_to_doc_position(self.doc_df, highlighted_token_range[0])\n",
    "        doc_pos_end = self.corpus_position_to_doc_position(self.doc_df, highlighted_token_range[1])\n",
    "        tokens_with_highlight = self.tokens.copy()\n",
    "        tokens_with_highlight[doc_pos_start] = f'<span class=\"highlight\">{tokens_with_highlight[doc_pos_start]}'\n",
    "        tokens_with_highlight[doc_pos_end] = f'{tokens_with_highlight[doc_pos_end]}</span>'\n",
    "        interleaved[0::2] = self.tokens\n",
    "    else:\n",
    "        interleaved[0::2] = self.tokens\n",
    "    interleaved[1::2] = np.where(self.has_spaces, ' ', '')\n",
    "\n",
    "    if max_tokens is not None and self.tokens.size > max_tokens:\n",
    "        interleaved = interleaved[:max_tokens * 2]\n",
    "        interleaved[-1] = ''\n",
    "\n",
    "    return ''.join(list(interleaved))"
   ]
  },
  {
   "cell_type": "code",
   "execution_count": null,
   "metadata": {},
   "outputs": [],
   "source": [
    "#| export\n",
    "@patch\n",
    "def as_tokens(self:Text,\n",
    "        ):\n",
    "    \"\"\" Return the text as a tokens \"\"\"\n",
    "\n",
    "    return list(self.tokens)"
   ]
  },
  {
   "cell_type": "code",
   "execution_count": null,
   "metadata": {},
   "outputs": [],
   "source": [
    "#| export\n",
    "@patch\n",
    "def __str__(self:Text):\n",
    "    return self.as_string()"
   ]
  },
  {
   "cell_type": "code",
   "execution_count": null,
   "metadata": {},
   "outputs": [],
   "source": [
    "#| export\n",
    "@patch\n",
    "def tokens_count(self:Text):\n",
    "    return len(self.tokens)"
   ]
  },
  {
   "cell_type": "code",
   "execution_count": null,
   "metadata": {},
   "outputs": [],
   "source": [
    "#| export\n",
    "@patch\n",
    "def display_metadata(self:Text,\n",
    "                ):\n",
    "    \"\"\" Output the metadata for a text \"\"\"\n",
    "\n",
    "    Result('metadata', self.metadata.transpose(include_header = True, header_name = 'attribute', column_names = ['value']), 'Metadata', '', {}, []).display()\n"
   ]
  },
  {
   "cell_type": "code",
   "execution_count": null,
   "metadata": {},
   "outputs": [],
   "source": [
    "#| export\n",
    "@patch\n",
    "def get_metadata(self:Text,\n",
    "                ):\n",
    "    \"\"\" Output the metadata for a text \"\"\"\n",
    "\n",
    "    return Result('metadata', self.metadata.transpose(include_header = True, header_name = 'attribute', column_names = ['value']), 'Metadata', '', {}, [])"
   ]
  },
  {
   "cell_type": "code",
   "execution_count": null,
   "metadata": {},
   "outputs": [],
   "source": [
    "#| export\n",
    "@patch\n",
    "def display(self:Text,\n",
    "\t\t\tshow_metadata: bool = True, # whether to display Metadata for the text\n",
    "\t\t\tmax_tokens: int|None = None # maximum length of text to display in tokens, if None, display all\n",
    "\t\t\t\t):\n",
    "\t\"\"\" Output a text \"\"\"\n",
    "\tstyle = '''\n",
    "\t<style>\n",
    "\t.conc-text-wrapper { background: #fff; color: #000; border: 1px solid #000;border-radius: 0.5em;width: max-content;padding: 0.3em; min-width: 400px;} \n",
    "\t.conc-text {margin:0.3em; white-space: pre-wrap; font-family: Georgia, Cambria, \"Times New Roman\", Times, serif;font-size: 1.3em; width: max-content;}\n",
    "  </style>\n",
    "\t'''\n",
    "\tmetadata = ''\n",
    "\tif show_metadata:\n",
    "\t\tmetadata = self.get_metadata().to_html()\n",
    "\n",
    "\ttext_string = self.as_string(max_tokens = max_tokens)\n",
    "\n",
    "\tif max_tokens is not None and self.tokens.size > max_tokens:\n",
    "\t\ttext_string += f'…\\n[{max_tokens} of {self.tokens.size} tokens]'\n",
    "\n",
    "\tdisplay(HTML(style + self._div(metadata + self._div(text_string, class_str = 'conc-text'), class_str = 'conc-text-wrapper')))\n"
   ]
  },
  {
   "cell_type": "code",
   "execution_count": null,
   "metadata": {},
   "outputs": [],
   "source": [
    "#| hide\n",
    "toy = Corpus().load(path_to_toy_corpus)\n",
    "brown = Corpus().load(path_to_brown_corpus)\n",
    "gardenparty = Corpus().load(path_to_gardenparty_corpus)"
   ]
  },
  {
   "cell_type": "code",
   "execution_count": null,
   "metadata": {},
   "outputs": [],
   "source": [
    "#| hide\n",
    "text = Text(*toy._get_text(1))\n",
    "assert str(text) == 'The cat sat on the mat.'\n",
    "assert text.as_string() == 'The cat sat on the mat.'\n",
    "assert text.tokens_count() == 7"
   ]
  },
  {
   "cell_type": "code",
   "execution_count": null,
   "metadata": {},
   "outputs": [
    {
     "data": {
      "text/html": [
       "\n",
       "\t<style>\n",
       "\t.conc-text-wrapper { background: #fff; color: #000; border: 1px solid #000;border-radius: 0.5em;width: max-content;padding: 0.3em; min-width: 400px;} \n",
       "\t.conc-text {margin:0.3em; white-space: pre-wrap; font-family: Georgia, Cambria, \"Times New Roman\", Times, serif;font-size: 1.3em; width: max-content;}\n",
       "  </style>\n",
       "\t<div class=\"conc-text-wrapper\"><div id=\"arbxuuavwz\" style=\"padding-left:0px;padding-right:0px;padding-top:10px;padding-bottom:10px;overflow-x:auto;overflow-y:auto;width:auto;height:auto;\">\n",
       "<style>\n",
       "#arbxuuavwz table {\n",
       "          font-family: -apple-system, BlinkMacSystemFont, 'Segoe UI', Roboto, Oxygen, Ubuntu, Cantarell, 'Helvetica Neue', 'Fira Sans', 'Droid Sans', Arial, sans-serif;\n",
       "          -webkit-font-smoothing: antialiased;\n",
       "          -moz-osx-font-smoothing: grayscale;\n",
       "        }\n",
       "\n",
       "#arbxuuavwz thead, tbody, tfoot, tr, td, th { border-style: none; }\n",
       " tr { background-color: transparent; }\n",
       "#arbxuuavwz p { margin: 0; padding: 0; }\n",
       " #arbxuuavwz .gt_table { display: table; border-collapse: collapse; line-height: normal; margin-left: 0; margin-right: auto; color: #333333; font-size: 16px; font-weight: normal; font-style: normal; background-color: #FFFFFF; width: auto; border-top-style: solid; border-top-width: 2px; border-top-color: #A8A8A8; border-right-style: none; border-right-width: 2px; border-right-color: #D3D3D3; border-bottom-style: solid; border-bottom-width: 2px; border-bottom-color: #A8A8A8; border-left-style: none; border-left-width: 2px; border-left-color: #D3D3D3; }\n",
       " #arbxuuavwz .gt_caption { padding-top: 4px; padding-bottom: 4px; }\n",
       " #arbxuuavwz .gt_title { color: #333333; font-size: 125%; font-weight: initial; padding-top: 4px; padding-bottom: 4px; padding-left: 5px; padding-right: 5px; border-bottom-color: #FFFFFF; border-bottom-width: 0; }\n",
       " #arbxuuavwz .gt_subtitle { color: #333333; font-size: 85%; font-weight: initial; padding-top: 3px; padding-bottom: 5px; padding-left: 5px; padding-right: 5px; border-top-color: #FFFFFF; border-top-width: 0; }\n",
       " #arbxuuavwz .gt_heading { background-color: #FFFFFF; text-align: center; border-bottom-color: #FFFFFF; border-left-style: none; border-left-width: 1px; border-left-color: #D3D3D3; border-right-style: none; border-right-width: 1px; border-right-color: #D3D3D3; }\n",
       " #arbxuuavwz .gt_bottom_border { border-bottom-style: solid; border-bottom-width: 2px; border-bottom-color: #D3D3D3; }\n",
       " #arbxuuavwz .gt_col_headings { border-top-style: solid; border-top-width: 2px; border-top-color: #D3D3D3; border-bottom-style: solid; border-bottom-width: 2px; border-bottom-color: #D3D3D3; border-left-style: none; border-left-width: 1px; border-left-color: #D3D3D3; border-right-style: none; border-right-width: 1px; border-right-color: #D3D3D3; }\n",
       " #arbxuuavwz .gt_col_heading { color: #333333; background-color: #FFFFFF; font-size: 100%; font-weight: normal; text-transform: inherit; border-left-style: none; border-left-width: 1px; border-left-color: #D3D3D3; border-right-style: none; border-right-width: 1px; border-right-color: #D3D3D3; vertical-align: bottom; padding-top: 5px; padding-bottom: 5px; padding-left: 5px; padding-right: 5px; overflow-x: hidden; }\n",
       " #arbxuuavwz .gt_column_spanner_outer { color: #333333; background-color: #FFFFFF; font-size: 100%; font-weight: normal; text-transform: inherit; padding-top: 0; padding-bottom: 0; padding-left: 4px; padding-right: 4px; }\n",
       " #arbxuuavwz .gt_column_spanner_outer:first-child { padding-left: 0; }\n",
       " #arbxuuavwz .gt_column_spanner_outer:last-child { padding-right: 0; }\n",
       " #arbxuuavwz .gt_column_spanner { border-bottom-style: solid; border-bottom-width: 2px; border-bottom-color: #D3D3D3; vertical-align: bottom; padding-top: 5px; padding-bottom: 5px; overflow-x: hidden; display: inline-block; width: 100%; }\n",
       " #arbxuuavwz .gt_spanner_row { border-bottom-style: hidden; }\n",
       " #arbxuuavwz .gt_group_heading { padding-top: 8px; padding-bottom: 8px; padding-left: 5px; padding-right: 5px; color: #333333; background-color: #FFFFFF; font-size: 100%; font-weight: initial; text-transform: inherit; border-top-style: solid; border-top-width: 2px; border-top-color: #D3D3D3; border-bottom-style: solid; border-bottom-width: 2px; border-bottom-color: #D3D3D3; border-left-style: none; border-left-width: 1px; border-left-color: #D3D3D3; border-right-style: none; border-right-width: 1px; border-right-color: #D3D3D3; vertical-align: middle; text-align: left; }\n",
       " #arbxuuavwz .gt_empty_group_heading { padding: 0.5px; color: #333333; background-color: #FFFFFF; font-size: 100%; font-weight: initial; border-top-style: solid; border-top-width: 2px; border-top-color: #D3D3D3; border-bottom-style: solid; border-bottom-width: 2px; border-bottom-color: #D3D3D3; vertical-align: middle; }\n",
       " #arbxuuavwz .gt_from_md> :first-child { margin-top: 0; }\n",
       " #arbxuuavwz .gt_from_md> :last-child { margin-bottom: 0; }\n",
       " #arbxuuavwz .gt_row { padding-top: 8px; padding-bottom: 8px; padding-left: 5px; padding-right: 5px; margin: 10px; border-top-style: solid; border-top-width: 1px; border-top-color: #D3D3D3; border-left-style: none; border-left-width: 1px; border-left-color: #D3D3D3; border-right-style: none; border-right-width: 1px; border-right-color: #D3D3D3; vertical-align: middle; overflow-x: hidden; }\n",
       " #arbxuuavwz .gt_stub { color: #333333; background-color: #FFFFFF; font-size: 100%; font-weight: initial; text-transform: inherit; border-right-style: solid; border-right-width: 2px; border-right-color: #D3D3D3; padding-left: 5px; padding-right: 5px; }\n",
       " #arbxuuavwz .gt_stub_row_group { color: #333333; background-color: #FFFFFF; font-size: 100%; font-weight: initial; text-transform: inherit; border-right-style: solid; border-right-width: 2px; border-right-color: #D3D3D3; padding-left: 5px; padding-right: 5px; vertical-align: top; }\n",
       " #arbxuuavwz .gt_row_group_first td { border-top-width: 2px; }\n",
       " #arbxuuavwz .gt_row_group_first th { border-top-width: 2px; }\n",
       " #arbxuuavwz .gt_striped { background-color: rgba(128,128,128,0.05); }\n",
       " #arbxuuavwz .gt_table_body { border-top-style: solid; border-top-width: 2px; border-top-color: #D3D3D3; border-bottom-style: solid; border-bottom-width: 2px; border-bottom-color: #D3D3D3; }\n",
       " #arbxuuavwz .gt_sourcenotes { color: #333333; background-color: #FFFFFF; border-bottom-style: none; border-bottom-width: 2px; border-bottom-color: #D3D3D3; border-left-style: none; border-left-width: 2px; border-left-color: #D3D3D3; border-right-style: none; border-right-width: 2px; border-right-color: #D3D3D3; }\n",
       " #arbxuuavwz .gt_sourcenote { font-size: 90%; padding-top: 4px; padding-bottom: 4px; padding-left: 5px; padding-right: 5px; text-align: left; }\n",
       " #arbxuuavwz .gt_left { text-align: left; }\n",
       " #arbxuuavwz .gt_center { text-align: center; }\n",
       " #arbxuuavwz .gt_right { text-align: right; font-variant-numeric: tabular-nums; }\n",
       " #arbxuuavwz .gt_font_normal { font-weight: normal; }\n",
       " #arbxuuavwz .gt_font_bold { font-weight: bold; }\n",
       " #arbxuuavwz .gt_font_italic { font-style: italic; }\n",
       " #arbxuuavwz .gt_super { font-size: 65%; }\n",
       " #arbxuuavwz .gt_footnote_marks { font-size: 75%; vertical-align: 0.4em; position: initial; }\n",
       " #arbxuuavwz .gt_asterisk { font-size: 100%; vertical-align: 0; }\n",
       " \n",
       "</style>\n",
       "<table class=\"gt_table\" data-quarto-disable-processing=\"false\" data-quarto-bootstrap=\"false\">\n",
       "<thead>\n",
       "\n",
       "  <tr class=\"gt_heading\">\n",
       "    <td colspan=\"2\" class=\"gt_heading gt_title gt_font_normal\">Metadata</td>\n",
       "  </tr>\n",
       "  <tr class=\"gt_heading\">\n",
       "    <td colspan=\"2\" class=\"gt_heading gt_subtitle gt_font_normal gt_bottom_border\"></td>\n",
       "  </tr>\n",
       "<tr class=\"gt_col_headings\">\n",
       "  <th class=\"gt_col_heading gt_columns_bottom_border gt_left\" rowspan=\"1\" colspan=\"1\" scope=\"col\" id=\"Attribute\">Attribute</th>\n",
       "  <th class=\"gt_col_heading gt_columns_bottom_border gt_left\" rowspan=\"1\" colspan=\"1\" scope=\"col\" id=\"Value\">Value</th>\n",
       "</tr>\n",
       "</thead>\n",
       "<tbody class=\"gt_table_body\">\n",
       "  <tr>\n",
       "    <td class=\"gt_row gt_left\">document_id</td>\n",
       "    <td class=\"gt_row gt_left\">1</td>\n",
       "  </tr>\n",
       "  <tr>\n",
       "    <td class=\"gt_row gt_left\">source</td>\n",
       "    <td class=\"gt_row gt_left\">1.txt</td>\n",
       "  </tr>\n",
       "</tbody>\n",
       "\n",
       "\n",
       "</table>\n",
       "\n",
       "</div>\n",
       "        <div class=\"conc-text\">The cat sat on the mat.</div></div>"
      ],
      "text/plain": [
       "<IPython.core.display.HTML object>"
      ]
     },
     "metadata": {},
     "output_type": "display_data"
    }
   ],
   "source": [
    "#| hide\n",
    "text.display()"
   ]
  },
  {
   "cell_type": "code",
   "execution_count": null,
   "metadata": {},
   "outputs": [],
   "source": [
    "#| hide\n",
    "# NOTE:\n",
    "# commands below use a Corpus object. Text is a class that is used by Corpus to represent text documents.\n",
    "# if changing text above - these won't be reflected below until reexported and restart kernel and rerun."
   ]
  },
  {
   "cell_type": "code",
   "execution_count": null,
   "metadata": {},
   "outputs": [],
   "source": [
    "#| hide\n",
    "# testing on more complex text with spaces\n",
    "assert brown.text(1).as_string() == open(f'{source_path}brown/ca01.txt', encoding = 'utf8').read()"
   ]
  },
  {
   "cell_type": "code",
   "execution_count": null,
   "metadata": {},
   "outputs": [
    {
     "name": "stdout",
     "output_type": "stream",
     "text": [
      "663 handkerchief\n"
     ]
    }
   ],
   "source": [
    "#| hide\n",
    "# test retrieval of specific token by position with new doc_df\n",
    "doc_id = 4\n",
    "pos = 22487\n",
    "doc_pos = gardenparty.text(doc_id).doc_df.with_row_index('doc_position').filter(pl.col('position') == pos).select(pl.col('doc_position')).collect().item() \n",
    "print(doc_pos, gardenparty.text(4).tokens[doc_pos])"
   ]
  },
  {
   "cell_type": "code",
   "execution_count": null,
   "metadata": {},
   "outputs": [
    {
     "data": {
      "text/html": [
       "\n",
       "\t<style>\n",
       "\t.conc-text-wrapper { background: #fff; color: #000; border: 1px solid #000;border-radius: 0.5em;width: max-content;padding: 0.3em; min-width: 400px;} \n",
       "\t.conc-text {margin:0.3em; white-space: pre-wrap; font-family: Georgia, Cambria, \"Times New Roman\", Times, serif;font-size: 1.3em; width: max-content;}\n",
       "  </style>\n",
       "\t<div class=\"conc-text-wrapper\"><div id=\"hpkkbshurh\" style=\"padding-left:0px;padding-right:0px;padding-top:10px;padding-bottom:10px;overflow-x:auto;overflow-y:auto;width:auto;height:auto;\">\n",
       "<style>\n",
       "#hpkkbshurh table {\n",
       "          font-family: -apple-system, BlinkMacSystemFont, 'Segoe UI', Roboto, Oxygen, Ubuntu, Cantarell, 'Helvetica Neue', 'Fira Sans', 'Droid Sans', Arial, sans-serif;\n",
       "          -webkit-font-smoothing: antialiased;\n",
       "          -moz-osx-font-smoothing: grayscale;\n",
       "        }\n",
       "\n",
       "#hpkkbshurh thead, tbody, tfoot, tr, td, th { border-style: none; }\n",
       " tr { background-color: transparent; }\n",
       "#hpkkbshurh p { margin: 0; padding: 0; }\n",
       " #hpkkbshurh .gt_table { display: table; border-collapse: collapse; line-height: normal; margin-left: 0; margin-right: auto; color: #333333; font-size: 16px; font-weight: normal; font-style: normal; background-color: #FFFFFF; width: auto; border-top-style: solid; border-top-width: 2px; border-top-color: #A8A8A8; border-right-style: none; border-right-width: 2px; border-right-color: #D3D3D3; border-bottom-style: solid; border-bottom-width: 2px; border-bottom-color: #A8A8A8; border-left-style: none; border-left-width: 2px; border-left-color: #D3D3D3; }\n",
       " #hpkkbshurh .gt_caption { padding-top: 4px; padding-bottom: 4px; }\n",
       " #hpkkbshurh .gt_title { color: #333333; font-size: 125%; font-weight: initial; padding-top: 4px; padding-bottom: 4px; padding-left: 5px; padding-right: 5px; border-bottom-color: #FFFFFF; border-bottom-width: 0; }\n",
       " #hpkkbshurh .gt_subtitle { color: #333333; font-size: 85%; font-weight: initial; padding-top: 3px; padding-bottom: 5px; padding-left: 5px; padding-right: 5px; border-top-color: #FFFFFF; border-top-width: 0; }\n",
       " #hpkkbshurh .gt_heading { background-color: #FFFFFF; text-align: center; border-bottom-color: #FFFFFF; border-left-style: none; border-left-width: 1px; border-left-color: #D3D3D3; border-right-style: none; border-right-width: 1px; border-right-color: #D3D3D3; }\n",
       " #hpkkbshurh .gt_bottom_border { border-bottom-style: solid; border-bottom-width: 2px; border-bottom-color: #D3D3D3; }\n",
       " #hpkkbshurh .gt_col_headings { border-top-style: solid; border-top-width: 2px; border-top-color: #D3D3D3; border-bottom-style: solid; border-bottom-width: 2px; border-bottom-color: #D3D3D3; border-left-style: none; border-left-width: 1px; border-left-color: #D3D3D3; border-right-style: none; border-right-width: 1px; border-right-color: #D3D3D3; }\n",
       " #hpkkbshurh .gt_col_heading { color: #333333; background-color: #FFFFFF; font-size: 100%; font-weight: normal; text-transform: inherit; border-left-style: none; border-left-width: 1px; border-left-color: #D3D3D3; border-right-style: none; border-right-width: 1px; border-right-color: #D3D3D3; vertical-align: bottom; padding-top: 5px; padding-bottom: 5px; padding-left: 5px; padding-right: 5px; overflow-x: hidden; }\n",
       " #hpkkbshurh .gt_column_spanner_outer { color: #333333; background-color: #FFFFFF; font-size: 100%; font-weight: normal; text-transform: inherit; padding-top: 0; padding-bottom: 0; padding-left: 4px; padding-right: 4px; }\n",
       " #hpkkbshurh .gt_column_spanner_outer:first-child { padding-left: 0; }\n",
       " #hpkkbshurh .gt_column_spanner_outer:last-child { padding-right: 0; }\n",
       " #hpkkbshurh .gt_column_spanner { border-bottom-style: solid; border-bottom-width: 2px; border-bottom-color: #D3D3D3; vertical-align: bottom; padding-top: 5px; padding-bottom: 5px; overflow-x: hidden; display: inline-block; width: 100%; }\n",
       " #hpkkbshurh .gt_spanner_row { border-bottom-style: hidden; }\n",
       " #hpkkbshurh .gt_group_heading { padding-top: 8px; padding-bottom: 8px; padding-left: 5px; padding-right: 5px; color: #333333; background-color: #FFFFFF; font-size: 100%; font-weight: initial; text-transform: inherit; border-top-style: solid; border-top-width: 2px; border-top-color: #D3D3D3; border-bottom-style: solid; border-bottom-width: 2px; border-bottom-color: #D3D3D3; border-left-style: none; border-left-width: 1px; border-left-color: #D3D3D3; border-right-style: none; border-right-width: 1px; border-right-color: #D3D3D3; vertical-align: middle; text-align: left; }\n",
       " #hpkkbshurh .gt_empty_group_heading { padding: 0.5px; color: #333333; background-color: #FFFFFF; font-size: 100%; font-weight: initial; border-top-style: solid; border-top-width: 2px; border-top-color: #D3D3D3; border-bottom-style: solid; border-bottom-width: 2px; border-bottom-color: #D3D3D3; vertical-align: middle; }\n",
       " #hpkkbshurh .gt_from_md> :first-child { margin-top: 0; }\n",
       " #hpkkbshurh .gt_from_md> :last-child { margin-bottom: 0; }\n",
       " #hpkkbshurh .gt_row { padding-top: 8px; padding-bottom: 8px; padding-left: 5px; padding-right: 5px; margin: 10px; border-top-style: solid; border-top-width: 1px; border-top-color: #D3D3D3; border-left-style: none; border-left-width: 1px; border-left-color: #D3D3D3; border-right-style: none; border-right-width: 1px; border-right-color: #D3D3D3; vertical-align: middle; overflow-x: hidden; }\n",
       " #hpkkbshurh .gt_stub { color: #333333; background-color: #FFFFFF; font-size: 100%; font-weight: initial; text-transform: inherit; border-right-style: solid; border-right-width: 2px; border-right-color: #D3D3D3; padding-left: 5px; padding-right: 5px; }\n",
       " #hpkkbshurh .gt_stub_row_group { color: #333333; background-color: #FFFFFF; font-size: 100%; font-weight: initial; text-transform: inherit; border-right-style: solid; border-right-width: 2px; border-right-color: #D3D3D3; padding-left: 5px; padding-right: 5px; vertical-align: top; }\n",
       " #hpkkbshurh .gt_row_group_first td { border-top-width: 2px; }\n",
       " #hpkkbshurh .gt_row_group_first th { border-top-width: 2px; }\n",
       " #hpkkbshurh .gt_striped { background-color: rgba(128,128,128,0.05); }\n",
       " #hpkkbshurh .gt_table_body { border-top-style: solid; border-top-width: 2px; border-top-color: #D3D3D3; border-bottom-style: solid; border-bottom-width: 2px; border-bottom-color: #D3D3D3; }\n",
       " #hpkkbshurh .gt_sourcenotes { color: #333333; background-color: #FFFFFF; border-bottom-style: none; border-bottom-width: 2px; border-bottom-color: #D3D3D3; border-left-style: none; border-left-width: 2px; border-left-color: #D3D3D3; border-right-style: none; border-right-width: 2px; border-right-color: #D3D3D3; }\n",
       " #hpkkbshurh .gt_sourcenote { font-size: 90%; padding-top: 4px; padding-bottom: 4px; padding-left: 5px; padding-right: 5px; text-align: left; }\n",
       " #hpkkbshurh .gt_left { text-align: left; }\n",
       " #hpkkbshurh .gt_center { text-align: center; }\n",
       " #hpkkbshurh .gt_right { text-align: right; font-variant-numeric: tabular-nums; }\n",
       " #hpkkbshurh .gt_font_normal { font-weight: normal; }\n",
       " #hpkkbshurh .gt_font_bold { font-weight: bold; }\n",
       " #hpkkbshurh .gt_font_italic { font-style: italic; }\n",
       " #hpkkbshurh .gt_super { font-size: 65%; }\n",
       " #hpkkbshurh .gt_footnote_marks { font-size: 75%; vertical-align: 0.4em; position: initial; }\n",
       " #hpkkbshurh .gt_asterisk { font-size: 100%; vertical-align: 0; }\n",
       " \n",
       "</style>\n",
       "<table class=\"gt_table\" data-quarto-disable-processing=\"false\" data-quarto-bootstrap=\"false\">\n",
       "<thead>\n",
       "\n",
       "  <tr class=\"gt_heading\">\n",
       "    <td colspan=\"2\" class=\"gt_heading gt_title gt_font_normal\">Metadata</td>\n",
       "  </tr>\n",
       "  <tr class=\"gt_heading\">\n",
       "    <td colspan=\"2\" class=\"gt_heading gt_subtitle gt_font_normal gt_bottom_border\"></td>\n",
       "  </tr>\n",
       "<tr class=\"gt_col_headings\">\n",
       "  <th class=\"gt_col_heading gt_columns_bottom_border gt_left\" rowspan=\"1\" colspan=\"1\" scope=\"col\" id=\"Attribute\">Attribute</th>\n",
       "  <th class=\"gt_col_heading gt_columns_bottom_border gt_left\" rowspan=\"1\" colspan=\"1\" scope=\"col\" id=\"Value\">Value</th>\n",
       "</tr>\n",
       "</thead>\n",
       "<tbody class=\"gt_table_body\">\n",
       "  <tr>\n",
       "    <td class=\"gt_row gt_left\">document_id</td>\n",
       "    <td class=\"gt_row gt_left\">12</td>\n",
       "  </tr>\n",
       "  <tr>\n",
       "    <td class=\"gt_row gt_left\">file</td>\n",
       "    <td class=\"gt_row gt_left\">the-singing-lesson.txt</td>\n",
       "  </tr>\n",
       "</tbody>\n",
       "\n",
       "\n",
       "</table>\n",
       "\n",
       "</div>\n",
       "        <div class=\"conc-text\">With despair—cold, sharp despair—buried deep in her heart like a wicked\r\n",
       "knife, Miss Meadows, in cap and gown and carrying a little baton, trod\r\n",
       "the cold corridors that led to the music hall. Girls of all ages, rosy\r\n",
       "from the air, and bubbling over with that gleeful excitement that comes\r\n",
       "from running to school on a fine autumn morning, hurried, skipped,\r\n",
       "fluttered by; from the hollow class-rooms came a quick drumming of\r\n",
       "voices; a bell rang; a voice like a bird cried, “Muriel.” And then\r\n",
       "there came from the staircase a tremendous knock-knock-knocking. Some\r\n",
       "one had dropped her dumbbells.\r\n",
       "\r\n",
       "The Science Mistress stopped Miss Meadows.\r\n",
       "\r\n",
       "“Good mor-ning,” she cried, in her sweet, affected drawl. “Isn’t it\r\n",
       "cold? It might be win-ter.”\r\n",
       "\r\n",
       "Miss Meadows, hugging the knife, stared in hatred at the Science\r\n",
       "Mistress. Everything about her was sweet,…\n",
       "[200 of 2985 tokens]</div></div>"
      ],
      "text/plain": [
       "<IPython.core.display.HTML object>"
      ]
     },
     "metadata": {},
     "output_type": "display_data"
    }
   ],
   "source": [
    "gardenparty.text(12).display(max_tokens = 200)"
   ]
  },
  {
   "cell_type": "code",
   "execution_count": null,
   "metadata": {},
   "outputs": [
    {
     "data": {
      "text/html": [
       "\n",
       "\t<style>\n",
       "\t.conc-text-wrapper { background: #fff; color: #000; border: 1px solid #000;border-radius: 0.5em;width: max-content;padding: 0.3em; min-width: 400px;} \n",
       "\t.conc-text {margin:0.3em; white-space: pre-wrap; font-family: Georgia, Cambria, \"Times New Roman\", Times, serif;font-size: 1.3em; width: max-content;}\n",
       "  </style>\n",
       "\t<div class=\"conc-text-wrapper\"><div class=\"conc-text\">With despair—cold, sharp despair—buried deep in her heart like a wicked\r\n",
       "knife, Miss Meadows, in cap and gown and carrying a little baton, trod\r\n",
       "the cold corridors that led to the music hall. Girls of all ages, rosy\r\n",
       "from the air, and bubbling over with that gleeful excitement that comes\r\n",
       "from running to school on a fine autumn morning, hurried, skipped,\r\n",
       "fluttered by; from the hollow class-rooms came a quick drumming of\r\n",
       "voices; a bell rang; a voice like a bird cried, “Muriel.” And then\r\n",
       "there came from the staircase a tremendous knock-knock-knocking. Some\r\n",
       "one had dropped her dumbbells.\r\n",
       "\r\n",
       "The Science Mistress stopped Miss Meadows.\r\n",
       "\r\n",
       "“Good mor-ning,” she cried, in her sweet, affected drawl. “Isn’t it\r\n",
       "cold? It might be win-ter.”\r\n",
       "\r\n",
       "Miss Meadows, hugging the knife, stared in hatred at the Science\r\n",
       "Mistress. Everything about her was sweet,…\n",
       "[200 of 2985 tokens]</div></div>"
      ],
      "text/plain": [
       "<IPython.core.display.HTML object>"
      ]
     },
     "metadata": {},
     "output_type": "display_data"
    }
   ],
   "source": [
    "gardenparty.text(12).display(show_metadata = False, max_tokens = 200)"
   ]
  },
  {
   "cell_type": "code",
   "execution_count": null,
   "metadata": {},
   "outputs": [
    {
     "data": {
      "text/plain": [
       "'With despair—cold, sharp despair—buried deep in her heart like a wicked\\r\\nknife, Miss Meadows, in cap and gown and carrying a little baton, trod\\r\\nthe cold corridors that led to the music hall. Girls of all ages, rosy'"
      ]
     },
     "execution_count": null,
     "metadata": {},
     "output_type": "execute_result"
    }
   ],
   "source": [
    "gardenparty.text(12).as_string(max_tokens = 50)"
   ]
  },
  {
   "cell_type": "code",
   "execution_count": null,
   "metadata": {},
   "outputs": [],
   "source": [
    "#| hide\n",
    "import nbdev; nbdev.nbdev_export()"
   ]
  },
  {
   "cell_type": "code",
   "execution_count": null,
   "metadata": {},
   "outputs": [],
   "source": []
  },
  {
   "cell_type": "code",
   "execution_count": null,
   "metadata": {},
   "outputs": [],
   "source": []
  }
 ],
 "metadata": {
  "kernelspec": {
   "display_name": "python3",
   "language": "python",
   "name": "python3"
  }
 },
 "nbformat": 4,
 "nbformat_minor": 2
}
