{
 "cells": [
  {
   "cell_type": "markdown",
   "metadata": {},
   "source": [
    "# text\n",
    "\n",
    "> Text document display class.\n",
    "- toc: false\n",
    "- page-layout: full"
   ]
  },
  {
   "cell_type": "code",
   "execution_count": null,
   "metadata": {},
   "outputs": [],
   "source": [
    "#| default_exp text"
   ]
  },
  {
   "cell_type": "code",
   "execution_count": null,
   "metadata": {},
   "outputs": [],
   "source": [
    "#| hide\n",
    "from nbdev.showdoc import *"
   ]
  },
  {
   "cell_type": "code",
   "execution_count": null,
   "metadata": {},
   "outputs": [],
   "source": [
    "#| export\n",
    "from __future__ import annotations\n",
    "from fastcore.basics import patch\n",
    "import numpy as np\n",
    "from IPython.display import display, HTML\n",
    "import polars as pl\n",
    "import textwrap\n",
    "import re"
   ]
  },
  {
   "cell_type": "code",
   "execution_count": null,
   "metadata": {},
   "outputs": [],
   "source": [
    "#| hide\n",
    "from conc.corpus import Corpus\n",
    "import os"
   ]
  },
  {
   "cell_type": "code",
   "execution_count": null,
   "metadata": {},
   "outputs": [],
   "source": [
    "#| export\n",
    "from conc.result import Result"
   ]
  },
  {
   "cell_type": "code",
   "execution_count": null,
   "metadata": {},
   "outputs": [],
   "source": [
    "#| hide\n",
    "source_path = f'{os.environ.get(\"HOME\")}/data/'\n",
    "save_path = f'{os.environ.get(\"HOME\")}/data/conc-test-corpora/'\n",
    "\n",
    "path_to_toy_corpus = f'{save_path}toy.corpus'\n",
    "path_to_brown_corpus = f'{save_path}brown.corpus'\n",
    "path_to_reuters_corpus = f'{save_path}reuters.corpus'\n",
    "path_to_gardenparty_corpus = f'{save_path}garden-party.corpus'"
   ]
  },
  {
   "cell_type": "markdown",
   "metadata": {},
   "source": [
    "## Using the Text class\n",
    "\n",
    "The Text class is not intended to be used directly. Functionality is accessible via the `Corpus.text` method, which provides the necessary inputs to instantiate the class. There are examples below illustrating how Text objects can be created and used for a Corpus."
   ]
  },
  {
   "cell_type": "markdown",
   "metadata": {},
   "source": [
    "## Text class API reference"
   ]
  },
  {
   "cell_type": "code",
   "execution_count": null,
   "metadata": {},
   "outputs": [],
   "source": [
    "#| export\n",
    "class Text:\n",
    "\t\"\"\" Class to represent text documents \"\"\"\n",
    "\tdef __init__(self,\n",
    "\t\t\t  tokens:np.ndarray, # list of token strs\n",
    "\t\t\t  has_spaces: np.ndarray, # whether token strs followed by space\n",
    "\t\t\t  metadata: dict = {}, # metadata for doc as a dict\n",
    "\t\t\t  doc_df: pl.DataFrame = None # if provided can be used for enhanced display (e.g. keyword highlighting)\n",
    "\t\t\t  ): \n",
    "\t\tself.tokens = tokens\n",
    "\t\tself.has_spaces = has_spaces\n",
    "\t\tself.metadata = metadata\n",
    "\t\tself.doc_df = doc_df"
   ]
  },
  {
   "cell_type": "code",
   "execution_count": null,
   "metadata": {},
   "outputs": [],
   "source": [
    "#| export\n",
    "@patch\n",
    "def _nl2br(self:Text,\n",
    "           text:str # document text\n",
    "           ):\n",
    "    text = text.replace('\\r\\n', '\\n').replace('\\r', '\\n')\n",
    "    return text.replace('\\n', '<br>\\n')"
   ]
  },
  {
   "cell_type": "code",
   "execution_count": null,
   "metadata": {},
   "outputs": [],
   "source": [
    "#| export\n",
    "@patch\n",
    "def _div(self:Text,\n",
    "         text:str, # document text\n",
    "         class_str:str = '' # div class\n",
    "         ):\n",
    "    \"\"\" Wrap text in div, with optional class \"\"\"\n",
    "    if class_str != '':\n",
    "        class_str = f' class=\"{class_str}\"'\n",
    "    return f'<div{class_str}>{text}</div>'"
   ]
  },
  {
   "cell_type": "code",
   "execution_count": null,
   "metadata": {},
   "outputs": [],
   "source": [
    "#| exporti\n",
    "@patch\n",
    "def corpus_position_to_doc_position(self:Text,\n",
    "                                      pos:int # position in corpus\n",
    "                                      ) -> int:\n",
    "    \"\"\" Convert corpus position to document position \"\"\"\n",
    "\n",
    "    doc_pos = self.doc_df.with_row_index('doc_position').filter((pl.col('position') == pos) & (pl.col('not_space') == 1)).select(pl.col('doc_position')).collect().item()\n",
    "    return doc_pos\n"
   ]
  },
  {
   "cell_type": "code",
   "execution_count": null,
   "metadata": {},
   "outputs": [],
   "source": [
    "#| exporti\n",
    "@patch\n",
    "def doc_position_to_corpus_position(self:Text,\n",
    "                                      pos:int # position in corpus\n",
    "                                      ) -> int:\n",
    "    \"\"\" Convert doc position to corpus position \"\"\"\n",
    "\n",
    "    corpus_pos = self.doc_df.filter(pl.col('not_space') == 1).with_row_index('doc_position').filter((pl.col('doc_position') == pos)).select(pl.col('position')).collect().item()\n",
    "    return corpus_pos"
   ]
  },
  {
   "cell_type": "code",
   "execution_count": null,
   "metadata": {},
   "outputs": [],
   "source": [
    "#| export\n",
    "@patch\n",
    "def as_string(self:Text,\n",
    "              max_tokens: int|None = None, # maximum length of text to display in tokens, if None, display all\n",
    "              highlighted_token_range: tuple|None = None # range of tokens to highlight, note: these token ids are positions within the corpus, not the text itself\n",
    "        ):\n",
    "    \"\"\" Return the text as a string \"\"\"\n",
    "\n",
    "    interleaved = np.empty((self.tokens.size + self.has_spaces.size,), dtype=self.tokens.dtype)\n",
    "    \n",
    "    if self.doc_df is not None and highlighted_token_range is not None:\n",
    "        doc_pos_start = self.corpus_position_to_doc_position(highlighted_token_range[0])\n",
    "        doc_pos_end = self.corpus_position_to_doc_position(highlighted_token_range[1])\n",
    "        tokens_with_highlight = self.tokens.copy()\n",
    "        tokens_with_highlight[doc_pos_start] = f'<span class=\"highlight\">{tokens_with_highlight[doc_pos_start]}'\n",
    "        tokens_with_highlight[doc_pos_end] = f'{tokens_with_highlight[doc_pos_end]}</span>'\n",
    "        interleaved[0::2] = tokens_with_highlight\n",
    "    else:\n",
    "        interleaved[0::2] = self.tokens\n",
    "    interleaved[1::2] = np.where(self.has_spaces, ' ', '')\n",
    "\n",
    "    if max_tokens is not None and self.tokens.size > max_tokens:\n",
    "        interleaved = interleaved[:max_tokens * 2]\n",
    "        interleaved[-1] = ''\n",
    "\n",
    "    return ''.join(list(interleaved))"
   ]
  },
  {
   "cell_type": "code",
   "execution_count": null,
   "metadata": {},
   "outputs": [],
   "source": [
    "#| export\n",
    "@patch\n",
    "def as_tokens(self:Text,\n",
    "        ):\n",
    "    \"\"\" Return the text as a tokens \"\"\"\n",
    "\n",
    "    return list(self.tokens)"
   ]
  },
  {
   "cell_type": "code",
   "execution_count": null,
   "metadata": {},
   "outputs": [],
   "source": [
    "#| export\n",
    "@patch\n",
    "def __str__(self:Text):\n",
    "    return self.as_string()"
   ]
  },
  {
   "cell_type": "code",
   "execution_count": null,
   "metadata": {},
   "outputs": [],
   "source": [
    "#| export\n",
    "@patch\n",
    "def tokens_count(self:Text):\n",
    "    return len(self.tokens)"
   ]
  },
  {
   "cell_type": "code",
   "execution_count": null,
   "metadata": {},
   "outputs": [],
   "source": [
    "#| export\n",
    "@patch\n",
    "def display_metadata(self:Text,\n",
    "                ):\n",
    "    \"\"\" Output the metadata for a text \"\"\"\n",
    "\n",
    "    Result('metadata', self.metadata.transpose(include_header = True, header_name = 'attribute', column_names = ['value']), 'Metadata', '', {}, []).display()\n"
   ]
  },
  {
   "cell_type": "code",
   "execution_count": null,
   "metadata": {},
   "outputs": [],
   "source": [
    "#| export\n",
    "@patch\n",
    "def get_metadata(self:Text,\n",
    "                ):\n",
    "    \"\"\" Output the metadata for a text \"\"\"\n",
    "\n",
    "    return Result('metadata', self.metadata.transpose(include_header = True, header_name = 'attribute', column_names = ['value']), 'Metadata', '', {}, [])"
   ]
  },
  {
   "cell_type": "code",
   "execution_count": null,
   "metadata": {},
   "outputs": [],
   "source": [
    "#| export\n",
    "@patch\n",
    "def display(self:Text,\n",
    "\t\t\tshow_metadata: bool = True, # whether to display Metadata for the text\n",
    "\t\t\tmax_tokens: int|None = None, # maximum length of text to display in tokens, if None, display all\n",
    "\t\t\toutput_html: bool = True, # whether to display text with HTML formatting\n",
    "\t\t\ttextwrap_width: int|None = None, # maximum length of text to display in characters, if None, no wrapping\n",
    "\t\t\ttextwrap_args: dict|None = None, # additional args to pass to textwrap.fill\n",
    "\t\t\treflow_paragraphs: bool = False, # whether to reflow paragraphs individually before text wrapping is applied\n",
    "\t\t\tparagraph_delimiter_regex: str = r'(\\s*\\n\\s*){1,}\\n', # regex to split paragraphs for reflow_paragraphs (default looks for whitespace ending with a newline that contains at least one other newline)\n",
    "\t\t\t\t):\n",
    "\t\"\"\" Output a text \"\"\"\n",
    "\n",
    "\t# TODO - add font size, font family and style overrides\n",
    "\n",
    "\tstyle = '''\n",
    "\t<style>\n",
    "\t.conc-text-wrapper { background: #fff; color: #000; border: 1px solid #000;border-radius: 0.5em;width: max-content;padding: 0.3em; min-width: 400px;} \n",
    "\t.conc-text {margin:0.3em; white-space: pre-wrap; font-family: Georgia, Cambria, \"Times New Roman\", Times, serif;font-size: 1.3em; width: max-content;}\n",
    "  </style>\n",
    "\t'''\n",
    "\tmetadata = ''\n",
    "\tif show_metadata:\n",
    "\t\tmetadata = self.get_metadata().to_html()\n",
    "\n",
    "\ttext_string = self.as_string(max_tokens = max_tokens)\n",
    "\n",
    "\tif max_tokens is not None and self.tokens.size > max_tokens:\n",
    "\t\ttext_string += f'…\\n[{max_tokens} of {self.tokens.size} tokens]'\n",
    "\n",
    "\tif reflow_paragraphs:\n",
    "\t\ttext_string_chunks = re.split(paragraph_delimiter_regex, text_string)\n",
    "\telse:\n",
    "\t\ttext_string_chunks = [text_string]\n",
    "\n",
    "\tif textwrap_width is not None:\n",
    "\t\tfor i, chunk in enumerate(text_string_chunks):\n",
    "\t\t\ttext_string_chunks[i] = textwrap.fill(chunk, width = textwrap_width, **(textwrap_args or {}))\n",
    "\telif reflow_paragraphs:\n",
    "\t\ttext_string_chunks = [re.sub(r'\\s+', ' ', chunk.strip()) for chunk in text_string_chunks]\n",
    "\t\n",
    "\ttext_string = '\\n'.join(text_string_chunks)\n",
    "\n",
    "\tif output_html:\n",
    "\t\tdisplay(HTML(style + self._div(metadata + self._div(text_string, class_str = 'conc-text'), class_str = 'conc-text-wrapper')))\n",
    "\telse:\n",
    "\t\tprint(text_string)\n"
   ]
  },
  {
   "cell_type": "code",
   "execution_count": null,
   "metadata": {},
   "outputs": [],
   "source": [
    "#| hide\n",
    "toy = Corpus().load(path_to_toy_corpus)\n",
    "brown = Corpus().load(path_to_brown_corpus)\n",
    "gardenparty = Corpus().load(path_to_gardenparty_corpus)"
   ]
  },
  {
   "cell_type": "code",
   "execution_count": null,
   "metadata": {},
   "outputs": [],
   "source": [
    "#| hide\n",
    "text = Text(*toy._get_text(1))\n",
    "assert str(text) == 'The cat sat on the mat.'\n",
    "assert text.as_string() == 'The cat sat on the mat.'\n",
    "assert text.tokens_count() == 7"
   ]
  },
  {
   "cell_type": "code",
   "execution_count": null,
   "metadata": {},
   "outputs": [
    {
     "data": {
      "text/html": [
       "\n",
       "\t<style>\n",
       "\t.conc-text-wrapper { background: #fff; color: #000; border: 1px solid #000;border-radius: 0.5em;width: max-content;padding: 0.3em; min-width: 400px;} \n",
       "\t.conc-text {margin:0.3em; white-space: pre-wrap; font-family: Georgia, Cambria, \"Times New Roman\", Times, serif;font-size: 1.3em; width: max-content;}\n",
       "  </style>\n",
       "\t<div class=\"conc-text-wrapper\"><div id=\"ngwyjzomnd\" style=\"padding-left:0px;padding-right:0px;padding-top:10px;padding-bottom:10px;overflow-x:auto;overflow-y:auto;width:auto;height:auto;\">\n",
       "<style>\n",
       "#ngwyjzomnd table {\n",
       "          font-family: -apple-system, BlinkMacSystemFont, 'Segoe UI', Roboto, Oxygen, Ubuntu, Cantarell, 'Helvetica Neue', 'Fira Sans', 'Droid Sans', Arial, sans-serif;\n",
       "          -webkit-font-smoothing: antialiased;\n",
       "          -moz-osx-font-smoothing: grayscale;\n",
       "        }\n",
       "\n",
       "#ngwyjzomnd thead, tbody, tfoot, tr, td, th { border-style: none; }\n",
       " tr { background-color: transparent; }\n",
       "#ngwyjzomnd p { margin: 0; padding: 0; }\n",
       " #ngwyjzomnd .gt_table { display: table; border-collapse: collapse; line-height: normal; margin-left: 0; margin-right: auto; color: #333333; font-size: 16px; font-weight: normal; font-style: normal; background-color: #FFFFFF; width: auto; border-top-style: solid; border-top-width: 2px; border-top-color: #A8A8A8; border-right-style: none; border-right-width: 2px; border-right-color: #D3D3D3; border-bottom-style: solid; border-bottom-width: 2px; border-bottom-color: #A8A8A8; border-left-style: none; border-left-width: 2px; border-left-color: #D3D3D3; }\n",
       " #ngwyjzomnd .gt_caption { padding-top: 4px; padding-bottom: 4px; }\n",
       " #ngwyjzomnd .gt_title { color: #333333; font-size: 125%; font-weight: initial; padding-top: 4px; padding-bottom: 4px; padding-left: 5px; padding-right: 5px; border-bottom-color: #FFFFFF; border-bottom-width: 0; }\n",
       " #ngwyjzomnd .gt_subtitle { color: #333333; font-size: 85%; font-weight: initial; padding-top: 3px; padding-bottom: 5px; padding-left: 5px; padding-right: 5px; border-top-color: #FFFFFF; border-top-width: 0; }\n",
       " #ngwyjzomnd .gt_heading { background-color: #FFFFFF; text-align: center; border-bottom-color: #FFFFFF; border-left-style: none; border-left-width: 1px; border-left-color: #D3D3D3; border-right-style: none; border-right-width: 1px; border-right-color: #D3D3D3; }\n",
       " #ngwyjzomnd .gt_bottom_border { border-bottom-style: solid; border-bottom-width: 2px; border-bottom-color: #D3D3D3; }\n",
       " #ngwyjzomnd .gt_col_headings { border-top-style: solid; border-top-width: 2px; border-top-color: #D3D3D3; border-bottom-style: solid; border-bottom-width: 2px; border-bottom-color: #D3D3D3; border-left-style: none; border-left-width: 1px; border-left-color: #D3D3D3; border-right-style: none; border-right-width: 1px; border-right-color: #D3D3D3; }\n",
       " #ngwyjzomnd .gt_col_heading { color: #333333; background-color: #FFFFFF; font-size: 100%; font-weight: normal; text-transform: inherit; border-left-style: none; border-left-width: 1px; border-left-color: #D3D3D3; border-right-style: none; border-right-width: 1px; border-right-color: #D3D3D3; vertical-align: bottom; padding-top: 5px; padding-bottom: 5px; padding-left: 5px; padding-right: 5px; overflow-x: hidden; }\n",
       " #ngwyjzomnd .gt_column_spanner_outer { color: #333333; background-color: #FFFFFF; font-size: 100%; font-weight: normal; text-transform: inherit; padding-top: 0; padding-bottom: 0; padding-left: 4px; padding-right: 4px; }\n",
       " #ngwyjzomnd .gt_column_spanner_outer:first-child { padding-left: 0; }\n",
       " #ngwyjzomnd .gt_column_spanner_outer:last-child { padding-right: 0; }\n",
       " #ngwyjzomnd .gt_column_spanner { border-bottom-style: solid; border-bottom-width: 2px; border-bottom-color: #D3D3D3; vertical-align: bottom; padding-top: 5px; padding-bottom: 5px; overflow-x: hidden; display: inline-block; width: 100%; }\n",
       " #ngwyjzomnd .gt_spanner_row { border-bottom-style: hidden; }\n",
       " #ngwyjzomnd .gt_group_heading { padding-top: 8px; padding-bottom: 8px; padding-left: 5px; padding-right: 5px; color: #333333; background-color: #FFFFFF; font-size: 100%; font-weight: initial; text-transform: inherit; border-top-style: solid; border-top-width: 2px; border-top-color: #D3D3D3; border-bottom-style: solid; border-bottom-width: 2px; border-bottom-color: #D3D3D3; border-left-style: none; border-left-width: 1px; border-left-color: #D3D3D3; border-right-style: none; border-right-width: 1px; border-right-color: #D3D3D3; vertical-align: middle; text-align: left; }\n",
       " #ngwyjzomnd .gt_empty_group_heading { padding: 0.5px; color: #333333; background-color: #FFFFFF; font-size: 100%; font-weight: initial; border-top-style: solid; border-top-width: 2px; border-top-color: #D3D3D3; border-bottom-style: solid; border-bottom-width: 2px; border-bottom-color: #D3D3D3; vertical-align: middle; }\n",
       " #ngwyjzomnd .gt_from_md> :first-child { margin-top: 0; }\n",
       " #ngwyjzomnd .gt_from_md> :last-child { margin-bottom: 0; }\n",
       " #ngwyjzomnd .gt_row { padding-top: 8px; padding-bottom: 8px; padding-left: 5px; padding-right: 5px; margin: 10px; border-top-style: solid; border-top-width: 1px; border-top-color: #D3D3D3; border-left-style: none; border-left-width: 1px; border-left-color: #D3D3D3; border-right-style: none; border-right-width: 1px; border-right-color: #D3D3D3; vertical-align: middle; overflow-x: hidden; }\n",
       " #ngwyjzomnd .gt_stub { color: #333333; background-color: #FFFFFF; font-size: 100%; font-weight: initial; text-transform: inherit; border-right-style: solid; border-right-width: 2px; border-right-color: #D3D3D3; padding-left: 5px; padding-right: 5px; }\n",
       " #ngwyjzomnd .gt_stub_row_group { color: #333333; background-color: #FFFFFF; font-size: 100%; font-weight: initial; text-transform: inherit; border-right-style: solid; border-right-width: 2px; border-right-color: #D3D3D3; padding-left: 5px; padding-right: 5px; vertical-align: top; }\n",
       " #ngwyjzomnd .gt_row_group_first td { border-top-width: 2px; }\n",
       " #ngwyjzomnd .gt_row_group_first th { border-top-width: 2px; }\n",
       " #ngwyjzomnd .gt_striped { background-color: rgba(128,128,128,0.05); }\n",
       " #ngwyjzomnd .gt_table_body { border-top-style: solid; border-top-width: 2px; border-top-color: #D3D3D3; border-bottom-style: solid; border-bottom-width: 2px; border-bottom-color: #D3D3D3; }\n",
       " #ngwyjzomnd .gt_sourcenotes { color: #333333; background-color: #FFFFFF; border-bottom-style: none; border-bottom-width: 2px; border-bottom-color: #D3D3D3; border-left-style: none; border-left-width: 2px; border-left-color: #D3D3D3; border-right-style: none; border-right-width: 2px; border-right-color: #D3D3D3; }\n",
       " #ngwyjzomnd .gt_sourcenote { font-size: 90%; padding-top: 4px; padding-bottom: 4px; padding-left: 5px; padding-right: 5px; text-align: left; }\n",
       " #ngwyjzomnd .gt_left { text-align: left; }\n",
       " #ngwyjzomnd .gt_center { text-align: center; }\n",
       " #ngwyjzomnd .gt_right { text-align: right; font-variant-numeric: tabular-nums; }\n",
       " #ngwyjzomnd .gt_font_normal { font-weight: normal; }\n",
       " #ngwyjzomnd .gt_font_bold { font-weight: bold; }\n",
       " #ngwyjzomnd .gt_font_italic { font-style: italic; }\n",
       " #ngwyjzomnd .gt_super { font-size: 65%; }\n",
       " #ngwyjzomnd .gt_footnote_marks { font-size: 75%; vertical-align: 0.4em; position: initial; }\n",
       " #ngwyjzomnd .gt_asterisk { font-size: 100%; vertical-align: 0; }\n",
       " \n",
       "</style>\n",
       "<table class=\"gt_table\" data-quarto-disable-processing=\"false\" data-quarto-bootstrap=\"false\">\n",
       "<thead>\n",
       "\n",
       "  <tr class=\"gt_heading\">\n",
       "    <td colspan=\"2\" class=\"gt_heading gt_title gt_font_normal\">Metadata</td>\n",
       "  </tr>\n",
       "  <tr class=\"gt_heading\">\n",
       "    <td colspan=\"2\" class=\"gt_heading gt_subtitle gt_font_normal gt_bottom_border\"></td>\n",
       "  </tr>\n",
       "<tr class=\"gt_col_headings\">\n",
       "  <th class=\"gt_col_heading gt_columns_bottom_border gt_left\" rowspan=\"1\" colspan=\"1\" scope=\"col\" id=\"Attribute\">Attribute</th>\n",
       "  <th class=\"gt_col_heading gt_columns_bottom_border gt_left\" rowspan=\"1\" colspan=\"1\" scope=\"col\" id=\"Value\">Value</th>\n",
       "</tr>\n",
       "</thead>\n",
       "<tbody class=\"gt_table_body\">\n",
       "  <tr>\n",
       "    <td class=\"gt_row gt_left\">document_id</td>\n",
       "    <td class=\"gt_row gt_left\">1</td>\n",
       "  </tr>\n",
       "  <tr>\n",
       "    <td class=\"gt_row gt_left\">source</td>\n",
       "    <td class=\"gt_row gt_left\">1.txt</td>\n",
       "  </tr>\n",
       "  <tr>\n",
       "    <td class=\"gt_row gt_left\">category</td>\n",
       "    <td class=\"gt_row gt_left\">feline</td>\n",
       "  </tr>\n",
       "  <tr>\n",
       "    <td class=\"gt_row gt_left\">species</td>\n",
       "    <td class=\"gt_row gt_left\">cat</td>\n",
       "  </tr>\n",
       "</tbody>\n",
       "\n",
       "\n",
       "</table>\n",
       "\n",
       "</div>\n",
       "        <div class=\"conc-text\">The cat sat on the mat.</div></div>"
      ],
      "text/plain": [
       "<IPython.core.display.HTML object>"
      ]
     },
     "metadata": {},
     "output_type": "display_data"
    }
   ],
   "source": [
    "#| hide\n",
    "text.display()"
   ]
  },
  {
   "cell_type": "code",
   "execution_count": null,
   "metadata": {},
   "outputs": [],
   "source": [
    "#| hide\n",
    "# NOTE:\n",
    "# commands below use a Corpus object. Text is a class that is used by Corpus to represent text documents.\n",
    "# if changing text above - these won't be reflected below until reexported and restart kernel and rerun."
   ]
  },
  {
   "cell_type": "code",
   "execution_count": null,
   "metadata": {},
   "outputs": [],
   "source": [
    "#| hide\n",
    "# testing on more complex text with spaces\n",
    "assert brown.text(1).as_string() == open(f'{source_path}brown/ca01.txt', encoding = 'utf8').read()"
   ]
  },
  {
   "cell_type": "code",
   "execution_count": null,
   "metadata": {},
   "outputs": [
    {
     "name": "stdout",
     "output_type": "stream",
     "text": [
      "663 handkerchief\n"
     ]
    }
   ],
   "source": [
    "#| hide\n",
    "# test retrieval of specific token by position with new doc_df\n",
    "doc_id = 4\n",
    "pos = 22487\n",
    "doc_pos = gardenparty.text(doc_id).doc_df.with_row_index('doc_position').filter(pl.col('position') == pos).select(pl.col('doc_position')).collect().item() \n",
    "print(doc_pos, gardenparty.text(4).tokens[doc_pos])"
   ]
  },
  {
   "cell_type": "markdown",
   "metadata": {},
   "source": [
    "#### Examples\n",
    "\n",
    "See the note above about accessing this functionality through the [Corpus](https://geoffford.nz/conc/api/corpus.html) class."
   ]
  },
  {
   "cell_type": "code",
   "execution_count": null,
   "metadata": {},
   "outputs": [
    {
     "data": {
      "text/html": [
       "\n",
       "\t<style>\n",
       "\t.conc-text-wrapper { background: #fff; color: #000; border: 1px solid #000;border-radius: 0.5em;width: max-content;padding: 0.3em; min-width: 400px;} \n",
       "\t.conc-text {margin:0.3em; white-space: pre-wrap; font-family: Georgia, Cambria, \"Times New Roman\", Times, serif;font-size: 1.3em; width: max-content;}\n",
       "  </style>\n",
       "\t<div class=\"conc-text-wrapper\"><div id=\"tlxsrlmpqm\" style=\"padding-left:0px;padding-right:0px;padding-top:10px;padding-bottom:10px;overflow-x:auto;overflow-y:auto;width:auto;height:auto;\">\n",
       "<style>\n",
       "#tlxsrlmpqm table {\n",
       "          font-family: -apple-system, BlinkMacSystemFont, 'Segoe UI', Roboto, Oxygen, Ubuntu, Cantarell, 'Helvetica Neue', 'Fira Sans', 'Droid Sans', Arial, sans-serif;\n",
       "          -webkit-font-smoothing: antialiased;\n",
       "          -moz-osx-font-smoothing: grayscale;\n",
       "        }\n",
       "\n",
       "#tlxsrlmpqm thead, tbody, tfoot, tr, td, th { border-style: none; }\n",
       " tr { background-color: transparent; }\n",
       "#tlxsrlmpqm p { margin: 0; padding: 0; }\n",
       " #tlxsrlmpqm .gt_table { display: table; border-collapse: collapse; line-height: normal; margin-left: 0; margin-right: auto; color: #333333; font-size: 16px; font-weight: normal; font-style: normal; background-color: #FFFFFF; width: auto; border-top-style: solid; border-top-width: 2px; border-top-color: #A8A8A8; border-right-style: none; border-right-width: 2px; border-right-color: #D3D3D3; border-bottom-style: solid; border-bottom-width: 2px; border-bottom-color: #A8A8A8; border-left-style: none; border-left-width: 2px; border-left-color: #D3D3D3; }\n",
       " #tlxsrlmpqm .gt_caption { padding-top: 4px; padding-bottom: 4px; }\n",
       " #tlxsrlmpqm .gt_title { color: #333333; font-size: 125%; font-weight: initial; padding-top: 4px; padding-bottom: 4px; padding-left: 5px; padding-right: 5px; border-bottom-color: #FFFFFF; border-bottom-width: 0; }\n",
       " #tlxsrlmpqm .gt_subtitle { color: #333333; font-size: 85%; font-weight: initial; padding-top: 3px; padding-bottom: 5px; padding-left: 5px; padding-right: 5px; border-top-color: #FFFFFF; border-top-width: 0; }\n",
       " #tlxsrlmpqm .gt_heading { background-color: #FFFFFF; text-align: center; border-bottom-color: #FFFFFF; border-left-style: none; border-left-width: 1px; border-left-color: #D3D3D3; border-right-style: none; border-right-width: 1px; border-right-color: #D3D3D3; }\n",
       " #tlxsrlmpqm .gt_bottom_border { border-bottom-style: solid; border-bottom-width: 2px; border-bottom-color: #D3D3D3; }\n",
       " #tlxsrlmpqm .gt_col_headings { border-top-style: solid; border-top-width: 2px; border-top-color: #D3D3D3; border-bottom-style: solid; border-bottom-width: 2px; border-bottom-color: #D3D3D3; border-left-style: none; border-left-width: 1px; border-left-color: #D3D3D3; border-right-style: none; border-right-width: 1px; border-right-color: #D3D3D3; }\n",
       " #tlxsrlmpqm .gt_col_heading { color: #333333; background-color: #FFFFFF; font-size: 100%; font-weight: normal; text-transform: inherit; border-left-style: none; border-left-width: 1px; border-left-color: #D3D3D3; border-right-style: none; border-right-width: 1px; border-right-color: #D3D3D3; vertical-align: bottom; padding-top: 5px; padding-bottom: 5px; padding-left: 5px; padding-right: 5px; overflow-x: hidden; }\n",
       " #tlxsrlmpqm .gt_column_spanner_outer { color: #333333; background-color: #FFFFFF; font-size: 100%; font-weight: normal; text-transform: inherit; padding-top: 0; padding-bottom: 0; padding-left: 4px; padding-right: 4px; }\n",
       " #tlxsrlmpqm .gt_column_spanner_outer:first-child { padding-left: 0; }\n",
       " #tlxsrlmpqm .gt_column_spanner_outer:last-child { padding-right: 0; }\n",
       " #tlxsrlmpqm .gt_column_spanner { border-bottom-style: solid; border-bottom-width: 2px; border-bottom-color: #D3D3D3; vertical-align: bottom; padding-top: 5px; padding-bottom: 5px; overflow-x: hidden; display: inline-block; width: 100%; }\n",
       " #tlxsrlmpqm .gt_spanner_row { border-bottom-style: hidden; }\n",
       " #tlxsrlmpqm .gt_group_heading { padding-top: 8px; padding-bottom: 8px; padding-left: 5px; padding-right: 5px; color: #333333; background-color: #FFFFFF; font-size: 100%; font-weight: initial; text-transform: inherit; border-top-style: solid; border-top-width: 2px; border-top-color: #D3D3D3; border-bottom-style: solid; border-bottom-width: 2px; border-bottom-color: #D3D3D3; border-left-style: none; border-left-width: 1px; border-left-color: #D3D3D3; border-right-style: none; border-right-width: 1px; border-right-color: #D3D3D3; vertical-align: middle; text-align: left; }\n",
       " #tlxsrlmpqm .gt_empty_group_heading { padding: 0.5px; color: #333333; background-color: #FFFFFF; font-size: 100%; font-weight: initial; border-top-style: solid; border-top-width: 2px; border-top-color: #D3D3D3; border-bottom-style: solid; border-bottom-width: 2px; border-bottom-color: #D3D3D3; vertical-align: middle; }\n",
       " #tlxsrlmpqm .gt_from_md> :first-child { margin-top: 0; }\n",
       " #tlxsrlmpqm .gt_from_md> :last-child { margin-bottom: 0; }\n",
       " #tlxsrlmpqm .gt_row { padding-top: 8px; padding-bottom: 8px; padding-left: 5px; padding-right: 5px; margin: 10px; border-top-style: solid; border-top-width: 1px; border-top-color: #D3D3D3; border-left-style: none; border-left-width: 1px; border-left-color: #D3D3D3; border-right-style: none; border-right-width: 1px; border-right-color: #D3D3D3; vertical-align: middle; overflow-x: hidden; }\n",
       " #tlxsrlmpqm .gt_stub { color: #333333; background-color: #FFFFFF; font-size: 100%; font-weight: initial; text-transform: inherit; border-right-style: solid; border-right-width: 2px; border-right-color: #D3D3D3; padding-left: 5px; padding-right: 5px; }\n",
       " #tlxsrlmpqm .gt_stub_row_group { color: #333333; background-color: #FFFFFF; font-size: 100%; font-weight: initial; text-transform: inherit; border-right-style: solid; border-right-width: 2px; border-right-color: #D3D3D3; padding-left: 5px; padding-right: 5px; vertical-align: top; }\n",
       " #tlxsrlmpqm .gt_row_group_first td { border-top-width: 2px; }\n",
       " #tlxsrlmpqm .gt_row_group_first th { border-top-width: 2px; }\n",
       " #tlxsrlmpqm .gt_striped { background-color: rgba(128,128,128,0.05); }\n",
       " #tlxsrlmpqm .gt_table_body { border-top-style: solid; border-top-width: 2px; border-top-color: #D3D3D3; border-bottom-style: solid; border-bottom-width: 2px; border-bottom-color: #D3D3D3; }\n",
       " #tlxsrlmpqm .gt_sourcenotes { color: #333333; background-color: #FFFFFF; border-bottom-style: none; border-bottom-width: 2px; border-bottom-color: #D3D3D3; border-left-style: none; border-left-width: 2px; border-left-color: #D3D3D3; border-right-style: none; border-right-width: 2px; border-right-color: #D3D3D3; }\n",
       " #tlxsrlmpqm .gt_sourcenote { font-size: 90%; padding-top: 4px; padding-bottom: 4px; padding-left: 5px; padding-right: 5px; text-align: left; }\n",
       " #tlxsrlmpqm .gt_left { text-align: left; }\n",
       " #tlxsrlmpqm .gt_center { text-align: center; }\n",
       " #tlxsrlmpqm .gt_right { text-align: right; font-variant-numeric: tabular-nums; }\n",
       " #tlxsrlmpqm .gt_font_normal { font-weight: normal; }\n",
       " #tlxsrlmpqm .gt_font_bold { font-weight: bold; }\n",
       " #tlxsrlmpqm .gt_font_italic { font-style: italic; }\n",
       " #tlxsrlmpqm .gt_super { font-size: 65%; }\n",
       " #tlxsrlmpqm .gt_footnote_marks { font-size: 75%; vertical-align: 0.4em; position: initial; }\n",
       " #tlxsrlmpqm .gt_asterisk { font-size: 100%; vertical-align: 0; }\n",
       " \n",
       "</style>\n",
       "<table class=\"gt_table\" data-quarto-disable-processing=\"false\" data-quarto-bootstrap=\"false\">\n",
       "<thead>\n",
       "\n",
       "  <tr class=\"gt_heading\">\n",
       "    <td colspan=\"2\" class=\"gt_heading gt_title gt_font_normal\">Metadata</td>\n",
       "  </tr>\n",
       "  <tr class=\"gt_heading\">\n",
       "    <td colspan=\"2\" class=\"gt_heading gt_subtitle gt_font_normal gt_bottom_border\"></td>\n",
       "  </tr>\n",
       "<tr class=\"gt_col_headings\">\n",
       "  <th class=\"gt_col_heading gt_columns_bottom_border gt_left\" rowspan=\"1\" colspan=\"1\" scope=\"col\" id=\"Attribute\">Attribute</th>\n",
       "  <th class=\"gt_col_heading gt_columns_bottom_border gt_left\" rowspan=\"1\" colspan=\"1\" scope=\"col\" id=\"Value\">Value</th>\n",
       "</tr>\n",
       "</thead>\n",
       "<tbody class=\"gt_table_body\">\n",
       "  <tr>\n",
       "    <td class=\"gt_row gt_left\">document_id</td>\n",
       "    <td class=\"gt_row gt_left\">12</td>\n",
       "  </tr>\n",
       "  <tr>\n",
       "    <td class=\"gt_row gt_left\">file</td>\n",
       "    <td class=\"gt_row gt_left\">the-singing-lesson.txt</td>\n",
       "  </tr>\n",
       "</tbody>\n",
       "\n",
       "\n",
       "</table>\n",
       "\n",
       "</div>\n",
       "        <div class=\"conc-text\">With despair—cold, sharp despair—buried deep in her heart like a wicked\r\n",
       "knife, Miss Meadows, in cap and gown and carrying a little baton, trod\r\n",
       "the cold corridors that led to the music hall. Girls of all ages, rosy\r\n",
       "from the air, and bubbling over with that gleeful excitement that comes\r\n",
       "from running to school on a fine autumn morning, hurried, skipped,\r\n",
       "fluttered by; from the hollow class-rooms came a quick drumming of\r\n",
       "voices; a bell rang; a voice like a bird cried, “Muriel.” And then\r\n",
       "there came from the staircase a tremendous knock-knock-knocking. Some\r\n",
       "one had dropped her dumbbells.\r\n",
       "\r\n",
       "The Science Mistress stopped Miss Meadows.\r\n",
       "\r\n",
       "“Good mor-ning,” she cried, in her sweet, affected drawl. “Isn’t it\r\n",
       "cold? It might be win-ter.”\r\n",
       "\r\n",
       "Miss Meadows, hugging the knife, stared in hatred at the Science\r\n",
       "Mistress. Everything about her was sweet,…\n",
       "[200 of 2985 tokens]</div></div>"
      ],
      "text/plain": [
       "<IPython.core.display.HTML object>"
      ]
     },
     "metadata": {},
     "output_type": "display_data"
    }
   ],
   "source": [
    "gardenparty.text(12).display(max_tokens = 200)"
   ]
  },
  {
   "cell_type": "code",
   "execution_count": null,
   "metadata": {},
   "outputs": [
    {
     "data": {
      "text/html": [
       "\n",
       "\t<style>\n",
       "\t.conc-text-wrapper { background: #fff; color: #000; border: 1px solid #000;border-radius: 0.5em;width: max-content;padding: 0.3em; min-width: 400px;} \n",
       "\t.conc-text {margin:0.3em; white-space: pre-wrap; font-family: Georgia, Cambria, \"Times New Roman\", Times, serif;font-size: 1.3em; width: max-content;}\n",
       "  </style>\n",
       "\t<div class=\"conc-text-wrapper\"><div class=\"conc-text\">With despair—cold, sharp despair—buried deep in her heart like a wicked  knife, Miss Meadows, in cap\n",
       "and gown and carrying a little baton, trod  the cold corridors that led to the music hall. Girls of\n",
       "all ages, rosy  from the air, and bubbling over with that gleeful excitement that comes  from\n",
       "running to school on a fine autumn morning, hurried, skipped,  fluttered by; from the hollow class-\n",
       "rooms came a quick drumming of  voices; a bell rang; a voice like a bird cried, “Muriel.” And then\n",
       "there came from the staircase a tremendous knock-knock-knocking. Some  one had dropped her\n",
       "dumbbells.\n",
       "\n",
       "The Science Mistress stopped Miss Meadows.\n",
       "\n",
       "“Good mor-ning,” she cried, in her sweet, affected drawl. “Isn’t it  cold? It might be win-ter.”\n",
       "\n",
       "Miss Meadows, hugging the knife, stared in hatred at the Science  Mistress. Everything about her was\n",
       "sweet,… [200 of 2985 tokens]</div></div>"
      ],
      "text/plain": [
       "<IPython.core.display.HTML object>"
      ]
     },
     "metadata": {},
     "output_type": "display_data"
    }
   ],
   "source": [
    "gardenparty.text(12).display(show_metadata = False, max_tokens = 200, textwrap_width = 100, reflow_paragraphs = True)"
   ]
  },
  {
   "cell_type": "code",
   "execution_count": null,
   "metadata": {},
   "outputs": [
    {
     "data": {
      "text/plain": [
       "'With despair—cold, sharp despair—buried deep in her heart like a wicked\\r\\nknife, Miss Meadows, in cap and gown and carrying a little baton, trod\\r\\nthe cold corridors that led to the music hall. Girls of all ages, rosy'"
      ]
     },
     "execution_count": null,
     "metadata": {},
     "output_type": "execute_result"
    }
   ],
   "source": [
    "gardenparty.text(12).as_string(max_tokens = 50)"
   ]
  },
  {
   "cell_type": "code",
   "execution_count": null,
   "metadata": {},
   "outputs": [
    {
     "data": {
      "text/html": [
       "<div><style>\n",
       ".dataframe > thead > tr,\n",
       ".dataframe > tbody > tr {\n",
       "  text-align: right;\n",
       "  white-space: pre-wrap;\n",
       "}\n",
       "</style>\n",
       "<table border=\"1\" class=\"dataframe\"><thead><tr><th>position</th><th>orth_index</th><th>lower_index</th><th>token2doc_index</th><th>has_spaces</th><th>not_space</th></tr></thead><tbody><tr><td>59174</td><td>4216</td><td>4264</td><td>12</td><td>true</td><td>1</td></tr><tr><td>59175</td><td>947</td><td>947</td><td>12</td><td>false</td><td>1</td></tr><tr><td>59176</td><td>4667</td><td>4667</td><td>12</td><td>false</td><td>1</td></tr><tr><td>59177</td><td>1045</td><td>1045</td><td>12</td><td>false</td><td>1</td></tr><tr><td>59178</td><td>874</td><td>874</td><td>12</td><td>true</td><td>1</td></tr><tr><td>59179</td><td>4643</td><td>4643</td><td>12</td><td>true</td><td>1</td></tr><tr><td>59180</td><td>947</td><td>947</td><td>12</td><td>false</td><td>1</td></tr><tr><td>59181</td><td>4667</td><td>4667</td><td>12</td><td>false</td><td>1</td></tr><tr><td>59182</td><td>4889</td><td>4889</td><td>12</td><td>true</td><td>1</td></tr><tr><td>59183</td><td>4332</td><td>4332</td><td>12</td><td>true</td><td>1</td></tr></tbody></table></div>"
      ],
      "text/plain": [
       "┌──────────┬────────────┬─────────────┬─────────────────┬────────────┬───────────┐\n",
       "│ position ┆ orth_index ┆ lower_index ┆ token2doc_index ┆ has_spaces ┆ not_space │\n",
       "╞══════════╪════════════╪═════════════╪═════════════════╪════════════╪═══════════╡\n",
       "│ 59174    ┆ 4216       ┆ 4264        ┆ 12              ┆ true       ┆ 1         │\n",
       "│ 59175    ┆ 947        ┆ 947         ┆ 12              ┆ false      ┆ 1         │\n",
       "│ 59176    ┆ 4667       ┆ 4667        ┆ 12              ┆ false      ┆ 1         │\n",
       "│ 59177    ┆ 1045       ┆ 1045        ┆ 12              ┆ false      ┆ 1         │\n",
       "│ 59178    ┆ 874        ┆ 874         ┆ 12              ┆ true       ┆ 1         │\n",
       "│ 59179    ┆ 4643       ┆ 4643        ┆ 12              ┆ true       ┆ 1         │\n",
       "│ 59180    ┆ 947        ┆ 947         ┆ 12              ┆ false      ┆ 1         │\n",
       "│ 59181    ┆ 4667       ┆ 4667        ┆ 12              ┆ false      ┆ 1         │\n",
       "│ 59182    ┆ 4889       ┆ 4889        ┆ 12              ┆ true       ┆ 1         │\n",
       "│ 59183    ┆ 4332       ┆ 4332        ┆ 12              ┆ true       ┆ 1         │\n",
       "└──────────┴────────────┴─────────────┴─────────────────┴────────────┴───────────┘"
      ]
     },
     "execution_count": null,
     "metadata": {},
     "output_type": "execute_result"
    }
   ],
   "source": [
    "#| hide\n",
    "gardenparty.text(12).doc_df.head(10).collect()"
   ]
  },
  {
   "cell_type": "code",
   "execution_count": null,
   "metadata": {},
   "outputs": [
    {
     "data": {
      "text/plain": [
       "'With <span class=\"highlight\">despair—cold</span>, sharp despair—buried deep in her heart like a wicked\\r\\nknife, Miss Meadows, in cap and gown and carrying a little baton, trod\\r\\nthe cold corridors that led to the music hall. Girls of all ages, rosy\\r\\nfrom the air, and bubbling over with that gleeful excitement that comes\\r\\nfrom running to school on a fine autumn morning, hurried, skipped,\\r\\nfluttered by; from the hollow class-rooms came a quick drumming of\\r\\nvoices; a bell rang; a voice like a bird cried, “Muriel.” And then\\r\\nthere came from the staircase a tremendous knock-knock-knocking. Some\\r\\none had dropped her dumbbells.\\r\\n\\r\\nThe Science Mistress stopped Miss Meadows.\\r\\n\\r\\n“Good mor-ning,” she cried, in her sweet, affected drawl. “Isn’t it\\r\\ncold? It might be win-ter.”\\r\\n\\r\\nMiss Meadows, hugging the knife, stared in hatred at the Science\\r\\nMistress. Everything about her was sweet, pale, like honey. You would\\r\\nnot have been surprised to see a bee caught in the tangles of that\\r\\nyellow hair.\\r\\n\\r\\n“It is rather sharp,” said Miss Meadows, grimly.\\r\\n\\r\\nThe other smiled her sugary smile.\\r\\n\\r\\n“You look fro-zen,” said she. Her blue eyes opened wide; there came a\\r\\nmocking light in them. (Had she noticed anything?)\\r\\n\\r\\n“Oh, not quite as bad as that,” said Miss Meadows, and she gave the\\r\\nScience Mistress, in exchange for her smile, a quick grimace and passed\\r\\non....\\r\\n\\r\\nForms Four, Five, and Six were assembled in the music hall. The noise\\r\\nwas deafening. On the platform, by the piano, stood Mary Beazley, Miss\\r\\nMeadows’ favourite, who played accompaniments. She was turning the\\r\\nmusic stool. When she saw Miss Meadows she gave a loud, warning “Sh-sh!\\r\\ngirls!” and Miss Meadows, her hands thrust in her sleeves, the baton\\r\\nunder her arm, strode down the centre aisle, mounted the steps, turned\\r\\nsharply, seized the brass music stand, planted it in front of her, and\\r\\ngave two sharp taps with her baton for silence.\\r\\n\\r\\n“Silence, please! Immediately!” and, looking at nobody, her glance\\r\\nswept over that sea of coloured flannel blouses, with bobbing pink\\r\\nfaces and hands, quivering butterfly hair-bows, and music-books\\r\\noutspread. She knew perfectly well what they were thinking. “Meady is\\r\\nin a wax.” Well, let them think it! Her eyelids quivered; she tossed\\r\\nher head, defying them. What could the thoughts of those creatures\\r\\nmatter to some one who stood there bleeding to death, pierced to the\\r\\nheart, to the heart, by such a letter—\\r\\n\\r\\n... “I feel more and more strongly that our marriage would be a\\r\\nmistake. Not that I do not love you. I love you as much as it is\\r\\npossible for me to love any woman, but, truth to tell, I have come to\\r\\nthe conclusion that I am not a marrying man, and the idea of settling\\r\\ndown fills me with nothing but—” and the word “disgust” was scratched\\r\\nout lightly and “regret” written over the top.\\r\\n\\r\\nBasil! Miss Meadows stalked over to the piano. And Mary Beazley, who\\r\\nwas waiting for this moment, bent forward; her curls fell over her\\r\\ncheeks while she breathed, “Good morning, Miss Meadows,” and she\\r\\nmotioned towards rather than handed to her mistress a beautiful yellow\\r\\nchrysanthemum. This little ritual of the flower had been gone through\\r\\nfor ages and ages, quite a term and a half. It was as much part of the\\r\\nlesson as opening the piano. But this morning, instead of taking it up,\\r\\ninstead of tucking it into her belt while she leant over Mary and said,\\r\\n“Thank you, Mary. How very nice! Turn to page thirty-two,” what was\\r\\nMary’s horror when Miss Meadows totally ignored the chrysanthemum, made\\r\\nno reply to her greeting, but said in a voice of ice, “Page fourteen,\\r\\nplease, and mark the accents well.”\\r\\n\\r\\nStaggering moment! Mary blushed until the tears stood in her eyes, but\\r\\nMiss Meadows was gone back to the music stand; her voice rang through\\r\\nthe music hall.\\r\\n\\r\\n“Page fourteen. We will begin with page fourteen. ‘A Lament.’ Now,\\r\\ngirls, you ought to know it by this time. We shall take it all\\r\\ntogether; not in parts, all together. And without expression. Sing it,\\r\\nthough, quite simply, beating time with the left hand.”\\r\\n\\r\\nShe raised the baton; she tapped the music stand twice. Down came Mary\\r\\non the opening chord; down came all those left hands, beating the air,\\r\\nand in chimed those young, mournful voices:—\\r\\n\\r\\n     Fast! Ah, too Fast Fade the Ro-o-ses of Pleasure;\\r\\n     Soon Autumn yields unto Wi-i-nter Drear.\\r\\n     Fleetly! Ah, Fleetly Mu-u-sic’s Gay Measure\\r\\n     Passes away from the Listening Ear.\\r\\n\\r\\nGood Heavens, what could be more tragic than that lament! Every note\\r\\nwas a sigh, a sob, a groan of awful mournfulness. Miss Meadows lifted\\r\\nher arms in the wide gown and began conducting with both hands. “... I\\r\\nfeel more and more strongly that our marriage would be a mistake....”\\r\\nshe beat. And the voices cried: _Fleetly! Ah, Fleetly._ What could have\\r\\npossessed him to write such a letter! What could have led up to it! It\\r\\ncame out of nothing. His last letter had been all about a fumed-oak\\r\\nbookcase he had bought for “our” books, and a “natty little hall-stand”\\r\\nhe had seen, “a very neat affair with a carved owl on a bracket,\\r\\nholding three hat-brushes in its claws.” How she had smiled at that! So\\r\\nlike a man to think one needed three hat-brushes! _From the Listening\\r\\nEar_, sang the voices.\\r\\n\\r\\n“Once again,” said Miss Meadows. “But this time in parts. Still without\\r\\nexpression.” _Fast! Ah, too Fast._ With the gloom of the contraltos\\r\\nadded, one could scarcely help shuddering. _Fade the Roses of\\r\\nPleasure._ Last time he had come to see her, Basil had worn a rose in\\r\\nhis buttonhole. How handsome he had looked in that bright blue suit,\\r\\nwith that dark red rose! And he knew it, too. He couldn’t help knowing\\r\\nit. First he stroked his hair, then his moustache; his teeth gleamed\\r\\nwhen he smiled.\\r\\n\\r\\n“The headmaster’s wife keeps on asking me to dinner. It’s a perfect\\r\\nnuisance. I never get an evening to myself in that place.”\\r\\n\\r\\n“But can’t you refuse?”\\r\\n\\r\\n“Oh, well, it doesn’t do for a man in my position to be unpopular.”\\r\\n\\r\\n_Music’s Gay Measure_, wailed the voices. The willow trees, outside the\\r\\nhigh, narrow windows, waved in the wind. They had lost half their\\r\\nleaves. The tiny ones that clung wriggled like fishes caught on a line.\\r\\n“... I am not a marrying man....” The voices were silent; the piano\\r\\nwaited.\\r\\n\\r\\n“Quite good,” said Miss Meadows, but still in such a strange, stony\\r\\ntone that the younger girls began to feel positively frightened. “But\\r\\nnow that we know it, we shall take it with expression. As much\\r\\nexpression as you can put into it. Think of the words, girls. Use your\\r\\nimaginations. _Fast! Ah, too Fast_,” cried Miss Meadows. “That ought to\\r\\nbreak out—a loud, strong _forte_—a lament. And then in the second line,\\r\\n_Winter Drear_, make that _Drear_ sound as if a cold wind were blowing\\r\\nthrough it. _Dre-ear!_” said she so awfully that Mary Beazley, on the\\r\\nmusic stool, wriggled her spine. “The third line should be one\\r\\ncrescendo. _Fleetly! Ah, Fleetly Music’s Gay Measure._ Breaking on the\\r\\nfirst word of the last line, _Passes._ And then on the word, _Away_,\\r\\nyou must begin to die... to fade... until _The Listening Ear_ is\\r\\nnothing more than a faint whisper.... You can slow down as much as you\\r\\nlike almost on the last line. Now, please.”\\r\\n\\r\\nAgain the two light taps; she lifted her arms again. _Fast! Ah, too\\r\\nFast._ “... and the idea of settling down fills me with nothing but\\r\\ndisgust—” Disgust was what he had written. That was as good as to say\\r\\ntheir engagement was definitely broken off. Broken off! Their\\r\\nengagement! People had been surprised enough that she had got engaged.\\r\\nThe Science Mistress would not believe it at first. But nobody had been\\r\\nas surprised as she. She was thirty. Basil was twenty-five. It had been\\r\\na miracle, simply a miracle, to hear him say, as they walked home from\\r\\nchurch that very dark night, “You know, somehow or other, I’ve got fond\\r\\nof you.” And he had taken hold of the end of her ostrich feather boa.\\r\\n_Passes away from the Listening Ear._\\r\\n\\r\\n“Repeat! Repeat!” said Miss Meadows. “More expression, girls! Once\\r\\nmore!”\\r\\n\\r\\n_Fast! Ah, too Fast._ The older girls were crimson; some of the younger\\r\\nones began to cry. Big spots of rain blew against the windows, and one\\r\\ncould hear the willows whispering, “... not that I do not love you....”\\r\\n\\r\\n“But, my darling, if you love me,” thought Miss Meadows, “I don’t mind\\r\\nhow much it is. Love me as little as you like.” But she knew he didn’t\\r\\nlove her. Not to have cared enough to scratch out that word “disgust,”\\r\\nso that she couldn’t read it! _Soon Autumn yields unto Winter Drear._\\r\\nShe would have to leave the school, too. She could never face the\\r\\nScience Mistress or the girls after it got known. She would have to\\r\\ndisappear somewhere. _Passes away._ The voices began to die, to fade,\\r\\nto whisper... to vanish....\\r\\n\\r\\nSuddenly the door opened. A little girl in blue walked fussily up the\\r\\naisle, hanging her head, biting her lips, and twisting the silver\\r\\nbangle on her red little wrist. She came up the steps and stood before\\r\\nMiss Meadows.\\r\\n\\r\\n“Well, Monica, what is it?”\\r\\n\\r\\n“Oh, if you please, Miss Meadows,” said the little girl, gasping, “Miss\\r\\nWyatt wants to see you in the mistress’s room.”\\r\\n\\r\\n“Very well,” said Miss Meadows. And she called to the girls, “I shall\\r\\nput you on your honour to talk quietly while I am away.” But they were\\r\\ntoo subdued to do anything else. Most of them were blowing their noses.\\r\\n\\r\\nThe corridors were silent and cold; they echoed to Miss Meadows’ steps.\\r\\nThe head mistress sat at her desk. For a moment she did not look up.\\r\\nShe was as usual disentangling her eyeglasses, which had got caught in\\r\\nher lace tie. “Sit down, Miss Meadows,” she said very kindly. And then\\r\\nshe picked up a pink envelope from the blotting-pad. “I sent for you\\r\\njust now because this telegram has come for you.”\\r\\n\\r\\n“A telegram for me, Miss Wyatt?”\\r\\n\\r\\nBasil! He had committed suicide, decided Miss Meadows. Her hand flew\\r\\nout, but Miss Wyatt held the telegram back a moment. “I hope it’s not\\r\\nbad news,” she said, so more than kindly. And Miss Meadows tore it\\r\\nopen.\\r\\n\\r\\n“Pay no attention to letter, must have been mad, bought hat-stand\\r\\nto-day—Basil,” she read. She couldn’t take her eyes off the telegram.\\r\\n\\r\\n“I do hope it’s nothing very serious,” said Miss Wyatt, leaning\\r\\nforward.\\r\\n\\r\\n“Oh, no, thank you, Miss Wyatt,” blushed Miss Meadows. “It’s nothing\\r\\nbad at all. It’s”—and she gave an apologetic little laugh—“it’s from my\\r\\n_fiancé_ saying that... saying that—” There was a pause. “I _see_,”\\r\\nsaid Miss Wyatt. And another pause. Then—“You’ve fifteen minutes more\\r\\nof your class, Miss Meadows, haven’t you?”\\r\\n\\r\\n“Yes, Miss Wyatt.” She got up. She half ran towards the door.\\r\\n\\r\\n“Oh, just one minute, Miss Meadows,” said Miss Wyatt. “I must say I\\r\\ndon’t approve of my teachers having telegrams sent to them in school\\r\\nhours, unless in case of very bad news, such as death,” explained Miss\\r\\nWyatt, “or a very serious accident, or something to that effect. Good\\r\\nnews, Miss Meadows, will always keep, you know.”\\r\\n\\r\\nOn the wings of hope, of love, of joy, Miss Meadows sped back to the\\r\\nmusic hall, up the aisle, up the steps, over to the piano.\\r\\n\\r\\n“Page thirty-two, Mary,” she said, “page thirty-two,” and, picking up\\r\\nthe yellow chrysanthemum, she held it to her lips to hide her smile.\\r\\nThen she turned to the girls, rapped with her baton: “Page thirty-two,\\r\\ngirls. Page thirty-two.”\\r\\n\\r\\n     We come here To-day with Flowers o’erladen,\\r\\n     With Baskets of Fruit and Ribbons to boot,\\r\\n     To-oo Congratulate . . .\\r\\n\\r\\n“Stop! Stop!” cried Miss Meadows. “This is awful. This is dreadful.”\\r\\nAnd she beamed at her girls. “What’s the matter with you all? Think,\\r\\ngirls, think of what you’re singing. Use your imaginations. _With\\r\\nFlowers o’erladen. Baskets of Fruit and Ribbons to boot._ And\\r\\n_Congratulate._” Miss Meadows broke off. “Don’t look so doleful, girls.\\r\\nIt ought to sound warm, joyful, eager. _Congratulate._ Once more.\\r\\nQuickly. All together. Now then!”\\r\\n\\r\\nAnd this time Miss Meadows’ voice sounded over all the other\\r\\nvoices—full, deep, glowing with expression.\\r\\n'"
      ]
     },
     "execution_count": null,
     "metadata": {},
     "output_type": "execute_result"
    }
   ],
   "source": [
    "#| hide\n",
    "gardenparty.text(12).as_string(highlighted_token_range = (59175, 59177))"
   ]
  },
  {
   "cell_type": "code",
   "execution_count": null,
   "metadata": {},
   "outputs": [],
   "source": [
    "#| hide\n",
    "import nbdev; nbdev.nbdev_export()"
   ]
  },
  {
   "cell_type": "code",
   "execution_count": null,
   "metadata": {},
   "outputs": [],
   "source": []
  },
  {
   "cell_type": "code",
   "execution_count": null,
   "metadata": {},
   "outputs": [],
   "source": []
  }
 ],
 "metadata": {
  "kernelspec": {
   "display_name": "python3",
   "language": "python",
   "name": "python3"
  }
 },
 "nbformat": 4,
 "nbformat_minor": 2
}
