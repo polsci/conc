{
 "cells": [
  {
   "cell_type": "markdown",
   "metadata": {},
   "source": [
    "# result\n",
    "\n",
    "> Conc result class.\n",
    "- toc: false\n",
    "- page-layout: full"
   ]
  },
  {
   "cell_type": "code",
   "execution_count": null,
   "metadata": {},
   "outputs": [],
   "source": [
    "#| default_exp result"
   ]
  },
  {
   "cell_type": "code",
   "execution_count": null,
   "metadata": {},
   "outputs": [],
   "source": [
    "#| hide\n",
    "from nbdev.showdoc import *"
   ]
  },
  {
   "cell_type": "code",
   "execution_count": null,
   "metadata": {},
   "outputs": [],
   "source": [
    "#| export\n",
    "from __future__ import annotations\n",
    "import polars as pl\n",
    "from fastcore.basics import patch\n",
    "from great_tables import GT"
   ]
  },
  {
   "cell_type": "code",
   "execution_count": null,
   "metadata": {},
   "outputs": [],
   "source": [
    "#| export\n",
    "class Result:\n",
    "\tdef __init__(self,\n",
    "\t\t\t  type: str, # report type\n",
    "\t\t\t  df: pl.DataFrame|pl.LazyFrame, # Polars dataframe or lazyframe with the results\n",
    "\t\t\t  title: str, # title of the report\n",
    "\t\t\t  description: str, # description\n",
    "\t\t\t  summary_data: dict, # summary data (ignored)\n",
    "\t\t\t  formatted_data: list[str] # list of formatted data about the table\n",
    "\t\t\t  ): \n",
    "\n",
    "\t\t\"\"\" Class for results from Conc reports \"\"\"\n",
    "\t\tself.type = type\n",
    "\t\tself.df = df\n",
    "\t\tself.title = title\n",
    "\t\tself.description = description\n",
    "\t\tself.summary_data = summary_data\n",
    "\t\tself.formatted_data = formatted_data\n"
   ]
  },
  {
   "cell_type": "code",
   "execution_count": null,
   "metadata": {},
   "outputs": [],
   "source": [
    "#| export\n",
    "@patch\n",
    "def display(self: Result\n",
    "\t\t\t   ):\n",
    "\t\"\"\" Print analysis result output from conc in a nice table format using the great_tables library \"\"\"\n",
    "\t\n",
    "\tcolumns_with_integers = []\n",
    "\tcolumns_with_decimals = []\n",
    "\tif type(self.df) == pl.LazyFrame:\n",
    "\t\tself.df = self.df.collect()\n",
    "\n",
    "\tif self.df.select(pl.len()).item() > 0:\n",
    "\n",
    "\t\tself.df.columns = [col.replace('_', ' ').title() for col in self.df.columns]\n",
    "\n",
    "\t\tfor col in self.df.columns:\n",
    "\t\t\tif self.df[col].dtype in [pl.Float64, pl.Float32]:\n",
    "\t\t\t\tcolumns_with_decimals.append(col)\n",
    "\t\t\telif col != 'Token Id' and self.df[col].dtype in [pl.Int64, pl.Int32, pl.Int16, pl.Int8, pl.UInt64, pl.UInt32, pl.UInt16, pl.UInt8]:\n",
    "\t\t\t\tcolumns_with_integers.append(col)\n",
    "\n",
    "\tgt = GT(self.df).tab_options(table_margin_left = 0)\n",
    "\tif self.title != '' or self.description != '':\n",
    "\t\tgt = gt.tab_header(self.title, self.description)\n",
    "\n",
    "\tif len(columns_with_decimals) > 0:\n",
    "\t\tgt = gt.fmt_number(columns_with_decimals, decimals=2)\n",
    "\n",
    "\tif len(columns_with_integers) > 0:\n",
    "\t\tgt = gt.fmt_integer(columns_with_integers, use_seps=True, sep_mark=',')\n",
    "\n",
    "\tfor value in self.formatted_data:\n",
    "\t\tgt = gt.tab_source_note(value)\n",
    "\n",
    "\tif self.type == 'concordance':\n",
    "\t\tif 'Left' in self.df.columns:\n",
    "\t\t\tgt = gt.cols_align(align='right', columns=['Left'])\n",
    "\t\tif 'Keyword' in self.df.columns:\n",
    "\t\t\tgt = gt.cols_align(align='center', columns=['Keyword'])\n",
    "\tgt.show()\n",
    "\n"
   ]
  },
  {
   "cell_type": "code",
   "execution_count": null,
   "metadata": {},
   "outputs": [],
   "source": [
    "#| export\n",
    "@patch\n",
    "def to_frame(self: Result,\n",
    "\t\t\t collect_if_lazy: bool = True # if the df is a lazyframe, collect before returning\n",
    "\t\t\t ):\n",
    "\t\"\"\" Return result output from conc as a dataframe \"\"\"\n",
    "\tif collect_if_lazy and type(self.df) == pl.LazyFrame:\n",
    "\t\tself.df = self.df.collect()\n",
    "\treturn self.df"
   ]
  },
  {
   "cell_type": "code",
   "execution_count": null,
   "metadata": {},
   "outputs": [
    {
     "data": {
      "text/html": [
       "<div id=\"jzkawcgqfh\" style=\"padding-left:0px;padding-right:0px;padding-top:10px;padding-bottom:10px;overflow-x:auto;overflow-y:auto;width:auto;height:auto;\">\n",
       "<style>\n",
       "#jzkawcgqfh table {\n",
       "          font-family: -apple-system, BlinkMacSystemFont, 'Segoe UI', Roboto, Oxygen, Ubuntu, Cantarell, 'Helvetica Neue', 'Fira Sans', 'Droid Sans', Arial, sans-serif;\n",
       "          -webkit-font-smoothing: antialiased;\n",
       "          -moz-osx-font-smoothing: grayscale;\n",
       "        }\n",
       "\n",
       "#jzkawcgqfh thead, tbody, tfoot, tr, td, th { border-style: none; }\n",
       " tr { background-color: transparent; }\n",
       "#jzkawcgqfh p { margin: 0; padding: 0; }\n",
       " #jzkawcgqfh .gt_table { display: table; border-collapse: collapse; line-height: normal; margin-left: 0; margin-right: auto; color: #333333; font-size: 16px; font-weight: normal; font-style: normal; background-color: #FFFFFF; width: auto; border-top-style: solid; border-top-width: 2px; border-top-color: #A8A8A8; border-right-style: none; border-right-width: 2px; border-right-color: #D3D3D3; border-bottom-style: solid; border-bottom-width: 2px; border-bottom-color: #A8A8A8; border-left-style: none; border-left-width: 2px; border-left-color: #D3D3D3; }\n",
       " #jzkawcgqfh .gt_caption { padding-top: 4px; padding-bottom: 4px; }\n",
       " #jzkawcgqfh .gt_title { color: #333333; font-size: 125%; font-weight: initial; padding-top: 4px; padding-bottom: 4px; padding-left: 5px; padding-right: 5px; border-bottom-color: #FFFFFF; border-bottom-width: 0; }\n",
       " #jzkawcgqfh .gt_subtitle { color: #333333; font-size: 85%; font-weight: initial; padding-top: 3px; padding-bottom: 5px; padding-left: 5px; padding-right: 5px; border-top-color: #FFFFFF; border-top-width: 0; }\n",
       " #jzkawcgqfh .gt_heading { background-color: #FFFFFF; text-align: center; border-bottom-color: #FFFFFF; border-left-style: none; border-left-width: 1px; border-left-color: #D3D3D3; border-right-style: none; border-right-width: 1px; border-right-color: #D3D3D3; }\n",
       " #jzkawcgqfh .gt_bottom_border { border-bottom-style: solid; border-bottom-width: 2px; border-bottom-color: #D3D3D3; }\n",
       " #jzkawcgqfh .gt_col_headings { border-top-style: solid; border-top-width: 2px; border-top-color: #D3D3D3; border-bottom-style: solid; border-bottom-width: 2px; border-bottom-color: #D3D3D3; border-left-style: none; border-left-width: 1px; border-left-color: #D3D3D3; border-right-style: none; border-right-width: 1px; border-right-color: #D3D3D3; }\n",
       " #jzkawcgqfh .gt_col_heading { color: #333333; background-color: #FFFFFF; font-size: 100%; font-weight: normal; text-transform: inherit; border-left-style: none; border-left-width: 1px; border-left-color: #D3D3D3; border-right-style: none; border-right-width: 1px; border-right-color: #D3D3D3; vertical-align: bottom; padding-top: 5px; padding-bottom: 5px; padding-left: 5px; padding-right: 5px; overflow-x: hidden; }\n",
       " #jzkawcgqfh .gt_column_spanner_outer { color: #333333; background-color: #FFFFFF; font-size: 100%; font-weight: normal; text-transform: inherit; padding-top: 0; padding-bottom: 0; padding-left: 4px; padding-right: 4px; }\n",
       " #jzkawcgqfh .gt_column_spanner_outer:first-child { padding-left: 0; }\n",
       " #jzkawcgqfh .gt_column_spanner_outer:last-child { padding-right: 0; }\n",
       " #jzkawcgqfh .gt_column_spanner { border-bottom-style: solid; border-bottom-width: 2px; border-bottom-color: #D3D3D3; vertical-align: bottom; padding-top: 5px; padding-bottom: 5px; overflow-x: hidden; display: inline-block; width: 100%; }\n",
       " #jzkawcgqfh .gt_spanner_row { border-bottom-style: hidden; }\n",
       " #jzkawcgqfh .gt_group_heading { padding-top: 8px; padding-bottom: 8px; padding-left: 5px; padding-right: 5px; color: #333333; background-color: #FFFFFF; font-size: 100%; font-weight: initial; text-transform: inherit; border-top-style: solid; border-top-width: 2px; border-top-color: #D3D3D3; border-bottom-style: solid; border-bottom-width: 2px; border-bottom-color: #D3D3D3; border-left-style: none; border-left-width: 1px; border-left-color: #D3D3D3; border-right-style: none; border-right-width: 1px; border-right-color: #D3D3D3; vertical-align: middle; text-align: left; }\n",
       " #jzkawcgqfh .gt_empty_group_heading { padding: 0.5px; color: #333333; background-color: #FFFFFF; font-size: 100%; font-weight: initial; border-top-style: solid; border-top-width: 2px; border-top-color: #D3D3D3; border-bottom-style: solid; border-bottom-width: 2px; border-bottom-color: #D3D3D3; vertical-align: middle; }\n",
       " #jzkawcgqfh .gt_from_md> :first-child { margin-top: 0; }\n",
       " #jzkawcgqfh .gt_from_md> :last-child { margin-bottom: 0; }\n",
       " #jzkawcgqfh .gt_row { padding-top: 8px; padding-bottom: 8px; padding-left: 5px; padding-right: 5px; margin: 10px; border-top-style: solid; border-top-width: 1px; border-top-color: #D3D3D3; border-left-style: none; border-left-width: 1px; border-left-color: #D3D3D3; border-right-style: none; border-right-width: 1px; border-right-color: #D3D3D3; vertical-align: middle; overflow-x: hidden; }\n",
       " #jzkawcgqfh .gt_stub { color: #333333; background-color: #FFFFFF; font-size: 100%; font-weight: initial; text-transform: inherit; border-right-style: solid; border-right-width: 2px; border-right-color: #D3D3D3; padding-left: 5px; padding-right: 5px; }\n",
       " #jzkawcgqfh .gt_stub_row_group { color: #333333; background-color: #FFFFFF; font-size: 100%; font-weight: initial; text-transform: inherit; border-right-style: solid; border-right-width: 2px; border-right-color: #D3D3D3; padding-left: 5px; padding-right: 5px; vertical-align: top; }\n",
       " #jzkawcgqfh .gt_row_group_first td { border-top-width: 2px; }\n",
       " #jzkawcgqfh .gt_row_group_first th { border-top-width: 2px; }\n",
       " #jzkawcgqfh .gt_striped { background-color: rgba(128,128,128,0.05); }\n",
       " #jzkawcgqfh .gt_table_body { border-top-style: solid; border-top-width: 2px; border-top-color: #D3D3D3; border-bottom-style: solid; border-bottom-width: 2px; border-bottom-color: #D3D3D3; }\n",
       " #jzkawcgqfh .gt_sourcenotes { color: #333333; background-color: #FFFFFF; border-bottom-style: none; border-bottom-width: 2px; border-bottom-color: #D3D3D3; border-left-style: none; border-left-width: 2px; border-left-color: #D3D3D3; border-right-style: none; border-right-width: 2px; border-right-color: #D3D3D3; }\n",
       " #jzkawcgqfh .gt_sourcenote { font-size: 90%; padding-top: 4px; padding-bottom: 4px; padding-left: 5px; padding-right: 5px; text-align: left; }\n",
       " #jzkawcgqfh .gt_left { text-align: left; }\n",
       " #jzkawcgqfh .gt_center { text-align: center; }\n",
       " #jzkawcgqfh .gt_right { text-align: right; font-variant-numeric: tabular-nums; }\n",
       " #jzkawcgqfh .gt_font_normal { font-weight: normal; }\n",
       " #jzkawcgqfh .gt_font_bold { font-weight: bold; }\n",
       " #jzkawcgqfh .gt_font_italic { font-style: italic; }\n",
       " #jzkawcgqfh .gt_super { font-size: 65%; }\n",
       " #jzkawcgqfh .gt_footnote_marks { font-size: 75%; vertical-align: 0.4em; position: initial; }\n",
       " #jzkawcgqfh .gt_asterisk { font-size: 100%; vertical-align: 0; }\n",
       " \n",
       "</style>\n",
       "<table class=\"gt_table\" data-quarto-disable-processing=\"false\" data-quarto-bootstrap=\"false\">\n",
       "<thead>\n",
       "\n",
       "  <tr class=\"gt_heading\">\n",
       "    <td colspan=\"2\" class=\"gt_heading gt_title gt_font_normal\">Example Table</td>\n",
       "  </tr>\n",
       "  <tr class=\"gt_heading\">\n",
       "    <td colspan=\"2\" class=\"gt_heading gt_subtitle gt_font_normal gt_bottom_border\">This is an example result.</td>\n",
       "  </tr>\n",
       "<tr class=\"gt_col_headings\">\n",
       "  <th class=\"gt_col_heading gt_columns_bottom_border gt_left\" rowspan=\"1\" colspan=\"1\" scope=\"col\" id=\"Token\">Token</th>\n",
       "  <th class=\"gt_col_heading gt_columns_bottom_border gt_right\" rowspan=\"1\" colspan=\"1\" scope=\"col\" id=\"Frequency\">Frequency</th>\n",
       "</tr>\n",
       "</thead>\n",
       "<tbody class=\"gt_table_body\">\n",
       "  <tr>\n",
       "    <td class=\"gt_row gt_left\">Monday</td>\n",
       "    <td class=\"gt_row gt_right\">5</td>\n",
       "  </tr>\n",
       "  <tr>\n",
       "    <td class=\"gt_row gt_left\">Tuesday</td>\n",
       "    <td class=\"gt_row gt_right\">4</td>\n",
       "  </tr>\n",
       "  <tr>\n",
       "    <td class=\"gt_row gt_left\">Wednesday</td>\n",
       "    <td class=\"gt_row gt_right\">3</td>\n",
       "  </tr>\n",
       "  <tr>\n",
       "    <td class=\"gt_row gt_left\">Thursday</td>\n",
       "    <td class=\"gt_row gt_right\">2</td>\n",
       "  </tr>\n",
       "  <tr>\n",
       "    <td class=\"gt_row gt_left\">Friday</td>\n",
       "    <td class=\"gt_row gt_right\">1</td>\n",
       "  </tr>\n",
       "</tbody>\n",
       "  <tfoot class=\"gt_sourcenotes\">\n",
       "  \n",
       "  <tr>\n",
       "    <td class=\"gt_sourcenote\" colspan=\"2\">Formatted data text example 1</td>\n",
       "  </tr>\n",
       "\n",
       "\n",
       "  <tr>\n",
       "    <td class=\"gt_sourcenote\" colspan=\"2\">Formatted data text example 2</td>\n",
       "  </tr>\n",
       "\n",
       "</tfoot>\n",
       "\n",
       "</table>\n",
       "\n",
       "</div>\n",
       "        "
      ]
     },
     "metadata": {
      "text/html": {
       "text/html": {
        "isolated": true
       }
      }
     },
     "output_type": "display_data"
    }
   ],
   "source": [
    "result = Result(type = 'example', \n",
    "       df = pl.DataFrame({'Token': ['Monday', 'Tuesday', 'Wednesday', 'Thursday', 'Friday'],\n",
    "                          'Frequency': [5, 4, 3, 2, 1]}),\n",
    "       title = 'Example Table',\n",
    "       description = 'This is an example result.',\n",
    "       summary_data = {},\n",
    "       formatted_data = ['Formatted data text example 1', 'Formatted data text example 2']\n",
    "      )\n",
    "\n",
    "result.display()"
   ]
  },
  {
   "cell_type": "code",
   "execution_count": null,
   "metadata": {},
   "outputs": [
    {
     "data": {
      "text/html": [
       "<div><style>\n",
       ".dataframe > thead > tr,\n",
       ".dataframe > tbody > tr {\n",
       "  text-align: right;\n",
       "  white-space: pre-wrap;\n",
       "}\n",
       "</style>\n",
       "<small>shape: (5, 2)</small><table border=\"1\" class=\"dataframe\"><thead><tr><th>Token</th><th>Frequency</th></tr><tr><td>str</td><td>i64</td></tr></thead><tbody><tr><td>&quot;Monday&quot;</td><td>5</td></tr><tr><td>&quot;Tuesday&quot;</td><td>4</td></tr><tr><td>&quot;Wednesday&quot;</td><td>3</td></tr><tr><td>&quot;Thursday&quot;</td><td>2</td></tr><tr><td>&quot;Friday&quot;</td><td>1</td></tr></tbody></table></div>"
      ],
      "text/plain": [
       "shape: (5, 2)\n",
       "┌───────────┬───────────┐\n",
       "│ Token     ┆ Frequency │\n",
       "│ ---       ┆ ---       │\n",
       "│ str       ┆ i64       │\n",
       "╞═══════════╪═══════════╡\n",
       "│ Monday    ┆ 5         │\n",
       "│ Tuesday   ┆ 4         │\n",
       "│ Wednesday ┆ 3         │\n",
       "│ Thursday  ┆ 2         │\n",
       "│ Friday    ┆ 1         │\n",
       "└───────────┴───────────┘"
      ]
     },
     "execution_count": null,
     "metadata": {},
     "output_type": "execute_result"
    }
   ],
   "source": [
    "result.to_frame()"
   ]
  },
  {
   "cell_type": "code",
   "execution_count": null,
   "metadata": {},
   "outputs": [],
   "source": [
    "#| hide\n",
    "import nbdev; nbdev.nbdev_export()"
   ]
  },
  {
   "cell_type": "code",
   "execution_count": null,
   "metadata": {},
   "outputs": [],
   "source": []
  }
 ],
 "metadata": {
  "kernelspec": {
   "display_name": "python3",
   "language": "python",
   "name": "python3"
  }
 },
 "nbformat": 4,
 "nbformat_minor": 2
}
