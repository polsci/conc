{
 "cells": [
  {
   "cell_type": "markdown",
   "metadata": {},
   "source": [
    "# listcorpus\n",
    "\n",
    "> Representation of frequency information for a corpus, which can be be used as a reference corpus for keyword analysis.\n",
    "- toc: false\n",
    "- page-layout: full"
   ]
  },
  {
   "cell_type": "markdown",
   "metadata": {},
   "source": [
    "Note: to generate a frequency table for a corpus, see `Conc.frequencies`."
   ]
  },
  {
   "cell_type": "code",
   "execution_count": null,
   "metadata": {},
   "outputs": [],
   "source": [
    "#| default_exp listcorpus"
   ]
  },
  {
   "cell_type": "code",
   "execution_count": null,
   "metadata": {},
   "outputs": [],
   "source": [
    "#| hide\n",
    "from nbdev.showdoc import *"
   ]
  },
  {
   "cell_type": "code",
   "execution_count": null,
   "metadata": {},
   "outputs": [],
   "source": [
    "#| export\n",
    "from __future__ import annotations\n",
    "from fastcore.basics import patch\n",
    "import shutil\n",
    "from slugify import slugify\n",
    "import time\n",
    "import msgspec\n",
    "import polars as pl\n",
    "import os\n"
   ]
  },
  {
   "cell_type": "code",
   "execution_count": null,
   "metadata": {},
   "outputs": [],
   "source": [
    "#| export\n",
    "from conc import __version__\n",
    "from conc.core import logger, CorpusMetadata, PAGE_SIZE, EOF_TOKEN_STR, ERR_TOKEN_STR, REPOSITORY_URL, DOCUMENTATION_URL, CITATION_STR, PYPI_URL\n",
    "from conc.corpus import Corpus\n",
    "from conc.result import Result"
   ]
  },
  {
   "cell_type": "code",
   "execution_count": null,
   "metadata": {},
   "outputs": [],
   "source": [
    "#| hide\n",
    "from conc.core import set_logger_state, spacy_attribute_name"
   ]
  },
  {
   "cell_type": "code",
   "execution_count": null,
   "metadata": {},
   "outputs": [],
   "source": [
    "#| hide\n",
    "source_path = f'{os.environ.get(\"HOME\")}/data/'\n",
    "save_path = f'{os.environ.get(\"HOME\")}/data/conc-test-corpora/'"
   ]
  },
  {
   "cell_type": "markdown",
   "metadata": {},
   "source": [
    "## ListCorpus class"
   ]
  },
  {
   "cell_type": "code",
   "execution_count": null,
   "metadata": {},
   "outputs": [],
   "source": [
    "#| export\n",
    "class ListCorpus:\n",
    "\t\"\"\"Represention of a corpus based on frequency information, which can be loaded as a reference corpus.\"\"\"\n",
    "\t\n",
    "\tdef __init__(self, \n",
    "\t\t\t\tname: str = '', # name of corpus\n",
    "\t\t\t\tdescription: str = '' # description of corpus\n",
    "\t\t\t\t):\n",
    "\t\t# information about corpus\n",
    "\t\tself.name = name\n",
    "\t\tself.description = description\n",
    "\t\tself.slug = None\n",
    "\n",
    "\t\t# conc version that built the corpus\n",
    "\t\tself.conc_version = None\n",
    "\t\t\n",
    "\t\t# paths\n",
    "\t\tself.corpus_path = None\n",
    "\t\tself.source_path = None\n",
    "\n",
    "\t\t# settings\n",
    "\t\tself.SPACY_MODEL = None\n",
    "\t\tself.SPACY_MODEL_VERSION = None\n",
    "\t\tself.SPACY_EOF_TOKEN = None # set below as nlp.vocab[EOF_TOKEN_STR].orth in build or through load  - EOF_TOKEN_STR starts with space so eof_token can't match anything from corpus\n",
    "\t\tself.EOF_TOKEN = None\n",
    "\n",
    "\t\t# special token ids\n",
    "\t\tself.punct_tokens = None\n",
    "\t\tself.space_tokens = None\n",
    "\n",
    "\t\t# metadata for corpus\n",
    "\t\tself.document_count = None\n",
    "\t\tself.token_count = None\n",
    "\t\tself.unique_tokens = None\n",
    "\n",
    "\t\tself.word_token_count = None\n",
    "\t\tself.unique_word_tokens = None\n",
    "\n",
    "\t\tself.date_created = None\n",
    "\n",
    "\t\t# token data\n",
    "\t\tself.tokens = None\n",
    "\t\tself.vocab = None\n",
    "\n",
    "\t\tself.puncts = None\n",
    "\t\tself.spaces = None\n",
    "\n",
    "\t\t# metadata for each document\n",
    "\t\tself.metadata = None\n",
    "\n",
    "\t\tself.ngram_index = {}\n",
    "\t\tself.results_cache = {}\n",
    "\t\tself.expected_files_ = ['listcorpus.json', 'vocab.parquet']\n",
    "\t\tself.required_tables_ = ['vocab']\n"
   ]
  },
  {
   "cell_type": "code",
   "execution_count": null,
   "metadata": {},
   "outputs": [],
   "source": [
    "#| export\n",
    "LISTCORPUS_README_TEMPLATE = \"\"\"# {name}\n",
    "\n",
    "## About\n",
    "\n",
    "This directory contains frequency data for a corpus created using the [Conc]({REPOSITORY_URL}) Python library. \n",
    "This can be used as a reference corpus for keyword analysis with Conc. \n",
    "\n",
    "## Original Corpus Information\n",
    "\n",
    "{description}\n",
    "\n",
    "Date created: {date_created}  \n",
    "Document count: {document_count}  \n",
    "Token count: {token_count}  \n",
    "Word token count: {word_token_count}  \n",
    "Unique tokens: {unique_tokens}  \n",
    "Unique word tokens: {unique_word_tokens}  \n",
    "Conc Version Number: {conc_version}  \n",
    "spaCy model: {SPACY_MODEL}, version {SPACY_MODEL_VERSION}  \n",
    "\n",
    "## Using this reference corpus\n",
    " \n",
    "Conc can be installed [via pip]({PYPI_URL}). The [Conc documentation site]({DOCUMENTATION_URL}) \n",
    "has tutorials and detailed information to get you started with Conc or to work with the corpus \n",
    "data directly.  \n",
    "\n",
    "## Using the frequency information\n",
    "\n",
    "You can work with this data directly using the Polars library, or using another \n",
    "library that supports the Parquet format. See the [Conc documentation site]({DOCUMENTATION_URL}) \n",
    "for more information.  \n",
    "\n",
    "## Cite Conc\n",
    "\n",
    "{CITATION_STR}\n",
    "\n",
    "\"\"\""
   ]
  },
  {
   "cell_type": "code",
   "execution_count": null,
   "metadata": {},
   "outputs": [],
   "source": [
    "#| export\n",
    "@patch\n",
    "def build_from_corpus(self: ListCorpus, \n",
    "\t\t\t\t   source_corpus_path:str, # path to a Conc corpus directory\n",
    "\t\t\t\t   save_path:str # directory where corpus will be created, a subdirectory will be automatically created with the corpus content\n",
    "\t\t  ) -> None:\n",
    "\t\"\"\" Build a List Corpus from a Conc corpus. \"\"\"\n",
    "\t\n",
    "\tif not os.path.isdir(source_corpus_path):\n",
    "\t\traise FileNotFoundError(f\"Source corpus path '{source_corpus_path}' does not exist or is not a directory.\")\n",
    "\t\n",
    "\tstart_time = time.time()\n",
    "\n",
    "\tself.slug = os.path.basename(source_corpus_path)\n",
    "\tif self.slug.endswith('.corpus'):\n",
    "\t\tself.slug = self.slug[:-7]\n",
    "\tself.corpus_path = os.path.join(save_path, f'{self.slug}.listcorpus')\n",
    "\n",
    "\tif not os.path.isdir(self.corpus_path):\n",
    "\t\tos.makedirs(self.corpus_path, exist_ok=True)\n",
    "\n",
    "\ttry:\n",
    "\t\tshutil.copy(os.path.join(source_corpus_path, 'corpus.json'), os.path.join(self.corpus_path, 'listcorpus.json'))\n",
    "\t\tshutil.copy(os.path.join(source_corpus_path, 'vocab.parquet'), os.path.join(self.corpus_path, 'vocab.parquet'))\n",
    "\texcept FileNotFoundError:\n",
    "\t\traise FileNotFoundError(f\"Expected files not found in source corpus path '{source_corpus_path}'. Is this a valid Conc corpus?\")\n",
    "\t\n",
    "\tself.load(corpus_path=self.corpus_path)\n",
    "\n",
    "\twith open(f'{self.corpus_path}/README.md', 'w', encoding='utf-8') as f:\n",
    "\t\tf.write(LISTCORPUS_README_TEMPLATE.format(\n",
    "\t\t\tname=self.name,\n",
    "\t\t\tREPOSITORY_URL=REPOSITORY_URL,\n",
    "\t\t\tPYPI_URL=PYPI_URL,\n",
    "\t\t\tDOCUMENTATION_URL=DOCUMENTATION_URL,\n",
    "\t\t\tCITATION_STR=CITATION_STR,\n",
    "\t\t\tdescription=self.description,\n",
    "\t\t\tdate_created=self.date_created,\n",
    "\t\t\tdocument_count=self.document_count,\n",
    "\t\t\ttoken_count=self.token_count,\n",
    "\t\t\tword_token_count=self.word_token_count,\n",
    "\t\t\tunique_tokens=self.unique_tokens,\n",
    "\t\t\tunique_word_tokens=self.unique_word_tokens,\n",
    "\t\t\tconc_version=self.conc_version,\n",
    "\t\t\tSPACY_MODEL=self.SPACY_MODEL,\n",
    "\t\t\tSPACY_MODEL_VERSION=self.SPACY_MODEL_VERSION\n",
    "\t\t))\n",
    "\n",
    "\t# adding document counts for each token\n",
    "\tdocument_counts_lower = pl.scan_parquet(os.path.join(source_corpus_path, 'tokens.parquet')).select(pl.col('lower_index').alias('token_id'), pl.col('token2doc_index')).group_by('token_id').agg(pl.col('token2doc_index').n_unique().alias('document_frequency_lower'))\n",
    "\tself.vocab = self.vocab.join(document_counts_lower, on='token_id', how='left', maintain_order='left')\n",
    "\tdocument_counts_orth = pl.scan_parquet(os.path.join(source_corpus_path, 'tokens.parquet')).select(pl.col('orth_index').alias('token_id'), pl.col('token2doc_index')).group_by('token_id').agg(pl.col('token2doc_index').n_unique().alias('document_frequency_orth'))\n",
    "\tself.vocab = self.vocab.join(document_counts_orth, on='token_id', how='left', maintain_order='left')\n",
    "\t\n",
    "\t# rewriting the vocab file with doc frequencies\n",
    "\tself.vocab.collect().write_parquet(os.path.join(self.corpus_path, 'vocab.parquet'))\n",
    "\n",
    "\tself._init_corpus_dataframes()\n",
    "\n",
    "\tlogger.info(f\"Built ListCorpus {os.path.basename(self.corpus_path)} {time.time() - start_time:.2f} seconds.\")\n",
    "\n",
    "\treturn self\n"
   ]
  },
  {
   "cell_type": "code",
   "execution_count": null,
   "metadata": {},
   "outputs": [],
   "source": [
    "#| exporti\n",
    "@patch\n",
    "def _init_corpus_dataframes(self: ListCorpus):\n",
    "\t\"\"\" Initialize dataframes after build or load \"\"\"\n",
    "\t\n",
    "\tfor file in self.expected_files_:\n",
    "\t\tif not os.path.isfile(os.path.join(self.corpus_path, file)):\n",
    "\t\t\traise FileNotFoundError(f\"Expected file '{file}' not found in corpus path '{self.corpus_path}'\")\n",
    "\n",
    "\tfor file in self.required_tables_:\n",
    "\t\tself.__setattr__(file, pl.scan_parquet(f'{self.corpus_path}/{file}.parquet'))"
   ]
  },
  {
   "cell_type": "code",
   "execution_count": null,
   "metadata": {},
   "outputs": [],
   "source": [
    "#| export\n",
    "@patch\n",
    "def load(self: ListCorpus, \n",
    "\t\t corpus_path: str # path to load corpus\n",
    "\t\t ):\n",
    "\t\"\"\" Load list corpus from disk. \"\"\"\n",
    "\n",
    "\tlogger.memory_usage('init', init=True)\n",
    "\n",
    "\tstart_time = time.time()\n",
    "\n",
    "\tif not os.path.isdir(corpus_path):\n",
    "\t\traise FileNotFoundError(f\"Path '{corpus_path}' is not a directory\")\n",
    "\t\n",
    "\tif not all(os.path.isfile(os.path.join(corpus_path, f)) for f in self.expected_files_):\n",
    "\t\traise FileNotFoundError(f\"Path '{corpus_path}' does not contain all expected files: {self.expected_files_}\")\n",
    "\n",
    "\tself.corpus_path = corpus_path\n",
    "\n",
    "\twith open(f'{self.corpus_path}/listcorpus.json', 'rb') as f:\n",
    "\t\tdata = msgspec.json.decode(f.read(), type=CorpusMetadata)\n",
    "\n",
    "\tfor k in data.__slots__:\n",
    "\t\tsetattr(self, k, getattr(data, k))\n",
    "\n",
    "\tself._init_corpus_dataframes()\n",
    "\n",
    "\tlogger.info(f'Load time: {(time.time() - start_time):.3f} seconds')\n",
    "\n",
    "\treturn self"
   ]
  },
  {
   "cell_type": "code",
   "execution_count": null,
   "metadata": {},
   "outputs": [],
   "source": [
    "#| export\n",
    "@patch\n",
    "def info(self: ListCorpus, \n",
    "\t\t formatted:bool = True # return formatted output\n",
    "\t\t ) -> str: # formatted information about the corpus\n",
    "\t\"\"\" Return information about the list corpus. \"\"\"\n",
    "\t\n",
    "\tresult = []\n",
    "\tattributes = ['name', 'description', 'date_created', 'conc_version', 'corpus_path', 'document_count', 'token_count', 'word_token_count', 'unique_tokens', 'unique_word_tokens']\n",
    "\tfor attr in attributes:\n",
    "\t\tvalue = getattr(self, attr)\n",
    "\t\tif isinstance(value, bool):\n",
    "\t\t\tresult.append('True' if value else 'False')\n",
    "\t\telif isinstance(value, int):\n",
    "\t\t\tresult.append(f'{value:,}')\n",
    "\t\telse:\n",
    "\t\t\tresult.append(str(value))\n",
    "\t\t\t\n",
    "\tif formatted:\n",
    "\t\tattributes = [attr.replace('_', ' ').title() for attr in attributes]\n",
    "\n",
    "\treturn pl.DataFrame({'Attribute': attributes, 'Value': result})\n"
   ]
  },
  {
   "cell_type": "code",
   "execution_count": null,
   "metadata": {},
   "outputs": [],
   "source": [
    "#| export\n",
    "@patch\n",
    "def report(self: ListCorpus, \n",
    "\t\t\t) -> Result: # returns Result object with corpus summary information\n",
    "\t\"\"\" Get information about the list corpus as a result object. \"\"\"\n",
    "\treturn Result('summary', self.info(), 'List Corpus Summary', '', {}, [])\t"
   ]
  },
  {
   "cell_type": "code",
   "execution_count": null,
   "metadata": {},
   "outputs": [],
   "source": [
    "#| export\n",
    "@patch\n",
    "def summary(self: ListCorpus, \n",
    "\t\t\tinclude_memory_usage:bool = False # include memory usage in output\n",
    "\t\t\t):\n",
    "\t\"\"\" Print information about the list corpus in a formatted table. \"\"\"\n",
    "\tresult = Result('summary', self.info(include_memory_usage), 'List Corpus Summary', '', {}, [])\n",
    "\tresult.display()"
   ]
  },
  {
   "cell_type": "code",
   "execution_count": null,
   "metadata": {},
   "outputs": [],
   "source": [
    "#| exporti\n",
    "@patch\n",
    "def __str__(self: ListCorpus):\n",
    "\t\"\"\" Formatted information about the list corpus. \"\"\"\n",
    "\t\n",
    "\treturn str(self.info())\n",
    "\n"
   ]
  },
  {
   "cell_type": "code",
   "execution_count": null,
   "metadata": {},
   "outputs": [
    {
     "name": "stderr",
     "output_type": "stream",
     "text": [
      "2025-07-10 20:37:32 - INFO - memory_usage - init, memory usage: 164.9765625 MB\n",
      "2025-07-10 20:37:32 - INFO - load - Load time: 0.002 seconds\n",
      "2025-07-10 20:37:32 - INFO - build_from_corpus - Built ListCorpus toy.listcorpus 0.03 seconds.\n"
     ]
    },
    {
     "data": {
      "text/html": [
       "<div id=\"mphyfgacpa\" style=\"padding-left:0px;padding-right:0px;padding-top:10px;padding-bottom:10px;overflow-x:auto;overflow-y:auto;width:auto;height:auto;\">\n",
       "<style>\n",
       "#mphyfgacpa table {\n",
       "          font-family: -apple-system, BlinkMacSystemFont, 'Segoe UI', Roboto, Oxygen, Ubuntu, Cantarell, 'Helvetica Neue', 'Fira Sans', 'Droid Sans', Arial, sans-serif;\n",
       "          -webkit-font-smoothing: antialiased;\n",
       "          -moz-osx-font-smoothing: grayscale;\n",
       "        }\n",
       "\n",
       "#mphyfgacpa thead, tbody, tfoot, tr, td, th { border-style: none !important; }\n",
       " tr { background-color: transparent !important; }\n",
       "#mphyfgacpa p { margin: 0 !important; padding: 0 !important; }\n",
       " #mphyfgacpa .gt_table { display: table !important; border-collapse: collapse !important; line-height: normal !important; margin-left: 0 !important; margin-right: auto !important; color: #333333 !important; font-size: 16px !important; font-weight: normal !important; font-style: normal !important; background-color: #FFFFFF !important; width: auto !important; border-top-style: solid !important; border-top-width: 2px !important; border-top-color: #A8A8A8 !important; border-right-style: none !important; border-right-width: 2px !important; border-right-color: #D3D3D3 !important; border-bottom-style: solid !important; border-bottom-width: 2px !important; border-bottom-color: #A8A8A8 !important; border-left-style: none !important; border-left-width: 2px !important; border-left-color: #D3D3D3 !important; }\n",
       " #mphyfgacpa .gt_caption { padding-top: 4px !important; padding-bottom: 4px !important; }\n",
       " #mphyfgacpa .gt_title { color: #333333 !important; font-size: 125% !important; font-weight: initial !important; padding-top: 4px !important; padding-bottom: 4px !important; padding-left: 5px !important; padding-right: 5px !important; border-bottom-color: #FFFFFF !important; border-bottom-width: 0 !important; }\n",
       " #mphyfgacpa .gt_subtitle { color: #333333 !important; font-size: 85% !important; font-weight: initial !important; padding-top: 3px !important; padding-bottom: 5px !important; padding-left: 5px !important; padding-right: 5px !important; border-top-color: #FFFFFF !important; border-top-width: 0 !important; }\n",
       " #mphyfgacpa .gt_heading { background-color: #FFFFFF !important; text-align: center !important; border-bottom-color: #FFFFFF !important; border-left-style: none !important; border-left-width: 1px !important; border-left-color: #D3D3D3 !important; border-right-style: none !important; border-right-width: 1px !important; border-right-color: #D3D3D3 !important; }\n",
       " #mphyfgacpa .gt_bottom_border { border-bottom-style: solid !important; border-bottom-width: 2px !important; border-bottom-color: #D3D3D3 !important; }\n",
       " #mphyfgacpa .gt_col_headings { border-top-style: solid !important; border-top-width: 2px !important; border-top-color: #D3D3D3 !important; border-bottom-style: solid !important; border-bottom-width: 2px !important; border-bottom-color: #D3D3D3 !important; border-left-style: none !important; border-left-width: 1px !important; border-left-color: #D3D3D3 !important; border-right-style: none !important; border-right-width: 1px !important; border-right-color: #D3D3D3 !important; }\n",
       " #mphyfgacpa .gt_col_heading { color: #333333 !important; background-color: #FFFFFF !important; font-size: 100% !important; font-weight: normal !important; text-transform: inherit !important; border-left-style: none !important; border-left-width: 1px !important; border-left-color: #D3D3D3 !important; border-right-style: none !important; border-right-width: 1px !important; border-right-color: #D3D3D3 !important; vertical-align: bottom !important; padding-top: 5px !important; padding-bottom: 5px !important; padding-left: 5px !important; padding-right: 5px !important; overflow-x: hidden !important; }\n",
       " #mphyfgacpa .gt_column_spanner_outer { color: #333333 !important; background-color: #FFFFFF !important; font-size: 100% !important; font-weight: normal !important; text-transform: inherit !important; padding-top: 0 !important; padding-bottom: 0 !important; padding-left: 4px !important; padding-right: 4px !important; }\n",
       " #mphyfgacpa .gt_column_spanner_outer:first-child { padding-left: 0 !important; }\n",
       " #mphyfgacpa .gt_column_spanner_outer:last-child { padding-right: 0 !important; }\n",
       " #mphyfgacpa .gt_column_spanner { border-bottom-style: solid !important; border-bottom-width: 2px !important; border-bottom-color: #D3D3D3 !important; vertical-align: bottom !important; padding-top: 5px !important; padding-bottom: 5px !important; overflow-x: hidden !important; display: inline-block !important; width: 100% !important; }\n",
       " #mphyfgacpa .gt_spanner_row { border-bottom-style: hidden !important; }\n",
       " #mphyfgacpa .gt_group_heading { padding-top: 8px !important; padding-bottom: 8px !important; padding-left: 5px !important; padding-right: 5px !important; color: #333333 !important; background-color: #FFFFFF !important; font-size: 100% !important; font-weight: initial !important; text-transform: inherit !important; border-top-style: solid !important; border-top-width: 2px !important; border-top-color: #D3D3D3 !important; border-bottom-style: solid !important; border-bottom-width: 2px !important; border-bottom-color: #D3D3D3 !important; border-left-style: none !important; border-left-width: 1px !important; border-left-color: #D3D3D3 !important; border-right-style: none !important; border-right-width: 1px !important; border-right-color: #D3D3D3 !important; vertical-align: middle !important; text-align: left !important; }\n",
       " #mphyfgacpa .gt_empty_group_heading { padding: 0.5px !important; color: #333333 !important; background-color: #FFFFFF !important; font-size: 100% !important; font-weight: initial !important; border-top-style: solid !important; border-top-width: 2px !important; border-top-color: #D3D3D3 !important; border-bottom-style: solid !important; border-bottom-width: 2px !important; border-bottom-color: #D3D3D3 !important; vertical-align: middle !important; }\n",
       " #mphyfgacpa .gt_from_md> :first-child { margin-top: 0 !important; }\n",
       " #mphyfgacpa .gt_from_md> :last-child { margin-bottom: 0 !important; }\n",
       " #mphyfgacpa .gt_row { padding-top: 8px !important; padding-bottom: 8px !important; padding-left: 5px !important; padding-right: 5px !important; margin: 10px !important; border-top-style: solid !important; border-top-width: 1px !important; border-top-color: #D3D3D3 !important; border-left-style: none !important; border-left-width: 1px !important; border-left-color: #D3D3D3 !important; border-right-style: none !important; border-right-width: 1px !important; border-right-color: #D3D3D3 !important; vertical-align: middle !important; overflow-x: hidden !important; }\n",
       " #mphyfgacpa .gt_stub { color: #333333 !important; background-color: #FFFFFF !important; font-size: 100% !important; font-weight: initial !important; text-transform: inherit !important; border-right-style: solid !important; border-right-width: 2px !important; border-right-color: #D3D3D3 !important; padding-left: 5px !important; padding-right: 5px !important; }\n",
       " #mphyfgacpa .gt_stub_row_group { color: #333333 !important; background-color: #FFFFFF !important; font-size: 100% !important; font-weight: initial !important; text-transform: inherit !important; border-right-style: solid !important; border-right-width: 2px !important; border-right-color: #D3D3D3 !important; padding-left: 5px !important; padding-right: 5px !important; vertical-align: top !important; }\n",
       " #mphyfgacpa .gt_row_group_first td { border-top-width: 2px !important; }\n",
       " #mphyfgacpa .gt_row_group_first th { border-top-width: 2px !important; }\n",
       " #mphyfgacpa .gt_striped { background-color: rgba(128,128,128,0.05) !important; }\n",
       " #mphyfgacpa .gt_table_body { border-top-style: solid !important; border-top-width: 2px !important; border-top-color: #D3D3D3 !important; border-bottom-style: solid !important; border-bottom-width: 2px !important; border-bottom-color: #D3D3D3 !important; }\n",
       " #mphyfgacpa .gt_sourcenotes { color: #333333 !important; background-color: #FFFFFF !important; border-bottom-style: none !important; border-bottom-width: 2px !important; border-bottom-color: #D3D3D3 !important; border-left-style: none !important; border-left-width: 2px !important; border-left-color: #D3D3D3 !important; border-right-style: none !important; border-right-width: 2px !important; border-right-color: #D3D3D3 !important; }\n",
       " #mphyfgacpa .gt_sourcenote { font-size: 90% !important; padding-top: 4px !important; padding-bottom: 4px !important; padding-left: 5px !important; padding-right: 5px !important; text-align: left !important; }\n",
       " #mphyfgacpa .gt_left { text-align: left !important; }\n",
       " #mphyfgacpa .gt_center { text-align: center !important; }\n",
       " #mphyfgacpa .gt_right { text-align: right !important; font-variant-numeric: tabular-nums !important; }\n",
       " #mphyfgacpa .gt_font_normal { font-weight: normal !important; }\n",
       " #mphyfgacpa .gt_font_bold { font-weight: bold !important; }\n",
       " #mphyfgacpa .gt_font_italic { font-style: italic !important; }\n",
       " #mphyfgacpa .gt_super { font-size: 65% !important; }\n",
       " #mphyfgacpa .gt_footnote_marks { font-size: 75% !important; vertical-align: 0.4em !important; position: initial !important; }\n",
       " #mphyfgacpa .gt_asterisk { font-size: 100% !important; vertical-align: 0 !important; }\n",
       " \n",
       "</style>\n",
       "<table class=\"gt_table\" data-quarto-disable-processing=\"false\" data-quarto-bootstrap=\"false\">\n",
       "<thead>\n",
       "\n",
       "  <tr class=\"gt_heading\">\n",
       "    <td colspan=\"2\" class=\"gt_heading gt_title gt_font_normal\">List Corpus Summary</td>\n",
       "  </tr>\n",
       "  <tr class=\"gt_heading\">\n",
       "    <td colspan=\"2\" class=\"gt_heading gt_subtitle gt_font_normal gt_bottom_border\"></td>\n",
       "  </tr>\n",
       "<tr class=\"gt_col_headings\">\n",
       "  <th class=\"gt_col_heading gt_columns_bottom_border gt_left\" rowspan=\"1\" colspan=\"1\" scope=\"col\" id=\"Attribute\">Attribute</th>\n",
       "  <th class=\"gt_col_heading gt_columns_bottom_border gt_left\" rowspan=\"1\" colspan=\"1\" scope=\"col\" id=\"Value\">Value</th>\n",
       "</tr>\n",
       "</thead>\n",
       "<tbody class=\"gt_table_body\">\n",
       "  <tr>\n",
       "    <td class=\"gt_row gt_left\">name</td>\n",
       "    <td class=\"gt_row gt_left\">Toy Corpus</td>\n",
       "  </tr>\n",
       "  <tr>\n",
       "    <td class=\"gt_row gt_left\">description</td>\n",
       "    <td class=\"gt_row gt_left\">Toy corpus is a very small dataset for testing and library development. </td>\n",
       "  </tr>\n",
       "  <tr>\n",
       "    <td class=\"gt_row gt_left\">date_created</td>\n",
       "    <td class=\"gt_row gt_left\">2025-07-09 09:21:39</td>\n",
       "  </tr>\n",
       "  <tr>\n",
       "    <td class=\"gt_row gt_left\">conc_version</td>\n",
       "    <td class=\"gt_row gt_left\">0.1.6</td>\n",
       "  </tr>\n",
       "  <tr>\n",
       "    <td class=\"gt_row gt_left\">corpus_path</td>\n",
       "    <td class=\"gt_row gt_left\">/home/geoff/data/conc-test-corpora/toy.listcorpus</td>\n",
       "  </tr>\n",
       "  <tr>\n",
       "    <td class=\"gt_row gt_left\">document_count</td>\n",
       "    <td class=\"gt_row gt_left\">6</td>\n",
       "  </tr>\n",
       "  <tr>\n",
       "    <td class=\"gt_row gt_left\">token_count</td>\n",
       "    <td class=\"gt_row gt_left\">38</td>\n",
       "  </tr>\n",
       "  <tr>\n",
       "    <td class=\"gt_row gt_left\">word_token_count</td>\n",
       "    <td class=\"gt_row gt_left\">32</td>\n",
       "  </tr>\n",
       "  <tr>\n",
       "    <td class=\"gt_row gt_left\">unique_tokens</td>\n",
       "    <td class=\"gt_row gt_left\">15</td>\n",
       "  </tr>\n",
       "  <tr>\n",
       "    <td class=\"gt_row gt_left\">unique_word_tokens</td>\n",
       "    <td class=\"gt_row gt_left\">14</td>\n",
       "  </tr>\n",
       "</tbody>\n",
       "\n",
       "\n",
       "</table>\n",
       "\n",
       "</div>\n",
       "        "
      ]
     },
     "metadata": {
      "text/html": {
       "text/html": {
        "isolated": true
       }
      }
     },
     "output_type": "display_data"
    }
   ],
   "source": [
    "#| hide\n",
    "set_logger_state('verbose')\n",
    "listcorpus = ListCorpus().build_from_corpus(source_corpus_path = f'{save_path}toy.corpus', save_path = save_path)\n",
    "listcorpus.summary()\n",
    "assert listcorpus.name == 'Toy Corpus'\n",
    "assert listcorpus.token_count == 38\n",
    "assert os.path.isdir(listcorpus.corpus_path)\n",
    "assert os.path.isfile(f'{listcorpus.corpus_path}/README.md')\n",
    "assert os.path.isfile(f'{listcorpus.corpus_path}/vocab.parquet')\n",
    "assert os.path.isfile(f'{listcorpus.corpus_path}/listcorpus.json')\n",
    "assert type(listcorpus.vocab) == pl.LazyFrame\n",
    "set_logger_state('quiet')"
   ]
  },
  {
   "cell_type": "code",
   "execution_count": null,
   "metadata": {},
   "outputs": [
    {
     "name": "stderr",
     "output_type": "stream",
     "text": [
      "2025-07-10 20:37:32 - INFO - memory_usage - init, memory usage: 192.93359375 MB\n",
      "2025-07-10 20:37:32 - INFO - load - Load time: 0.001 seconds\n"
     ]
    }
   ],
   "source": [
    "#| hide\n",
    "set_logger_state('verbose')\n",
    "listcorpus = ListCorpus().load(corpus_path = f'{save_path}toy.listcorpus')\n",
    "assert listcorpus.name == 'Toy Corpus'\n",
    "assert listcorpus.token_count == 38\n",
    "assert type(listcorpus.vocab) == pl.LazyFrame\n",
    "set_logger_state('quiet')"
   ]
  },
  {
   "cell_type": "markdown",
   "metadata": {},
   "source": [
    "## Information on working with the list corpus format"
   ]
  },
  {
   "cell_type": "markdown",
   "metadata": {},
   "source": [
    "To create a list corpus you first need to create a standard corpus using `Conc.corpus`. See the [recipes](https://geoffford.nz/conc/tutorials/recipes.html) for examples. \n",
    "\n",
    "Note: if you intend to use the list corpus as a reference corpus for keyness analsis, it will probably be helpful to add `standardize_word_token_punctuation_characters` to the build method when building the source corpus. This will ensure that word tokens with punctuation (e.g. n't) use the same apostrophe character and allow Conc to handle these differences when calculating keyness.\n",
    "\n",
    "Once created you create a list corpus by creating in the path to the corpus directory ... "
   ]
  },
  {
   "cell_type": "code",
   "execution_count": null,
   "metadata": {},
   "outputs": [],
   "source": [
    "listcorpus = ListCorpus().build_from_corpus(source_corpus_path = f'{save_path}garden-party.corpus', save_path = save_path)"
   ]
  },
  {
   "cell_type": "code",
   "execution_count": null,
   "metadata": {},
   "outputs": [],
   "source": [
    "#| hide\n",
    "from pathlib import Path"
   ]
  },
  {
   "cell_type": "markdown",
   "metadata": {},
   "source": [
    "List corpus will copy some of the data from the corpus, and add document frequency information for each token. Conc uses the .listcorpus suffix on directories to differentiate standard corpora from list corpora. The directory for the list corpus will contain corpus information in listcorpus.json, the frequency information in the vocab.parquet file, and a human-readable README.md to aide sharing the data. "
   ]
  },
  {
   "cell_type": "code",
   "execution_count": null,
   "metadata": {},
   "outputs": [
    {
     "name": "stdout",
     "output_type": "stream",
     "text": [
      "├── garden-party.listcorpus\n",
      "│   ├── vocab.parquet\n",
      "│   ├── README.md\n",
      "│   └── listcorpus.json\n"
     ]
    }
   ],
   "source": [
    "#| echo: false\n",
    "def print_directory_tree(path, prefix=\"\", restrict_to=None):\n",
    "\tpath = Path(path)\n",
    "\tcontents = list(path.iterdir())\n",
    "\tpointers = ['├── '] * (len(contents) - 1) + ['└── ']\n",
    "\tfor pointer, child in zip(pointers, contents):\n",
    "\t\tif restrict_to is not None and restrict_to not in child.name:\n",
    "\t\t\tcontinue\n",
    "\t\tprint(prefix + pointer + child.name)\n",
    "\t\tif child.is_dir():\n",
    "\t\t\textension = '│   ' if pointer == '├── ' else '    '\n",
    "\t\t\tprint_directory_tree(child, prefix + extension)\n",
    "\n",
    "# Example usage: show current directory\n",
    "print_directory_tree(f'{save_path}', '', restrict_to='garden-party.listcorpus')\n"
   ]
  },
  {
   "cell_type": "markdown",
   "metadata": {},
   "source": [
    "You can access summary information, with the same methods as the `Conc.corpus` class. \n",
    "\n",
    "For example ..."
   ]
  },
  {
   "cell_type": "code",
   "execution_count": null,
   "metadata": {},
   "outputs": [
    {
     "data": {
      "text/html": [
       "<div id=\"pklzduarxm\" style=\"padding-left:0px;padding-right:0px;padding-top:10px;padding-bottom:10px;overflow-x:auto;overflow-y:auto;width:auto;height:auto;\">\n",
       "<style>\n",
       "#pklzduarxm table {\n",
       "          font-family: -apple-system, BlinkMacSystemFont, 'Segoe UI', Roboto, Oxygen, Ubuntu, Cantarell, 'Helvetica Neue', 'Fira Sans', 'Droid Sans', Arial, sans-serif;\n",
       "          -webkit-font-smoothing: antialiased;\n",
       "          -moz-osx-font-smoothing: grayscale;\n",
       "        }\n",
       "\n",
       "#pklzduarxm thead, tbody, tfoot, tr, td, th { border-style: none !important; }\n",
       " tr { background-color: transparent !important; }\n",
       "#pklzduarxm p { margin: 0 !important; padding: 0 !important; }\n",
       " #pklzduarxm .gt_table { display: table !important; border-collapse: collapse !important; line-height: normal !important; margin-left: 0 !important; margin-right: auto !important; color: #333333 !important; font-size: 16px !important; font-weight: normal !important; font-style: normal !important; background-color: #FFFFFF !important; width: auto !important; border-top-style: solid !important; border-top-width: 2px !important; border-top-color: #A8A8A8 !important; border-right-style: none !important; border-right-width: 2px !important; border-right-color: #D3D3D3 !important; border-bottom-style: solid !important; border-bottom-width: 2px !important; border-bottom-color: #A8A8A8 !important; border-left-style: none !important; border-left-width: 2px !important; border-left-color: #D3D3D3 !important; }\n",
       " #pklzduarxm .gt_caption { padding-top: 4px !important; padding-bottom: 4px !important; }\n",
       " #pklzduarxm .gt_title { color: #333333 !important; font-size: 125% !important; font-weight: initial !important; padding-top: 4px !important; padding-bottom: 4px !important; padding-left: 5px !important; padding-right: 5px !important; border-bottom-color: #FFFFFF !important; border-bottom-width: 0 !important; }\n",
       " #pklzduarxm .gt_subtitle { color: #333333 !important; font-size: 85% !important; font-weight: initial !important; padding-top: 3px !important; padding-bottom: 5px !important; padding-left: 5px !important; padding-right: 5px !important; border-top-color: #FFFFFF !important; border-top-width: 0 !important; }\n",
       " #pklzduarxm .gt_heading { background-color: #FFFFFF !important; text-align: center !important; border-bottom-color: #FFFFFF !important; border-left-style: none !important; border-left-width: 1px !important; border-left-color: #D3D3D3 !important; border-right-style: none !important; border-right-width: 1px !important; border-right-color: #D3D3D3 !important; }\n",
       " #pklzduarxm .gt_bottom_border { border-bottom-style: solid !important; border-bottom-width: 2px !important; border-bottom-color: #D3D3D3 !important; }\n",
       " #pklzduarxm .gt_col_headings { border-top-style: solid !important; border-top-width: 2px !important; border-top-color: #D3D3D3 !important; border-bottom-style: solid !important; border-bottom-width: 2px !important; border-bottom-color: #D3D3D3 !important; border-left-style: none !important; border-left-width: 1px !important; border-left-color: #D3D3D3 !important; border-right-style: none !important; border-right-width: 1px !important; border-right-color: #D3D3D3 !important; }\n",
       " #pklzduarxm .gt_col_heading { color: #333333 !important; background-color: #FFFFFF !important; font-size: 100% !important; font-weight: normal !important; text-transform: inherit !important; border-left-style: none !important; border-left-width: 1px !important; border-left-color: #D3D3D3 !important; border-right-style: none !important; border-right-width: 1px !important; border-right-color: #D3D3D3 !important; vertical-align: bottom !important; padding-top: 5px !important; padding-bottom: 5px !important; padding-left: 5px !important; padding-right: 5px !important; overflow-x: hidden !important; }\n",
       " #pklzduarxm .gt_column_spanner_outer { color: #333333 !important; background-color: #FFFFFF !important; font-size: 100% !important; font-weight: normal !important; text-transform: inherit !important; padding-top: 0 !important; padding-bottom: 0 !important; padding-left: 4px !important; padding-right: 4px !important; }\n",
       " #pklzduarxm .gt_column_spanner_outer:first-child { padding-left: 0 !important; }\n",
       " #pklzduarxm .gt_column_spanner_outer:last-child { padding-right: 0 !important; }\n",
       " #pklzduarxm .gt_column_spanner { border-bottom-style: solid !important; border-bottom-width: 2px !important; border-bottom-color: #D3D3D3 !important; vertical-align: bottom !important; padding-top: 5px !important; padding-bottom: 5px !important; overflow-x: hidden !important; display: inline-block !important; width: 100% !important; }\n",
       " #pklzduarxm .gt_spanner_row { border-bottom-style: hidden !important; }\n",
       " #pklzduarxm .gt_group_heading { padding-top: 8px !important; padding-bottom: 8px !important; padding-left: 5px !important; padding-right: 5px !important; color: #333333 !important; background-color: #FFFFFF !important; font-size: 100% !important; font-weight: initial !important; text-transform: inherit !important; border-top-style: solid !important; border-top-width: 2px !important; border-top-color: #D3D3D3 !important; border-bottom-style: solid !important; border-bottom-width: 2px !important; border-bottom-color: #D3D3D3 !important; border-left-style: none !important; border-left-width: 1px !important; border-left-color: #D3D3D3 !important; border-right-style: none !important; border-right-width: 1px !important; border-right-color: #D3D3D3 !important; vertical-align: middle !important; text-align: left !important; }\n",
       " #pklzduarxm .gt_empty_group_heading { padding: 0.5px !important; color: #333333 !important; background-color: #FFFFFF !important; font-size: 100% !important; font-weight: initial !important; border-top-style: solid !important; border-top-width: 2px !important; border-top-color: #D3D3D3 !important; border-bottom-style: solid !important; border-bottom-width: 2px !important; border-bottom-color: #D3D3D3 !important; vertical-align: middle !important; }\n",
       " #pklzduarxm .gt_from_md> :first-child { margin-top: 0 !important; }\n",
       " #pklzduarxm .gt_from_md> :last-child { margin-bottom: 0 !important; }\n",
       " #pklzduarxm .gt_row { padding-top: 8px !important; padding-bottom: 8px !important; padding-left: 5px !important; padding-right: 5px !important; margin: 10px !important; border-top-style: solid !important; border-top-width: 1px !important; border-top-color: #D3D3D3 !important; border-left-style: none !important; border-left-width: 1px !important; border-left-color: #D3D3D3 !important; border-right-style: none !important; border-right-width: 1px !important; border-right-color: #D3D3D3 !important; vertical-align: middle !important; overflow-x: hidden !important; }\n",
       " #pklzduarxm .gt_stub { color: #333333 !important; background-color: #FFFFFF !important; font-size: 100% !important; font-weight: initial !important; text-transform: inherit !important; border-right-style: solid !important; border-right-width: 2px !important; border-right-color: #D3D3D3 !important; padding-left: 5px !important; padding-right: 5px !important; }\n",
       " #pklzduarxm .gt_stub_row_group { color: #333333 !important; background-color: #FFFFFF !important; font-size: 100% !important; font-weight: initial !important; text-transform: inherit !important; border-right-style: solid !important; border-right-width: 2px !important; border-right-color: #D3D3D3 !important; padding-left: 5px !important; padding-right: 5px !important; vertical-align: top !important; }\n",
       " #pklzduarxm .gt_row_group_first td { border-top-width: 2px !important; }\n",
       " #pklzduarxm .gt_row_group_first th { border-top-width: 2px !important; }\n",
       " #pklzduarxm .gt_striped { background-color: rgba(128,128,128,0.05) !important; }\n",
       " #pklzduarxm .gt_table_body { border-top-style: solid !important; border-top-width: 2px !important; border-top-color: #D3D3D3 !important; border-bottom-style: solid !important; border-bottom-width: 2px !important; border-bottom-color: #D3D3D3 !important; }\n",
       " #pklzduarxm .gt_sourcenotes { color: #333333 !important; background-color: #FFFFFF !important; border-bottom-style: none !important; border-bottom-width: 2px !important; border-bottom-color: #D3D3D3 !important; border-left-style: none !important; border-left-width: 2px !important; border-left-color: #D3D3D3 !important; border-right-style: none !important; border-right-width: 2px !important; border-right-color: #D3D3D3 !important; }\n",
       " #pklzduarxm .gt_sourcenote { font-size: 90% !important; padding-top: 4px !important; padding-bottom: 4px !important; padding-left: 5px !important; padding-right: 5px !important; text-align: left !important; }\n",
       " #pklzduarxm .gt_left { text-align: left !important; }\n",
       " #pklzduarxm .gt_center { text-align: center !important; }\n",
       " #pklzduarxm .gt_right { text-align: right !important; font-variant-numeric: tabular-nums !important; }\n",
       " #pklzduarxm .gt_font_normal { font-weight: normal !important; }\n",
       " #pklzduarxm .gt_font_bold { font-weight: bold !important; }\n",
       " #pklzduarxm .gt_font_italic { font-style: italic !important; }\n",
       " #pklzduarxm .gt_super { font-size: 65% !important; }\n",
       " #pklzduarxm .gt_footnote_marks { font-size: 75% !important; vertical-align: 0.4em !important; position: initial !important; }\n",
       " #pklzduarxm .gt_asterisk { font-size: 100% !important; vertical-align: 0 !important; }\n",
       " \n",
       "</style>\n",
       "<table class=\"gt_table\" data-quarto-disable-processing=\"false\" data-quarto-bootstrap=\"false\">\n",
       "<thead>\n",
       "\n",
       "  <tr class=\"gt_heading\">\n",
       "    <td colspan=\"2\" class=\"gt_heading gt_title gt_font_normal\">List Corpus Summary</td>\n",
       "  </tr>\n",
       "  <tr class=\"gt_heading\">\n",
       "    <td colspan=\"2\" class=\"gt_heading gt_subtitle gt_font_normal gt_bottom_border\"></td>\n",
       "  </tr>\n",
       "<tr class=\"gt_col_headings\">\n",
       "  <th class=\"gt_col_heading gt_columns_bottom_border gt_left\" rowspan=\"1\" colspan=\"1\" scope=\"col\" id=\"Attribute\">Attribute</th>\n",
       "  <th class=\"gt_col_heading gt_columns_bottom_border gt_left\" rowspan=\"1\" colspan=\"1\" scope=\"col\" id=\"Value\">Value</th>\n",
       "</tr>\n",
       "</thead>\n",
       "<tbody class=\"gt_table_body\">\n",
       "  <tr>\n",
       "    <td class=\"gt_row gt_left\">name</td>\n",
       "    <td class=\"gt_row gt_left\">Garden Party Corpus</td>\n",
       "  </tr>\n",
       "  <tr>\n",
       "    <td class=\"gt_row gt_left\">description</td>\n",
       "    <td class=\"gt_row gt_left\">A corpus of short stories from The Garden Party: and Other Stories by Katherine Mansfield. Texts downloaded from Project Gutenberg https://gutenberg.org/ and are in the public domain. The text files contain the short story without the title. https://github.com/ucdh/scraping-garden-party</td>\n",
       "  </tr>\n",
       "  <tr>\n",
       "    <td class=\"gt_row gt_left\">date_created</td>\n",
       "    <td class=\"gt_row gt_left\">2025-07-09 11:15:56</td>\n",
       "  </tr>\n",
       "  <tr>\n",
       "    <td class=\"gt_row gt_left\">conc_version</td>\n",
       "    <td class=\"gt_row gt_left\">0.1.6</td>\n",
       "  </tr>\n",
       "  <tr>\n",
       "    <td class=\"gt_row gt_left\">corpus_path</td>\n",
       "    <td class=\"gt_row gt_left\">/home/geoff/data/conc-test-corpora/garden-party.listcorpus</td>\n",
       "  </tr>\n",
       "  <tr>\n",
       "    <td class=\"gt_row gt_left\">document_count</td>\n",
       "    <td class=\"gt_row gt_left\">15</td>\n",
       "  </tr>\n",
       "  <tr>\n",
       "    <td class=\"gt_row gt_left\">token_count</td>\n",
       "    <td class=\"gt_row gt_left\">74,664</td>\n",
       "  </tr>\n",
       "  <tr>\n",
       "    <td class=\"gt_row gt_left\">word_token_count</td>\n",
       "    <td class=\"gt_row gt_left\">59,514</td>\n",
       "  </tr>\n",
       "  <tr>\n",
       "    <td class=\"gt_row gt_left\">unique_tokens</td>\n",
       "    <td class=\"gt_row gt_left\">5,410</td>\n",
       "  </tr>\n",
       "  <tr>\n",
       "    <td class=\"gt_row gt_left\">unique_word_tokens</td>\n",
       "    <td class=\"gt_row gt_left\">5,392</td>\n",
       "  </tr>\n",
       "</tbody>\n",
       "\n",
       "\n",
       "</table>\n",
       "\n",
       "</div>\n",
       "        "
      ]
     },
     "metadata": {
      "text/html": {
       "text/html": {
        "isolated": true
       }
      }
     },
     "output_type": "display_data"
    }
   ],
   "source": [
    "listcorpus.summary()"
   ]
  },
  {
   "cell_type": "code",
   "execution_count": null,
   "metadata": {},
   "outputs": [],
   "source": [
    "#| hide\n",
    "# listcorpus = ListCorpus().build_from_corpus(source_corpus_path = f'{save_path}brown.corpus', save_path = save_path)\n",
    "# listcorpus = ListCorpus().build_from_corpus(source_corpus_path = f'{save_path}bnc.corpus', save_path = save_path)\n",
    "# listcorpus = ListCorpus().build_from_corpus(source_corpus_path = f'{save_path}baby-bnc.corpus', save_path = save_path)"
   ]
  },
  {
   "cell_type": "markdown",
   "metadata": {},
   "source": [
    "This preview of the vocab table shows the available columns in case you want to access the data directly. The [anatomy](https://geoffford.nz/conc/explanations/anatomy.html) page has information on the columns from the standard Conc corpus format that is relevant to working with a list corpus."
   ]
  },
  {
   "cell_type": "code",
   "execution_count": null,
   "metadata": {},
   "outputs": [
    {
     "data": {
      "text/html": [
       "<div><style>\n",
       ".dataframe > thead > tr,\n",
       ".dataframe > tbody > tr {\n",
       "  text-align: right;\n",
       "  white-space: pre-wrap;\n",
       "}\n",
       "</style>\n",
       "<table border=\"1\" class=\"dataframe\"><thead><tr><th>rank</th><th>tokens_sort_order</th><th>token_id</th><th>token</th><th>frequency_lower</th><th>frequency_orth</th><th>is_punct</th><th>is_space</th><th>document_frequency_lower</th><th>document_frequency_orth</th></tr></thead><tbody><tr><td>509</td><td>4863</td><td>1482</td><td>&quot;sky&quot;</td><td>17</td><td>17</td><td>false</td><td>false</td><td>8</td><td>8</td></tr><tr><td>284</td><td>3999</td><td>4150</td><td>&quot;pink&quot;</td><td>32</td><td>32</td><td>false</td><td>false</td><td>10</td><td>10</td></tr><tr><td>399</td><td>3719</td><td>3175</td><td>&quot;On&quot;</td><td>null</td><td>22</td><td>false</td><td>false</td><td>null</td><td>8</td></tr><tr><td>450</td><td>2504</td><td>1071</td><td>&quot;held&quot;</td><td>19</td><td>19</td><td>false</td><td>false</td><td>9</td><td>9</td></tr><tr><td>87</td><td>5523</td><td>691</td><td>&quot;this&quot;</td><td>138</td><td>112</td><td>false</td><td>false</td><td>14</td><td>14</td></tr><tr><td>491</td><td>6171</td><td>1788</td><td>&quot;women&quot;</td><td>20</td><td>18</td><td>false</td><td>false</td><td>10</td><td>9</td></tr><tr><td>256</td><td>6110</td><td>5588</td><td>&quot;why&quot;</td><td>99</td><td>37</td><td>false</td><td>false</td><td>12</td><td>10</td></tr><tr><td>720</td><td>4974</td><td>3520</td><td>&quot;somebody&quot;</td><td>13</td><td>11</td><td>false</td><td>false</td><td>5</td><td>5</td></tr><tr><td>398</td><td>2922</td><td>2620</td><td>&quot;Kember&quot;</td><td>null</td><td>22</td><td>false</td><td>false</td><td>null</td><td>1</td></tr><tr><td>472</td><td>2016</td><td>1213</td><td>&quot;followed&quot;</td><td>18</td><td>18</td><td>false</td><td>false</td><td>8</td><td>8</td></tr></tbody></table></div>"
      ],
      "text/plain": [
       "┌──────┬───────────────────┬──────────┬──────────┬───┬──────────┬──────────┬──────────────────────────┬─────────────────────────┐\n",
       "│ rank ┆ tokens_sort_order ┆ token_id ┆ token    ┆ … ┆ is_punct ┆ is_space ┆ document_frequency_lower ┆ document_frequency_orth │\n",
       "╞══════╪═══════════════════╪══════════╪══════════╪═══╪══════════╪══════════╪══════════════════════════╪═════════════════════════╡\n",
       "│ 509  ┆ 4863              ┆ 1482     ┆ sky      ┆ … ┆ false    ┆ false    ┆ 8                        ┆ 8                       │\n",
       "│ 284  ┆ 3999              ┆ 4150     ┆ pink     ┆ … ┆ false    ┆ false    ┆ 10                       ┆ 10                      │\n",
       "│ 399  ┆ 3719              ┆ 3175     ┆ On       ┆ … ┆ false    ┆ false    ┆ null                     ┆ 8                       │\n",
       "│ 450  ┆ 2504              ┆ 1071     ┆ held     ┆ … ┆ false    ┆ false    ┆ 9                        ┆ 9                       │\n",
       "│ 87   ┆ 5523              ┆ 691      ┆ this     ┆ … ┆ false    ┆ false    ┆ 14                       ┆ 14                      │\n",
       "│ 491  ┆ 6171              ┆ 1788     ┆ women    ┆ … ┆ false    ┆ false    ┆ 10                       ┆ 9                       │\n",
       "│ 256  ┆ 6110              ┆ 5588     ┆ why      ┆ … ┆ false    ┆ false    ┆ 12                       ┆ 10                      │\n",
       "│ 720  ┆ 4974              ┆ 3520     ┆ somebody ┆ … ┆ false    ┆ false    ┆ 5                        ┆ 5                       │\n",
       "│ 398  ┆ 2922              ┆ 2620     ┆ Kember   ┆ … ┆ false    ┆ false    ┆ null                     ┆ 1                       │\n",
       "│ 472  ┆ 2016              ┆ 1213     ┆ followed ┆ … ┆ false    ┆ false    ┆ 8                        ┆ 8                       │\n",
       "└──────┴───────────────────┴──────────┴──────────┴───┴──────────┴──────────┴──────────────────────────┴─────────────────────────┘"
      ]
     },
     "metadata": {},
     "output_type": "display_data"
    }
   ],
   "source": [
    "display(listcorpus.vocab.head(1000).collect().sample(10))"
   ]
  },
  {
   "cell_type": "code",
   "execution_count": null,
   "metadata": {},
   "outputs": [],
   "source": [
    "#| export\n",
    "@patch\n",
    "def get_token_count_text(self: ListCorpus, \n",
    "\t\t\t\t\texclude_punctuation:bool = False # exclude punctuation tokens from the count\n",
    "\t\t\t\t\t) -> tuple[int, str, str]: # token count with adjustments based on exclusions, token descriptor, total descriptor\n",
    "\t\"\"\" Get the token count for the corpus with adjustments and text for output \"\"\"\n",
    "\n",
    "\tcount_tokens = self.token_count\n",
    "\ttokens_descriptor = 'word and punctuation tokens'\n",
    "\ttotal_descriptor = 'Total word and punctuation tokens'\n",
    "\tif exclude_punctuation:\n",
    "\t\tcount_tokens = self.word_token_count\n",
    "\t\ttokens_descriptor = 'word tokens'\n",
    "\t\ttotal_descriptor = 'Total word tokens'\n",
    "\n",
    "\treturn count_tokens, tokens_descriptor, total_descriptor"
   ]
  },
  {
   "cell_type": "code",
   "execution_count": null,
   "metadata": {},
   "outputs": [],
   "source": [
    "#| hide\n",
    "import nbdev; nbdev.nbdev_export()"
   ]
  },
  {
   "cell_type": "code",
   "execution_count": null,
   "metadata": {},
   "outputs": [],
   "source": []
  }
 ],
 "metadata": {
  "kernelspec": {
   "display_name": "python3",
   "language": "python",
   "name": "python3"
  }
 },
 "nbformat": 4,
 "nbformat_minor": 4
}
