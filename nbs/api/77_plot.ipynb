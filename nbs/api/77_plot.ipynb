{
 "cells": [
  {
   "cell_type": "markdown",
   "metadata": {},
   "source": [
    "# plot\n",
    "\n",
    "> Conc plot result class.\n",
    "- toc: false\n",
    "- page-layout: full"
   ]
  },
  {
   "cell_type": "code",
   "execution_count": null,
   "metadata": {},
   "outputs": [],
   "source": [
    "#| default_exp plot"
   ]
  },
  {
   "cell_type": "code",
   "execution_count": null,
   "metadata": {},
   "outputs": [],
   "source": [
    "#| hide\n",
    "from nbdev.showdoc import *"
   ]
  },
  {
   "cell_type": "code",
   "execution_count": null,
   "metadata": {},
   "outputs": [],
   "source": [
    "#| export\n",
    "from __future__ import annotations\n",
    "from fastcore.basics import patch\n",
    "from IPython.display import display, HTML"
   ]
  },
  {
   "cell_type": "code",
   "execution_count": null,
   "metadata": {},
   "outputs": [],
   "source": [
    "#| export\n",
    "class Plot:\n",
    "\tdef __init__(self,\n",
    "\t\t\t  type: str, # report type\n",
    "\t\t\t  html: str, # HTML representation of the plot, may include js/css\n",
    "\t\t\t  ): \n",
    "\n",
    "\t\t\"\"\" Class for handling delivery of Conc plot results \"\"\"\n",
    "\t\tself.type = type\n",
    "\t\tself.html = html\n",
    "\t\t\n"
   ]
  },
  {
   "cell_type": "code",
   "execution_count": null,
   "metadata": {},
   "outputs": [],
   "source": [
    "#| export\n",
    "@patch\n",
    "def to_html(self: Plot\n",
    "\t\t\t ):\n",
    "\t\"\"\" Return HTML string for plot \"\"\"\n",
    "\t\n",
    "\treturn self.html"
   ]
  },
  {
   "cell_type": "code",
   "execution_count": null,
   "metadata": {},
   "outputs": [],
   "source": [
    "#| export\n",
    "@patch\n",
    "def to_file(self: Plot,\n",
    "\t\t\tfilename:str, # filename to write HTML to\n",
    "\t\t\tencoding = 'utf-8', # encoding string for writing file \n",
    "\t\t\t):\n",
    "\t\"\"\" Return HTML string for plot \"\"\"\n",
    "\n",
    "\twith open(filename, 'w', encoding=encoding) as f:\n",
    "\t\tf.write(self.html)"
   ]
  },
  {
   "cell_type": "code",
   "execution_count": null,
   "metadata": {},
   "outputs": [],
   "source": [
    "#| export\n",
    "@patch\n",
    "def display(self: Plot\n",
    "\t\t\t   ):\n",
    "\t\"\"\" Show the plot in a Jupyter notebook \"\"\"\n",
    "\t\n",
    "\tdisplay(HTML(self.html))\n"
   ]
  },
  {
   "cell_type": "code",
   "execution_count": null,
   "metadata": {},
   "outputs": [],
   "source": [
    "#| hide\n",
    "import nbdev; nbdev.nbdev_export()"
   ]
  }
 ],
 "metadata": {
  "kernelspec": {
   "display_name": "python3",
   "language": "python",
   "name": "python3"
  }
 },
 "nbformat": 4,
 "nbformat_minor": 2
}
