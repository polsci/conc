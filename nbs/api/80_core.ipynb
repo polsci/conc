{
 "cells": [
  {
   "cell_type": "markdown",
   "metadata": {},
   "source": [
    "# core\n",
    "\n",
    "> Helper functions and classes for Conc.\n",
    "- toc: false\n",
    "- page-layout: full"
   ]
  },
  {
   "cell_type": "code",
   "execution_count": null,
   "metadata": {},
   "outputs": [],
   "source": [
    "#| default_exp core"
   ]
  },
  {
   "cell_type": "code",
   "execution_count": null,
   "metadata": {},
   "outputs": [],
   "source": [
    "#| hide\n",
    "from nbdev.showdoc import *"
   ]
  },
  {
   "cell_type": "code",
   "execution_count": null,
   "metadata": {},
   "outputs": [],
   "source": [
    "#| export\n",
    "from __future__ import annotations\n",
    "import re\n",
    "import os\n",
    "import logging\n",
    "from great_tables import GT\n",
    "import polars as pl\n",
    "import msgspec\n",
    "import spacy\n",
    "from memory_profiler import _get_memory"
   ]
  },
  {
   "cell_type": "code",
   "execution_count": null,
   "metadata": {},
   "outputs": [],
   "source": [
    "#| export\n",
    "PAGE_SIZE = 20\n",
    "EOF_TOKEN_STR = ' conc-end-of-file-token'\n",
    "ERR_TOKEN_STR = 'ERROR: not a token'"
   ]
  },
  {
   "cell_type": "code",
   "execution_count": null,
   "metadata": {},
   "outputs": [],
   "source": [
    "#| export\n",
    "DOCUMENTATION_URL = 'https://geoffford.nz/conc'\n",
    "REPOSITORY_URL = 'https://github.com/polsci/conc'\n",
    "PYPI_URL = 'https://pypi.org/project/conc/'\n",
    "CITATION_STR = '''If you use Conc in your work, please cite it as follows:'''"
   ]
  },
  {
   "cell_type": "code",
   "execution_count": null,
   "metadata": {},
   "outputs": [],
   "source": [
    "#| hide\n",
    "source_path = f'{os.environ.get(\"HOME\")}/data/'\n",
    "save_path = f'{os.environ.get(\"HOME\")}/data/conc-test-corpora/'"
   ]
  },
  {
   "cell_type": "code",
   "execution_count": null,
   "metadata": {},
   "outputs": [],
   "source": [
    "#| hide\n",
    "polars_conf = pl.Config.set_tbl_width_chars(300)\n",
    "polars_conf = pl.Config.set_fmt_str_lengths(300)"
   ]
  },
  {
   "cell_type": "markdown",
   "metadata": {},
   "source": [
    "## Logging"
   ]
  },
  {
   "cell_type": "code",
   "execution_count": null,
   "metadata": {},
   "outputs": [],
   "source": [
    "#| exporti\n",
    "class ConcLogger(logging.Logger):\n",
    "\t\"\"\" Custom logger for conc module. \"\"\"\n",
    "\tdef __init__(self, name, level=logging.WARNING, log_file=None):\n",
    "\t\tsuper().__init__(name, level)\n",
    "\t\tself._setup_handler(log_file)\n",
    "\t\tself.last_memory_usage = None\n",
    "\n",
    "\tdef _setup_handler(self, log_file = None):\n",
    "\t\tconsole_handler = logging.StreamHandler()\n",
    "\t\tformatter = logging.Formatter('%(asctime)s - %(levelname)s - %(funcName)s - %(message)s', \n",
    "\t\t\t\t\t\t\t\t\t  datefmt='%Y-%m-%d %H:%M:%S')\n",
    "\t\tconsole_handler.setFormatter(formatter)\n",
    "\t\tself.addHandler(console_handler)\n",
    "\n",
    "\t\tif log_file is not None:\n",
    "\t\t\tfile_handler = logging.FileHandler(log_file)\n",
    "\t\t\tfile_handler.setFormatter(formatter)\n",
    "\t\t\tself.addHandler(file_handler)\n",
    "\n",
    "\tdef set_state(self, state:str # 'quiet' or 'verbose'\n",
    "\t\t\t\t  ):\n",
    "\t\tif state == 'quiet':\n",
    "\t\t\tlevel = logging.WARNING\n",
    "\t\telif state == 'verbose':\n",
    "\t\t\tlevel = logging.DEBUG\n",
    "\t\telse:\n",
    "\t\t\traise ValueError(f\"Invalid state: {state}\")\n",
    "\t\t\n",
    "\t\tself.setLevel(level)\n",
    "\n",
    "\tdef memory_usage(self, message = '', init=False):\n",
    "\t\tif init:\n",
    "\t\t\tself.last_memory_usage = None\n",
    "\t\tusage = _get_memory(-1, 'psutil', include_children=True)\n",
    "\t\tif self.last_memory_usage is not None:\n",
    "\t\t\tdifference = usage - self.last_memory_usage\n",
    "\t\t\tmemory_message = f', memory usage: {usage} MB, difference: {difference} MB'\n",
    "\t\telse:\n",
    "\t\t\tmemory_message = f', memory usage: {usage} MB'\n",
    "\t\tself.info(f\"{message}{memory_message}\")\n",
    "\t\tself.last_memory_usage = usage\n"
   ]
  },
  {
   "cell_type": "code",
   "execution_count": null,
   "metadata": {},
   "outputs": [],
   "source": [
    "#| export\n",
    "logging.setLoggerClass(ConcLogger)\n",
    "\n",
    "logger = logging.getLogger(__name__)\n"
   ]
  },
  {
   "cell_type": "code",
   "execution_count": null,
   "metadata": {},
   "outputs": [],
   "source": [
    "#| export\n",
    "def set_logger_state(state:str # 'quiet' or 'verbose'\n",
    "\t\t\t\t\t ):\n",
    "\t\"\"\" Set the state of the conc logger to either 'quiet' or 'verbose' \"\"\"\n",
    "\tlogger.set_state(state)"
   ]
  },
  {
   "cell_type": "markdown",
   "metadata": {},
   "source": [
    "## spaCy"
   ]
  },
  {
   "cell_type": "code",
   "execution_count": null,
   "metadata": {},
   "outputs": [
    {
     "name": "stdout",
     "output_type": "stream",
     "text": [
      "IS_ALPHA: 1\n",
      "IS_ASCII: 2\n",
      "IS_DIGIT: 3\n",
      "IS_LOWER: 4\n",
      "IS_PUNCT: 5\n",
      "IS_SPACE: 6\n",
      "IS_TITLE: 7\n",
      "IS_UPPER: 8\n",
      "LIKE_URL: 9\n",
      "LIKE_NUM: 10\n",
      "LIKE_EMAIL: 11\n",
      "IS_STOP: 12\n",
      "IS_OOV_DEPRECATED: 13\n",
      "IS_BRACKET: 14\n",
      "IS_QUOTE: 15\n",
      "IS_LEFT_PUNCT: 16\n",
      "IS_RIGHT_PUNCT: 17\n",
      "IS_CURRENCY: 18\n",
      "ID: 64\n",
      "ORTH: 65\n",
      "LOWER: 66\n",
      "NORM: 67\n",
      "SHAPE: 68\n",
      "PREFIX: 69\n",
      "SUFFIX: 70\n",
      "LENGTH: 71\n",
      "LEMMA: 73\n",
      "POS: 74\n",
      "TAG: 75\n",
      "DEP: 76\n",
      "ENT_IOB: 77\n",
      "ENT_TYPE: 78\n",
      "ENT_ID: 454\n",
      "ENT_KB_ID: 452\n",
      "HEAD: 79\n",
      "SENT_START: 80\n",
      "SPACY: 81\n",
      "LANG: 83\n",
      "MORPH: 453\n",
      "IDX: 455\n"
     ]
    }
   ],
   "source": [
    "#| hide\n",
    "# This is a quick reminder of the available spacy attributes that can be output for a doc (depending on the model and pipe settings)\n",
    "for attr in spacy.attrs.IDS:\n",
    "\tif attr and not attr.startswith('FLAG'):\n",
    "\t\tprint(f'{attr}: {spacy.attrs.IDS[attr]}')"
   ]
  },
  {
   "cell_type": "code",
   "execution_count": null,
   "metadata": {},
   "outputs": [],
   "source": [
    "#| export\n",
    "def spacy_attribute_name(index):\n",
    "\t\"\"\"Get name of index from spacy.\"\"\"\n",
    "\n",
    "\treturn list(spacy.attrs.IDS.keys())[list(spacy.attrs.IDS.values()).index(index)]"
   ]
  },
  {
   "cell_type": "markdown",
   "metadata": {},
   "source": [
    "## Corpus metadata schema"
   ]
  },
  {
   "cell_type": "code",
   "execution_count": null,
   "metadata": {},
   "outputs": [],
   "source": [
    "#| export\n",
    "class CorpusMetadata(msgspec.Struct): \n",
    "    \"\"\" JSON validation schema for corpus metadata \"\"\"\n",
    "    name: str\n",
    "    description: str\n",
    "    slug: str\n",
    "    conc_version: str\n",
    "    document_count: int\n",
    "    token_count: int\n",
    "    word_token_count: int\n",
    "    punct_token_count: int\n",
    "    space_token_count: int\n",
    "    unique_tokens: int\n",
    "    unique_word_tokens: int\n",
    "    date_created: str\n",
    "    EOF_TOKEN: int\n",
    "    SPACY_EOF_TOKEN: int\n",
    "    SPACY_MODEL: str\n",
    "    SPACY_MODEL_VERSION: str\n",
    "    punct_tokens: list[int]\n",
    "    space_tokens: list[int]\n",
    "\n"
   ]
  },
  {
   "cell_type": "code",
   "execution_count": null,
   "metadata": {},
   "outputs": [
    {
     "data": {
      "text/plain": [
       "{'name': {'type': 'string'},\n",
       " 'description': {'type': 'string'},\n",
       " 'slug': {'type': 'string'},\n",
       " 'conc_version': {'type': 'string'},\n",
       " 'document_count': {'type': 'integer'},\n",
       " 'token_count': {'type': 'integer'},\n",
       " 'word_token_count': {'type': 'integer'},\n",
       " 'punct_token_count': {'type': 'integer'},\n",
       " 'space_token_count': {'type': 'integer'},\n",
       " 'unique_tokens': {'type': 'integer'},\n",
       " 'unique_word_tokens': {'type': 'integer'},\n",
       " 'date_created': {'type': 'string'},\n",
       " 'EOF_TOKEN': {'type': 'integer'},\n",
       " 'SPACY_EOF_TOKEN': {'type': 'integer'},\n",
       " 'SPACY_MODEL': {'type': 'string'},\n",
       " 'SPACY_MODEL_VERSION': {'type': 'string'},\n",
       " 'punct_tokens': {'type': 'array', 'items': {'type': 'integer'}},\n",
       " 'space_tokens': {'type': 'array', 'items': {'type': 'integer'}}}"
      ]
     },
     "metadata": {},
     "output_type": "display_data"
    }
   ],
   "source": [
    "#| echo: true\n",
    "properties = msgspec.json.schema(CorpusMetadata)['$defs']['CorpusMetadata']['properties']\n",
    "display(properties)"
   ]
  },
  {
   "cell_type": "markdown",
   "metadata": {},
   "source": [
    "## Get word lists"
   ]
  },
  {
   "cell_type": "code",
   "execution_count": null,
   "metadata": {},
   "outputs": [],
   "source": [
    "#| export\n",
    "def get_stop_words(save_path:str, # directory to save stop words to, file name will be created based on spaCy model name\n",
    "\t\t\t\t   spacy_model:str = 'en_core_web_sm' # model to get stop words for\n",
    "\t\t\t\t\t):\n",
    "\t\"\"\" Get stop words from spaCy and cache to disk \"\"\"\n",
    "\n",
    "\tstop_words = None\n",
    "\n",
    "\tfilename = f'{spacy_model}_stop_words.txt'\n",
    "\tsave_to = os.path.join(save_path, filename)\n",
    "\n",
    "\tif os.path.exists(save_to):\n",
    "\t\twith open(save_to, 'r', encoding='utf-8') as f:\n",
    "\t\t\tstop_words = sorted(set(f.read().splitlines()))\n",
    "\n",
    "\tif stop_words is None:\n",
    "\t\tnlp = spacy.load(spacy_model)\n",
    "\t\tstop_words = nlp.Defaults.stop_words\n",
    "\t\tdel nlp\n",
    "\n",
    "\t\tif not os.path.exists(save_path):\n",
    "\t\t\tos.makedirs(save_path)\n",
    "\n",
    "\t\tstop_words = sorted(stop_words)\n",
    "\n",
    "\t\twith open(save_to, 'w', encoding='utf-8') as f:\n",
    "\t\t\tfor word in stop_words:\n",
    "\t\t\t\tf.write(word + '\\n')\n",
    "\n",
    "\treturn stop_words"
   ]
  },
  {
   "cell_type": "code",
   "execution_count": null,
   "metadata": {},
   "outputs": [
    {
     "name": "stdout",
     "output_type": "stream",
     "text": [
      "[\"'d\", \"'ll\", \"'m\", \"'re\", \"'s\", \"'ve\", 'a', 'about', 'above', 'across', 'after', 'afterwards', 'again', 'against', 'all', 'almost', 'alone', 'along', 'already', 'also', 'although', 'always', 'am', 'among', 'amongst', 'amount', 'an', 'and', 'another', 'any', 'anyhow', 'anyone', 'anything', 'anyway', 'anywhere', 'are', 'around', 'as', 'at', 'back', 'be', 'became', 'because', 'become', 'becomes', 'becoming', 'been', 'before', 'beforehand', 'behind', 'being', 'below', 'beside', 'besides', 'between', 'beyond', 'both', 'bottom', 'but', 'by', 'ca', 'call', 'can', 'cannot', 'could', 'did', 'do', 'does', 'doing', 'done', 'down', 'due', 'during', 'each', 'eight', 'either', 'eleven', 'else', 'elsewhere', 'empty', 'enough', 'even', 'ever', 'every', 'everyone', 'everything', 'everywhere', 'except', 'few', 'fifteen', 'fifty', 'first', 'five', 'for', 'former', 'formerly', 'forty', 'four', 'from', 'front', 'full', 'further', 'get', 'give', 'go', 'had', 'has', 'have', 'he', 'hence', 'her', 'here', 'hereafter', 'hereby', 'herein', 'hereupon', 'hers', 'herself', 'him', 'himself', 'his', 'how', 'however', 'hundred', 'i', 'if', 'in', 'indeed', 'into', 'is', 'it', 'its', 'itself', 'just', 'keep', 'last', 'latter', 'latterly', 'least', 'less', 'made', 'make', 'many', 'may', 'me', 'meanwhile', 'might', 'mine', 'more', 'moreover', 'most', 'mostly', 'move', 'much', 'must', 'my', 'myself', \"n't\", 'name', 'namely', 'neither', 'never', 'nevertheless', 'next', 'nine', 'no', 'nobody', 'none', 'noone', 'nor', 'not', 'nothing', 'now', 'nowhere', 'n‘t', 'n’t', 'of', 'off', 'often', 'on', 'once', 'one', 'only', 'onto', 'or', 'other', 'others', 'otherwise', 'our', 'ours', 'ourselves', 'out', 'over', 'own', 'part', 'per', 'perhaps', 'please', 'put', 'quite', 'rather', 're', 'really', 'regarding', 'same', 'say', 'see', 'seem', 'seemed', 'seeming', 'seems', 'serious', 'several', 'she', 'should', 'show', 'side', 'since', 'six', 'sixty', 'so', 'some', 'somehow', 'someone', 'something', 'sometime', 'sometimes', 'somewhere', 'still', 'such', 'take', 'ten', 'than', 'that', 'the', 'their', 'them', 'themselves', 'then', 'thence', 'there', 'thereafter', 'thereby', 'therefore', 'therein', 'thereupon', 'these', 'they', 'third', 'this', 'those', 'though', 'three', 'through', 'throughout', 'thru', 'thus', 'to', 'together', 'too', 'top', 'toward', 'towards', 'twelve', 'twenty', 'two', 'under', 'unless', 'until', 'up', 'upon', 'us', 'used', 'using', 'various', 'very', 'via', 'was', 'we', 'well', 'were', 'what', 'whatever', 'when', 'whence', 'whenever', 'where', 'whereafter', 'whereas', 'whereby', 'wherein', 'whereupon', 'wherever', 'whether', 'which', 'while', 'whither', 'who', 'whoever', 'whole', 'whom', 'whose', 'why', 'will', 'with', 'within', 'without', 'would', 'yet', 'you', 'your', 'yours', 'yourself', 'yourselves', '‘d', '‘ll', '‘m', '‘re', '‘s', '‘ve', '’d', '’ll', '’m', '’re', '’s', '’ve']\n"
     ]
    }
   ],
   "source": [
    "print(get_stop_words(save_path = save_path, spacy_model='en_core_web_sm'))"
   ]
  },
  {
   "cell_type": "markdown",
   "metadata": {},
   "source": [
    "## Access these functions from conc.corpora\n",
    "\n",
    "Up to version 0.1.1 conc.core included helper functions to list, download and build corpora. These have been moved to the `conc.corpora` module. Running these functions will trigger a warning with a note about deprecation and the new location of the functions. Access to these functions will only be via conc.corpora by Conc version 1.0.0."
   ]
  },
  {
   "cell_type": "code",
   "execution_count": null,
   "metadata": {},
   "outputs": [],
   "source": [
    "#| export\n",
    "def list_corpora(\n",
    "\t\tpath: str # path to load corpus\n",
    "\t\t) -> pl.DataFrame: # Dataframe with path, corpus, corpus name, document count, token count\n",
    "\t\"\"\" (Deprecated - call via conc.corpora) Scan a directory for available corpora \"\"\"\n",
    "\t\n",
    "\tlogger.warning(DeprecationWarning(\"Calling list_corpora via conc.core is deprecated and will be removed by v1.0.0, instead import with 'from conc.corpora import list_corpora' and call as before.\"))\n",
    "\n",
    "\tfrom conc.corpora import list_corpora as _list_corpora\n",
    "\treturn _list_corpora(path=path)\n"
   ]
  },
  {
   "cell_type": "code",
   "execution_count": null,
   "metadata": {},
   "outputs": [],
   "source": [
    "#| export\n",
    "def create_toy_corpus_sources(source_path:str # path to location of sources for building corpora\n",
    "\t\t\t\t\t\t\t ):\n",
    "\t\"\"\" (Deprecated - call via conc.corpora) Create txt files and csv to test build of toy corpus. \"\"\"\n",
    "\n",
    "\tlogger.warning(DeprecationWarning(\"Calling create_toy_corpus_sources via conc.core is deprecated and will be removed by v1.0.0, instead import with 'from conc.corpora import create_toy_corpus_sources' and call as before.\"))\n",
    "\n",
    "\tfrom conc.corpora import create_toy_corpus_sources as _create_toy_corpus_sources\n",
    "\treturn _create_toy_corpus_sources(source_path=source_path)"
   ]
  },
  {
   "cell_type": "code",
   "execution_count": null,
   "metadata": {},
   "outputs": [],
   "source": [
    "#| export\n",
    "def show_toy_corpus(\n",
    "        csv_path:str # path to location of csv for building corpora\n",
    "        ) -> GT: \n",
    "    \"\"\" (Deprecated - call via conc.corpora) Show toy corpus in a table. \"\"\"\n",
    "\n",
    "    logger.warning(DeprecationWarning(\"Calling show_toy_corpus via conc.core is deprecated and will be removed by v1.0.0, instead import with 'from conc.corpora import show_toy_corpus' and call as before.\"))\n",
    "    \n",
    "    from conc.corpora import show_toy_corpus as _show_toy_corpus\n",
    "    return _show_toy_corpus(csv_path=csv_path)"
   ]
  },
  {
   "cell_type": "code",
   "execution_count": null,
   "metadata": {},
   "outputs": [],
   "source": [
    "#| export\n",
    "def get_nltk_corpus_sources(source_path:str # path to location of sources for building corpora\n",
    "\t\t\t\t\t\t\t ):\n",
    "\t\"\"\" (Deprecated - call via conc.corpora) Get NLTK corpora as sources for development or testing Conc functionality. \"\"\"\n",
    "\n",
    "\tlogger.warning(DeprecationWarning(\"Calling get_nltk_corpus_sources via conc.core is deprecated and will be removed by v1.0.0, instead import with 'from conc.corpora import get_nltk_corpus_sources' and call as before.\"))\n",
    "\n",
    "\tfrom conc.corpora import get_nltk_corpus_sources as _get_nltk_corpus_sources\n",
    "\treturn _get_nltk_corpus_sources(source_path=source_path)"
   ]
  },
  {
   "cell_type": "code",
   "execution_count": null,
   "metadata": {},
   "outputs": [],
   "source": [
    "#| export\n",
    "def get_garden_party(source_path: str #path to location of sources for building corpora\n",
    "\t\t\t\t\t):\n",
    "\t\"\"\" (Deprecated - call via conc.corpora) Get corpus of The Garden Party by Katherine Mansfield for development of Conc and testing Conc functionality. \"\"\"\n",
    "\n",
    "\tlogger.warning(DeprecationWarning(\"Calling get_garden_party via conc.core is deprecated and will be removed by v1.0.0, instead import with 'from conc.corpora import get_garden_party' and call as before.\"))\n",
    "\n",
    "\tfrom conc.corpora import get_garden_party as _get_garden_party\n",
    "\treturn _get_garden_party(source_path=source_path)"
   ]
  },
  {
   "cell_type": "code",
   "execution_count": null,
   "metadata": {},
   "outputs": [],
   "source": [
    "#| export\n",
    "def get_large_dataset(source_path: str #path to location of sources for building corpora\n",
    "                    ):\n",
    "    \"\"\" (Deprecated - call via conc.corpora) Get 1m rows of https://huggingface.co/datasets/Eugleo/us-congressional-speeches-subset for testing. \"\"\"\n",
    "\n",
    "    logger.warning(DeprecationWarning(\"Calling get_large_dataset via conc.core is deprecated and will be removed by v1.0.0, instead import with 'from conc.corpora import get_large_dataset' and call as before.\"))\n",
    "\n",
    "    from conc.corpora import get_large_dataset as _get_large_dataset\n",
    "    return _get_large_dataset(source_path=source_path)"
   ]
  },
  {
   "cell_type": "code",
   "execution_count": null,
   "metadata": {},
   "outputs": [],
   "source": [
    "#| export\n",
    "def create_large_dataset_sizes(source_path: str, #path to location of sources for building corpora\n",
    "\t\t\t\t\t\tsizes: list = [10000, 100000, 200000, 500000] # list of sizes for test data-sets\n",
    "\t\t\t\t\t\t):\n",
    "\t\"\"\" (Deprecated - call via conc.corpora) Create datasets of different sizes from data source retrieved by get_large_dataset for testing. \"\"\"\n",
    "\t\n",
    "\tlogger.warning(DeprecationWarning(\"Calling create_large_dataset_sizes via conc.core is deprecated and will be removed by v1.0.0, instead import with 'from conc.corpora import create_large_dataset_sizes' and call as before.\"))\n",
    "\n",
    "\tfrom conc.corpora import create_large_dataset_sizes as _create_large_dataset_sizes\n",
    "\treturn _create_large_dataset_sizes(source_path=source_path, sizes = sizes)\n"
   ]
  },
  {
   "cell_type": "code",
   "execution_count": null,
   "metadata": {},
   "outputs": [],
   "source": [
    "#| hide\n",
    "import nbdev; nbdev.nbdev_export()"
   ]
  },
  {
   "cell_type": "code",
   "execution_count": null,
   "metadata": {},
   "outputs": [],
   "source": []
  }
 ],
 "metadata": {
  "kernelspec": {
   "display_name": "python3",
   "language": "python",
   "name": "python3"
  }
 },
 "nbformat": 4,
 "nbformat_minor": 4
}
